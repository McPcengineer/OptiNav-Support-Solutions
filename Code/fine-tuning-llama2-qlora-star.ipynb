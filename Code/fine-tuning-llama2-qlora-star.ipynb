{
 "cells": [
  {
   "cell_type": "markdown",
   "id": "23f1dd3b",
   "metadata": {
    "papermill": {
     "duration": 0.007478,
     "end_time": "2023-10-08T03:10:33.026049",
     "exception": false,
     "start_time": "2023-10-08T03:10:33.018571",
     "status": "completed"
    },
    "tags": []
   },
   "source": [
    "# Fine-Tuning with Llama 2, Bits and Bytes, and QLoRA\n",
    "\n",
    "Today we'll explore fine-tuning the Llama 2 model available on Kaggle Models using QLoRA, Bits and Bytes, and PEFT.\n",
    "\n",
    "- QLoRA: [Quantized Low Rank Adapters](https://arxiv.org/pdf/2305.14314.pdf) - este es un método para ajustar los LLM que utiliza una pequeña cantidad de parámetros cuantificados y actualizables para limitar la complejidad del entrenamiento. . Esta técnica también permite que esos pequeños conjuntos de parámetros se agreguen de manera eficiente al modelo mismo, lo que significa que puede realizar ajustes finos en muchos conjuntos de datos, potencialmente, e intercambiar estos \"adaptadores\" en su modelo cuando sea necesario.\n",
    "- [Bits and Bytes](https://github.com/TimDettmers/bitsandbytes): Un paquete excelente de Tim Dettmers et al., que proporciona un contenedor liviano para funciones CUDA personalizadas que hacen que los LLM vayan más rápido: optimizadores, mults de matrices, y cuantificación. En este notebook usaremos la biblioteca para cargar nuestro modelo de la manera más eficiente posible.\n",
    "- [PEFT](https://github.com/huggingface/peft): na excelente biblioteca de Huggingface que permite varios métodos de ajuste eficiente de parámetros (PEFT), que nuevamente hacen que sea menos costoso ajustar los LLM, especialmente en Hardware más liviano como el presente en las computadoras portátiles Kaggle.\n",
    "\n",
    "\n",
    "This notebook is based on [an excellent example from LangChain](https://github.com/asokraju/LangChainDatasetForge/blob/main/Finetuning_Falcon_7b.ipynb)."
   ]
  },
  {
   "cell_type": "code",
   "execution_count": 1,
   "id": "b66c9e98",
   "metadata": {
    "_kg_hide-output": true,
    "execution": {
     "iopub.execute_input": "2023-10-08T03:10:33.041465Z",
     "iopub.status.busy": "2023-10-08T03:10:33.041125Z",
     "iopub.status.idle": "2023-10-08T03:15:42.230313Z",
     "shell.execute_reply": "2023-10-08T03:15:42.228985Z"
    },
    "id": "g3agEMJEnKsl",
    "outputId": "56ab843a-e9c8-4158-8c04-18d77aec44fd",
    "papermill": {
     "duration": 309.199954,
     "end_time": "2023-10-08T03:15:42.232847",
     "exception": false,
     "start_time": "2023-10-08T03:10:33.032893",
     "status": "completed"
    },
    "tags": []
   },
   "outputs": [
    {
     "name": "stdout",
     "output_type": "stream",
     "text": [
      "\u001b[31mERROR: pip's dependency resolver does not currently take into account all the packages that are installed. This behaviour is the source of the following dependency conflicts.\r\n",
      "torchdata 0.6.0 requires torch==2.0.0, but you have torch 2.0.1 which is incompatible.\u001b[0m\u001b[31m\r\n",
      "\u001b[0m\u001b[31mERROR: pip's dependency resolver does not currently take into account all the packages that are installed. This behaviour is the source of the following dependency conflicts.\r\n",
      "apache-beam 2.46.0 requires dill<0.3.2,>=0.3.1.1, but you have dill 0.3.6 which is incompatible.\r\n",
      "apache-beam 2.46.0 requires pyarrow<10.0.0,>=3.0.0, but you have pyarrow 11.0.0 which is incompatible.\r\n",
      "pathos 0.3.1 requires dill>=0.3.7, but you have dill 0.3.6 which is incompatible.\r\n",
      "pathos 0.3.1 requires multiprocess>=0.70.15, but you have multiprocess 0.70.14 which is incompatible.\r\n",
      "pymc3 3.11.5 requires numpy<1.22.2,>=1.15.0, but you have numpy 1.23.5 which is incompatible.\r\n",
      "pymc3 3.11.5 requires scipy<1.8.0,>=1.7.3, but you have scipy 1.11.2 which is incompatible.\u001b[0m\u001b[31m\r\n",
      "\u001b[0m"
     ]
    }
   ],
   "source": [
    "!pip install -qqq bitsandbytes==0.39.0\n",
    "!pip install -qqq torch==2.0.1\n",
    "!pip install -qqq -U git+https://github.com/huggingface/transformers.git@e03a9cc\n",
    "!pip install -qqq -U git+https://github.com/huggingface/peft.git@42a184f\n",
    "!pip install -qqq -U git+https://github.com/huggingface/accelerate.git@c9fbb71\n",
    "!pip install -qqq datasets==2.12.0\n",
    "!pip install -qqq loralib==0.1.1\n",
    "!pip install -qqq einops==0.6.1"
   ]
  },
  {
   "cell_type": "code",
   "execution_count": 2,
   "id": "7c14915b",
   "metadata": {
    "execution": {
     "iopub.execute_input": "2023-10-08T03:15:42.249180Z",
     "iopub.status.busy": "2023-10-08T03:15:42.248824Z",
     "iopub.status.idle": "2023-10-08T03:16:00.957367Z",
     "shell.execute_reply": "2023-10-08T03:16:00.956317Z"
    },
    "id": "dv3aJo8Anhyw",
    "outputId": "66f7b274-28a9-45b4-c0e6-d25194424594",
    "papermill": {
     "duration": 18.719443,
     "end_time": "2023-10-08T03:16:00.959841",
     "exception": false,
     "start_time": "2023-10-08T03:15:42.240398",
     "status": "completed"
    },
    "tags": []
   },
   "outputs": [
    {
     "name": "stdout",
     "output_type": "stream",
     "text": [
      "\n",
      "===================================BUG REPORT===================================\n",
      "Welcome to bitsandbytes. For bug reports, please run\n",
      "\n",
      "python -m bitsandbytes\n",
      "\n",
      " and submit this information together with your error trace to: https://github.com/TimDettmers/bitsandbytes/issues\n",
      "================================================================================\n",
      "bin /opt/conda/lib/python3.10/site-packages/bitsandbytes/libbitsandbytes_cuda118.so\n",
      "CUDA SETUP: CUDA runtime path found: /usr/local/cuda/lib64/libcudart.so\n",
      "CUDA SETUP: Highest compute capability among GPUs detected: 7.5\n",
      "CUDA SETUP: Detected CUDA version 118\n",
      "CUDA SETUP: Loading binary /opt/conda/lib/python3.10/site-packages/bitsandbytes/libbitsandbytes_cuda118.so...\n"
     ]
    },
    {
     "name": "stderr",
     "output_type": "stream",
     "text": [
      "/opt/conda/lib/python3.10/site-packages/bitsandbytes/cuda_setup/main.py:149: UserWarning: WARNING: The following directories listed in your path were found to be non-existent: {PosixPath('/usr/local/cuda/lib'), PosixPath('/usr/local/lib/x86_64-linux-gnu'), PosixPath('/usr/local/nvidia/lib')}\n",
      "  warn(msg)\n",
      "/opt/conda/lib/python3.10/site-packages/scipy/__init__.py:146: UserWarning: A NumPy version >=1.16.5 and <1.23.0 is required for this version of SciPy (detected version 1.23.5\n",
      "  warnings.warn(f\"A NumPy version >={np_minversion} and <{np_maxversion}\"\n"
     ]
    }
   ],
   "source": [
    "import pandas as pd\n",
    "import json\n",
    "import os\n",
    "from pprint import pprint\n",
    "import bitsandbytes as bnb\n",
    "import torch\n",
    "import torch.nn as nn\n",
    "import transformers\n",
    "from datasets import load_dataset, Dataset\n",
    "from huggingface_hub import notebook_login\n",
    "\n",
    "from peft import LoraConfig, PeftConfig, PeftModel, get_peft_model, prepare_model_for_kbit_training\n",
    "from transformers import AutoConfig, AutoModelForCausalLM, AutoTokenizer, BitsAndBytesConfig\n",
    "\n",
    "os.environ[\"CUDA_VISIBLE_DEVICES\"] = \"0,1\""
   ]
  },
  {
   "cell_type": "markdown",
   "id": "6caed946",
   "metadata": {
    "id": "AgqJriqjwMyK",
    "papermill": {
     "duration": 0.007096,
     "end_time": "2023-10-08T03:16:00.974393",
     "exception": false,
     "start_time": "2023-10-08T03:16:00.967297",
     "status": "completed"
    },
    "tags": []
   },
   "source": [
    "# Loading and preparing our model\n",
    "\n",
    "Usaremos el modelo Llama 2 7B para nuestra prueba. Usaremos Bits y Bytes para cargarlo en formato de 4 bits, lo que debería reducir considerablemente el consumo de memoria, a costa de cierta precisión.\n",
    "\n",
    "Tenga en cuenta los parámetros en `BitsAndBytesConfig` - esta es una configuración de cuantificación de 4 bits bastante estándar, cargando los pesos en formato de 4 bits, usando un formato sencillo (`normal float 4`) con doble cuantificación para mejorar la resolución de QLoRA. Los pesos se vuelven a convertir a `bfloat16` para actualizaciones de peso y luego se descarta la precisión adicional."
   ]
  },
  {
   "cell_type": "code",
   "execution_count": 3,
   "id": "0880cbc8",
   "metadata": {
    "execution": {
     "iopub.execute_input": "2023-10-08T03:16:00.990287Z",
     "iopub.status.busy": "2023-10-08T03:16:00.989902Z",
     "iopub.status.idle": "2023-10-08T03:21:09.519329Z",
     "shell.execute_reply": "2023-10-08T03:21:09.515298Z"
    },
    "id": "mllA2Ka_ol13",
    "papermill": {
     "duration": 308.542053,
     "end_time": "2023-10-08T03:21:09.523869",
     "exception": false,
     "start_time": "2023-10-08T03:16:00.981816",
     "status": "completed"
    },
    "tags": []
   },
   "outputs": [
    {
     "data": {
      "application/vnd.jupyter.widget-view+json": {
       "model_id": "c0659332eb484c978a0dba99a372a0b2",
       "version_major": 2,
       "version_minor": 0
      },
      "text/plain": [
       "Loading checkpoint shards:   0%|          | 0/3 [00:00<?, ?it/s]"
      ]
     },
     "metadata": {},
     "output_type": "display_data"
    }
   ],
   "source": [
    "model = \"/kaggle/input/llama-2/pytorch/13b-chat-hf/1\"\n",
    "MODEL_NAME = model\n",
    "\n",
    "bnb_config = BitsAndBytesConfig(\n",
    "    load_in_4bit=True,\n",
    "    bnb_4bit_use_double_quant=True,\n",
    "    bnb_4bit_quant_type=\"nf4\",\n",
    "    bnb_4bit_compute_dtype=torch.bfloat16\n",
    ")\n",
    "\n",
    "model = AutoModelForCausalLM.from_pretrained(\n",
    "    MODEL_NAME,\n",
    "    device_map=\"auto\",\n",
    "    trust_remote_code=True,\n",
    "    quantization_config=bnb_config\n",
    ")\n",
    "\n",
    "tokenizer = AutoTokenizer.from_pretrained(MODEL_NAME)\n",
    "tokenizer.pad_token = tokenizer.eos_token"
   ]
  },
  {
   "cell_type": "markdown",
   "id": "d886c474",
   "metadata": {
    "papermill": {
     "duration": 0.006667,
     "end_time": "2023-10-08T03:21:09.540390",
     "exception": false,
     "start_time": "2023-10-08T03:21:09.533723",
     "status": "completed"
    },
    "tags": []
   },
   "source": [
    "A continuación, usaremos un bonito contenedor PEFT para configurar nuestro modelo para training / fine-tuning. Específicamente, esta función configura la capa de incrustación de salida para permitir actualizaciones de gradiente, además de realizar alguna conversión de tipos en varios componentes para garantizar que el modelo esté listo para actualizarse."
   ]
  },
  {
   "cell_type": "code",
   "execution_count": 4,
   "id": "dd57ae19",
   "metadata": {
    "execution": {
     "iopub.execute_input": "2023-10-08T03:21:09.555668Z",
     "iopub.status.busy": "2023-10-08T03:21:09.555300Z",
     "iopub.status.idle": "2023-10-08T03:21:09.586863Z",
     "shell.execute_reply": "2023-10-08T03:21:09.585833Z"
    },
    "id": "na8DUq4IoqpB",
    "papermill": {
     "duration": 0.04149,
     "end_time": "2023-10-08T03:21:09.588820",
     "exception": false,
     "start_time": "2023-10-08T03:21:09.547330",
     "status": "completed"
    },
    "tags": []
   },
   "outputs": [],
   "source": [
    "model = prepare_model_for_kbit_training(model)"
   ]
  },
  {
   "cell_type": "markdown",
   "id": "6d2170b2",
   "metadata": {
    "papermill": {
     "duration": 0.006526,
     "end_time": "2023-10-08T03:21:09.602309",
     "exception": false,
     "start_time": "2023-10-08T03:21:09.595783",
     "status": "completed"
    },
    "tags": []
   },
   "source": [
    "A continuación, definimos algunas funciones auxiliares: su propósito es identificar adecuadamente nuestras capas de actualización para que podamos... ¡actualizarlas!"
   ]
  },
  {
   "cell_type": "code",
   "execution_count": 5,
   "id": "406f7c3f",
   "metadata": {
    "execution": {
     "iopub.execute_input": "2023-10-08T03:21:09.617321Z",
     "iopub.status.busy": "2023-10-08T03:21:09.617004Z",
     "iopub.status.idle": "2023-10-08T03:21:09.624898Z",
     "shell.execute_reply": "2023-10-08T03:21:09.623835Z"
    },
    "papermill": {
     "duration": 0.017827,
     "end_time": "2023-10-08T03:21:09.627126",
     "exception": false,
     "start_time": "2023-10-08T03:21:09.609299",
     "status": "completed"
    },
    "tags": []
   },
   "outputs": [],
   "source": [
    "import re\n",
    "def get_num_layers(model):\n",
    "    numbers = set()\n",
    "    for name, _ in model.named_parameters():\n",
    "        for number in re.findall(r'\\d+', name):\n",
    "            numbers.add(int(number))\n",
    "    return max(numbers)\n",
    "\n",
    "def get_last_layer_linears(model):\n",
    "    names = []\n",
    "    \n",
    "    num_layers = get_num_layers(model)\n",
    "    for name, module in model.named_modules():\n",
    "        if str(num_layers) in name and not \"encoder\" in name:\n",
    "            if isinstance(module, torch.nn.Linear):\n",
    "                names.append(name)\n",
    "    return names"
   ]
  },
  {
   "cell_type": "markdown",
   "id": "420e141c",
   "metadata": {
    "papermill": {
     "duration": 0.006676,
     "end_time": "2023-10-08T03:21:09.640887",
     "exception": false,
     "start_time": "2023-10-08T03:21:09.634211",
     "status": "completed"
    },
    "tags": []
   },
   "source": [
    "## LORA config\n",
    "\n",
    "Algunos elementos clave de esta configuración:\n",
    "1. `r` es el ancho de la pequeña capa de actualización. En teoría, esto debería establecerse lo suficientemente amplio como para capturar la complejidad del problema que está intentando ajustar. Los problemas más simples pueden salirse con la suya con `r` más pequeño. En nuestro caso, iremos muy pequeños, en gran medida por el bien de la velocidad.\n",
    "2. `target_modules` se configura utilizando nuestras funciones auxiliares: cada capa identificada por esa función se incluirá en la actualización PEFT."
   ]
  },
  {
   "cell_type": "code",
   "execution_count": 6,
   "id": "5c637650",
   "metadata": {
    "execution": {
     "iopub.execute_input": "2023-10-08T03:21:09.704897Z",
     "iopub.status.busy": "2023-10-08T03:21:09.704553Z",
     "iopub.status.idle": "2023-10-08T03:21:13.116846Z",
     "shell.execute_reply": "2023-10-08T03:21:13.115817Z"
    },
    "id": "C4Qk3fGLoraw",
    "papermill": {
     "duration": 3.422759,
     "end_time": "2023-10-08T03:21:13.119126",
     "exception": false,
     "start_time": "2023-10-08T03:21:09.696367",
     "status": "completed"
    },
    "tags": []
   },
   "outputs": [],
   "source": [
    "config = LoraConfig(\n",
    "    r=2,\n",
    "    lora_alpha=32,\n",
    "    target_modules=get_last_layer_linears(model),\n",
    "    lora_dropout=0.05,\n",
    "    bias=\"none\",\n",
    "    task_type=\"CAUSAL_LM\"\n",
    ")\n",
    "\n",
    "model = get_peft_model(model, config)"
   ]
  },
  {
   "cell_type": "markdown",
   "id": "368c03f0",
   "metadata": {
    "papermill": {
     "duration": 0.006693,
     "end_time": "2023-10-08T03:21:13.133183",
     "exception": false,
     "start_time": "2023-10-08T03:21:13.126490",
     "status": "completed"
    },
    "tags": []
   },
   "source": [
    "## Load some data\n",
    "\n",
    "Aquí, estamos cargando un conjunto de datos de un documento de la NASA (Software Safety Guidebook) de  180 preguntas. Por razones de tiempo, no los colocamos mas, pero ajustaremos nuestro modelo usando las preguntas y respuestas. Tenga en cuenta que estamos entrenando el modelo para usar su conocimiento existente (más lo poco que aprende de nuestras preguntas y respuestas) para responder preguntas en el formato que queremos."
   ]
  },
  {
   "cell_type": "code",
   "execution_count": 7,
   "id": "7c7466aa",
   "metadata": {
    "execution": {
     "iopub.execute_input": "2023-10-08T03:21:13.148926Z",
     "iopub.status.busy": "2023-10-08T03:21:13.148619Z",
     "iopub.status.idle": "2023-10-08T03:21:13.253971Z",
     "shell.execute_reply": "2023-10-08T03:21:13.253012Z"
    },
    "papermill": {
     "duration": 0.115825,
     "end_time": "2023-10-08T03:21:13.256176",
     "exception": false,
     "start_time": "2023-10-08T03:21:13.140351",
     "status": "completed"
    },
    "tags": []
   },
   "outputs": [],
   "source": [
    "df = pd.read_csv(\"/kaggle/input/nasa-finetuning/NASA-Software-Safety-Guidebook.csv\", nrows=180)\n",
    "\n",
    "df.columns = [str(q).strip() for q in df.columns]\n",
    "\n",
    "data = Dataset.from_pandas(df)"
   ]
  },
  {
   "cell_type": "code",
   "execution_count": 8,
   "id": "29e441d9",
   "metadata": {
    "execution": {
     "iopub.execute_input": "2023-10-08T03:21:13.271813Z",
     "iopub.status.busy": "2023-10-08T03:21:13.271240Z",
     "iopub.status.idle": "2023-10-08T03:21:13.279271Z",
     "shell.execute_reply": "2023-10-08T03:21:13.278223Z"
    },
    "papermill": {
     "duration": 0.017862,
     "end_time": "2023-10-08T03:21:13.281076",
     "exception": false,
     "start_time": "2023-10-08T03:21:13.263214",
     "status": "completed"
    },
    "tags": []
   },
   "outputs": [
    {
     "data": {
      "text/plain": [
       "array(['What does the design of a program set represent?',\n",
       "       'How might projects developing large amounts of software approach the design development process?',\n",
       "       'How does the design phase differ for projects with relatively small software packages?',\n",
       "       'How are the various phases broken up over time in most lifecycles other than the waterfall?',\n",
       "       'How might the initial design in some lifecycles be equivalent to the architectural design in the waterfall?'],\n",
       "      dtype=object)"
      ]
     },
     "execution_count": 8,
     "metadata": {},
     "output_type": "execute_result"
    }
   ],
   "source": [
    "df[\"Questions\"].values[0:5]"
   ]
  },
  {
   "cell_type": "code",
   "execution_count": 9,
   "id": "2cf60ffb",
   "metadata": {
    "execution": {
     "iopub.execute_input": "2023-10-08T03:21:13.296078Z",
     "iopub.status.busy": "2023-10-08T03:21:13.295277Z",
     "iopub.status.idle": "2023-10-08T03:21:13.301804Z",
     "shell.execute_reply": "2023-10-08T03:21:13.300859Z"
    },
    "id": "_Pb9RA5NovNS",
    "papermill": {
     "duration": 0.015761,
     "end_time": "2023-10-08T03:21:13.303642",
     "exception": false,
     "start_time": "2023-10-08T03:21:13.287881",
     "status": "completed"
    },
    "tags": []
   },
   "outputs": [
    {
     "data": {
      "text/plain": [
       "'What does the design of a program set represent?. Answer concisely but detailed and understandable.:'"
      ]
     },
     "execution_count": 9,
     "metadata": {},
     "output_type": "execute_result"
    }
   ],
   "source": [
    "prompt = df[\"Questions\"].values[0] + \". Answer concisely but detailed and understandable.: \".strip()\n",
    "prompt"
   ]
  },
  {
   "cell_type": "markdown",
   "id": "a5fe5f03",
   "metadata": {
    "id": "VHYgWlyvwy4E",
    "papermill": {
     "duration": 0.006897,
     "end_time": "2023-10-08T03:21:13.317276",
     "exception": false,
     "start_time": "2023-10-08T03:21:13.310379",
     "status": "completed"
    },
    "tags": []
   },
   "source": [
    "## Let's generate!\n",
    "\n",
    "A continuación, configuramos nuestro modelo generativo:\n",
    "\n",
    "- Top P: un método para elegir entre una selección de las salidas más probables, en lugar de tomar con avidez la más alta)\n",
    "- Temperature: una modulación de la función softmax utilizada para determinar los valores de nuestras salidas\n",
    "- Limitamos las secuencias de retorno a 1: ¡solo se permite una respuesta! - y forzar deliberadamente que la respuesta sea concisa pero detallada y comprensible."
   ]
  },
  {
   "cell_type": "code",
   "execution_count": 10,
   "id": "c85b0090",
   "metadata": {
    "execution": {
     "iopub.execute_input": "2023-10-08T03:21:13.332596Z",
     "iopub.status.busy": "2023-10-08T03:21:13.331732Z",
     "iopub.status.idle": "2023-10-08T03:21:13.337004Z",
     "shell.execute_reply": "2023-10-08T03:21:13.336106Z"
    },
    "id": "YiqCdCD2oyPH",
    "papermill": {
     "duration": 0.014737,
     "end_time": "2023-10-08T03:21:13.338799",
     "exception": false,
     "start_time": "2023-10-08T03:21:13.324062",
     "status": "completed"
    },
    "tags": []
   },
   "outputs": [],
   "source": [
    "generation_config = model.generation_config\n",
    "generation_config.max_new_tokens = 65\n",
    "generation_config.temperature = 0.7\n",
    "generation_config.top_p = 0.7\n",
    "generation_config.num_return_sequences = 1\n",
    "generation_config.pad_token_id = tokenizer.eos_token_id\n",
    "generation_config.eos_token_id = tokenizer.eos_token_id"
   ]
  },
  {
   "cell_type": "markdown",
   "id": "e925242f",
   "metadata": {
    "papermill": {
     "duration": 0.006947,
     "end_time": "2023-10-08T03:21:13.352866",
     "exception": false,
     "start_time": "2023-10-08T03:21:13.345919",
     "status": "completed"
    },
    "tags": []
   },
   "source": [
    "Ahora, generaremos una respuesta a nuestra primera pregunta, solo para ver cómo funciona el modelo.\n"
   ]
  },
  {
   "cell_type": "code",
   "execution_count": 11,
   "id": "53ee198b",
   "metadata": {
    "execution": {
     "iopub.execute_input": "2023-10-08T03:21:13.369094Z",
     "iopub.status.busy": "2023-10-08T03:21:13.368196Z",
     "iopub.status.idle": "2023-10-08T03:22:24.732469Z",
     "shell.execute_reply": "2023-10-08T03:22:24.731417Z"
    },
    "id": "o2ELFG0no1xR",
    "papermill": {
     "duration": 71.382506,
     "end_time": "2023-10-08T03:22:24.742585",
     "exception": false,
     "start_time": "2023-10-08T03:21:13.360079",
     "status": "completed"
    },
    "tags": []
   },
   "outputs": [
    {
     "name": "stdout",
     "output_type": "stream",
     "text": [
      "What does the design of a program set represent?. Answer concisely but detailed and understandable.:\n",
      "\n",
      "What does the design of a program set represent?\n",
      "\n",
      "The design of a program set represents the structure and organization of the software system being developed. It includes the following aspects:\n",
      "\n",
      "1. Modules: The program set is divided into smaller, independent modules that perform specific functions. Each module is designed to\n",
      "CPU times: user 46.7 s, sys: 789 ms, total: 47.5 s\n",
      "Wall time: 1min 11s\n"
     ]
    }
   ],
   "source": [
    "%%time\n",
    "device = \"cuda\"\n",
    "\n",
    "encoding = tokenizer(prompt, return_tensors=\"pt\").to(device)\n",
    "with torch.no_grad():\n",
    "    outputs = model.generate(\n",
    "        input_ids = encoding.input_ids,\n",
    "        attention_mask = encoding.attention_mask,\n",
    "        generation_config = generation_config\n",
    "    )\n",
    "\n",
    "print(tokenizer.decode(outputs[0], skip_special_tokens=True))"
   ]
  },
  {
   "cell_type": "markdown",
   "id": "9e74218b",
   "metadata": {
    "id": "QAe7n7T4jP-D",
    "papermill": {
     "duration": 0.007328,
     "end_time": "2023-10-08T03:22:24.757473",
     "exception": false,
     "start_time": "2023-10-08T03:22:24.750145",
     "status": "completed"
    },
    "tags": []
   },
   "source": [
    "## Format our fine-tuning data\n",
    "\n",
    "Haremos coincidir la configuración de aviso que usamos anteriormente."
   ]
  },
  {
   "cell_type": "code",
   "execution_count": 12,
   "id": "6c1d5fa5",
   "metadata": {
    "execution": {
     "iopub.execute_input": "2023-10-08T03:22:24.774141Z",
     "iopub.status.busy": "2023-10-08T03:22:24.773349Z",
     "iopub.status.idle": "2023-10-08T03:22:25.040165Z",
     "shell.execute_reply": "2023-10-08T03:22:25.039032Z"
    },
    "id": "lm60o2_No7Jz",
    "papermill": {
     "duration": 0.277306,
     "end_time": "2023-10-08T03:22:25.042169",
     "exception": false,
     "start_time": "2023-10-08T03:22:24.764863",
     "status": "completed"
    },
    "tags": []
   },
   "outputs": [
    {
     "data": {
      "application/vnd.jupyter.widget-view+json": {
       "model_id": "c4776bea4be84f09944410b7233cd7e4",
       "version_major": 2,
       "version_minor": 0
      },
      "text/plain": [
       "Map:   0%|          | 0/180 [00:00<?, ? examples/s]"
      ]
     },
     "metadata": {},
     "output_type": "display_data"
    },
    {
     "name": "stderr",
     "output_type": "stream",
     "text": [
      "Asking to truncate to max_length but no maximum length is provided and the model has no predefined maximum length. Default to no truncation.\n"
     ]
    }
   ],
   "source": [
    "def generate_prompt(data_point):\n",
    "    return f\"\"\"\n",
    "            {data_point[\"Questions\"]}. \n",
    "            Answer concisely but detailed and understandable: {data_point[\"Answers\"]}\n",
    "            \"\"\".strip()\n",
    "\n",
    "\n",
    "def generate_and_tokenize_prompt(data_point):\n",
    "    full_prompt = generate_prompt(data_point)\n",
    "    tokenized_full_prompt = tokenizer(full_prompt, padding=True, truncation=True)\n",
    "    return tokenized_full_prompt\n",
    "\n",
    "data = data.shuffle().map(generate_and_tokenize_prompt)"
   ]
  },
  {
   "cell_type": "markdown",
   "id": "a1c70cac",
   "metadata": {
    "id": "QCrTXUqXk0S9",
    "papermill": {
     "duration": 0.007465,
     "end_time": "2023-10-08T03:22:25.057284",
     "exception": false,
     "start_time": "2023-10-08T03:22:25.049819",
     "status": "completed"
    },
    "tags": []
   },
   "source": [
    "## Train!\n",
    "\n",
    "Ahora, usaremos nuestros datos para actualizar nuestro modelo. Usando la biblioteca `transformers`  de Huggingface, configuremos nuestro bucle de entrenamiento y luego ejecutémoslo. Tenga en cuenta que SOLO estamos haciendo una pasada en todos estos datos."
   ]
  },
  {
   "cell_type": "code",
   "execution_count": 13,
   "id": "164f8c9f",
   "metadata": {
    "execution": {
     "iopub.execute_input": "2023-10-08T03:22:25.074282Z",
     "iopub.status.busy": "2023-10-08T03:22:25.073262Z",
     "iopub.status.idle": "2023-10-08T04:03:20.359452Z",
     "shell.execute_reply": "2023-10-08T04:03:20.358426Z"
    },
    "id": "PGneIe1xpUJV",
    "outputId": "8cdac9ac-d6bf-4d8f-b954-febf7f140591",
    "papermill": {
     "duration": 2455.304076,
     "end_time": "2023-10-08T04:03:20.368788",
     "exception": false,
     "start_time": "2023-10-08T03:22:25.064712",
     "status": "completed"
    },
    "tags": []
   },
   "outputs": [
    {
     "name": "stderr",
     "output_type": "stream",
     "text": [
      "You're using a LlamaTokenizerFast tokenizer. Please note that with a fast tokenizer, using the `__call__` method is faster than using a method to encode the text followed by a call to the `pad` method to get a padded encoding.\n"
     ]
    },
    {
     "data": {
      "text/html": [
       "\n",
       "    <div>\n",
       "      \n",
       "      <progress value='225' max='225' style='width:300px; height:20px; vertical-align: middle;'></progress>\n",
       "      [225/225 40:43, Epoch 5/5]\n",
       "    </div>\n",
       "    <table border=\"1\" class=\"dataframe\">\n",
       "  <thead>\n",
       " <tr style=\"text-align: left;\">\n",
       "      <th>Step</th>\n",
       "      <th>Training Loss</th>\n",
       "    </tr>\n",
       "  </thead>\n",
       "  <tbody>\n",
       "  </tbody>\n",
       "</table><p>"
      ],
      "text/plain": [
       "<IPython.core.display.HTML object>"
      ]
     },
     "metadata": {},
     "output_type": "display_data"
    },
    {
     "data": {
      "text/plain": [
       "TrainOutput(global_step=225, training_loss=1.833027615017361, metrics={'train_runtime': 2454.704, 'train_samples_per_second': 0.367, 'train_steps_per_second': 0.092, 'total_flos': 2582767702671360.0, 'train_loss': 1.833027615017361, 'epoch': 5.0})"
      ]
     },
     "execution_count": 13,
     "metadata": {},
     "output_type": "execute_result"
    }
   ],
   "source": [
    "training_args = transformers.TrainingArguments(\n",
    "    per_device_train_batch_size=1,\n",
    "    gradient_accumulation_steps=4,\n",
    "    num_train_epochs=5,\n",
    "    learning_rate=1e-4,\n",
    "    fp16=True,\n",
    "    output_dir=\"finetune_nasa\",\n",
    "    optim=\"paged_adamw_8bit\",\n",
    "    lr_scheduler_type=\"cosine\",\n",
    "    warmup_ratio=0.01,\n",
    "    report_to=\"none\"\n",
    ")\n",
    "\n",
    "trainer = transformers.Trainer(\n",
    "    model=model,\n",
    "    train_dataset=data,\n",
    "    args=training_args,\n",
    "    data_collator=transformers.DataCollatorForLanguageModeling(tokenizer, mlm=False)\n",
    ")\n",
    "model.config.use_cache = False\n",
    "trainer.train()"
   ]
  },
  {
   "cell_type": "markdown",
   "id": "8e5ea561",
   "metadata": {
    "papermill": {
     "duration": 0.007831,
     "end_time": "2023-10-08T04:03:20.384410",
     "exception": false,
     "start_time": "2023-10-08T04:03:20.376579",
     "status": "completed"
    },
    "tags": []
   },
   "source": [
    "## Loading and using the model later\n",
    "\n",
    "Ahora, guardaremos el modelo ajustado de PEFT, luego lo cargaremos y lo usaremos para generar más respuestas."
   ]
  },
  {
   "cell_type": "code",
   "execution_count": 14,
   "id": "86ef33ed",
   "metadata": {
    "execution": {
     "iopub.execute_input": "2023-10-08T04:03:20.406091Z",
     "iopub.status.busy": "2023-10-08T04:03:20.405686Z",
     "iopub.status.idle": "2023-10-08T04:08:25.517410Z",
     "shell.execute_reply": "2023-10-08T04:08:25.516368Z"
    },
    "id": "Vmce-aSesAHV",
    "outputId": "4bf93e78-2a0b-404c-8b05-3748db1bdc52",
    "papermill": {
     "duration": 305.123847,
     "end_time": "2023-10-08T04:08:25.519604",
     "exception": false,
     "start_time": "2023-10-08T04:03:20.395757",
     "status": "completed"
    },
    "tags": []
   },
   "outputs": [
    {
     "data": {
      "application/vnd.jupyter.widget-view+json": {
       "model_id": "22ca82887f6d42cf913964c6683ee73d",
       "version_major": 2,
       "version_minor": 0
      },
      "text/plain": [
       "Loading checkpoint shards:   0%|          | 0/3 [00:00<?, ?it/s]"
      ]
     },
     "metadata": {},
     "output_type": "display_data"
    }
   ],
   "source": [
    "model.save_pretrained(\"trained-model\")\n",
    "\n",
    "PEFT_MODEL = \"/kaggle/working/trained-model\"\n",
    "\n",
    "config = PeftConfig.from_pretrained(PEFT_MODEL)\n",
    "model = AutoModelForCausalLM.from_pretrained(\n",
    "    config.base_model_name_or_path,\n",
    "    return_dict=True,\n",
    "    quantization_config=bnb_config,\n",
    "    device_map=\"auto\",\n",
    "    trust_remote_code=True\n",
    ")\n",
    "\n",
    "tokenizer=AutoTokenizer.from_pretrained(config.base_model_name_or_path)\n",
    "tokenizer.pad_token = tokenizer.eos_token\n",
    "\n",
    "model = PeftModel.from_pretrained(model, PEFT_MODEL)"
   ]
  },
  {
   "cell_type": "code",
   "execution_count": 15,
   "id": "db15df0c",
   "metadata": {
    "execution": {
     "iopub.execute_input": "2023-10-08T04:08:25.541174Z",
     "iopub.status.busy": "2023-10-08T04:08:25.538701Z",
     "iopub.status.idle": "2023-10-08T04:08:25.554439Z",
     "shell.execute_reply": "2023-10-08T04:08:25.553015Z"
    },
    "id": "vgIHyPUasD0b",
    "papermill": {
     "duration": 0.029713,
     "end_time": "2023-10-08T04:08:25.557261",
     "exception": false,
     "start_time": "2023-10-08T04:08:25.527548",
     "status": "completed"
    },
    "tags": []
   },
   "outputs": [],
   "source": [
    "generation_config = model.generation_config\n",
    "generation_config.max_new_tokens = 80\n",
    "generation_config.temperature = 0.7\n",
    "generation_config.top_p = 0.7\n",
    "generation_config.num_return_sequences = 1\n",
    "generation_config.pad_token_id = tokenizer.eos_token_id\n",
    "generation_config.eos_token_id = tokenizer.eos_token_id"
   ]
  },
  {
   "cell_type": "code",
   "execution_count": 16,
   "id": "30a1ea4c",
   "metadata": {
    "execution": {
     "iopub.execute_input": "2023-10-08T04:08:25.590226Z",
     "iopub.status.busy": "2023-10-08T04:08:25.589716Z",
     "iopub.status.idle": "2023-10-08T04:08:25.595879Z",
     "shell.execute_reply": "2023-10-08T04:08:25.594768Z"
    },
    "id": "I--juWjcCGpS",
    "papermill": {
     "duration": 0.033448,
     "end_time": "2023-10-08T04:08:25.601492",
     "exception": false,
     "start_time": "2023-10-08T04:08:25.568044",
     "status": "completed"
    },
    "tags": []
   },
   "outputs": [],
   "source": [
    "import numpy as np"
   ]
  },
  {
   "cell_type": "code",
   "execution_count": 17,
   "id": "850bbf7d",
   "metadata": {
    "execution": {
     "iopub.execute_input": "2023-10-08T04:08:25.627776Z",
     "iopub.status.busy": "2023-10-08T04:08:25.627393Z",
     "iopub.status.idle": "2023-10-08T04:09:23.457282Z",
     "shell.execute_reply": "2023-10-08T04:09:23.456316Z"
    },
    "id": "63Zxai-isGhJ",
    "papermill": {
     "duration": 57.848844,
     "end_time": "2023-10-08T04:09:23.467092",
     "exception": false,
     "start_time": "2023-10-08T04:08:25.618248",
     "status": "completed"
    },
    "tags": []
   },
   "outputs": [
    {
     "name": "stdout",
     "output_type": "stream",
     "text": [
      "What is Fault/Failure Detection, Isolation and Recovery (FDIR)?. Answer concisely but detailed and understandable: Fault/Failure Detection, Isolation and Recovery (FDIR) is a mechanism that identifies and isolates hardware or software failures in a system, allowing the remaining components to continue operating. FDIR is a crucial component of many safety-critical systems, including aircraft, spacecraft, and industrial control systems. FDIR can be implemented using various techniques, including redund\n",
      "CPU times: user 57.2 s, sys: 115 ms, total: 57.3 s\n",
      "Wall time: 57.8 s\n"
     ]
    }
   ],
   "source": [
    "%%time\n",
    "\n",
    "prompt = \"What is Fault/Failure Detection, Isolation and Recovery (FDIR)?. Answer concisely but detailed and understandable: \".strip()\n",
    "\n",
    "device = \"cuda\"\n",
    "encoding = tokenizer(prompt, return_tensors=\"pt\").to(device)\n",
    "with torch.inference_mode():\n",
    "  outputs = model.generate(\n",
    "      input_ids = encoding.input_ids,\n",
    "      attention_mask = encoding.attention_mask,\n",
    "      generation_config = generation_config\n",
    "  )\n",
    "\n",
    "print(tokenizer.decode(outputs[0], skip_special_tokens=True))"
   ]
  },
  {
   "cell_type": "markdown",
   "id": "ae4774de",
   "metadata": {
    "papermill": {
     "duration": 0.007901,
     "end_time": "2023-10-08T04:09:23.482565",
     "exception": false,
     "start_time": "2023-10-08T04:09:23.474664",
     "status": "completed"
    },
    "tags": []
   },
   "source": [
    "## Convert to zip\n",
    "\n",
    "Ahora, guardaremos el modelo ajustado de PEFT en un archivo zip para no tener que volver a ejecutar el proceso"
   ]
  },
  {
   "cell_type": "code",
   "execution_count": 18,
   "id": "dbade426",
   "metadata": {
    "execution": {
     "iopub.execute_input": "2023-10-08T04:09:23.498983Z",
     "iopub.status.busy": "2023-10-08T04:09:23.498632Z",
     "iopub.status.idle": "2023-10-08T04:09:24.872158Z",
     "shell.execute_reply": "2023-10-08T04:09:24.870745Z"
    },
    "papermill": {
     "duration": 1.384706,
     "end_time": "2023-10-08T04:09:24.874718",
     "exception": false,
     "start_time": "2023-10-08T04:09:23.490012",
     "status": "completed"
    },
    "tags": []
   },
   "outputs": [
    {
     "name": "stdout",
     "output_type": "stream",
     "text": [
      "huggingface/tokenizers: The current process just got forked, after parallelism has already been used. Disabling parallelism to avoid deadlocks...\n",
      "To disable this warning, you can either:\n",
      "\t- Avoid using `tokenizers` before the fork if possible\n",
      "\t- Explicitly set the environment variable TOKENIZERS_PARALLELISM=(true | false)\n",
      "  adding: kaggle/working/ (stored 0%)\r\n",
      "  adding: kaggle/working/trained-model/ (stored 0%)\r\n",
      "  adding: kaggle/working/trained-model/adapter_model.bin (deflated 7%)\r\n",
      "  adding: kaggle/working/trained-model/adapter_config.json (deflated 56%)\r\n",
      "  adding: kaggle/working/finetune_nasa/ (stored 0%)\r\n",
      "  adding: kaggle/working/__notebook__.ipynb (deflated 78%)\r\n"
     ]
    }
   ],
   "source": [
    "!zip -r \"/kaggle/working/archivos.zip\" \"/kaggle/working\""
   ]
  },
  {
   "cell_type": "markdown",
   "id": "b749cf57",
   "metadata": {
    "papermill": {
     "duration": 0.007381,
     "end_time": "2023-10-08T04:09:24.890471",
     "exception": false,
     "start_time": "2023-10-08T04:09:24.883090",
     "status": "completed"
    },
    "tags": []
   },
   "source": [
    "## Loading and using the model that was saved in a dataset\n",
    "\n",
    "Ahora, cargaremos el modelo guardado en el dataset y lo usaremos para generar respuestas."
   ]
  },
  {
   "cell_type": "code",
   "execution_count": 19,
   "id": "82132b07",
   "metadata": {
    "execution": {
     "iopub.execute_input": "2023-10-08T04:09:24.908591Z",
     "iopub.status.busy": "2023-10-08T04:09:24.907415Z",
     "iopub.status.idle": "2023-10-08T04:14:28.540434Z",
     "shell.execute_reply": "2023-10-08T04:14:28.539398Z"
    },
    "papermill": {
     "duration": 303.644554,
     "end_time": "2023-10-08T04:14:28.542783",
     "exception": false,
     "start_time": "2023-10-08T04:09:24.898229",
     "status": "completed"
    },
    "tags": []
   },
   "outputs": [
    {
     "data": {
      "application/vnd.jupyter.widget-view+json": {
       "model_id": "10219feec51f43a58d91732415adbac4",
       "version_major": 2,
       "version_minor": 0
      },
      "text/plain": [
       "Loading checkpoint shards:   0%|          | 0/3 [00:00<?, ?it/s]"
      ]
     },
     "metadata": {},
     "output_type": "display_data"
    }
   ],
   "source": [
    "# Ruta del modelo guardado en el dataset de Kaggle\n",
    "PEFT_MODEL = \"/kaggle/input/fine-tuning-model/modelos/trained-model_finetuning\"\n",
    "\n",
    "# Cargar la configuración del modelo\n",
    "config = PeftConfig.from_pretrained(PEFT_MODEL)\n",
    "\n",
    "# Cargar el modelo\n",
    "model = AutoModelForCausalLM.from_pretrained(\n",
    "    config.base_model_name_or_path,\n",
    "    return_dict=True,\n",
    "    quantization_config=bnb_config,\n",
    "    device_map=\"auto\",\n",
    "    trust_remote_code=True\n",
    ")\n",
    "\n",
    "# Cargar el tokenizador\n",
    "tokenizer=AutoTokenizer.from_pretrained(config.base_model_name_or_path)\n",
    "tokenizer.pad_token = tokenizer.eos_token\n",
    "\n",
    "# Cargar el modelo PEFT\n",
    "model = PeftModel.from_pretrained(model, PEFT_MODEL)"
   ]
  },
  {
   "cell_type": "code",
   "execution_count": 20,
   "id": "4b992965",
   "metadata": {
    "execution": {
     "iopub.execute_input": "2023-10-08T04:14:28.560694Z",
     "iopub.status.busy": "2023-10-08T04:14:28.560364Z",
     "iopub.status.idle": "2023-10-08T04:14:28.566588Z",
     "shell.execute_reply": "2023-10-08T04:14:28.565563Z"
    },
    "papermill": {
     "duration": 0.017031,
     "end_time": "2023-10-08T04:14:28.568432",
     "exception": false,
     "start_time": "2023-10-08T04:14:28.551401",
     "status": "completed"
    },
    "tags": []
   },
   "outputs": [],
   "source": [
    "# Configuración de generación\n",
    "generation_config = model.generation_config\n",
    "generation_config.max_new_tokens = 80\n",
    "generation_config.temperature = 0.7\n",
    "generation_config.top_p = 0.7\n",
    "generation_config.num_return_sequences = 1\n",
    "generation_config.pad_token_id = tokenizer.eos_token_id\n",
    "generation_config.eos_token_id = tokenizer.eos_token_id"
   ]
  },
  {
   "cell_type": "code",
   "execution_count": 21,
   "id": "0d099d94",
   "metadata": {
    "execution": {
     "iopub.execute_input": "2023-10-08T04:14:28.584510Z",
     "iopub.status.busy": "2023-10-08T04:14:28.584249Z",
     "iopub.status.idle": "2023-10-08T04:14:28.588549Z",
     "shell.execute_reply": "2023-10-08T04:14:28.587555Z"
    },
    "papermill": {
     "duration": 0.01461,
     "end_time": "2023-10-08T04:14:28.590515",
     "exception": false,
     "start_time": "2023-10-08T04:14:28.575905",
     "status": "completed"
    },
    "tags": []
   },
   "outputs": [],
   "source": [
    "import numpy as np"
   ]
  },
  {
   "cell_type": "markdown",
   "id": "98d126d2",
   "metadata": {
    "papermill": {
     "duration": 0.00815,
     "end_time": "2023-10-08T04:14:28.607367",
     "exception": false,
     "start_time": "2023-10-08T04:14:28.599217",
     "status": "completed"
    },
    "tags": []
   },
   "source": [
    "A continuación, se imprime el resultado de la pregunta.\n",
    "- Cabe recalcar la cantidad de respuesta se basa en los tokens que se ajusten."
   ]
  },
  {
   "cell_type": "code",
   "execution_count": 22,
   "id": "51f431b4",
   "metadata": {
    "execution": {
     "iopub.execute_input": "2023-10-08T04:14:28.623389Z",
     "iopub.status.busy": "2023-10-08T04:14:28.622991Z",
     "iopub.status.idle": "2023-10-08T04:15:26.140019Z",
     "shell.execute_reply": "2023-10-08T04:15:26.138936Z"
    },
    "papermill": {
     "duration": 57.536931,
     "end_time": "2023-10-08T04:15:26.151535",
     "exception": false,
     "start_time": "2023-10-08T04:14:28.614604",
     "status": "completed"
    },
    "tags": []
   },
   "outputs": [
    {
     "name": "stdout",
     "output_type": "stream",
     "text": [
      "What is Fault/Failure Detection, Isolation and Recovery (FDIR)?. Answer concisely but detailed and understandable: Fault/Failure Detection, Isolation, and Recovery (FDIR) is a mechanism used to identify, isolate, and recover from faults or failures in safety-critical systems. It involves monitoring the system for anomalies, detecting and diagnosing faults, isolating the affected components or functions, and recovering the system to a safe state. The\n"
     ]
    }
   ],
   "source": [
    "prompt = \"What is Fault/Failure Detection, Isolation and Recovery (FDIR)?. Answer concisely but detailed and understandable: \".strip()\n",
    "\n",
    "device = \"cuda\"\n",
    "encoding = tokenizer(prompt, return_tensors=\"pt\").to(device)\n",
    "with torch.inference_mode():\n",
    "  outputs = model.generate(\n",
    "      input_ids = encoding.input_ids,\n",
    "      attention_mask = encoding.attention_mask,\n",
    "      generation_config = generation_config\n",
    "  )\n",
    "\n",
    "print(tokenizer.decode(outputs[0], skip_special_tokens=True))"
   ]
  },
  {
   "cell_type": "code",
   "execution_count": 23,
   "id": "94ebe25e",
   "metadata": {
    "execution": {
     "iopub.execute_input": "2023-10-08T04:15:26.169843Z",
     "iopub.status.busy": "2023-10-08T04:15:26.169493Z",
     "iopub.status.idle": "2023-10-08T04:15:26.178267Z",
     "shell.execute_reply": "2023-10-08T04:15:26.176975Z"
    },
    "papermill": {
     "duration": 0.02021,
     "end_time": "2023-10-08T04:15:26.180320",
     "exception": false,
     "start_time": "2023-10-08T04:15:26.160110",
     "status": "completed"
    },
    "tags": []
   },
   "outputs": [
    {
     "name": "stdout",
     "output_type": "stream",
     "text": [
      "What is Fault/Failure Detection, Isolation and Recovery (FDIR)?. Answer concisely but detailed and understandable: Fault/Failure Detection, Isolation, and Recovery (FDIR) is a mechanism used to identify, isolate, and recover from faults or failures in safety-critical systems. It involves monitoring the system for anomalies, detecting and diagnosing faults, isolating the affected components or functions, and recovering the system to a safe state. The\n"
     ]
    }
   ],
   "source": [
    "print(tokenizer.decode(outputs[0], skip_special_tokens=True))"
   ]
  },
  {
   "cell_type": "code",
   "execution_count": 24,
   "id": "017ee520",
   "metadata": {
    "execution": {
     "iopub.execute_input": "2023-10-08T04:15:26.198326Z",
     "iopub.status.busy": "2023-10-08T04:15:26.197382Z",
     "iopub.status.idle": "2023-10-08T04:15:26.204461Z",
     "shell.execute_reply": "2023-10-08T04:15:26.203224Z"
    },
    "papermill": {
     "duration": 0.018097,
     "end_time": "2023-10-08T04:15:26.206433",
     "exception": false,
     "start_time": "2023-10-08T04:15:26.188336",
     "status": "completed"
    },
    "tags": []
   },
   "outputs": [
    {
     "name": "stdout",
     "output_type": "stream",
     "text": [
      "Fault/Failure Detection, Isolation, and Recovery (FDIR) is a mechanism used to identify, isolate, and recover from faults or failures in safety-critical systems. It involves monitoring the system for anomalies, detecting and diagnosing faults, isolating the affected components or functions, and recovering the system to a safe state. The\n"
     ]
    }
   ],
   "source": [
    "# Decodifica la salida del modelo\n",
    "full_text = tokenizer.decode(outputs[0], skip_special_tokens=True)\n",
    "\n",
    "# Elimina el prompt del texto completo y los espacios en blanco al principio y al final\n",
    "answer = full_text.replace(prompt, '').strip()\n",
    "\n",
    "print(answer)"
   ]
  },
  {
   "cell_type": "markdown",
   "id": "59f13e56",
   "metadata": {
    "papermill": {
     "duration": 0.007996,
     "end_time": "2023-10-08T04:15:26.222407",
     "exception": false,
     "start_time": "2023-10-08T04:15:26.214411",
     "status": "completed"
    },
    "tags": []
   },
   "source": [
    "## Transforming voice response\n",
    "\n",
    "Ahora, cargaremos el modelo guardado en el dataset y lo usaremos para generar respuestas."
   ]
  },
  {
   "cell_type": "code",
   "execution_count": 25,
   "id": "3c50e597",
   "metadata": {
    "execution": {
     "iopub.execute_input": "2023-10-08T04:15:26.240168Z",
     "iopub.status.busy": "2023-10-08T04:15:26.239822Z",
     "iopub.status.idle": "2023-10-08T04:15:37.355325Z",
     "shell.execute_reply": "2023-10-08T04:15:37.354031Z"
    },
    "papermill": {
     "duration": 11.127199,
     "end_time": "2023-10-08T04:15:37.357803",
     "exception": false,
     "start_time": "2023-10-08T04:15:26.230604",
     "status": "completed"
    },
    "tags": []
   },
   "outputs": [
    {
     "name": "stdout",
     "output_type": "stream",
     "text": [
      "huggingface/tokenizers: The current process just got forked, after parallelism has already been used. Disabling parallelism to avoid deadlocks...\n",
      "To disable this warning, you can either:\n",
      "\t- Avoid using `tokenizers` before the fork if possible\n",
      "\t- Explicitly set the environment variable TOKENIZERS_PARALLELISM=(true | false)\n",
      "Collecting gtts\r\n",
      "  Downloading gTTS-2.4.0-py3-none-any.whl (29 kB)\r\n",
      "Requirement already satisfied: requests<3,>=2.27 in /opt/conda/lib/python3.10/site-packages (from gtts) (2.31.0)\r\n",
      "Requirement already satisfied: click<8.2,>=7.1 in /opt/conda/lib/python3.10/site-packages (from gtts) (8.1.7)\r\n",
      "Requirement already satisfied: charset-normalizer<4,>=2 in /opt/conda/lib/python3.10/site-packages (from requests<3,>=2.27->gtts) (3.1.0)\r\n",
      "Requirement already satisfied: idna<4,>=2.5 in /opt/conda/lib/python3.10/site-packages (from requests<3,>=2.27->gtts) (3.4)\r\n",
      "Requirement already satisfied: urllib3<3,>=1.21.1 in /opt/conda/lib/python3.10/site-packages (from requests<3,>=2.27->gtts) (1.26.15)\r\n",
      "Requirement already satisfied: certifi>=2017.4.17 in /opt/conda/lib/python3.10/site-packages (from requests<3,>=2.27->gtts) (2023.7.22)\r\n",
      "Installing collected packages: gtts\r\n",
      "Successfully installed gtts-2.4.0\r\n"
     ]
    }
   ],
   "source": [
    "!pip install gtts"
   ]
  },
  {
   "cell_type": "code",
   "execution_count": 26,
   "id": "0296ad43",
   "metadata": {
    "execution": {
     "iopub.execute_input": "2023-10-08T04:15:37.377350Z",
     "iopub.status.busy": "2023-10-08T04:15:37.376537Z",
     "iopub.status.idle": "2023-10-08T04:15:37.391541Z",
     "shell.execute_reply": "2023-10-08T04:15:37.390383Z"
    },
    "papermill": {
     "duration": 0.027026,
     "end_time": "2023-10-08T04:15:37.393654",
     "exception": false,
     "start_time": "2023-10-08T04:15:37.366628",
     "status": "completed"
    },
    "tags": []
   },
   "outputs": [],
   "source": [
    "import io\n",
    "import sys\n",
    "from gtts import gTTS\n",
    "import IPython.display as ipd"
   ]
  },
  {
   "cell_type": "code",
   "execution_count": 27,
   "id": "a6ebcfd6",
   "metadata": {
    "execution": {
     "iopub.execute_input": "2023-10-08T04:15:37.412189Z",
     "iopub.status.busy": "2023-10-08T04:15:37.411265Z",
     "iopub.status.idle": "2023-10-08T04:15:39.877668Z",
     "shell.execute_reply": "2023-10-08T04:15:39.876731Z"
    },
    "papermill": {
     "duration": 2.478767,
     "end_time": "2023-10-08T04:15:39.881064",
     "exception": false,
     "start_time": "2023-10-08T04:15:37.402297",
     "status": "completed"
    },
    "tags": []
   },
   "outputs": [
    {
     "data": {
      "text/html": [
       "\n",
       "                <audio  controls=\"controls\" >\n",
       "                    <source src=\"data:audio/mpeg;base64,//NExAAAAANIAUAAAMZsvgqxNZuaOXdbmafbWH/9hhR30biRWYE//lFHr/nPV5yiA9hi//I3wkQax1KQn/6M3/QaJjhcnVB3//7//xYhkqdBNVFkagCIZJHkaC1VO9SC//NExFMR2yJsAZIoAdlLcwRSZEvoBDoZ3LPcMsgKBav7pTm2EGWefyYsVPJBbSeQMWgeBiwegTlSQEEJ0DJspAhHNXFObOW2huhHaDFPedO+nzFaYYQgyzLpmuLfvVmY//NExF4ecxpsAdEwAO3SY+/btmvlNcRlu1zEQ8Jwe8QY7We7PmYI1B4A4Jf9jW/+uxvK7OsSyo2wppbSwaiYayzK14ZLkqnvN5uRthLiAQQgyViyjBQULMMm9JxF6Xnl//NExDcRSW6EADiGlIqhjr+mTzKmwg8FBQiK1Qkk/+6v/+dOtJ3mJZUJdJ1Ku7CZ0qd3VJ3eQ52fqiWOxDupvJQqXtVbM5Xd0qlCM1nkfz/V6EW11YxOtK/YiNdzvdFF//NExEQSQtqEAFCEuZ/90FvXASeEGGcn40Ox72icZA6Ku0Jp/lRCEYmmqDOeZvVJyCKyAWIBwQ8hH046IePK8kGGMYmTLNQPsDZ/TLQ3L195Dxfte+FpovCneGamjqPp//NExE4cuxqEAUgwAKLrIbpZdob77t2l9Zu0RLbmNU/2vqJx7dsidKdz0t1cG5OsT1KWQA2EQRSIlscSD06RVyH2lUr9iXgEGE7BHYRMqkTA3oEAUeF0gGcYFSoCkMiZ//NExC4cOlKgAZmgAIGTACCBwkEJ8P3BQQQIhaTJF44zsgdYxd1tUtC61s7nXVWpa1PRSPfKimXvUjXUmq/uzGaZxrJMu+tfbVs/+ZzT7dWTfqs4Q6gWZYtfEgaBFoLW//NExBAV0hKkAdqYAGW6VWMa4D1xcp+sk9RIiUW3SmzxiAD0ZkzLq0h3k8rkyb9Zp8xbrQ+/WsyT1GRMm6Gswaqs0T6J/1mjdnTdU6r2T9n3pGiq1b//+BUYQt7vexws//NExAsUoVaoAM6KlHzJfUtsAAhIHpl6U7sLLDhQuqXpBspiwiFhACxhnUf118P/vZ7n/+R/Qd9fVuqmbQSAIVVTqKvaqNEhsQCPGpC5LVSt1bDelda/9jKDu3M+0Kqo//NExAsUaZ6sAM6ElCxH4t4tiEIQHZlSy6ll5AEA49W2RROdR5HgGsea+Gpzn/jhv//0blORv/+tGMYGAVdDA36p0crqcLNJETQAWKDlgmpSF+1Sx3zt5eQPPgfC5Tug//NExAwVSZqoAM6ElWOGNCX6jWE5DLYTIEnVyrP+YBqcBgHBJZdqukuqBNZ6/O9//+Xe/9Hb1b0//Ui0MoIGLOUrOd0Qy5Zg8ACGrOZ+kF7pCs/7cs3Vor/91QnIpc5v//NExAkUocKgAM0OlDsjG4bJNnQwGQUCgED/bw5xiXEhNoGFaATCCzhSx2iONvMj/1fR/j37/O+6dCowE5jIxyGNqPFn48VP8enZNqRc4qG81eBn//61z7/8kpvj0W6+//NExAkSAXakAM0KlKsMuifNQ8K0QG0Bv7gLAlnh9kwBhkANg0Z4b61JDhf2S9SX1N////byQNUkQFcuVxCHWgA85Z3K4oHT5RrllsL+t1mEmeFSW5ypAQIqhB2MESLw//NExBQReWqgANUElNgAFSBuhokhFxaBH4YoAYnikigPSbn7svS9aX2/////+pFGwLsxUSqDIyo7vcppBpo2jlJjXXOMijyHZBL4AS8SEPa6RbkNNPLQMsxEitJq+4AX//NExCEPKIaMAVpIAAhnxzdScDKG1o7P//9b7B9xH+gsPUVdWddPKI0CBZg4XARbkWIFKDsBEOJgzJEAyBiVNEBMxcloEtbWlDfEQIEYrUpjAXy4sqNTBJJFeXkWY+iy//NExDcgQppkAZtoADRZbXWp0VJKq73QUp2dzdzLZ1K0qCloLM7mqZkpFJG6SbJMzet2UiswOOta1oKzFFTOtepTt1eylmiRnQLhssoPng6ETpsd36HLHqcHpDyp0Z+S//NExAkTcyqQAY0oABoMWr7owgYT6P0puu8XPiQoHv7p4uc6ET+/6h84gOZ//pdGotxFDrJ//k0ajSCqhEhHEzqHw////59sl8hznQQELagcUQp9tRqXkcdCuvUH42RR//NExA4WEtKQAY04Ad4PxEIjQ1h5PFIyN5Bx1TU+KjHLHmUOzf3QWR0qmdr/xyYWJSTdDv/5gmJjyB0VDU4os401Djnqan/6nj9jCpE9Y4P91zlNHYR3VUQO4iMvd8yb//NExAgRsD4EAcYAASoDBUq/V6ITYMdqKzXwKOtt/hTvvy3u297KhPuLsCf2f8kIa//x8px/zApS7pmN2mv//f++qd/aAoZr//X2xSzeoVHiYe6jQN1AV1jM4xjBuAiX//NExBQSoQYEAHhEcaN+5++zTu6sQOf7v/+3G0N+pJSfY1BIxY1js9BRB0Pv2d6exr/SdnmtAdcvSH/hI39q1sOj+6UQnmEIRCf+QhCEJxmZj+Kqqq/6qpcYCUwCuJb9//NExBwQqN34AUEYALiI7iUFgafWDQNB3BoKYl6hEDQdlg6VdJXCIwY4lBUselj3iUNIWtOB5Z4GxL7MAoTC/e8BQGT35UF0GA/wq5TQHH/4jY8wPcFfGX/+MGYF8OAS//NExCwcayokAZRoAPGD//x7kmMGABwAMAvgXP//9Jg55fJc1MiUC1////iZnyXSJQCTJYlBPASQNwRv/////C1jBnh3jnHmYMC3iNiViThexz0HMfFssRaK13qrayu8//NExA0V4uZ8AY0YAduF52lGNjLzzS1eiggsDmrxAA0FMoBTRnmWH/bUc7VUkh/P/cyMyTMiszRDf//uZWeRkff1y3SGzW6fw+fy/OZ63d1A77yF6CREBQVuRqHO6Cmj//NExAgQ0OKUAcUYAH85y389EOEjslAwAR53lCAAYAgnPmwGaD7s4RPvJttnxSkcQILfexIIHAQcTXE71fv5S4QBC6oHwPz6FbcvwmFHTOVf0CyMGtPeQ64cHpLP568B//NExBcRqRKoAMMMcCHKTCdvszzb+djE2twQh5kEACBAgJJpOz5OtZNthwGmFSWMeray/Aw4hxuuUBBEwsMfuLBlHpW6jqkFxHSIzk9iBENk4Qq+NDUZIPz5/mRZuVGq//NExCMRmfKwAMNUmJJIzCbJzpWCzHyOPgOTUQLApZDBFkndujdfX0d9F9PM9vJ9dd/+TPVOpTD9leIeTQCZygsEHwDwvfyHl3tL/xkxD+6h62E9VFJwwudMkQkssWKo//NExC8RqSq8AMoScEnNip4omjiuoJxKQQ7oGRRIYDpxD3+gmuf+pkUSzemyjwVge5gf2msFhQxnxiEqlZE+K41j5qe5/HffjdQqW4jNEKACxQURIk3KVBFNTTSJRtQT//NExDsRkS7AAMPScLyK00MrdIliIe/lql8yDuhWz6LDLAgcB+EsktRGB7Q8vZQ+SvzI3/1dY/iqVH/7QAiP3ywBh0fTZWRPdtLNay+UVWzC+yOWdV+xC/x1vf/KyyTM//NExEcQKTK4AJSScIhOdWVL5MbtWOk+YoCAMHMTuv/jjXv58zLZHxJoGI/puJJQBNLWwSjx5lcSs/+HQz4dcbYcSk3oCpBT/qKQ7R/v+hWY/9V6xJNrVq0VU2M0wKSb//NExFkSETawAMZWcPOpHTLFPCWXWtfVIA2aZVI/I0JBEvO/m+zvPtJ9/+Ose/7dKft9ejjv1CEcV8eX0Ob1HFgIf//w6YWS7yuzCU5l7Q4dz4bCgcY3oGBAzL6TKXJD//NExGMSYaacANZOlADWb6ltYR8Zbqz9iJv7Aal1fWfcrlr//8cv/q3qX6/X/5wbFXBBh3zTpUYg0KqpzKq8QEFHgJsUn5Qh+ZtmeeeUKaOxBalaJM9z5D8M9gj6dQzs//NExGwRqXKQAN5ElB2lwU8KryGzx4SsicoJ2FHBZYHHK/KEzgo0SXdmD5//7lW7+7jZQV9Fl9KsOBdp+8AyxZUmPsiCD0yaSoygYl1tYqKSJEWcKpukofHJ0QCiORQM//NExHgRqLKcANaeTE6rzr/1C//7/gogisJhQW+zKoS//lEKy1nKFUxqDN7ZGZBcbqSBlr+YfQTN3aM3dxkRDzjRFvu5pszyjoGWUGQVh2LAACREDyogsuKsuTGUY0ms//NExIQR2UKsAMSScPc/r///zM6lOL2/luktvfuVEB9btO3BSZ60wQCfteYKBwlYACBWEAQzUxSq8uWu2Zb7WvWPIGSLg8DwGgIpOciqZoKb0z5egkmSaUPcdR9//9x///NExI8SeZ6oANGQlKI5lLfq3leQbAUZ77EbBt0eRNBa+WGiZqXKUQN+dd+u6pKXHP6/PqOWtN7fixmlVB2oWviQR2KAoDcCJXHdCOh4HxI+sozR7QQCiQ1R1VtET/8o//NExJgSgZKoANDWlLO8BlmvbriBUydEk7rimPqnHqA8BTtx/r9VVdSVHzbn/qJv9Pb9+4u2BXOVU+ebowACwQ2NAEEAEo/VadZgClRWYag4o1kKeyZhEjYadf5JtJIT//NExKETeR6kANYYcIZB+ymnSYRVwymyVTRjsxEQG5QxKPqKg3lC51uSKEVcpWQDZt9xWxts5xjM/hMKqOd2kUSwjzsFyF/QW0M2jXDHVprPfKKJGBCbtxwVBaLKxc7O//NExKYWiQaYANbecPZ/+Jzp/k4qYAbEKrPysQKSIvIZgyShIKMjAg+TIm1DskjesF9p1T3W4N9ldtv1foX+vZ7Lejb1GfFUwcYOQ4mUNWakNkDga7R0/G3DjOCLmf/+//NExJ4ViPaQAN4wcE0/uaslnK8NGIMESqQP+Aw721SCEblqIc/PY1vMEtj5sPqF5DR1mCUuscb7eVJA3xEUahbUfpBWL2oITXyyj7Ut8svSxNH/6WCWjp9QdYCkzgGZ//NExJoS+OqYANYecPQwCZIYmWcASwRupjbB74Q+OOigpFM+6MzSZuzY3Hnes8v2dbxnVEOngPyCnSyFSATClIePYTK60ysX0+jBUaY/6Ya/9SoSCoCGIXHZolVnIhkY//NExKESMOaUANPwcBgkYqKprBkszYCEA4yqPEUEeSQGFYji+FZodFWsSPeE1UpkubGEbIR2eaKUAqCwSAUGRUi9K6GQ1atni1UzcJTrQfMPEQxecy0BoEmGHjoYJHYj//NExKsSiOqEANYecBiCg4iMk6hqkk9MYMAgVp5HGBeJktODY+LOE4O7INwOkDwCPw5SpSSVJWXCoF1YXoCxT/2iCA+RkwbvD5yJ2//FzkmaABYJRC6sTh//+QwcAYgD//NExLMSSN5cAVxIABISxBDRw5f/b1f+RxECLl83OkXN9Mw//9zkhgQHAfVxmo9MY1ZRkDkWVbgyafZjBDE9SdGyVWGirKbJdBTxKxFrNo1O2fNQiK1OSNDFogDbEGVm//NExLwh4nJcAZyQAOVS3YVSFLyxx6ZGmVQFy45tK2szKN5KSzL5uWc9AQAmskHw+BJgheyhy0la7c6ht/1D9WK272qDTQqV8nyjsJCrlnooginh0KxVg6V4DAORgCpc//NExIcd+jKkAZhIACgg8u8xg1OlkMe7KlySK5Qu1Y+pG3ll99a1I9oDfBgyLOaotjQtJlMTUpYCphvGCfMFurLqBeOxwrbmjs5/RFqFLTecTbw/wwaLnxZIABd1kEy7//NExGIaYV6UAdp4ANrOz7///9SajeL9gg3Ik+VJaGIKhQJJkL2MeliYzpdqWLCYBLRawDhxCSKdtZfifOnPE7C560ppm1Wh8MJ+t4tLPGYU7GhNaxXOFvUN67pRFXsr//NExEseUeqQANvemAfUKVpOm+MNucQYGL0n9/G1pmrvLVLfb3dK/5vFna4G831PpLk8+4c1f//5Q4Tqls/gBFBKpkYjYZMt50hUU7GRNFtFPqXu9i4fRrXUr7frX+tf//NExCQTWS6QAMvMcA7WvKLTCeBAIBBUm1rzO+t///9c5JgZDKO1sJA0FVBVwsyWCo2KmVG9dR08mOpwZ2sc1UIwogDGHNERpD0aAo/QTCaeQ36SMxX9Za7+UParmpqV//NExCkSSMZgAVoYANvC6gJDw1prsQurDU6skONIclmJWFXSKC08L5v////1Kg/EOmWLFwPZp4dOArEveWhv3+9ldEX8tOCKs7vwtPAtGTS/+zuwXRhHg6o3G+cLpALp//NExDIeIvpYAZgwAQUbJs429/+PKQWYgncsWgVLf9vP5iC4jTEFo1Kji4FG737b/rdzEFtGtm//nIYdfJfnZ8////7NX/3+++x9x9/ZLY0KKHJq1gnQUQJkzirNchMQ//NExAwVeyK4AYU4Acry61f/bv2t9katXNZP9zJjaCwhd2/bPzM8wmqIymDppv/90HDEV1OU9CRYTA4JD5zjcx///QsWQgw+55+jZQTiccNniYdG7C0bEEP5hWOjM4Fb//NExAkQgbq4AcEoAHf//+7oU6P23K2iZvIBjgr7f/Td0cyorFGDjGnhNZ0qMPjD1YbETxcA3yS1kVHitSolO6gakdgKmMc7jwgEak6SnfRY8D1MKgiKOK4ABEolfYo///NExBoQkTKsAMMKcNF3b89+RdbqKCAKLmNYxEEbMWo4hyRKPDxxKGXdCdlA5zRQktQ1KloVw/VMFEJxY3L5uBCrnX+R7wiEtEACbnezCPGeXInA29XIweqMKM/kAIbj//NExCoSOS6sAMYScCAcNMybFeXqMjz9HLPvn8jOt7gXF21baKameyWWitDH9QrqbgCLkFiZuJUMGzoI2AZpM7rIgL1591ntj8oYuxTADcm9KGDM9uVAAyL8rC67tDvH//NExDQRwRa0AH4YcKdO3Zx+lp186IgSHn3913X+NYtPOg30r1hAgSzbQJDPZq29obqly615OD8qqxrO9OlnvtyUc/rBXTZbjxJffsS1r96z33ZicMdheUxmBr4g0dfM//NExEARiSqwAIYecM77pr5Z9dXfdw2FaQPTu2mWB7UkoYACDrd7klMhDVtTMAqa2MqytsJ19BD0fWFQ7MtQgiputXAKKKyMqqLOtlm2+8t52xiCoLB07/9T7auwNEfL//NExEwSeQakAMYYcG0cyoTiJSOYsIgzYbRDBQKJqmAKGdaRXi9zkNO7dnZVf1MvFLNSnGkWRiqzK1RTNmlhUXDLNIWbqaFDRFBES/Tp+JWWYliKOGFhGIHSD4CBjGgM//NExFUSMQZ4AVlIALfA4TTjalEa1prkXnbNSnJCadolFk0kpy7+pUFolZ8hcCqAcLICQgNEqDE1TCKpNOhqAkRgy80SrUz9ncnmIaxCXTS3wV2SdT31tOg6LGWosqql//NExF8iOupEAZtIATtRtvZ+ewqtusqcKhmf/9zUrrf/8jn3cryzPO//f/ne7/C4Le4LRaCLYVR22wzo/9JkNLn/Djni3dacmSgRbyuTBOGQ6CaI0jvkUNCoUyuQEhBT//NExCkcKxKQAY+AAcTqHFfiyykRAZQgjHwt6D8yaFAjmf6bl90EBojgI48Rw5Y4v+aUFv5RJw6YmzJOZf/qt/0jVmQXSqdX///Zbp/91onUDKFVikIhS/E+L///5/53//NExAsR2eKwAcEwAL/7rbNPXPY5BFNA7cXE1Br5ai9zlDLjxe7U3esQ0mULS/bCCHez9/QxprGu9g8CFz8+3iqVW/+fsuS+jRV///////9WYQRWUKpOnc1WcW83u13b//NExBYSAfq4AAhQmPkUfUOPMBsLjiDCHHguFbxx8DyY2hKFCTnYVH09UPhQKCykB5xljesIqpSLe2wUNt2oD///////ytLr/z/tV1LUWYkgnjZk+yEmZCyB6QodyQUa//NExCEScf60AAhMmfaISUh4hBDFkJct6zdmsd8Pyq/1NMvO/c7//3yG2m/+97VkZQUNGbftL///////s8/7v/9zz2+SxUq04mbi7p2md9bC5ArgmiIv8o00+SYjc/Mn//NExCoSIc64AAhMlaKKz88T2bi5CO9V1SQOs/f8uWo3bLX/7vOda358obWeesEIEJJoFhZSG////y521Zs////ez/K+fLQJYDDzq12/+VcJVhSTuUOKCyV4mRR4FLA8//NExDQSAaq0ADBMlAUsIRGCp4yRCXMFn/ZXzv+In4qRo5TeChjzQDYJBWwMRCwhwHAUx4tzhK1KuJC8TOoGtZnpjSeXEbVwKKWNCN92lKv5nvhO7vY0ggw0hZ55CjeX//NExD8R8TagAMvQccCy8Wu9HD838d9oRY85dviXrLYx65MAnQ3BSZWAVx1pge68le8e6zaL7rv59rUYTCDgAEkthGIitbNv7/6vVGuBOpFhp3+/pvbnpDfNgWfzqr2U//NExEoR2TakAMPMcaQyEtggCQVihI6MPK4rhjW5BbgKz9SR4XJLZ3E//Klx0tG+u6tpg5xCCZiCprUtmGtqo7r6uadqsSSPgAnlfvQOPOYI7XuVdy2xoG0y5pBsoDSE//NExFUSOTqgAMYWcIhA+UusvQ9ERIzioa6kw6SfdWacrXaSi19XPq9SvaZYmVBk+IgNX0Tcltf4qAG3sIjAIWK931VqdhL9KoHgSLAX5DaDo5hH0CtzLRu4LCgoMtqr//NExF8R2OqMAM4ScMo4ioTi6UFrfxpbNNaz1rLXeCrzoedGAySNLZ36GSbZyrpm2vbu+7bN0zKVa//xSVpcTyMzEM6xawYYpnCCDaCEMNhIF+LgwQ8PGwW484EwjV8M//NExGoR4UZ8ANYMcF6+bGW2j8x2OP0eCrtK7b/787skS2my+//z/4+ArqUn/5NYW63YzawSKUFTQOYGUIH0MmeWuqMmRk0lHOZUVgF6yXhY9570hxWqpmiROp143H39//NExHURAUZ4ANvMcNuyiRreq/+v99R4pmEsZ/8v9a066l0QpfBnc/BEkTzJtS87Rna4iVYHZPaiajP0EbULT3WK7z65MyHIKwABgCkKrghSSHGAUoyGHPaH55OT0g42//NExIQRUT50ANvMcOX/1aBZdN6qIAlg4BBjgL41MAEAaHDpjSORCAiGzCGMDDiV96YfRVUciZGKhD29tVreFrzzbfNz2C/pEkmiRNwyUyXLajcg02xbP2f//+mjS0bL//NExJERYUZ0ANvGcCtuR/q7pa3RM0Mg4TKgwe2LlvjHAY0peNLBC/pg5WZwB0LNkx4BakBAWyBkOWS3HBVmcxnVULvFpsTBMLAgKj0+bO66CqV9DSInI4qW/XJVPJfb//NExJ4UuVJoANvMlNRekNLrqmUOf61jgfpbShxK8Puf///enryqlQjIGzgA6srSZFkc2wdFcNAxwGEDZSPSqC/CbHknWaDFrIhyHKJyhPs6xbbIQsGlwqCIVFIpFLUo//NExJ4ZKU5YANsSlLPlaqFq8IiYKB1bou7OiU8Rzv6g71A04GvIlf//1/laHy9OVtNFuc1a9swwCyJGZSdAKI8JqWrLNnD1sBk5uFqKNwdWjHCINLcWegyJiZYPIIoG//NExIwWIO5EANPScE4wYRlowkbWy+rTpG17UtBWu3+ujdzVAiHJ0DoDcM4Jw1AlVlYSKIyR0cZ0BkGNqGrXbaNBRECxYctZ2jU96GETxINTIBQStEbpXBZq0ZXzuy35//NExIYSaNIAAHmGcGV1PfsWxCUMNXGg4fGHkyBAgQBAAQQIBadnk3g+XECQQcD4Pg+D+Hy4eEAYU7+oMFwfE4fKHCjvEFuz8TrB8EAQEDvIPJ6Yfn/KSCoKQEYspDAF//NExI8QsNH0ABjGcGj+b6OvJIcqy+nsyzhYVLMmwKSZRGUEkzySJhyFWdqxTnCRSF1KmIZUkc0kptxu8iqkrNNzBJSWnjEPWWtL92jsCYeBQGkAhdQZmhshTSgcR7R6//NExJ8RCF3sAHmMKMiwgaCJHM2RxdcuCa2z1DFkR7byDnBNQktPB8YtHoAYAwjGQlH16FUSYmoCAieMwEKUmZc/yoa6tytmM+YMXUKJgseLA0IgVcVOjg7Lfyrl55WV//NExK0dqs3sAMJGuXREgRHoazpbETed3//5VUxBTUUzLjEwMFVVVVVVVVVVVVVVVVVVVVVVVVVVVVVVVVVVVVVVVVVVVVVVVVVVVVVVVVVVVVVVVVVVVVVVTEFNRTMu//NExIkRIPHoAGDEcDEwMFVVVVVVVVVVVVVVVVVVVVVVVVVVVVVVVVVVVVVVVVVVVVVVVVVVVVVVVVVVVVVVVVVVVVVVVVVVVVVVVVVVVVVVVVVVVVVVVVVVTEFNRTMu//NExJcAAANIAAAAADEwMFVVVVVVVVVVVVVVVVVVVVVVVVVVVVVVVVVVVVVVVVVVVVVVVVVVVVVVVVVVVVVVVVVVVVVVVVVVVVVVVVVVVVVVVVVVVVVVVVVVTEFNRTMu//NExKwAAANIAAAAADEwMFVVVVVVVVVVVVVVVVVVVVVVVVVVVVVVVVVVVVVVVVVVVVVVVVVVVVVVVVVVVVVVVVVVVVVVVVVVVVVVVVVVVVVVVVVVVVVVVVVVVVVVVVVV//NExKwAAANIAAAAAFVVVVVVVVVVVVVVVVVVVVVVVVVVVVVVVVVVVVVVVVVVVVVVVVVVVVVVVVVVVVVVVVVVVVVVVVVVVVVVVVVVVVVVVVVVVVVVVVVVVVVVVVVVVVVV//NExKwAAANIAAAAAFVVVVVVVVVVVVVVVVVVVVVVVVVVVVVVVVVVVVVVVVVVVVVVVVVVVVVVVVVVVVVVVVVVVVVVVVVVVVVVVVVVVVVVVVVVVVVVVVVVVVVVVVVVVVVV//NExAARkpWYAUEQAOpjHGN/gBxjgFnkZTnQOLPkIykJXIT/29CMoAIJV8h3kqc853/+p3IBi3Rpz5+QjKQjfQ5/Of//nO5AMW4gn9QIFAxE6gfV/4DXe+hmN/wO/6Yw//NExAwVWcqUAZiYAGw/4vgoODr8mhWg7ANzA9MWR4zZuxUAOgFoAXJADH8zN2xkxxEHLZ/+g3L5umTZfX/TTdtBj5ug59D/oMm+t2pHgRBB3/4IB8Bqx1lKkdlwfXlJ//NExAkUiSqwAdh4AHDf+/e2q/cvlKISEEkk0NBVAQiCoEghOkHeKpmIYliwIShgassbPEmV8eJ7PKazil9/O7+kOlPemImocPAdFa98hU61vFQwrbXVk/7cBQm7oRUi//NExAkS0S68AHvecOPS5dVZSzcBrImNBXixgnDQtYdwasucZdCTErLAhjOrCKE0LBLJM/vS+r3x90prW6Ut6Q729KwMTxR6217Iptq2elXPxU+AfM8tUiBolPrfFksE//NExBAVAS64AH4ecO2HwGTAbcP2r1Aut787kzAj37w/JUUbOzsKpDFIRCfdFG+hbnGw5v4+MPZ/nbYx3vtqV9JM1iBcXDaVNYh86YS3+31ox3+48IVG0vdrQsDht/Y7//NExA8VQSq0AM4YcGDItm+NpymlKXSzWcRYFG7+sq56/a0ZJLzmIYkmJ/fI0MmAbf2NMvg6FlSf0+q1rLssn1Q+LiMPSlZe5q+5v5JTf////+r//t5OceY3zBjJrTPJ//NExA0RYT6wAMvQcKrcQYTZni72uUJn+MPnKn/A9+VmnlZNtKYswXEEkkFIERHMyRZ07KFnGNSrCnhcp7dtrGtGGnu5Vb3/7xiFsOt/tuOmjABPmLWNCRNNC9dNaPsZ//NExBoQ0UKoAMtKcPuj+9mRYkPBUUOs3M/jS0RhEu7/uBADHnH0/7VODDVOxRxf/X1OXFDKVS/KgNGplxFANMf/+///+zX3//9Wf///+mjtnHrdtF6Ufat2Y9jHZtF1//NExCkSaxawADhOuGOWTqo3dqGj005Z5AfGWRj9R84eGgSDcfJDcXjhAiSIuv3///t/////0WhvW/q6+5zT3qcfUxZ1qmqpIiMjYYMYdYcYk5c0ec4SiBAFhEcEkFoP//NExDIQSxa0AAgOuYSQDh0cE5IwRlEgdIFTB9X/l///+v///////p/vnZi+n1Nd/dVzanpdVVTDUZhwXhUmNR94+WUqecQJOcRH48NhQhY8bC0HwPgoKRUeEBQgcLig//NExEMRSyKsAABOvNybKgn///9V//m+/////////7/9bd8z6c+i8uYbRTlOMdZhIuaaOFnfKGGHmCwR5cdlCJAFgLCZoBAliKSQQCKeJxKF4jDphQIhJap/yZIH//7///NExFASEyKsABBOvPmRXwX///syP9P//6v6anv9/3TN9ZpzmKh1D0Z0OH8opqkz4nc95MseNTDRrKGjAmG7j5BABh0gJJgBKCkeHB4mOsR8YbQTZFoxXr5/ACwAQEkr//NExFoSMxq0AAhOveCc4BhpNGzz1Qg1kzjDUYxFzKm6V///9/////+yPX//9fT9Jb5tSo/Q3+gYzmfUpS0AhSohpIrVpf3hExSl/4RdxYWbuJsDrNt0EkCQSCzuxKmO//NExGQSCvqwAHnEuf3MeR6l/HN0H9it+/XbE4tLz/lHf1N6p5Pt6F8DDHsodKz9TpTKPeEdNZvrXQrD/3HDEQed+MYyCYQSBI8OjHgCsEZKSRwRwGAR20hlA28WFpwh//NExG4SGV6oAM4ElALlNnCgTLPQRbyt1L6f/foUpanGFRUdVqrKhUcAnxj/1Z27UpxEOGRcMNZngAqPsJL8yCZghDVgLTfXgYhK+f7Old8SdVu1ZxwFNpFewuXbOsOZ//NExHgReV6oAMxElGWX/5WvV///+vmNVgICFLF0XSzDTCpjMKqt2MEIYyOBmJkIUHgOYUhxnYQus6rsIFSp/rD6CCp32BcWwZCB0iPdBaZZetiMg1Yhh+sfzmLXdYc///NExIUR+WaYANYElF9eyJ7Wt/6+jXR1OHdQqQGwCdYAf7dHQip6pFXZwY24IiM7YUTBZxPCNFLdF4iowAoRVrzbY0Cw2dUQ4xGp56FfRgaHff+XICEzH1kbD3nk2P1+//NExJAVUWqAAOZElP8ww/Iz1O9Tn6dPV/5BChIQDTVZpgmFVf/ij3///9NllHV8cYVuRqGzJlQ3syDAZMIw4YN+7DQi2UQGMhg+WcicbMM9TjKOJ6AJIvE9z2llBIJI//NExI0WOV6EAN4ElNQVUHAyIRMNGF/wKGknF8pXKLOBdFk9hGc+vVZT4QgxtzXiujRn2CSAIFinXIE7hF275wh1GoZIkXmADIofpoHrAbw8HAeapD//6ErLicLmyDJC//NExIciCaqIAN5SlLWqk/6g0EkV/hgAkES07DwWyPYd2IPlgoiBcs6FoXN1njz5uXybLKhkNNVqSyfjMOyxpM3ZzBcQbEAOFkJm5dy9P96zKVPMzQdj4p5bUsNZqGX8//NExFEYmZqkAM4WlLueamrOAIDVfp6anf//9dY5FZzmcQDls5lBoBeqaRmPFS4RIJFJwOvWHQpI1CKasYFsmtk4l3qKalWWm2LgpkJh0Qgl+YdDz+coRNfqlzpI3IzX//NExEEW8ZakANNelLrOs4bps2xff1T5+r614kANu7LOqqv//+zqrbf8pgmc/Yf8fSHph6gBvhbsuRcIK8ZumRNIfmzqGkSWsr6b7OqomldK4K5zhK4PxZdx0ky6vHPL//NExDgU0Z6kAMNelHurO4RsNUeL/D1ryf+ma/4/8k1WGun/////+hWp+UyYwdJvkhBmBQt5oyAZgn5LIxdP5OL/JFDnvzF/8HX+ab+Xu/jz41BcL4kYiSP1rCtfzyum//NExDcSaUakANNecH01p1SfUjlR4jg3LHbobIen/JKO39ys0LNfkregL5guyU9m3YtlZZxqG9AsTogne1tDea3O/ieWLyA6ASEFAFghEJJuDhh9rmrK3Gt19Pv8f2P3//NExEASWZKYANHQlLXI1O0/////oTXL7iBb5Sn4IBLDctM2avuzO0fzG///72nnOdohOcTaizPq9SxeDaNNG2pk1Ec57/TE8pdAy+EWyBAxb1/0YYLgmGyfUGeFKIGP//NExEkZAfqkAMCSmTRtoCI8HHH2ztwRH+J/V83QHSGT/84/xBn1j1mCtzJX9P///t6IrkdzIyl5lMwRLcZSyS5oiNNb3u8ZygVackXNEJhcULEy47TDzLZK2KSNWcEC//NExDgZ4tasABCSuYODqQzOSFDTLLE6uUEO0pBfOlUpa93vxu3TqMJ5KO3J3uVyzL+xZkqwiUVRMDk4tS////////U6Qfzw0Nn/svx5rA8NrM2Pwe3a2NRLCiaLnYio//NExCMR+gq4AAhMmO9A7NdJLO8sv0SNhJy3xHS5lA515UTMpc0JP1CwlxIugFlkWRr/7///n7PW/0/g+/YljfPpii2lKtaER1s5aeZKHPNIGpGYTLcwHmCIFBo08VQe//NExC4Pkc68AAAMlBhh5a/usWxlWXhWtmksDIFq/////wzz/jfj2VHJpg5VDR60wrc1LijvYtIhuYGhYxBOwwOHGuOJo8cIpWrQMo1jEQ7JvdlOnw+N/+6sJtb4769i//NExEISqgK0AABQmdBE2f9Zv5fotVfYXDe3qAT7SDN////8rUH//8bet3sHWhdR//KrMjCg6CI2FFmKUGtK3Fi3JqqjTUm1tZNDDp4idzx2sNfgHEs779l71jXVWASR//NExEoRcfqwAEhQmBDnlNp4CIJxqBIrG1cXFbWLgPy/FMQarihsWbvi16+b9P1DS5JA+ICwJq8jEVa3K+QcVBQOvGmNTsjqu+YSdBgiSUd3gFC1dmi0jQsY8GHlWQUM//NExFcSeYaYAMrKlBilUkhmHVeGVltMFviHXcCLWmqb5TZs5ZiIIAQYGIXKG98lm/+5vh8aC3SMSta5PtXKvEayV0+qpO3SbWV18RLXxE0mjWQ2C1jQCCLOEQw67ZG9//NExGARMT6kAMPMcCWvhW9plvLKYQA2Hoiigg1McQqzdTrz1Pe9qSRJERM3ek2CTHRZJsar6/////oqjdWoHcIOl6GAk6bx/DgAXVfsAsZNbfBe+dtGbveTvNSq/ndn//NExG4SUTqgAMPQcH8i8kduYWWAMLGoddEraaIrRd/8bf7FFM5tEpL9R8ArMAE6Au92ik6Z6VHnU0LXSrmJn8NBU0YF2tZnEdQD6Qf1IpG0ZaebWIO86mmQuIk3gQQv//NExHcSoUaMANYQcKnwwyGvvKIYo6Laauvv+qiSxRx3/xF+irL3x8/ERgjsmB5KZRZ0TmwGbIoWWLWGUs7YJyrfAj7x9+SHfJfkTKWIgL7HnMgsMsuqaRiDj3Z3mKqK//NExH8Q4TqAANPQcPmloiXkcl//uZ4w0upbjLoucCbxhepgDkLBS6yQANAR3NP4H3B7aXqMwDTQmZurbE+L7pbzPLJHZQUx+OlHrNn7LByZWpNuQzf58fc/Paz/1fTV//NExI4R0UZ8ANPQcH3eRSk+1pENAQIeg05UkWeAc5IY5RCSv6lNR90Ccc1I0+K68XVWOe7GYkTKpM+Zh8jX01DaGJLn56/b95nnhiUj1f+WPfUtdpXJCOGmyqdjvmfh//NExJkRSUJ8ANvMcEHQLkAFBMBEoZnxUIYs9nH7GcDCLFXdsbiaox+ufnNWG7mzxGd567ocjfoUhYUMgAy2kR/3njahK7/oRf0FjJoIQLMEY89txTksBTUZyyLPDFHX//NExKYRsUJ4ANPMcEYaEdA4xIbLAmYzdcWGJrdsYxXUhzJMQhhUQFAUWnOZZUNQOofT9udIhFxV0v/63HfQUf/////WMNIWOihycgeofu0YUWDSe6IoCEQMzkpEmr2d//NExLITAUpsANvGlP2oabLhrcXmsZrqsS+u+th+yK0KJXk9vOw6xmrsovW7+v+37dEnDE9f4MDfuOjA7QA6dWJ4QhYgWXNI0VUNkpJJuTrPsLcJklmEtpOTSZ0NZWFW//NExLkSuUZsANPKcM1rQXusQox6mQYwoCTWqpezHDCoBGFEz/vDb/gEDE//iISgJ/w6SRcFHY6V3HyywdS3vZMje4+OyZWPCtyV4eiMZcG2chh4XQbJEVPJvYcQQEi2//NExMESqUJgANvMcCFahouqWYiL11PU0fercsY65iv/upZuoSTDeORbRziubKwRCgjJ2DzKNsDFDCcPAEEKLEFZIDMA2dCpMGAOQfsCa7XVoSweaCdcUex/yQ1DX3xq//NExMkScUZAAMvGcDWKN0Pd8AxRIpKtcbTGqgJ8Q8y082ynXK+s8bAESwRBMBqOQIHu6gSoHQUJUFUcmX3v07JRDLKEc0BWCNx94XHqQaZnnR7EqbT9tUohLdrjJMWD//NExNIQ8M4EAHmGcC4YMp+XoZUhItNVRIkoOUWFwV11bFbVbNTgoTnOARLWOJJdyJFHyFAVjAQo9mb1Uv+qvVEqrAQEzMGYGQVO3CWJQ0JgaUDTyrv8SxKdUHfLA0DI//NExOESSH30AHpESCoKgqCoiBrUHSwNA0CoKiUNfZSqTEFNRTMuMTAwqqqqqqqqqqqqqqqqqqqqqqqqqqqqqqqqqqqqqqqqqqqqqqqqqqqqqqqqqqqqqqqqDZQEBImF//NExOoTmP30AHjGcMNvIATJ1BQxaNuiZOgQgWAwtgGF6YQQcmnl3exGXj20Y93lk7iI/aIe30Iz0T66UDNBBO/1+J6J1ziEhV9C9Crnl7xErvl34X1ErmiZ/78TiITg//NExO4WyR3YAHmGcGaADQB0PTh+AiOyP+AxJ8OJXkpISsqYnSFNRzHVHTqhiwlchLAkaEIGTwWBJksCQabCoIskQpQ5JEiTQuVZWRTQocWISWBETTQxuWqocWa3+Utu//NExKwAAANIAAAAADGMCITAMFFkUamZY5J5z+SOHEnI6aiyWzM+SOHJf9iSRoThyX/at/edNIwSSNRif55yTm1rkSMAIBHgIKuZIyxJFjiSVkQmAUi1a1aCpAoYGQYO//NExP8Zuq3UAEmGuX//1Uw0RKun//9BNNFQYt///9pVRVU0q////1aS00X////qrpVJVW///1itNQ5LTR/8qsqDVV0iXf+gmmioclpqTEFNRTMuMTAwqqqqTEFNRTMu//NExOskux3QAHpMvDEwMKqqqqqqqqqqqqqqqqqqqqqqqqqqqqqqqqqqqqqqqqqqqqqqqqqqqqqqqqqqqqqqqqqqqqqqqqqqqqqqqqqqqqqqqqqqqqqqqqqqqqqqqqqq//NExKsRUBEgABBGAaqqqqqqqqqqqqqqqqqqqqqqqqqqqqqqqqqqqqqqqqqqqqqqqqqqqqqqqqqqqqqqqqqqqqqqqqqqqqqqqqqqqqqqqqqqqqqqqqqqqqqqqqqqqqqq//NExKwAAANIAAAAAKqqqqqqqqqqqqqqqqqqqqqqqqqqqqqqqqqqqqqqqqqqqqqqqqqqqqqqqqqqqqqqqqqqqqqqqqqqqqqqqqqqqqqqqqqqqqqqqqqqqqqqqqqqqqqq//NExAAAAANIAUAAAMc8g4bMBgJm5oNADgLwucGY9UcAwhKe/MjyBl/ppmiBkUCh+aINUwO9RfGOU0f6ab7sUCTPmCz6H//9I8aHQx/+oaBHpYjhSMqFcAmCDnkQVCrp//NExFMRMc6QAZNoAG8UPHRDHEFV2TN3Y0hJQkMrdKfjr8qbx5lw+OSr2sJWLu1n7Mw1y/M9XuUKAHGpXNFFSEAfK16XclCImbkwf5f0PgKA6zfLZZT2YGDcOJHj6mve//NExGEhIgaUAdl4AH+oFJosZgpmtVfLu2n9/n0///+tfHiV3fMcOB4HjQE////5RZJnqbKhgHGXcdOmcAJQNpZuYhqaai3EhGxXn/izCB5XvHNmnP1QRjn8pYRrm83w//NExC8bAaKkANYelLGMPSURU5BSYs6IZ81jjojYtDQqKzZlRLvWsL8euaRIePuWf6pJD3/aPemYrgSQBKsQGiQ0CqOJL////+q3zKlTSAV+RNg1mcEO6uGMACFkg3uk//NExBYWmVqsANYelFkExf7yXjw/yxuunzD9RO9rfx6V563NRF/Z7YJXFf6UpIYVq6hKrGt1ZJ7xYSSrmS9Xf3u0fpBSwQxZ0GxRreWQhLKzSscc6QVGgKM/cCw61A4w//NExA4U6aKsANPQlGls9nHhOz63hrDtKW2dinoVmvRcmfvCVrnTebzNnymczbkAtCJT5DLfkHzXJzXwMgWGYlKv3j/v52jlJ/kszFrMtQ21yVW9+MBCJ6soaCF4lUwC//NExA0TwSKgANPWcBjoFB56JYloZxN4b5iD9A+nDGrhuvBrKnVzaWEom/IJIgUFSgByJUC5w9B6PNa2H37mf8/pApPB6+IivBrtCthH61aJVDK0gIfQOJCYAFYHHgmY//NExBEWsUKEAOYScCEYaYR4ODC4pbXGBSK5qCy2z9ZdziV/Wdx1G23GAodKUlgAqVMgE+bii7P8yJFVrn2f4O2Ppgl+liFE+cNV7PagEDphtTS5J7BdppRSXhwdnNga//NExAkTeTqAAOYScMEqBgnMFPQ2KBRoP0zSF2BFf/Nqq/eawx3Y1jWWdWxXSnUL0kpesA1VzxZv4ohv1BnXVe/fN+SSXONcBsRd/SMEp75X1pJRVFHwDJNoJd59CAWB//NExA4UsV6QANJMlG8NLp5U0dZWsojAQDJ6Wig8iRlkKSJYkMCowHjBVE9VhIvqcUqNQWw4IN1MsR72Vq2HbdPZ71237CCfJ4xtCImRKNvXrrk3SMZMFZFl8an2dGVx//NExA4TKN6MANPYcIcXcpsciNLO7K5dz7s2JTGmI/li2XweHeJhKPz56+EyLGCkTMeYVrnYiFwiATxoTioaREtsOpS2lZUnr3PZTYo995xzGFSdG0wZAwKbquP4mIv8//NExBQUONqEANYwcINmmsLwqJpla8K9MIgDxaaRSgLEI2ySDXeChpRZhuCFSUdJKWVrXq40zZHV/DKn2VLnVSSd/oz1uPW7+pLlNQtGMMYg4GksYSMMd2G5SKOEAwZy//NExBYVOPqQAN4wcJbNIKxZtuknUmm8tdl4BC+UuqNHN7Git0b8RAMZWLvG5bkr/lEhgBVBKyxSUue9518+63f33/63XJOea98nKancoiVlWoU8MAUOcI+NAYaVRNFU//NExBQS+PakANZecDyZy7dSx3htlbJZ3CVtAgb8aZ3VDM3nCAdBXO4AKQJU5ZL4rzRQlStx00o2HRSkNzrIf+jaKBEinOUD+AuF05puBkapYtDjZiunsqJA4VaKTWrk//NExBsSKPKcAM5YcE0rYrqrFalrtd3cZoDoNj7VxVQoxLCQs9i8mrcuSAIjrEdjZ4AiH/d45yi/6U1XECSgE2OagxTsAFB1cxppzdTNcDhlkppGtS3V2GZy1jqNOlbN//NExCUP2O58AVhIADWLbJE2o9RoQhmUZK5/1suJC5ANVf+zpUYyqjTJzNmCZsDAp3FiKAqYdpJBfif0RkNFENVc0jc0UfR6nxco9apyWFjylPskGhUaQUgnhAd463RE//NExDge6v5IAZpYAf9vOeQ6BufUa25v5775tuxkzDZiLut9XVzsb8uZLWMWp3y74dfS7qjruK7Yybut7IbW2emxX7m/G3me6p8/90sv1e09BzjnHUTYt7iggPvDwi+g//NExA8VEeaQAYtoAO58oHF03dJBY9jpfOrNz6LpoGdxkBVw9B5ISS1Xm6Flx3JnkWf//NloIu6X/+y7rQRSOpl02OflPlwiXXv/+8/0LQUGhZUqFAdS9V41sxV5MHIV//NExA0V2e6gAcxAAKO6Kq3IMd2j9ShBtXgcokQPhDNYNhyIohAIB8gmiJgdKS7+/Fcn7zG0T8VV1/xE8/Homlb8QrzRUkpZbTLD5Mhmt///+60WQ8EtShlrlyxIjhqk//NExAgTSZakAEpGlIiA0aw83inJl5TNuiwuvc9JLmjlA2oH12TBCIY6Hm2nCRXY+u6YxnEpfYX3nfhTIxBizEwZOpSyYIgIsRYPtGF9X//+tdXLvx0lEji9/c6NcjTH//NExA0T+OqoAMPScI9eNoDeKXmZTA2BMDoTqgVpBGhzpBbgp2GD4YAAF8slUr3n+58+tHwuCzQ6RAZpSbTvuhwERh7phACraLhUkGj2x1Sl7+NAZ7ZUeFVAggfSZ6iR//NExBASKSqsAMYgcFiRqg2NxxDM8hl1LRxEkTT4643QLqzZ0C6ATkXZE1WQ9DoHu5j1Kty+9JKcTrymQqy76+2LM2CApUtRRBpJB0sfQLfD+t0AXtF2d2sGEjElNH4r//NExBoSISa4AJYWcN50Y9DnPrAeG8n5eBCKBZDJUWffowyuLYyt017YvtyJwPi2jO1IagdN7W2yrtyFNfC2oK96joFKyavlVUWMGYtlS0cRY0YoQ0TJ+VaWPNRn8FEs//NExCQRoSa0AI5acDGCQMyBJEsVvUkZJqrrdBqlop1JUX81B4ce/7w6Eh3io361t/+8hHlHZ797mCrEFmxymsyQQpHNiGAPfjMuoDRko3y5qPI3I5SlZoIRAA0a/2ax//NExDARsRqgAMZWcPy2r+WKs+5Yd62oxDp18V/yrLm/6AEtjGGuRczvVm1Jun0DBRKmlHbtv1o0WByoxK6Nmsz59Z85oOQmF5QklKb0o0x3RjSwipYpNaFP/9yFCEh///NExDwRwPaIAMvOcN1e9X+n+oY6mIEKU9sSnwEMW3lJoT4Bmn3ncnanU7Lv4JCRTSfPxDo3wACKCE0oVDDry4XUyOYg5kACVp2qcLGrTYxtVDNH1X0oepx8LRZwUZ2R//NExEgRcPaMAHjGcFnoWcRIsR6AXcmbd25SX8ITuREGIcWFkz2/hs23aIfJ6ObfyiDllSvwy7yEdObxZgg/kXeZceXW8XRUVr9rTv/7dlWmoijC/eFQQd1GNF5zVjNA//NExFUSAV6YAMGGlLbUKonPmNht7L4mpvK3rYfA8gn52SvOxN01jr3TEdwBgiNqHVaY8SHhyflw05e6HF6a3QqqgT5WVVKscOtwElAkCnyocN1TM8hq682DO9aVOpxP//NExGAQSMacAM5YcNdkKxn+oEhHldCIJsMSY+DQjTlBXmd9h2MtZxDb0yx0IdnMN3i1Aun///RVfaQvgakS3qUUSHr4wsIYRBGUhBWCioKDQSTyQQADEY7Qo6DywTAl//NExHESSM6YANYwcCmjfCVhysZbxUjrKFmC1F+UC+UidF3J8hydhB8QoAP/////Qnps0howbHJpMIjJRNyAcvN8CYWYQIPBtRohAaVdaShxh7dA2HUArRUKfVhpdEUY//NExHoSqL6UAM7eTPkN0DecQwgYQRBYk8CnSTXHZ81rP/T///2p/KWLv85ZloeiwHcQQksxCKFKRCATCcJMXB9mrCyNk60cISimsCv6Fg0plt8eLT8fZIs+K1TJhmvv//NExIISqNaQANZecCPEcxEz2cG1MtVuZygSehixeVJO1BMu7u5f1y8bzP//tRsL9KRUICf/////pSpQWYjJpqs58yAXc0YNZcFh47ZCFhNHkws/ARFTxMAgpKRPQt7L//NExIoZGOp8AOawcCmTQZtm3NDaHpU7NLOtcYvTs/a2uhezKADsoAXUNIWfFAwqwCZDWE0ARBKjgGELskCw+kgrXVf/X/+3V2MzhwMqQDYgDI5YEBt3/////QhgVhwD//NExHgdAaJ8AN4alFw1cRQ8VowEHlpjB0g2djIgpoo8aDQOqEiIy/eEOVF2w1d1IFHmSSqvhp8qJf5iivLZOR8PTlYAIwBsfEAQ4gCRRrht4XNBY4Ug6AMYFUlB2FBA//NExFcdec58ANvmlKBopBNOy631XTtbspTOszdMyWpR7XzZzEn3EosI2dV3ZDGxLtIn/McnDGbMBCDP2ASiHkDqIsmgjjRNaZo6iRubK/fy+/r/ivww0tCo+fhwjhTS//NExDQUSR6MANRecRaMfJBbYXafesjVW0ozmz8LZ6M96CMW1Q3/yx3MqoVIk3TQAH9uhegqOImEDgr06lOPCZCEwCwkyKVhokyFaj7VQ20hjb21KJ48NoD0EkUCUmA///NExDUUEZKMANFWlEnkhzyo63NztN4q/i7/dx3xM0a0NATYxXf4sqptW1ScMsVruCK0Un18hakBq0CtyS50eB2wq5paeSrInp2zaro+G9r1qxoNRgLgaihsKJlcVWxO//NExDcTmZ6EANKQlMh9y33PX/8fvx7mzJZZ779BV3///+pVNVMpCl+dEUvVlQwNNeGpDIlBduNDAwB+KMnJscWpmZJJaS/9dLf/R3jh5qhoHJEZKHk3jxMqaAmMJUNt//NExDsSMTKAANNOcLS07ciGv53////IFRxtgK4MAn0E7rSipM79KrCVkt6GIFSec2WovOnbZTVMr////RBMsaFh0BRgcYeKAw9YQrWm3EA0UX94VK/////oWk+LJIAC//NExEUP6R6EAMtKcCl2mxjIq/W4iE4eCmAkBuyxqVF1XXcV13///87OPKmGFzhQHiOGBcJhuOFwjYdNEDJF4Az4OEgmFyQSnu6z///Tb5krcipCOWJLHG0teHAIbCYs//NExFgSkUJ8AMoOcKVL2lwSO+u6gQmvmT/Lvvj/7//R0dxUzOgiGCA8phhSiADBIRYPA2Ij024OrGNE4VBgZ/EVUqZs+JgOoxGl3R2VZWJfIa86IjA8OAYPD2o6vKj3//NExGAQaUJ0AMmKcOXt3v///+z4+NrUdssWjRcBTkUTgZLiIJPDRUaIirFB0NuPfV+tSR1oQgjxLEPSI8JCNkghloQtrIOgGhEJhLFhMs5pxpu0362dkVUUtWWSyxyY//NExHEQ8UpoAMFMlIjVlZQQUKCdHIyP/zKX5//mTVlgMGGQWO/Xpd9aFRkThgjgmCHyUfEfJhxgcCwkC4MhwHDTFs99TVCwlBl4FmcWiqRUVlAcFiUi6sOA4FosZBOs//NExIASabYUAHnGlEIEbHEzOh7V//zQt6IC6ENCASYy1VTI1JJU0VIQnyODEMgVFhVIYD4YUUGg8CBgYKnzjM+cvdXkCVYo0oAwJYzc4cZNI6lLUv/s9JTPg+KS8mge//NExIkQsFH8AEmGJEAEfSsTowETCZ1JqgEgE9YSDh48dkg6CoiKlgqCoicIgqGg5UeO1u9pHK5YCutI7FlgKWT9av/+VvWHQViKHRLVTEFNRTMuMTAwVVVVMowMNFNi//NExJkRQHX8AGGGSG79PnnT0ljdeNv+/7/xsIhzyd60EyZMmTJk7uM/aIiLu7u7v//tERF////+iInxELruiF/ERz4hbuAAAAhf+7u7u7iERE+n9d3d3RELd3ct3dz///NExKcQSFHoAGDGJP+uHAwAQVd3OBwMDAxY/oAAGR0uwR4HMIcS5VSp05UOUTNvNa11/MIhCeYQiF/5hD//////mKUuYxqGMYz/UvMbQxjG0Mb//UxjP6LzGeUxjGdS//NExKwAAANIAAAAAJS5StmNmMZ5QoYUZ4KqTEFNRTMuMTAwqqqqqqqqqqqqqqqqqqqqqqqqqqqqqqqqqqqqqqqqqqqqqqqqqqqqqqqqqqqqqqqqqqqqPA7STEFNRTMu//NExP8a8uXYAMGGuTEwMKqqqqqqqqqqqqqqqqqqqqqqqqqqqqqqqqqqqqqqqqqqqqqqqqqqqqqqqqqqqqqqqqqqqqqqqqqqqqqqqqqqqqqqqqqqqqqqqqqqTEFNRTMu//NExOYTSwHkAHhEuTEwMKqqqqqqqqqqqqqqqqqqqqqqqqqqqqqqqqqqqqqqqqqqqqqqqqqqqqqqqqqqqqqqqqqqqqqqqqqqqqqqqqqqqqqqqqqqqqqqqqqqTEFNRTMu//NExK8AsAQAAOAAADEwMKqqqqqqqqqqqqqqqqqqqqqqqqqqqqqqqqqqqqqqqqqqqqqqqqqqqqqqqqqqqqqqqqqqqqqqqqqqqqqqqqqqqqqqqqqqqqqqqqqqqqqqqqqq//NExKwAAANIAAAAAKqqqqqqqqqqqqqqqqqqqqqqqqqqqqqqqqqqqqqqqqqqqqqqqqqqqqqqqqqqqqqqqqqqqqqqqqqqqqqqqqqqqqqqqqqqqqqqqqqqqqqqqqqqqqqq//NExKwAAANIAAAAAKqqqqqqqqqqqqqqqqqqqqqqqqqqqqqqqqqqqqqqqqqqqqqqqqqqqqqqqqqqqqqqqqqqqqqqqqqqqqqqqqqqqqqqqqqqqqqqqqqqqqqqqqqqqqqq//NExAAAAANIAUAAAP+VxtbQOJ/366OYZz/v2ASk6l5pgdACNCL/4pQ6bkE/8sk+RAT2Jz/7YoAXAdIgQwcH/+fQQPoKf//9SBf0////+o9UJu/a3WjzWhG0HkQ5FHlF//NExFMRqkqQAZiYAQkEJO8l8isoucWiYBbJgojAEa6Ndnr7Ft4s+fKUlDJaNtxVHivlEOCaLMXUOt2ipwkoDGhQ8j+McTA4WRRJs0GGMwpVD1ElmhYUZ0sj5RxFLuee//NExF8iKh6YAdl4ADtkSLWeB9SazNiBnMTtdLQ9S2xTWM+nxf/Hmvinn1fPj0luSUj///90pZj9bTuTfyjetGpb3UVqkEf3Ll9WgTeRrubqwy69SzqagOf7+T6xfP/m//NExCkYaa6wAMYelOMXt1X9k8WdTh+nIsW7Er3KH2J2r4caVOvmSJDUzHHv7T01/nH/tT/1xrH96U17TdJNzHVbjDnNSv7/1gE9KbWVYQxQ9Dn1kOJgYhRMUugqJdD8//NExBoXeZ60AM4WlGs3hgOH+/djn/z7D9xuf+7Asbhz5kBECcbx1tD6P7kHkksN01TpkXoIMkfSeggWnD/HNx/V8S3/c3n1SBY9t8i9SkqR5/6mRFV15dylX0DrLMr1//NExA8VKTq4AMYYcKUxwYyJQn684yplML5vKAnfn/00ZRbHCJJAhj6bh6Ac2ORFKhbcf1a7ZilassdWrMUdrHTbj9xcAjmU74uiOS4l8kYajGLWvmEBtFue2w1iOh/I//NExA0UsTK0AH4ecMY6vryPmRpeGdx2kvnk5rva0b76KZDVdE+FchxPzjePifBhKVzxl7Cdsmq63BtH+LZiZzV8/eSg6o3+jcSWFDrBT63IPD6W/+M06obzL7+puXnG//NExA0VohqkAM5OmDKMW7ERdELwAOqBbXLsSbPS0nbWExR/uxXbi2buonMKUsgsVcbPZnDf95cPRc0eLpcwCQeplhsS9TW0r/+dPU9D32o//7PrILjaf65nqgWMniy6//NExAkT4aaUAMPElO7xS1MQ1uw9DcXMSY8zRmzhiZs/Fs/ea1fS0fPmbGXssXLfRa+VHKjzCnpJX7UrP/6oijAiCwuUtlNOJUiKa/X9RBZx9166Dx1hkCgjPt1X1/f8//NExAwVqu6MAEDGufhTqtnm/eljZyurG6Kbk8+oev4tAPGElc80uhTs4Dh5uZ2CyZFuLSsZy1jhYSuxW3vFubkd+5lS/MnynCNNfzYqHPNDVhbjBqBC3RxL9v38/Msa//NExAgRWdaMABBGmW+D11iQ6GAAWcb7nSrFXMmMrZhfB1ukxHLdPqbHLxzLz3BOsAdyoz7rLeHX//27iQrvvdh/4hX5+t9VYz+qAEH7fzjn63REyCivZl6UauPZUlpK//NExBUSSaaIADiGlNx8tSj2xZF8bOQ+ukKuULUs6nm1UQeMFqgy1INOeoKNPOlTE/wERsRXApl1bRg9JafCpcnVA0U20b/BdBOJNFOuLDVP/5Z3ogTlA6shsik1GpqE//NExB4SMQqAAEhGcHGnQKOg2RGhVQdSaEpq+IxUqfFUjQ0lJlhFZ06AoGYvWxnS1CEbY8emWlFNxC6H3rR1O7Ra8/LZe9szay+7v967lvHmX/DUozQ/jGpdgEKEpYSH//NExCgROMpoAVgYAIShJpbgr6zr+7KywlErhKWPf9T/5j29J6V5U64iQTG8YM8NLiEjgJGh09exmAjlkXGpCb9LcpdDisPFnAeSZ3sh1RJCYYBnShlGEoWg9Eojbox7//NExDYdiyJUAZo4AXEkkephP6pvnuXGpIShFGwRW6+71drikUBYIwgFQPwWDmtNfq//EsHhAmQNJMadtr//T1V9/ZzjTjio8PHjhgZVrV66IO995YLyvM5m1OesyG+W//NExBIWGyK0AYwoAYX/t1+TJ2aUoxB2XkI1KucsJDxZBqJ/uJnNQPupGFokMEjOX7/ucciBxbuQWlGDzuLh0PKrf/+OO4cZUFHLiDchyGeuIlRqqUtmrGRF86qf6NQ1//NExAwVgaqoAdhoAF1hUHnNxx1uV//67Mz/+h9f0PnXZSSjIcBmePmo+gnYnCLugSBopSjY4Wl42dSi+3WnvrbrZd2OIHnBRjQWfWLsVK0Pf//d9E+Tl/MqseEQ8JUP//NExAkUsa6kANFalC6nclgAVNgW/wz0AAW8474t8f88/TNzWtAngSsC8E5WgaDsHKnQMx3hzj9eOMtdLMEutNutPsYFwxPLHv0yhn/d/+e94BUhr1gWq/3CXiIYUyGo//NExAkT8b6kANHalEXzxGQRoRLbWdRe/QNfHX8p9H9SHoqauNIOwWs1UmGyPNNFRiJoWXWdGp015iy+o3fs/Y2LpfW84bZbEbPWZdu//rxdetRes5XaB8SXYGSwFnZl//NExAwVCcKgAMqalA6YBsgXS4seoYk/yfzif530/ldWoHoCWJUTUdoWR45j8FzdS1GRLFt87V5vqnS+nrKh5MzVmL63ypz1DqQc//P1OXOQMA41ldXXeZUqNxObe7Ct//NExAoRkaqsANCalLbEZAvFM0oLfxI/39TehfU3pk+61FwVAsUjBFEni1RZjxfMj6LUCb8zb1t6CktJAunYh//4v//q2bAbhhXnf/gykF6p8q0ZBtQGW4txq6yGFtWt//NExBYRoUKwAMUecDJ7rM0v/6//zb/+9v837JGoxx20OcYs2b9jZZsRKK9lrilIkYOCgmPWzDsm95N33JXv/jEkRWP75dSUPjQBMZbxTiPgU2OfNm1yz8vHuP/db5+e//NExCIRWSa0AMPScH9z2PiRn2ZIoJgbBkBgBE8yQws1NrtMq4Fh6aTf79hI6/6NamfQA1I2K0ohDwU6FZYwGYLExpXQ4TDb0fNXXbz7z8S3eZhIR51/OyY/nEsGCxF9//NExC8R2Sa0AJYYcIpFp/p096mfRu955TQ4oefExC3d7zqvrXVfcAhp02RMRQwK2kXOyYhiWGlkqqCo4Omi35ziIch/tTaV9pGVmVM2ZBHCcqqDllbGXX/kt/6Rv/I9//NExDoSiS60AJ5ecPvWVe9i6SHq3+rNVOjPutSqR50AVi+m7h0AL9jrOCBgeKYQqCxHa0+W1KdbCpq+Nq6nuudKAmwF0Y6YKBYyoeKSjg8s+Zt0DbrNlKyPpGkd9G3f//NExEIRkSK0AJZkcCeg7Vpq53mcwCo0VvKaEWFrXdVX3FxT+cy2A9AaFju2MKZLSY8urENjAumIAbwGTTLgYw3D1kRhz3TP8zKVeYrqk8pJus4atX85vlfV9ldWiXgX//NExE4SeTa0AMYacDKxYRKIOokO8tsJTy3qPjAg6cuzuQaWa3Z+65be4ro/wyWWu0gB1Mmt5Fh3f/xf/mJ9Z2wW/7Hb/NZ85KPtrZ6f7KnXc9KPqmzoc6hGWd/cwIiI//NExFcRsS64AJYecFbxqBaoaOzy03EeBpr2rq3LPtoTlZxi4nAb09H66Ne2dYdf/tv/6sm/u3uU1YDeqn2y+2vRs9HqpP3kska5LZdTOkA7xaz90DL3sbcsNWBlkrs6//NExGMSASq0AMZecG5rNmue2RivVrMBHzrcxDGRNGZdQAhCJIGkvHk3oFZS0ywfpqKZFj6a44F3mA+3fRhCX2PuX7CxefqVp8OZoIBu2ihDqkppmsO/h8RNEKhmpGpw//NExG4VUTqsAMZicMlTVDI9VyUe/PabFhSnr+8lgIF5v4LVDZvzMNItzRCNWEBIJ8yUIEUmoCAEskozB7EpNkDobc9mCLLZau6HWm2i7dZtpsa0IrPSccNOof////+t//NExGsasbqcAM6alJTjquOHAUVmpuMrgKVstprqjwo/D1/NhBg6M31ewQEU+dja51Pa+YTa5nyo8K4a1WYa2PFSse5PJIPZ9zM4FpdN0xLzyKSAnJuibrIxok6Bw9ut//NExFMZybacANZalA7HutD29Lzj11CZy6iKL6P////LKtd/Mg0lHlKpOKcEm2PxnweM/daXBYwFqu5ntMhtb2N+AESZ3WVIq55YwwBaWWegjh3GM8uxqZml01oc5bvt//NExD4WyTakAMZecJH1at7NGtd/I5VxeepE+7pd0mBe7/ETF2f////MVccP0VHlJW45A5YmRYv433EGjrm38JJCZSR3qQkKVpyzpUw1m8wIoF+FKMQyGA3yIlEvkME///NExDUVcSKkAM5icCK1HCAo8q9Asmq6BaSTqIKerDMQ+vdLZz9XqFV/////rdc3MEtIEzuPsPTShv2LojI20Py50gTtQi3Ei8iILeUspXWNNsyh6yHik+MuA5Tig0ml//NExDISqRqoAMYecK+t5I3/r/m8ls7zb/GX2wwDLQt/9Av6P1Kl5qSgI8J1XfAfbFcoLBo69bE2KBGDEEFR16gAMLDO9NSEKml0ZM7CDAKdBBJR+DYDUIonKj7oabub//NExDoRiSKoAMZUcNu7bp1QicmYR/9N9VXX6vAsFXOgBBhIWXWEOaVmdJGRHokjSvsYCQmp3s1oDNUroQiGCxngLm37tBerSiQWu4crcLhCAtYWyKAdB8ETv/U+/sWq//NExEYRSLqkAMZwTOczQ8QVwzbmCxY5yQUS2thaYBOEVd9HQ2KB8nWhtkYOE37kFzDQtClszWHMk+EvmsQgGVCt3G4oKpSATCF1790qUZxloUGXrrx0cOQ2qygKCoB3//NExFMPWJ6oAMYwTOFZQLQBEHaX2VBPFHmjl02vweokYypkuv8WgMTAuo2MFylSTUVSJCYcKBv/+7d/Uqn4DlFu4X0/xaUA8CzkzrOm6ga0rhIUkfDs5kKGD3zLNDO1//NExGgRKJakAMZwTBZdpQMIeLhFITMXxzOYE0yczL6NBFWm1l9bXRSQZaCkDouh//0Vln4CNSUFPBAIc323pGtVrq8wUpto+FHH5q4Z9g6NNehHRMGnXiFIpWv4LsDp//NExHYSGSKkAMYacGW5dyXM284/gf+lsU1r3xu+cUu8Cz3C//rsIonqIgHaZtO3QAjnKghfhSvEXRdd6HnOY3UnYCA6W9gss+AssugkqiR+kcFgNUFQE/ZKdQO5WOSb//NExIAR+QakAMYecDbXh7rp/fCsbW60eArYrF//4+rVHkRldey0sbtfl4EO0OWzxSaNT4FKGKiLKhRMh2QlabEYkka7tPBqumF6Yx/JNEEhhwzvhbgMsPK7Yqsa3LEX//NExIsSkQacAMYecFGfbJKO//9y6pDf0A1TVtAiPanbAJpRx8dKLWlcqOi6J/0PBa3IAUhPaYUk1LphnEisvSpGPS0sCppt917XKR3uU+2+txmCrfgm4iur//p/+oXq//NExJMSEPKYAMYecJJjiRdiua6CZVV4A1rq05oU62BIQWtDtUt0/XrygS1KkkpFQPPFcpcuGzLhCNdtZpLbWpKxedqsAf6/as4iKQ/////rfeBJoHf3WHXFH6VoxtG4//NExJ0SUN6UAMYwcPDwJILApF5A7UWpUJuGV5nMXeJrrjxeAXUmKk9YGE8RA7sxzOEqygIhpMMfU7g0H1f//9v/V/////pqZDOx4Th1ngEYDpWnnIoxZNNjEZjLSAQV//NExKYRANaUAMYwcFielk66Yi68xCnHo6CCJmSQUpdH6LkW0TsHCTg3y9liZTQLJC3lItBRun////4DdiGVUhCuPRIDeeSJFU6TDKy/pMx/XJbLGIAVuaHMSeT0sugi//NExLUSUNKQAMYecH7VqxTS7LYbxqPiQktOFkix2RZ5zo1xsGv/////N//////XAJMZUrP8pz5KZEcO2CA0mJqjgLi+jPkurSqFiS5jnDZUpZPPWZMtbUnoyWgp07h///NExL4RwNKMAMYecKXL2qnqvIerzuVQNkXvZ///+N7ZNrv////9KlWQ2SNQCQ6+5nVCoZhmUxwp2R64sNUjDRm3dmKLDfR6wW1x7UX9dqpDSZLtTOSKbR4jiVmV+BEF//NExMoRuM6EAMYecJbxi///9m5WxZ1NEQk6lygpsrYycBw3L4acq1Ss5k1SWxGMy1/JK6Mu7etPXBvV2GRpXiZpE5gviQF+CHAZwaIdYEkQlXG6qVdEiR9Ys/xWgqsn//NExNYSmMZ4AMvecP/vF4DSRcD7FAmpI1UbADjhdVjIOGYhDT1w42VL+TrQpZPGolOrFoGAImKZMlgyC1lQC0ZncN57jIyi/EHOQnI8GgJnxK58GICuFgS78fLliZUR//NExN4QqNJ0AMPecFHKAH0mPq6ymKvPt4YSmmzw/fdZd5+9d/DP9Zd3jrWdmpjVyzw3hjUq9/eEvy3+pVztBhN97//////W53fP////t3uP9/v/O2+tylaQUXEyYiuc//NExO4VEO5oAVh4AJtQ2Mwp1DWWsJXK6LCfPrZevXtvrEJ9b1hPrp00WU/hCgVRwm8Qo6p2Flo+i4fPo1s1e2Khqr0r/+DU9LHhE+IlAKI6zUVIHT+ITtNbdmJSpT5W//NExOwkQk5gAZnAALnU7nEtBSNzJvOY2QVBWYBkudKjCz1MuXQgOqBp7Gg0nN2PGBU7TEQmijx4/yWpOl//6xklSSpo/bE0i1CRMoFIqy9pseGu/BLSBhSDMFVlOkGF//NExK4SIQIwAc94AAMBQBzxYSiEy9BYy9gl3Fjx5w8AKKiYOOcLqZvEuGk7F7REtuhIULHgn//WMTQCEwDJFgqIUBQCFUBIMJQCFUBIMBIBCqAkGAjDCqArBRgsVOg0//NExLgRQNoAADDMcFf0K/1qOiIqEg4Ih4aBoseJf//rOhos8NCUYeEqzpFMQU1FMy4xMDBVVVVVVVVVVVVVVVVVVVVVVVVVVVVVVVVVVVVVVVVVVVVVVVVVTEFNRTMu//NExMYTMOH4AEmGcDEwMFVVVVVVVVVVVVVVVVVVVVVVVVVVVVVVVVVVVVVVVVVVVVVVVVVVVVVVVVVVVVVVVVVVVVVVVVVVVVVVVVVVVVVVVVVVVVVVVVVVTEFNRTMu//NExMwRQLHYADDGTDEwMFVVVVVVVVVVVVVVVVVVVVVVVVVVVVVVVVVVVVVVVVVVVVVVVVVVVVVVVVVVVVVVVVVVVVVVVVVVVVVVVVVVVVVVVVVVVVVVVVVVTEFNRTMu//NExKwAAANIAAAAADEwMFVVVVVVVVVVVVVVVVVVVVVVVVVVVVVVVVVVVVVVVVVVVVVVVVVVVVVVVVVVVVVVVVVVVVVVVVVVVVVVVVVVVVVVVVVVVVVVVVVVTEFNRTMu//NExKwAAANIAAAAADEwMFVVVVVVVVVVVVVVVVVVVVVVVVVVVVVVVVVVVVVVVVVVVVVVVVVVVVVVVVVVVVVVVVVVVVVVVVVVVVVVVVVVVVVVVVVVVVVVVVVVTEFNRTMu//NExKwAAANIAAAAADEwMFVVVVVVVVVVVVVVVVVVVVVVVVVVVVVVVVVVVVVVVVVVVVVVVVVVVVVVVVVVVVVVVVVVVVVVVVVVVVVVVVVVVVVVVVVVVVVVVVVVVVVVVVVV//NExKwAAANIAAAAAFVVVVVVVVVVVVVVVVVVVVVVVVVVVVVVVVVVVVVVVVVVVVVVVVVVVVVVVVVVVVVVVVVVVVVVVVVVVVVVVVVVVVVVVVVVVVVVVVVVVVVVVVVVVVVV//NExKwAAANIAAAAAFVVVVVVVVVVVVVVVVVVVVVVVVVVVVVVVVVVVVVVVVVVVVVVVVVVVVVVVVVVVVVVVVVVVVVVVVVVVVVVVVVVVVVVVVVVVVVVVVVVVVVVVVVVVVVV//NExAAAAANIAUAAAP9TdyzRiDXWv+Lw+dJQBin/nmhWoJ2xQeHP8UF5P/W6//4mQA0P/nfxGhBNG/+T8SUIkOzf///7sKpFIQCR7/+70rAYsn9zdWGiCsGSU7FimMCm//NExFMRKl5oAZooAB2oYcMMLMqIiqMqG+c5Vuy/Gty7PWYdqsdr4zfFd5v74zE1R//qrk+QxDF4aI3haCUTkWmjrRavTyVaW/B3nm9boindyw8RJXl4Go+9R6TSQYTy//NExGEh0gKQAdp4ABNbM9V8jW7ixL4rjV/fet7mjwM2nmDxkykW2Ugn/6EIL4wJIS1C6oIt1qcqni22kPxIU+TsiRXrfP6o+EkKKmWJ8eeiRrorJx7nm2Jhp3NHoD4U//NExCwa0eagANtWmBA8MOA53MQSh+AqcHa0tOD+irQ8lROPEoPxSv044sx1tvhrJq9vtah0idQmu9kV/wkHhg9vU35D/59he4ut4yql/6pKiDwcmYkvYRMDaWVoV+Uq//NExBMWit6kANIKuVbO98BETNwEz/0b+w75R62QQauzAjNGEhyEJ20kiLXyjuoqAxyjAMA3mLvfo/p5tDKSt/9m///+v/6N/ujXEzn1Fz0VGCD91cv3sdwHKgmKN8AV//NExAsT6xqoAMBKvRpIt69rKmy2wh+L/LNE5yhsT5S//li11////81c+t3+jrS1XS7Vudnyot2J3KUnJRlMCIrkcUIYKEznJFCCg44mPILvOj2cdCIWF7GstPX/7/////NExA4V4yKkADhOvMp6//+3X/9f9623vq71SvRLHnM7IeuqGG0dFuaaxzs7nnDUXnjxMoLDyJMcGsuLBWVC4lg6CQYJClQkMIhABEHrDaJJQTCcSx96E7BxTPt7f/GP//NExAkUUx6sABBOvP/m8Ev5f//Jdf/9f6fXRdmdKVZ1Ywyk89HbdrnKfRVQdKvmnM5VB8cnFmGw1GridxHAoXIqD08VlTS5guKGjw2E4kFRKLA7Eeruv0kuJLgSaok9//NExAoUwx60AMFEvNRlMCU5VIxLPYTAN7iACDmkDhXoh0UYAgEUyii6r7v//TYwgHCNX///+ZNHI39v//mdWo/Vszy1auZWM/MZSl+YVaVkMZWlUKbmH6IU0mvlD8kB//NExAoVIUasAMyecSH0r1SM0gGXKDQ9sFmKzRnCdRQlAn24Uh4wtWJAXFW50OcK17+3wrf+b/yxv/mm/7z6x2NPVi6kim8N/P/V8j+0SyQqrp4cphW6mtfqbIWSsGWT//NExAgSqZKsAMvKlMtAz5xaWpG58voCCYcNQxR5Rfc3t4vczHKlJSXrNmxUDWm9YKxNvwBbiLdn5W1IdY0VmNVtDeXo9GOLDh52V9EUfI2M38INC0cF73YXuDShqFpy//NExBARoYaUANPElUK0qH4ZcEjosJuGE4svewPXL1cZtiMfK23vDmV7nbPYn2+YMpJTC2lKAPVSOzmUr///eyIJnaWtD962FDyUi6eJAW4Zg4VAbfZ2+M/Cq9YRBodI//NExBwSgYKAAOQUlPcfRxFE4JabHS6gOSKkrHQX7qKxNxIJndwliFsYVPWXCgLsi//99EI2l9VHqYlqFNXdAYST8Qlb62XTHTY7MPXFLbbwg1HmanceNvn//woO9dco//NExCUQ8YKIANvKlGI+FuEa0T9uXDJr7iQHqLgKHB1xEU2Ejv//+biLNjXHV2JIgiOpUMbmX3BTRoqm0asdSA5+x+dG7cP93nG4xe/VyWVoGw9jrc1M3A+DssZSCyd1//NExDQQmSaoAM4WcA+Kq547+7embn6/4gXDCsMsdQCMatPzjNdrJynR+GcMATQYZ6u4JPRCGOBVcqI8WfGHy7Tio2wsqiUDx6nTcIQ4qCIcQaAmI5m0uOS2/G9Cx8TN//NExEQZWZ6oAMvYlFp1e3ASS8aXvXG7fn1+lM2cp1Z2+23ITwAA6qJze8HXvVVukGLQU5vUWQIcBEaL4hATQAEFIi5wX4W8ubneEnn+7z0KtjuyNSZq1hOIw2EMtq2W//NExDESoTa8AIvYcBQdvt176T1e+k/9rOvxvGj5t+vjU1mEzH6VfWoZwLw+zJjtT1DCPxeuQ1UTtZRIM6kdd1lzB5f/1bL4ZGKqi89myDoKEp8mgRI0CyjmVl4QlGNX//NExDkRYTbAAG4ScCqFXsG29Cor/+xjHJVHZM0EdAKsn6CVRhA22xwthEhwgOJ5KikNDXymVcTX1lbenZLLtmXcKwNgPFc8X5d1la9W9rVpbrzS61lrgdGPSKf+8J0f//NExEYR4S64AIvYcHGVdGeyq3LSMqeLawzZoL7MQoEDFXrnTSqNW2ArpnccMoqS1PLvyW3xjlrP/jdLhV7O5kiEMu8ckmKSWiYSErnb/rf1EfSpAbTqAAhLcplRtOGU//NExFERMR6YAVhIAL7GWI/wkq6LiMmZE909tAax6PuZDGRFHqYojLJcVplgoCIW8FKCXMtDUEs1Mx1SgHqy612mxe1J6p6Gs07WezriairUrLC5A0c7XuLs86WzDp+k//NExF8h6yZQAZlYAGmJKw+ItnwUmsnaiYjna+64fx/Lumdf10t/Lbvt7Oz0V8XLahsRLDViTWyI5/ls3d5g/zZv7c81ZaemKiOHA5+3S6AQEEYDZOnuh5llg1AOC8Jp//NExCoaknKQAY9AAHgyO6D8tXsQQVAKFAvHd/+7vX4CweEj0PL//+q/0rqEqyyzg8ET///8yTKer6/EcQA+BZlx1GZ/os+FgrAZ1AHql+Ge5iHFFzGNAfB1+UMsfyGH//NExBITcS6gAdgwAPIxSW+/K79Sxhre+xH/z+GbHe/+0eCCcAgbCoPT3L1hXSnSdFL3jSKr76+uwLJBoGgqJTr3MR////6mLtfrOpTme5tYZRKCuK/jGzbUMURDJ5IY//NExBcXUbaoAMMSlAgBiI35LcR/F+YsWNs99pu87b335KLwRJgkHgIBdzaFVGhmhejTgwjVgfTQMN/arLq9n7+blf/1/u1mtEyVz7P////02Xqq33mcoYGHsWvY96jF//NExAwSATKsAMZMcEBEo0rGZNMOQ0pkLi3s88rtLTaw3l2Yb3lVsOZOS5Amo4URRSImAIBEl08y8vLSRNCSowC2/+sHHub/6HYt3IBLrAzTBTCmutZE4zZqJmsHGg2S//NExBcSeTaMAN4McEPp/JhO6+0Ptfwx1luWS6mpqC8HNRXfb5AQDpRcqS+dBK1ELHO+Z2e9hz+TJ0Z//0Cn17va0EioOcuRIlsPVeDRM5cCAoMYrO0n02xmwfA6XcCr//NExCASETaUANvMcBx7fv2x9astu967mEA5coY7bsQZSRNMvvbPmY8YYIhA7ydb/IQe/KKV+1t8DASV1TPStU7FjTGW8PShzRLomAokNce+ZcWbGmuvHo3B9fdfDozi//NExCoRYTqsAMvQcBiETh2Cy1hD69P4vZ00hBEAojc4M33ty597uUXHuNsBfsZyQGKBaZdAAUGIyaXKbXdLr3a8V/68/l+69nn3+9ei8BwKrIhgHDw1xcYcyTFS8NET//NExDcQSTawAMZQcKVJQ8Dhhq3dvXWqmN3EXxkabylpp9S65KQFEJgy7cFoG5Wbj+4/qW3/3X5/qJcj4xaAIGoygALlhEpZAZ6oapm4sY4sCniso/+BYmmv/73///+q//NExEgR8TqoAM5KcO3s1Uw7mzE13nAmzaHYMA0CUL2l46YkReWCsnOF59fVqKtCpsoEReaVB6WRTjtDtP/ypie//FUf+/0Xf+2UOFIYADoQGi2H5SQhkwl8grJrLYXJ//NExFMReTKoAM0OcN1rr5////LP////aX////9re/+i77985rH9zLJq7WcxXdCCg8hUDhxV7DzhxCKKiSKLlAoSKCCYcAAVPUojSie/////9f/9D9qMtK6LfRzmvPvM//NExGASWxqoAHhKvV/Zi6MqGnlh0qrmsxdxHPHzCgSCWREsicOmC8WhABc8VBGULF4eSf5v////5f+///4/////2a1tt813qnnui5y1PZD2q9T7uXtLEhqapzqRHh88//NExGkOsyKsABAOvCMweKjcwiwlFROQGxMiUY8gMoD5jQejwAw3KFlqiRqsAGuSIupdgHQMWwBO8wlCDy7HXMM6lidLJ/ve5zM3mR2LC03ghM/b/UoG2//RZI/5Z7vZ//NExIESox6wAAhOvRE/aksDQ9/QKnbyMGlD1Hmjqv7x/xP1+nGBGaqiM8FMHKKhhrkfa9R8dNzrP0kdy7qlrd+pXtML1bM2BGXAUHYx6lc9u2TedpSs9Tc/8vz8ESmk//NExIkR0MKsAH4MTHd5//v1NoUicbX/Picq5zZCJIpUshoUSJZw5SCmoHIk4pYbp4WhiCoRnSYQWbtRa6/WcdjQnHScaA+PcUmu8gG6krFRtYpzHqeMSogElrLW3N78//NExJQTkSqkAMaYcZOAsSlRFV1EVZLJ5scRhtZxU2gDyEuCggWBgEGAmMWnF9vzazYDdvfNT2NV6n61Xld6FYflLKZdZ1HU8XEN/rcB18QFTn3W81vfV5cgK36yaTLg//NExJgTeXacANPOlCqCIVH1cnPg9llAFBjoh4sBUPmFK6h9yUm6/3sSJH6//y7p4KM1eEi2SNtIs/qvOH03EKjpOo1F7hEGzB8HojjNH//6dTyrpRV0KbElABN/4u4k//NExJ0SqRKIANYecMD45KgUqEhFBSc6BKkLcIAgo2U0KA+SrULUn48lnkCOZoqHDrcRq0S7tUcvwfHTUwHXI/skxUR222f/////7qlktHSOGGlcXhsKDB4wcWmWuKBq//NExKUR2W6AANvOlHVvQlk1QNBTvUaaiwYYRD96rqmxXrfLPWcNcJQ9PFxQqbl4//l7v5e063QiA+Ez//kFLtULRAuenOgSk3JBKMY5NpGhwsjaEKN/qg2Vhk/JMVhy//NExLAScQZ4AOUWcIRF+jf//72w5EAUJUFgNBxJp77VO13rSOSYLnlFjDCBDIRVct0F7F85+1u8VBBwEc//7KneusoqjMhyIAM0wuSYsqZGU0xrI2pKTJVM7kZTNoKb//NExLkRIXaIANqQlEVkM5P////+1eRowsRAoKPaRUT33HR9OWQKWpY4fUU8Y66sbYYT9Hl3v//1VZu9TuQAl48sft1CQ0aDsHMKe5Qu8NRj6XzB3/yeRvP/+eX9hapQ//NExMcWCaKEANqQlAGBhlNxPPbigYjUiRmKijCzVrJS3VQu4JicMjlfQK+1n///8yqUYamSSWRHX7QQLuMuhF1Dz2K60RfI/BNqI8nQOfRW5/ZnjxzZE9fHQTQTLHWi//NExMERyZ6YANiQlBxAeW0heHt/WVp6/+NP07sb+ZmznWaM3MHPs8OI4jFhX///8lRVjXP8gQxYcwWQtUAIpywJjvsrBJnjjaRZoKF44u5U7y3dvgd+1GkYl5DvDUqK//NExMwSmXKcANCSlDVfnyUlNwzQNfFo8tP953/nM3+c3+PjV93kDdHcxAp6w49P///xVZTvKSjq6XxhxUyahmtqbEHwVM1lyDxlQDyOgVbcC6ZQmmVL8wZzxnLTRFgE//NExNQUyZacANCYlNHSigwnhSTZYySeUUCmKSBeWdQ2WlatunZ3sqxImykq/QpOoxg0v9X///TrUohjKGlgRnDk9hhc9FA0T7ByuvSfqqXli6AUnL4nXGOPLUTCl0T///NExNMU4ZKcANnelBqPupEHAQ7ieAOktRUOxNkURPyWomYI+PRB5WybqPdSPTVrW11SWc3MC4bMLj0iz1Hf8j//QjYjHAENpq2Ey4RjQ0VlcsYyowKXgkdQ7Koi4inO//NExNIWKcqYANnalCYboqikuuIrtjZ+NuotoeEYWLl0zEyNLpFJtZ7k8eJdZJMbru7d/9e1RsLCIBPdQhokNkPov//u/vLVp6SvHTtaL9Q28CHY3E1OJFDD0xX95gQr//NExMwYcaKQANtalCGfMKT/XZuUGwoBIWyO9V+2ORV2m7Sp7///55fv9Oairvm5m2St0UXDs4wOBEBwVEYBQQRHFwWC5jsSH5Z9QYlOQiO4uLh2DcG4uWic3Iue63UC//NExL0UWYaUANnalJRBgofcGFh55FsswlFcE8GKm3CU4/W1t2Zeip/3//gziCre893dt+7YdxJX0z39M/3dMz1L0nsyCYJfJjS+JNfaZDfLMLbsVeJChISXAJl0tnxY//NExL4dquaYAMiQuRtGEJSo2uL5ZMimWtHZKH9mG3FGFQKC02WFhqdozQFx+IpIdQV75wHBUL4kPl4snhfnkkL752uVFOg7naZ//////////uJ+2n6nX6a2eRiKlzVY//NExJog8x6cAGCYvHQfJWeOdmRdJtXMHwchKizA2GzANlEISh0KCdg9FCBHEU4ecPHBE1FC44a7UguIsiMUzRv/////////////////Opod6HPOU1GO5zocxxyocOjU//NExGkSKxq4AAgQvcY1Dnms5yoNnqxyK1HYRgfDVh4FwlDzjo1WOkUOea6sc48SHTZVPcC5A5eckHLR/yXHKrtc6hSSb4phMPpom21s2/5cecZcQ9b/84sXufVNdEK1//NExHMRYxqYAUI4AX31G0/pqWRDRpNMji9XX1dOimPOk0+O88qaVa47ysdw+s/6+46zklyso2xdpaZmpgQg8B/Hl54dpLOzf9f//71zM+cWQYea+v9FcNy+7KGDqSNA//NExIAgiyqMAYlYAOrLKm0iO8QgCB8NDUfE0jjKv6//5///It//7fSQgRGVt/nT+tFUgUz1ch7HR2RVOysdnqjukM+977HvuvZyxFlt9qNYartmyh3BflSvK3EA1QVk//NExFAQchKoAcsQADIlVy/dC4EsCcxcmO+NpLXf8d83e+M3JZ9qbT8lurp3qvMZSI4UTzbelk1KVAIUItt5I6+qv7uJulMJ2afQfA1bawYB2RUwcMKnEjRpnD+LdrRh//NExGEQsY6gAMLElNiET0Nxtw6tvNfJ+wOAUk8nryEf3mFqem09lf+mRjxIpJQFHq///TVVgY5IwXtoJBkZEXQJmbcl0C/M+1lIc7xQhwVUfmHaBShxoel602nX24/T//NExHERiPakAMYYcKla3hzmS9ZVLq14W83hcThoQBpQbDB4MU/+1zf7lKXKhIUy3Xog/g7Yk631WRUcA5khRsTuwEKkb2pTl65FOpHl8qeoNAC8ZMHMDiRcZkmTKOn1//NExH0R+NKoAH4ecKVabaPP0jAJgd4tT0262Xaa6n3sPE+9LsNVHyIOoMaiSkDblApZv48gwD0y2u2Vb1eYRVo510wtGJcvEqDMihZEJyZmBOIOs10HoNpmy9J0zdZ4//NExIgRkRKoAMYacOTqP+67TTXm6AlI/GdVKHDq2VLJ3JmS/KeLCKKz5xNJssnsPEyeUx5L6HPhlCHs0Amz1tHyX5GP1yqKVeUpb3+aa9ong3j5pDnqC//9Crz6NcOy//NExJQR2RKsAH4gcPgKpNU0BdyzYQpGUthYITis0y+m3xyapJscID/7G/aVSx7ISli7YLEONYPQ6Xs987FfvUfNF+XamTt/1Vv9NaTKqOxZrlZHWxfsFga1fMYcy/GI//NExJ8RmRqwAMYecKGREbPTxPn3B4r//Ut/bG7yu7ElrSw83iQIsGwdYQQJkFdHO9ayckflb+oLFnoeUseUirx3pbfJsqJufXni8I8PLU0DuRL3dFD+j6u4z2snvnDh//NExKsQ2RqwAH4YcL+I2uF926tz+LPcJJydBCDdFo7SRT9aZNYiaT0UTzBE5R9jlJuWZCqCnUpq1O6IghBXYsaAXDlQHSgUCMoG64AfEVI8nCXTk0Tzoo6zI2oot+/7//NExLoScS6sAMYScM5//5me1ZTWCkSJH9ztmZxtnzJHKOSHA1yz8s8SgqIv//qqGRhrQiHDXDk+0ZMSCTCQUwCtGq2hCgCVRdWheyX4BEnGtxOtWv/Ra/blmU1BERdW//NExMMR2TasAMvWcK/NmLgEFURPUDOLJPFiUV6f2xTXApFOHloClU1cRC6ZnAnhwwxARbBIOAyUMBhMhAYcAWQzrby8Ug9NByhJQdhO05kPOYYBeDsamGTVPVWcXjQX//NExM4SkUKUAMwMcJi75vV8qTB+LgcfRt1Z4TpB2XGgT/p0/cUA8EtzAdjIkAH/t0pVfvlCAPxLJgvEtAflyA3/f//0+28RxLcH5Mwbk43JqpuRypB91Qeinchid0BA//NExNYQ+OJcAVsYABG+WXpTeDn34ShpIOoeJ8s8y5GEiiaV82vYlAdEOWIIfv/jyC+BDCBOM1EQ97w+FhYk0kw8PXqIj/zEQ8WtxQ0ko0OoXO2n+n/+XuhGoIjxl5ht//NExOUgyyZUAZw4ACUorc/X23+lO//f/ZjXBiQiWcJoagzEVNWtMNaCpUY4GpmxxwzaxxShKkCAJnBiciPqxRoKiYQBtAuQhK+/eet+pfZsJWo8ZP5Ua0v53hmOhUR2//NExLQeSuKoAZhAAPPTUM+QchYCEmGH2W9VsyOQhWR1M5z7hqBgw5LMLSdQpCFBdixf3gSeFr/0xr6+/CiuntgKBxQRNC066LjXK30MMf/+zf0Ks44KHAb229RRMz0M//NExI0gGaaUAdt4ANoAZaxoGigPaa3pNs8YllDKkji27n0qwKEhe9+q2SzzGDWGOvXhl/K+q0FtIXXJUqQdwAgUAjpLC3ow0TsLnthTqchrLK1LtzhtqsmULKxK051z//NExF8hUa6cANYelBHNshz3iVrSPCzu+Maxe1YVYWIsLQOZkyGDgsJjDTotvwH///66KrvdRMoZXHewVXNwV/rDxmRCHJ09KIRBIV/3rjdkI6+daGHH7chp38N6pHfr//NExCwZMVaoAM4YldqVQM1yWUseZu6iUqgCnRMgw5VVJJ6uWQVrai2rUTzK1pYhISswrvvrCGpoZj+0c6SqvT2D/Hf/8v/7hCiXY1HpC+EzMcpWpR6ZO4YzrG21ORPh//NExBoReU64AMPWlIlv/MF5rcGLG1XDWrI8E/QgIN6JqdW2nWTPbv5rc5rqhypyzyLDTAl/sm/T5u5HRDkwRr7AC05oyiYg0AzN5djKY6RwvTFibxt77eDNT7VEODoQ//NExCcSEUacAMvQcPaC4fRlA2O+w6Ealyh/NNf7X+VfjAVCMoCnZ7+CtKCrpFV5IcZgX8MAFw4mABGAGHgwLmHgYakT4OALz0cEvPAl7faK93/3V0vC0Xwtfja1WQeO//NExDERyS6AAVxAAPkleag5qpq+Z/+DjIoe///zv/////UqlZm5DvCBuNCC3IJVluASDJRacyggYmX2+UxJXuJVaiw/AogLQFwQTVSe5BBWwUsJwt2dPd44CgJOALYH//NExDwg2yp8AZpoAJ3d/vjBlQ8B7jnf//ErGIMgJAIwMAFz///TL4LYIwMAsLeFzMP///zQvhcDNAJGJmUzxfcYP/////N5LkwoEgSklzhoOQuGlYClkmTIp0i9SBvF//NExAsVQfq8AZgoAHaggQih4/d+H55zFZkAYVHh0OoV6XK6EiY4BjoBWlOV5TFmN7/1Hh1Eorfs3nZiCaCol0wti+pfEVDo9B7HDioVMK/wYFBM1IuPnLURh00Pa9TR//NExAkSgR6kAdhIACJRm/IOi4qqZlugmgaCnILbr1s2cnyv1oYEwZxASFWExWGCdWxsJgSjJiQuxK24bt1Gf9wr5uQunIMgC539CLvpwymU0wOs83rYEFaB0+jIDOye//NExBISSSKgAM4YcAGlQ+BhVrXGeLlZbSum3KXV5XHu2Kja1s8BMcBGI6tQutAy09fK9XPru9k0pnU+cesR/+pX+o0ql0hmhbI0qKs4ALgFaQrkNOI2yl7S2M0TlRyC//NExBsSQKKQAMZYTNluVZbEWlF5iuVMHxVA6SjsSVIKgoFTzzqRRMFWiVwDeGHV2l1v9smvz6q/X+pCJrACkF2VrpFARm6ou1W89nrqwcRFlFSIsA1tHkCjDQCJzjHD//NExCUQaKaYAGCETFjBMJK1F1vLuQy48WEkZxaf6l/8Xx6ydjRVK3SdAa30zZnv/zGsVDIRitKyGBa7HsaGSpVYjUpL5YkqR9/jG2TF/fSn/LpiDQ6SuYRgYqLuFgm4//NExDYRYbqMADiGlOi3e2syWz0eBjugGioYUWUKC0svVbsfT5yhcIBCwoiohqq16ULHjrjoLcd2iZfa/iPD5v1bp1hnfwYCoZtIue+Ot5ibGZi53693iv94OZ5sF364//NExEMSqPaEADhGcU389bbArdTCAu32s0/9a1mGfZHNypGWhH41Mb0a5g2eO93y6Rpcy1rY8IquL2SOv97NNvqt17HvIfigZfx/3kb//vnN3zKI7ru/BNC3yNZAtZ7n//NExEsSKVKMAUcYAXbMzCX61fBK+F3vu/Kq7erCQpECAQF3pGRS2m3dLkwsUcKBWkKmlUbhshfeJsWexCo3rPJpTq1GnCNmqgSXCPSa/jK4VbnyjFgsurkFERq9bRed//NExFUgstqIAZhIAbkKvvsUzCcoJfcnU+c/uG1sv8qX/+X4NX22WYFiirmkv1/v9yuDXAryZ2svoClnB0KDJBhjuWD5kejEKBrwJKAi4FzMYoaANYZTYzijZHA11B7p//NExCUacR6YAZnAAPjDrywc0HEbDH9Oddb9zipyL7cpoduOoKzLVsXsMPlH2b9zLObwzw5lrv93fxr/fvaiVl/Q2IhgqycVi8WlGf63UOxKadzMZByHGo2YDx6aWjRH//NExA4SgRqoAdh4AHp5bCeW7QXy1qookUlls4kg7UPAuy4F+hgzjdGKk0A/hKf7h2tmL95387+/be751f5xB8/fnP/6Biy/66+wQf4BcDyjLof8agdyquLuAjMsMAXk//NExBcRqRqwAHvacDWAZCAdrsIKrdD7OFwEEAopImQlhSTJ5syCPS20FVqqRux9JM45pyf+qVygXFX/QtWXIZlWwB6Rl34iW8Cfz6A2knlHKEMVLIEPTWRIWSM2j8mw//NExCMRISKsAHvWcAOh0G4eh2lyY8LWVM7X9X5rlnui4vedm0tptf/v8wr/roqFleBSvIIMMpdFmWLfqUf6iqtUrdAOzLYgW1v+ovB/Y5G6lccYlK3BIh3EmC3mblTT//NExDERcRaoAH4acDdOaa9S2d0dKmSSZSLXf+3Gn2f2LqX8x5Vq6MHeeiYS8m9LB92o4ozJVZnTjcMAUUso141sLTV9bOW+WtLtS5F6cd3PW6vK239YpXE+/rO7R7Q5//NExD4SIRKoAMYecIaTKu//5I5R/QFantWRZl7JdihV6yjDjWVsv1EXFEa8nEnUdCm25luOxvDj+3/lcq3Sm4A7jXmgKlxht82703aHjwd/M9cSbpJWhbv+9f3Kr4wY//NExEgRQRaoAMYecAZfahVo7U+qgkzRej/bskjGtXEj1CMoCWLFeQHGvuv9LvhVEEumKibigEjIiBnEirOTr7Hai7sJUvI0IGEHf/qfXZTcgsRsq2ET08Ism8s3DMkF//NExFYRKRagAMYScDtVRdIClYCTAwlTKqLGAa+6ss/TVixeSOsYDZbQD+QVUYp9z3B32tkxeo5wVs+33N8WUopbgg1jYpdIJXZpk2hpOepBVsVvqKo000YWHy3uQ9oY//NExGQQ6SacAMYQcBu6pv//9becf4PpEzvYE94xeQP5hrOy1VomoGw4bSz+5VDf//UUe6MtPOsZnFhBKkHy0HDWJ5WRb+4ZZrzssk+q87zDPReY2/zH+tvzNW1SWDGE//NExHMRgR6UAM4ScO8ogfOnp6ZhGl4lhAPoR/YOan0Mb/9dMMZTrgQxxHNIOZrMwA+MOFTKicEhG8SEgSmDAKF4bBBhzzwTYE6BbuGskx3j0JElWV4yR4DWXAoDJKoc//NExIAQ6SqQAVkwAF8T0LUBChRBeUUUB3EiPUKj+HLLh8iqSRLxeLy2V/pF44PY8kmYmnq0v/UaEicdI3MFqtV1JJLR//zYrRZk67PMDfyxKtV8ICUqBYrGTxttWqP1//NExI8gUqpsAZtoABiPQ93v3t0kux3zLL+e7qPa5//57Xi4NuVB0YHIuHiwMa2gsPWSYRMamtIrpveJxYfR07H+n93/6XP80i4OC7C9Vsc3lrGNVMSKGhwMxKt6+Zy2//NExGASKSYcAdhAAHvtdb6I61R5XhgYwi1jCWClBIwIz9Kp2UDksFkjw3q1j/qbZx/9rP1O5ioUllxi6W+qIWNN3lFFERsV93z5d8bvvckbKRV7V1x8r1bVE7BnwoaD//NExGoQUSYUAHjEcC0c1T4hWdFGhK+k0IlqKEVElJrsa/HqN3sjLg7XVel8RQ7Ia9pI5W71VZuf7QAQjOkiKpqt+RuRvtplDq8RLVJm0mbHVRtjVSY6tChsOtpHi5v9//NExHsSOSYIAGGGcAkf19be5nN9Yt0u4tV5gIIwDofFhKjOHhuh9QSjMTyb16cmJEqI1A004OSlgeG1o1oCZihsXDY7ji5QXAVC0YGPVqTwGgJfufjRy0ngMReOjiOL//NExIUQaU38AGDGlBx+wGoRCYhPCpcJOWSPCRSyJiRGyJSQaPeVKgISsGgISkdrMYPdrGfzx09zzvkSQddJEQ0ePdJIiSyJIj7SSeWEpFumTEFNRTMuMTAwTEFNRTMu//NExJYRsFn0AEpSJDEwMKqqqqqqqqqqqqqqqqqqqqqqqqqqqqqqqqqqqqqqqqqqqqqqqqqqqqqqqqqqqqqqqqqqqqqqqqqqqqqqqqqqqqqqqqqqqqqqqqqqTEFNRTMu//NExKIP8FnYAEmMJDEwMKqqqqqqqqqqqqqqqqqqqqqqqqqqqqqqqqqqqqqqqqqqqqqqqqqqqqqqqqqqqqqqqqqqqqqqqqqqqqqqqqqqqqqqqqqqqqqqqqqqTEFNRTMu//NExKwAAANIAAAAADEwMKqqqqqqqqqqqqqqqqqqqqqqqqqqqqqqqqqqqqqqqqqqqqqqqqqqqqqqqqqqqqqqqqqqqqqqqqqqqqqqqqqqqqqqqqqqqqqqqqqqTEFNRTMu//NExKwAAANIAAAAADEwMKqqqqqqqqqqqqqqqqqqqqqqqqqqqqqqqqqqqqqqqqqqqqqqqqqqqqqqqqqqqqqqqqqqqqqqqqqqqqqqqqqqqqqqqqqqqqqqqqqqTEFNRTMu//NExKwAAANIAAAAADEwMKqqqqqqqqqqqqqqqqqqqqqqqqqqqqqqqqqqqqqqqqqqqqqqqqqqqqqqqqqqqqqqqqqqqqqqqqqqqqqqqqqqqqqqqqqqqqqqqqqqTEFNRTMu//NExKwAAANIAAAAADEwMKqqqqqqqqqqqqqqqqqqqqqqqqqqqqqqqqqqqqqqqqqqqqqqqqqqqqqqqqqqqqqqqqqqqqqqqqqqqqqqqqqqqqqqqqqqqqqqqqqqTEFNRTMu//NExKwAAANIAAAAADEwMKqqqqqqqqqqqqqqqqqqqqqqqqqqqqqqqqqqqqqqqqqqqqqqqqqqqqqqqqqqqqqqqqqqqqqqqqqqqqqqqqqqqqqqqqqqqqqqqqqqTEFNRTMu//NExKwAAANIAAAAADEwMKqqqqqqqqqqqqqqqqqqqqqqqqqqqqqqqqqqqqqqqqqqqqqqqqqqqqqqqqqqqqqqqqqqqqqqqqqqqqqqqqqqqqqqqqqqqqqqqqqqTEFNRTMu//NExKwAAANIAAAAADEwMKqqqqqqqqqqqqqqqqqqqqqqqqqqqqqqqqqqqqqqqqqqqqqqqqqqqqqqqqqqqqqqqqqqqqqqqqqqqqqqqqqqqqqqqqqqqqqqqqqqqqqqqqqq//NExKwAAANIAAAAAKqqqqqqqqqqqqqqqqqqqqqqqqqqqqqqqqqqqqqqqqqqqqqqqqqqqqqqqqqqqqqqqqqqqqqqqqqqqqqqqqqqqqqqqqqqqqqqqqqqqqqqqqqqqqqq//NExKwAAANIAAAAAKqqqqqqqqqqqqqqqqqqqqqqqqqqqqqqqqqqqqqqqqqqqqqqqqqqqqqqqqqqqqqqqqqqqqqqqqqqqqqqqqqqqqqqqqqqqqqqqqqqqqqqqqqqqqqq//NExAASOb2gAUMYAD4hbv0/0TcAEFXd9AMWc3DvAMDfiIVABBfon//7oW/ETRE67mgGLOFu5//p/E93OAYsykucwQUGIPjgffiR31h8uH+c4jf8oCD/dNMekASP9k8h//NExAoUCcqYAZiQAFVibH+7cXc1CLkHGcFKAcAEFA3h8yMSDrEZBdoA2AMP9N6DCakm5XN/1IN1maZidf+Zpv0DxeTOXV/29PZSjEInjv/4KAtV5hqaXMnh9eqMjV/l//NExAwVqUKwAdiAAHHCS/hUzGYmYAOY7Spl3gQDeLSEFQggGgoDOiEocUDYQbAfsNsXAOWgZHy0ZqouaKdd67Psk2mky2UipJ3NGk3rTFIsxQvYxe27WjDlMFA1TPCM//NExAgTAS68AIYecEFM/zsAtPnuYNeDgQdbjxIlQSMZP4gmajVp0QQ4H4caklDiLeo7dipTWYOKazbN94t779cU1muKbhOYIO1J3LRVZrup3+rrMBrsss2W6hREC3+b//NExA8U8S60AMZecEfKOi1OAUV5JPGmsgCeORzOgFQEN9QoQwgbkvYSfAdi2oXHemChb/HhvM0xhX33jz41nxZ8agtLJocBIu+p1tezZRopol8awAUySMJdCGoueT8r//NExA4UyTK4AJ4ecA6Z5Ic7NihQhEY5TPiumETuokyp+8+Mdx1xc5O4Q5tn22nKZyLVeHri6vTVGfd5YTbvV307yksF7ZzgBGH4q+aiuarqytX//VdYRSc5vJYEyKDk//NExA0RoSq8AMPScFjm8A3F1RlW2JDaL/wpaax4wnC0LMr8lkMspERGsboiFQhLGE1YRbcyypOCzoAyUx3rRKoUljGXfoW9/52Gbj/dL9alCpRz2y7DcwrcsK7mPfrS//NExBkR6TasAM5ScOo72t/l3nqX+b9qW7kpS2MrRCpoEWxomFRMWI8++MHx2LqEwiDJ2SY2z0CpUkxKy/9yQQHa5Q67WWins597usxSEvWpvX//989jR4bDZ2eac/+h//NExCQSqwKsAMHEuaZcv///6bUS6O/J//OQi+T+iNV2Oc7kP6cl8hGViACuRlQ4GLfwRfExEcmH//////r///nS/////Xqi3ZU6Zrzf570UrdWc6uajGiQLhwSy6KYV//NExCwSexq0AAhOvRseedYwuKhuNxALFNGw+EoRC8wSCY+N5QiOi8fKrvn///z///8//////////p7ms2hlaVs+zGntOdTj7KqSRsfPJCsLig4iao2dlcaDcsyGoVUb//NExDUSkx6wAAhOvA6WF5QRgeg9GoqGpQIhWMCQUY8SR6pP////f///3//////////Q1Ozf17sqpljDWPKObNNNQ1yNhoaxjOQnGmFQoYD8akBaLigEBgaHgDFxFDhE//NExD0SkyKsAAhOvCIQiAHghKioVjUiMFEqE///////xe6///+d////9/7sq9N/syGq3MRmSeaYiTqOhkocchUfPGzK7iqqqNxspAwmKRSJZQOLA9AJHRSI4CgaFQGD//NExEUSOyKwAAhOvOQEUklraSZQw+iZUpx//9xf///////5l/////69e7dLL3YxerfRzFUVMUhikGrEGKyGXIMM4dQVMPCQwpRUDB0YAQMEg0qB5Q6HRWX72UFkJR+a//NExE8SAxq0ADBKvXDXZ4YbY2GTIKcsMWI4neRh2H4txLyW8odXmb1XjBZDEUgOEgsNgckf/+uZPidf/8oIv/s6K7Zat39h1yzuDoKqsc99DMpi2OQAcLpY2r0KrD7B//NExFoR2KqoAMZYTKlUqcf410bjBK00/b0WcrxQGgaplR3Y7CMGsrYMaub73rW3+nv/vlzMCddfbbDDxSn2/qqpy2MDgwjSQ2z81opxXaAiI6CMxQFmrPhEVMGFUicj//NExGURYUqoAMPElAaXOApYps+yPaUSgq6Zxv2ctdvXa0atZ87/Nf/pVev//9kkHPpdF1pkdmYIawsskSiwGaB054wsLPbCEpKeTAUBSA6LxsQhbWeT9F7xpwy/g/W3//NExHIRwVagANYElS1qjNbt6Yhmm3lVx/Df/niVdp23Vl//29nYog5Ri3etdDD/9n+iabLnkMhDiilalOmRyy6JxGQ+qdIhR+oQoBLcEBYc9IoZEb6K0ThwlCGzHgaK//NExH4UMZqIANYElFm7NSG2z9+5Z/6TnPz/52qu5O3/+mdJAAKGQVUlDUB0me3/+cUfr7KU//EzEWsy5fJgbmGCsNTQJW0zIdQnHfshmwVAiDAmR1awjqEjuRtOFic5//NExIAWeVZ8AN5ElEgrZH1rt4I4JPUEaSgwWsV+3RMCMw+5cXsfrDai6UfGuzt30bRyRAOECw+JD2HHcp3mRM8jQ4ouhNRr2d1Y5zWE2MacnP/Lny59TWdSh7CNmEQj//NExHkcqaKEAN4KlMLpKEwxyXQ0rg7AkOCteAhgnfGZeiQRCuzagVN16GA0fWeNtbpYeZzFaGmSpWq+y7XGlsBp0TnZGSWVd2j8NUmRzHkTlAsbJB8dXdLFfNcTyyRe//NExFkbgaaUANYQlGFSYgk/Yrl4EcLhohTp//KJJiPf6aK7BQMgVFViQXTlmQo8GU324CtSzs7AXAk+pxoP6fCF/ceq//HuPKs7owTvcQFDXA7DfPw0DEpVTvMx4WYm//NExD4YES6cAM5ecKfUsOJu0LMeE7BULNBI0Hi+8ThEAhwVZ5/67E///77hz3JqnsrIsk9nVgwjaX1B24oIURUAkXDa8LTrK3Nu6qt51T7xvnXemD7XtbIFvSmfdQxi//NExDAUsTagAMvYcI320SW77ur6bdWpqso9KewofSlYoKPkBYPsZ+lnWpCf//+qotVzFC43QFgmqlOwSZOKrDKnoEjy7AoIWEw4zRP3jtrV/Z+t6PcN9VrpLT7CKBkm//NExDAUkZKcANLWlLwKIE0xWZY7GsxqSkoi2H/a7m+Y/j4u6OWNa9/Z////zeWqn/umW1TUgjhGvaKcPLhs5wcYJpGJdkwu1Fw2yk9H6n72PuW9KX+e5R7AyJWQoQuF//NExDAS8S6YAMtScGCJ7Sni2gRLEGkwSPnhrnIQwiEXFv/8X////6aWbbgaASxSGypHazQBZUbAbCaZFSRYdgFhBGiR/di1yd8Mz1M1fTcT4XHL2lHsiAqYGEl0KicW//NExDcSgZaUANISlA64qk3eRur//+f5///Gul7v/+uJzK8huO4tg4OBJZzx2wHq0YcwE9NEyRVKi2mg6zHv19XzXz8/E1cU8EighBYHQ2acKior2pBppVHX/+dH//////NExEARMTKMAMtQcP//2LcmV419YMLPJkiMo5TgiA0xQCGJqjTYIYCcSBmRZ2Is7mLVGy6X+vfN/yuQYIAcFFxoIJTihRpjjSFym5X8qtH////934dEtTdg0mYyW5V6//NExE4RWS58AMwKcJajBS0he9Yxp8TiA8SaSpLE08cPspep9JJ/wv/9R9c/wsqpANhGug5NVTUD5wUnGjBY5TtRpuVTlXET1tQ//BJi3zF4IXmBmqAM2oZZG6Wmq2dM//NExFsROTpcAMNQcChlT2JGmanFQqUKER6p0+yeUrLOCQBpqHMO2sHaSL3XC6rmstsH+Z1rf6u/0UjKTlSGqwHvA91AWwbIv/1a5hEn9+cG9wII+ALf46y4skQgRh7G//NExGkRIEZAAVgYAO+vUafHYmm0iAhjRX/nES8+meBBIUfpSDD//XeaRBw4OogDo9Jqx///ct3p095JJCZ0wKx4D3X///7NRsRLKvauS4MmGT7N9l/////9zW/rdxE///NExHcfsyaEAY9YALXTVXacJy1ONBQCAQCRBQCAUjSJHGqqn//tVaGN//Qxnq3MYxn9SlKWhihQESVwNf+CoKgq7xEDQd5YGgaO4KnSoKhqBK0v9yWQVcOafcejRV/Y//NExEsO8TZwAcYQANrN7Oh+FypN3mwVsKgI49nc9U+8YEBGJbVgA2hTR4RCTSJ0efYHtqwi8i7ZW6K5Lc1BFvfTprktNQyfyE5Ob82D5EUalD8sQW1TXaW792odn93Z//NExGIR2TIIAEmGcNhxgIH4jCIciyZg0fskg4oSjgs1Ww0JQ49GPY9sq/FZrTro9IDfNa5pBLj8bHG0PF80vBHoASMJlGwmikoqfDP0yYbQg+w0qFAOhwInEy5APByL//NExG0QsM4EAEmEcAjAR0VIBy16UuXPoBm1jmpsTtfaZTzQF0ncOdP9ChXUBDeOT1ih0MCgUxMJOo5km0BQ1ikx9We1JgoCEIdWEnnQqZFiZ0kaFQKRGFSDOKhJAdOy//NExH0SAMn8AHmGcEe5HJMS1NH0NApF36bR3tPeIhKWEmKk5FG4SqY7TOPZFpwLGLx2Z2uNmpeNypZ2Z/9k40UBHxufuzPG5UnGlmXHaTiyyrDICCQr/FfF2fgyKC39//NExIgSQKn4AHmGTF/9YqLKTEFNRTMuMTAwqqqqqqqqqqqqqqqqqqqqqqqqqqqqqqqqqqqqqqqqqqqqqqqqqqqqqqqqqqqqqqqqqqqqqqqqqqqqqqqqqqqqTEFNRTMu//NExJIQ2S10AHmMcDEwMKqqqqqqqqqqqqqqqqqqqqqqqqqqqqqqqqqqqqqqqqqqqqqqqqqqqqqqqqqqqqqqqqqqqqqqqqqqqqqqqqqqqqqqqqqqqqqqqqqqTEFNRTMu//NExKEAAANIAAAAADEwMKqqqqqqqqqqqqqqqqqqqqqqqqqqqqqqqqqqqqqqqqqqqqqqqqqqqqqqqqqqqqqqqqqqqqqqqqqqqqqqqqqqqqqqqqqqqqqqqqqqTEFNRTMu//NExKwAAANIAAAAADEwMKqqqqqqqqqqqqqqqqqqqqqqqqqqqqqqqqqqqqqqqqqqqqqqqqqqqqqqqqqqqqqqqqqqqqqqqqqqqqqqqqqqqqqqqqqqqqqqqqqqqqqqqqqq//NExKwAAANIAAAAAKqqqqqqqqqqqqqqqqqqqqqqqqqqqqqqqqqqqqqqqqqqqqqqqqqqqqqqqqqqqqqqqqqqqqqqqqqqqqqqqqqqqqqqqqqqqqqqqqqqqqqqqqqqqqqq//NExKwAAANIAAAAAKqqqqqqqqqqqqqqqqqqqqqqqqqqqqqqqqqqqqqqqqqqqqqqqqqqqqqqqqqqqqqqqqqqqqqqqqqqqqqqqqqqqqqqqqqqqqqqqqqqqqqqqqqqqqqq//NExAAAAANIAUAAAP9y4fL3GQt/z84HCHIh/88wAC9HfEQPAvPfopIn+p7GHGkn5IY1DAEzxDhSkw0/nnvvBoUgOVH///c4XmnlpL/8gMDM0orOyiHhVQMB3EZmp2Mp//NExFMRKdqIAZlQAInCNFb0AgC2QQJh54Yy2pciIx6jtOJOPnriiFiFeHqJZ71Iyxn8uGSMw3SCNP4lakLMcwhpGGZYGAXWdKNp1oYdTQpHhjIa2N6Hp56wV2303NHj//NExGEg4hqUAdp4ATqBG3LS7x/dkgquL3PU8t67z/v/PzuXG849te+XKJksLd+qmM8LYosTNyinfMLVNdgSVQ8mQ3QfYRQXsS1qmvr7PxQ634bNr2gR/vTGyzbwp0Fe//NExDAZOaqoAMvelK2iSCSoTZiUksX2ViNrBw2MbjNZSJWFBo8h216Rff/Vs+JXXp4j7PpFI847as0aETv////Vz7zo44Jm97Nb4gvRt3Y1MlggsroMEYE0RU4ngTJ3//NExB4ZafakANSWmFiXDxyiSa6iUP6h8kg0+OQS6ZoVhPw8KdIFmU06uOKiwWI9uabCAY6h6rurW4zCrvSplOVW9sLV81/H/dfKj0Gkiz////98sqTf05JGBRpzayDR//NExAsUQTKkANPecJe4WkXo5RB5KxaiNYuR4ya2XY8r4lVzjTW2xy+stU+87WItLrAmyOxrrlQzU9sf4li/Xbn1tUd1aApokgsuVQswwkj/7pPUhkTBTB5kOFjEDA5J//NExA0UITqIAOPScDMIhAwALDQynY4WFRHSbqrZW0nJI0brMimd7vMZyfxGplZXkgeE0UUZnpXAaPxvElfl6a/zyyPW7lULsd/8o+j7pVKKJgJFHfQSGKUyefUxgcBm//NExA8U4TJ4AOYWcAYJKuMIgg6+5FcMlkccFDUn53REF58N53Hvsb+XCxsZ2hQ6L3KLN1BplubDV9KCJfyQM/tMrt6xlJ4FW9n+ki34TsZWqonEpmCiDODrMCxtUIMJ//NExA4UeS6QANPScJ1lJEJWlZgf6yx3OR+oosZQP2xsesSEsbIXOIXLEmoBWMGZGiQjSTadrCies6xfj5//PUZN+JwiTGxPT8nd//////uXfymszwWkhByxKHwS9N8O//NExA8U+T6MANPScJTB0hxD49dp7Mfd+hGoGjugxmFgPyOlhMkXnDiEnl5liUiOobNuOT7fhDWN+bCpJwjrXGgEmYYbJChqh9xlyxUOxdlf0Gv5zsPAQafI8jik29DD//NExA4SyOqIANPScMxeESRFhck6O55XEIQYvG9PhTgGBC9q4NU/XprcnR9XETD/MABjO0tnkq6TwK80DQdiV1EqWzu48135CfVVbSL8ozADo1ohc0twkyQloB3kJdBK//NExBUWuOqMAN4wcJRdYeivVUJ5tStzO5VIBISZdbcNCeDXJ1uIluZ2g7qedtPQxCSFhivakaTjw2rrlye3lbzt8Lh8zC3/pyhcVC5z2S6A69Sm7+iquHhkuZkr0G2T//NExA0UQQacANYwcOAFcE9ZGVyzHm0yVC6XDqj7QcNV4Q99LrNJ1sKwzrTZKpTO1dzaQ5M79yCWgzs/UqOXP51/7/8qOmav7KajlfoFxr2JmOZWBGgGis9GnJEXMa4t//NExA8SSP6cANPecOR8AOJkzbuhht/NC+vNZ2dy165Q3cOaUYRXNqzEHF8T4Tqz8QlMoo8VvO6HGqKuU/8rVkiy3/FyLhLVUYirxNFAQkFHC/Sg5nk4orOE9JlpXIgF//NExBgSiQJ0ANPScDEmfT0H0XquZHJWyUYXT7ecRJ7KZk0CKANCFd1wRbKiJmVqhUGRE0lin//ywif9JJT1qgT17YfgFaDyF8rDOmqMHdWGp/X1sN/l3P8MNLPIyL6J//NExCARMLJQAVgYAAaxBAgpQsxMOqQNa9XBBZ8MCjEkEIdvcYrfcqzVbsbt+OR7diZOCRkaKFptXUisy2YaZrLtmxbxZLXEdKQ92JHFCEIloHxEEO4fBCC0wRhKC8Hw//NExC4eEuJcAZhAAO3HjliZDoscSaz55kI/VVTQ0tNDTH23p5aFp3umYRxqycZEUsDRVhFqEnm/j2LzYprbqRVMdWlfV/fXX/cf1w1RXLQPAtcYPBqBqiTAHQHPeLn1//NExAgUUUawAYlYANadKQTQuo/DSQodNXxVEEWuOSTUTj4EGUHDYEQGBeUGskpjL74yp9NcsidtrUP/87YBFRIlpHcTPnwG/h84z5UOu8///rFv8aQqbeZr1KVnrI0Q//NExAkRuNqkAcxIADzaVfW1Zrc5l/43sp7FPY665oJOCws81K9c00CodDq2uDgTCJXrSBVvj+KF1GlDkyLw69OQt/Vu/9YxdZzRcL4lHOA7hhpfeFIK4PxWtdTA9BAi//NExBUWsf6kAHsGmBsTBACQiFekZmUlEV3jtxfcrq2j4xsfy1mTMz2zUoZQnUgzKotDkI585PlOZf8YKhjIlfIu/5cPScMhj4CApr31//7X6amJa/4BBCT5J7LdWgZE//NExA0VeZaoAMYGlBXKOe5bBrwhVh8UmZHakArFEQA4Eqya8+7TGtwvJ2noSrgZ5IzZqyiNzmXVVKf6sAIfxxZsYonjHC+/l/35+UkMSHn7ND1041BBt2Ajmp/PXVgU//NExAoQCL64AIYeTAQ5mcq69RjUA4MslthPAuSSMHzh+SoflYDaK6PFb1ffhXDEsfw2ckTiACQjf6pUWCakL1U6ddU39YFKM4mo0aZekNA1jPd2IAUwGy1eMY6p1bk3//NExBwSkTa0AI4gcNdcD6qkFD2QDw2ImfUdICTC060aL9SSaDWZaTJp1JGKk3SNkhJ07KsiHSjf2VKVpMf/C2+pyuxbVP+8BGcKBye/lKXgMVI34AcC3+Ny+7JdUZKW//NExCQScRqoAMZacG1y+XQmQAshlDMUOkkYmHrRb0kloJ1ajc0KlRhr6FkNZwtATP+lf/esazdSq4Uvt9QyGm6pFmAFRTTUbYDGWwAHCBRZlhXBAR0iPD+E54oMwEQC//NExC0SiRqQAMvQcNcU2O7+4idKqDmOWm6U1n6qfKt6e/l3dv///n/Jqn1vrejeDqY5a6INDJnfLuTEc5ubsSK34Q4dZXfeFEcJa+R5aPp+YIg8UWXebG1KppCIPjnV//NExDUR2UKYAHjGcGrlFkRiG6GakPrY17Kad4o6ZTWznb+pE2ZGqgGw70Up3bwkYc7ukCJDXBBDIi59bwy3tOrgLJ4JTa4uy1ld+MvU6BEXO2OHEnUDVKuW+R6lQl+v//NExEAR6OKgAMPMcPd///v9Sj1agyk7/aBAicNmGKaVsEtza6AcQOlXx3umdBMoOhmatmZuoSAyQMiqfT2miAAQkGLd3hqVxV1ua7y6/8atYAO6//+hn/6K5e/W5IvE//NExEsRIN6YANZwcFxETp4TIYfFDjyVW9ZyzmGxo1gqGE5SumtPYNJQVD16hZ8BGG8zAYpldlbtsveW/n27Dcufnh0oZDX//+pFP/FKoec328huJ+yKq2TihhnvACTK//NExFkRoNagANZwcPrOe4+BToOIt7axwpwIGBwZvrO7+IWwGSXTLPmm4F+E1oelOuOw3GW0vIWfLs///wqdWaPfFYzT4bpEGzD4MIJb85Emlr+POpQMh+WV8l5jxSh///NExGUSANKcAM6wcLnXRvdvt7c27aWA0XBWOSLKMJ81GbMyLLeFUjv/R4Ctjf///p/4r/////11oabd9rBVnERjF3qgh/BwMKCGqJE10x9+Akh0woMdwjL+23qVgVTc//NExHASGNqUAN6ecK5FNbCX4cTm8nzuKnTxAASAaoaI7nEQzc9E93d3d9y/0KuiE+nl/76YQEHJqCAILvvJ6NaOnvyl12TziK0+J3YGgME4oHpPIwJuCV1GRVSbO+rS//NExHoY8baMAMvGlES66zbLcy9KEpudl3I1FHmTaATl2VsEyJkopJscm3CajCgfgyo81FnE/GL07cwvGUsc0vV0gcthHNGlJSaeIayoOb6do1UbHk7oLc+caMrJfZ2t//NExGkhsxaIAEpSue9l8zfdYjzKSTYjCUXL5OsnGpzXb8obfKRLsRc2VQKbQSHyMpWfr8OesIU67GMKSVDpIRBVVBUas8QKDIUGTAh57GJo/qFCkCauE79IiKE+zXmF//NExDUWwxKQACjGuNSpCkjGcMFLnfPqpIxX6ZX9S+lf/zKTmbSEffirm4y1eNkag0CqDRrelKGX+SzbYDH1ESfama1iJ/SU5g4CA8fV/ZpxYc9S5B3v/C/FOrq1UHmj//NExC0RWPqUADhGcT81X3v0dyj3a/8+f7H4quv/MlbY+TSTb0ozdKgbGgIEZsVrGAHSFtDZbQ7ZcbCIOkT4ui0IhVQIxC6Igy5Bsi4BKaLQEZXCoCaNNhJo0UKBSgQm//NExDoSKMqkAEmGcKoxr/kcj+2rmMVdi12ZRZfRU3TSAJq0iYSKjhtA1mgNE3BnAdTqVRggBgSM9lGSMTclSRUCGiTi5EFFvAzgnyCI8nhwGmwKND1WwP2OKj5GVXw9//NExEQUANacAMvecIgDqxdTf/9Nbuz7aaW9pn5pwTbcbKYWGrIr6qYOJ9+BC0vrhc93oGoUj14RahhtQdUzjNjLhp8OMfwagF2cSqZzfZLaVjG+jN6nVLExMDboLNEB//NExEcTyN6gANZecH//2qIP/+YJqqalmkPQVpAMqunUEgZGU3jwnLevbWfVTalziaPr8/NtIeaq3QQAsFlk0WQcyFbfsUb5Yn28ajf0jQo1W5XBwGWFv/9h3/+PwkEj//NExEoRwOagAM5ecAQJA8xRZVvBhMccDjgCw9J4PfadYhqlp85SvHL6rdZDlUSeUKh3F4AZasuGpwmfv8rL4V32H4+hp17R6H/9CwUqaBDCywRLG8GaQjRQuXH2qr+C//NExFYQ0QKMAN5ScEDNxMAHoB/B1a+GR3TZ6+2BlEU9oMgWvDi1oRvekbb5SW9HCoursWU0VBk1SAtu/t//7800qaO1VVg7amBhm4cqPreaYYOgm6xyqLgCIKPTZbP1//NExGUSiYKAANvOlCI18JuBr+tXrX4u1TWbyaQ8odGtCa+SNvEJ7/C3v6hatAfxcVctAYJ//tCTxZylTLHhQgBG56HlaIRs+AoMzBlLtbtNlF5U/1uWhwga+mJkjAtS//NExG0SIP58AN4ecGAzBCrV0D02bYgEQ6dtnZYAcmVK9Q+H1AxlAhOZH93d48X5ypCh8qBBnOmhej+gzvCrnTsQpmI6f38n0rwy3nT4T4RTyHUnbSPEcYd/8RsMlK46//NExHcccqJ8ANGGuW5rx7S3Hto/zzUnVBsBtRaik8ZR5/xLXlZtyxhMakK2Q3QwiCLs59WtRRGCHFGDCA3bkCk5Uj3zImPh70ShtFHzagGXoM6sdhUoWiuelhlx7CM5//NExFgaowaIAGGGufkcI4dM96ea1yHgAIcrR6+InYUEnaO0dFVO9nrscqm5CpG0FRLbQIAcrohASZuEdPjCYmQ61Pa+65Bz+tuvr7WCr32M/bvk/4W998K7//6/8/////NExEARaAaQAEjGAYdtEhuL2g2zKj2VW3/w40kEPSRvMvl626l0M+RwyVKrJl/astGnIX919/1uWoyux1rd3/8I/v/SdMS8p939YCrd9t/Xuqa1fRlNUlUFFvoxKYNU//NExE0RSOaIAGhGcXHGXj5NZ6bnfVTulBDXZeZ4i0fBHNFz1Y8Q8P//f8e0QQgLYj+eAbu7WH/5n9nv//p7ugBtI/VX50XYccQ2XmSsdFibljhHIXsKgBYCMFwUgJgK//NExFoROOqMAChEccbToX1cLYHlSkAAWQIBQcCQTIWJcvAkLEELOkje2+px5LiUWa9UbL7uwjRs9X/Z/63VGVcleuq1a7MqYi4igrquLLxNON1rj1Cz4yAUtqwafC0I//NExGgS0JqgAHvYTJkC0VcvqgGNkAUOXLDKyCIK/G+XHaz7+5rn/93vV37e1924QWgg4IYi1e9X6M5GkFxVbyFI2mguxWXTp8ZSQEjGa6yUSCxfDtcRRQAXK0OJDAG6//NExG8VuZKgAM6ElDHEIJgMKUixk3TSRhzy9/6Wcz/91Xy+RzitCVETKlhFC7XKHn0PnQ8bn0rLv6mzRGmb+USHKGTTtaVvkGiHIhp94aMNGZc9kuhJAZEqLtY3pUu6//NExGsQqK6wAH4yTPa1qVd//+i//8r+T1b29OgYXmODH4Y9R+UB/lQ49b6nRZkhx7/yU0Leee3dENGl1v6qgbLL7uRHtmHMMht9NTwwCPHskr5buyH//VNz//Wf/+f2//NExHsSuWKoAM6ElPL//ohhBGQMD6iLGpMCIIrRWg+tO6Ak0PSqqZ6qvUVNGkb1i7QTdK7lIRcBD8DLChCAXCQELdAE6g84zAt47AyCBjBYwjuTQ7+oyb7eh9/L/6k6//NExIMSSU6sAMZElBhKirFH8nq3a+iEOd6s/ZOjnXUY5+G9+s38MMYjI3cwTLOjkaj143QFh4HiegMCSCkCHaBg3AHnai4jhPkCDAQOH9yiVvMm9fof1J6P/5l4IK2h//NExIwTuhakAM0EmQxaw23BjxTG5d6lKf9X9Mv41a/d1rIhPj1S3jdZgKaFtWdEaHUA2s4BoeQpieD4gMWgGRKSymTopIlmzEwfqW/R+X////ysrvBCyN9aoqMnZUpb//NExJAToUqcAM0ElbGSbnsQhm/bmFHjKczgI2WQt7iA4pCBSt7KVKGmQuBrRa7QLRfiHo1N01m3Shp7rSP2//4iJBMN6ahLYDMUK1sfLYilr4hO//6tqWePRCoqCWAo//NExJQReWqcANUElEJGYdJ20dxaoFRPZFdsFQSFBRs76OAwdPbK0Bo6Rse57+zrAqtrdumt0Uaz5vv/V+/5E6JXEVDDwaoBbWaXeEGS2qanzn53+NalzFgTqTm1c8/s//NExKERgH6IANZwSI3dctlnf/6ciejL1o3q+/P6ucnoQkhOqN0aqNQmmRSLyL1yTnnIUW/wH6zH1QAAif2rKNGOZatKEYx1NRZlA8MjK+R8uRl2mTvyFFHtf4vKXvKZ//NExK4QYHZoAMPMSCYvm9P9/5xr/7+b0prdM3rvWM3xTMTWKa+v8Vfx9wGCJRnveHHeazAnp5Z6Yb3Peqf9srfCsiZUkVsiSOacgxlY2wmFCy7nklDTc0+5wGAha28S//NExL8RSuZoAHhEuWqjwEnQdMS3Bt/b2TbvXI68+fq8u0IrGD3NKlVX1epHaZyHRd/Od51n/fzrVN53n4xnd/W/zuBSTFs01mNLiLArrUTHqxx9uEOCq1PEc1Yu2NXs//NExMwgQyaIAEDevO/c6riZXzZOxoQxDIiaajdG4TA6TyKm5oE/ej4Ro/G1XIeW0lw51QehqmqQ4WYJAELE3JGWwTEnJRqVyd7Vf////////////BZ///////v4/6dK//NExJ4iEyaQABCevLnqbr47p9OeOUq9Xd1NMSXKUyhBZJk9HZFFZ1uTQnEghh4DcPRpZIhmKHMiDjrGD4NHEqHSCAb0wBRc9C0vTP5f////////dxyT////8u5fvvCd//NExGgSwxq0AAhQvY2Yi1Lu3wq9CCFrKEprAwZjgbZ1IExtHjielggJrmFUqAwVeMykw8CfFIv4Eqms2wg66rXCa+MhCUMWZCXLN71RM0KAUVRoyNa1ECys5ryogJEo//NExHASeua0ABhGuawoQvYbqamEp7UvO71RnNd0MpS//5tkOAos4KlQVCYaLMZPFgaKjAalq89/s6vyXTXe6gy9RCM0ghmCaJMtUGBHUTGdEMXaKsZiUhbAlw41NTtY//NExHkVmZaoAMJKlItTOg/MSjUFOoToAnAqHQJE4EDs9E+NcwSCJHVDedCY0JgW5zP/qJKHJyqI5o0ViU6IdbCYaTFNe3OCC3elLDVOeS1cY8C00yX3ZLUqITpDaj6C//NExHUSaNqgAMaYcO9tqDDFWrTZkI3NrRBOm7gwhcsJy1c/D6vLv//pmWxyxu4rCtWhxrZjjCPHTKyUDMq0ziAX0kBUBK1Y3QIVVDMTJWAi9JPBYG9lRuqbFPm6BvE2//NExH4SQOaQANbwcGjToqBRqGW7P3EpO6UKxsfSuEUtp7MaOGVvwlsAhEyeDXyLbA6wuZ2JYNVcK2ZDLOhVm8cLUJCQsUwc36SGEylWD5APrNpBN5BIqPEE+GHpu79P//NExIgSONKIAN6wcOkh5BVUfgixCNTI1VsRgOYjmkIDZmUasfKYMmUNTMHgsaMCE1wyiosEwmNElEAwwHhEgsSFw8mKnoboC4hewgmxDf+Q+fLSlAnfyFUc6TUd6v7T//NExJIQkNaUAMJMcLmbOrfzGtmpWVEhRNywwos8UrM3yqcPNStuzRlatGPM78BlkFeJRDcsoP67b8Dpe2//J//8b92uDbW6rKax/k0gUdF6yFSqD0lYfc4MiyLOtzS8//NExKISoS6cAGhGcA04piDKg0XNHj54DAVoBAQDJtXYTChci1YdW88fCZIcliL2H2lRZ19CuhKbR7VPdveWrSecZJFaCWSsnvx8pfIBAmZvzL5EIqACFuSE/EEDRBBB//NExKoSmXqQABiGlYjZK03P3MJExwBoWBBqjgYAEeZm5Z91LpdsIImF2pc2tYdl3m1gBty5xIZKMJ1dTXgiPhXrxbEArQ1ZvD8XbkyQ3818Zj2pnw749/CqU2J3QHXU//NExLIQ4A6AAGBGAOhif2KuxUwMzh5g9IReZSZgVHW6szPCtg0UYsUXqs//7P/vWtxmzKRhczwEcmyKYiM0zIkVhZxaRPh2/TCsCHv6RoyxGrh8wx8fphO5Y5V5Zkuq//NExMESKT6EAFBGcL8hIQ2vaIgBQgcWi+XDA8JRyVDz65eLr/JvSuJwKPC70fSkMMVVs93kmSaAT8vPecE5K0Wn43NCfPInusknj/qZXuH+FdE14Tpnvjwob/N3sJ5E//NExMsSKQagAHvGcMF+UcaO+RQgYgASAgDSMCQS+bl0cpMNElG6Kaaa1L21WUutbKbSpuu+7VvV651TBlL//spC6dk9ieZ8DRx106B9JmVAhCR/aojFlQ6SYzbou44X//NExNUVCSqkAMvYcDncGyhxs66/c5OjIghWnZEE1H8nqmj5DTFRcfJk+RVt/X6ezdmZ6fn9tmTbei4VGXJxyyOW9/CnMIBDn8Ytxxl5oigHDzH9EBAwjD22ZCZqvf7c//NExNMXeeqsAMvamJ+P/21k3/1+Jr4tOqGppheB6G6TgdRDDsLh8kRAhO0kEyVE1GALjmZiJ66Gox9kva2g72ZSZ4+GwJNaxULur/////rV13W4CChoObU+NCwgwVg6//NExMgVeaawANLYlEx59VywAYwoYLfvdwpItr7rS3utf+CATXscHs2EmKmjoWwlirqYAYfrTZlKeu9anremU7j1px1t3o0NFHHuQdEAGYHxjKn3/////9ilw/Wb6AHx//NExMUYkaqoANPalK1J52IucfNLXJX9sUDHVNMFheETTHc3fNrQJgkKzmIYWhEaKxEomWldW9vlaPQ93QV+Hn6v7bVEg89RMKJVU9PsY2dM6iYjqb9/9ceqq8wrsYEC//NExLUW4T6oANZYcNWare7ywwQ4OiSl8ooYLNskgpmW2kp35paTkDiypZKrL/orslvYUlDDUatb/mXP9FL29b///UlQoUo31VrCTR6P/96KqTv9EQQHWhuCHLMcEPio//NExKwUibqgAM6KlCIM12jbitaZpIbXOyJxsypgbouLtrQ44SZBzXOAL9+7hJyJN3NDF5o3ZU3sCADmhrm9tcVCtYz9x6TBmGhXGkmJHnNUKSjLxjCFYr9hwI5Pb3Py//NExKwSYVacANYElNx+vMy2r9y/SLRE9CSoTK0uShohE5w9LLLzbbzbn9vMn6q2FILrKjAKZYzriwDFj6WkxqJlhzncogY5CdYychgCB6OtWxT3+bt4Ws+8y3hvHnP///NExLURGK6cAM6eTPX//+1UqVcRERosJB8QBA5puKLWGGaQYe4sfc2z5Sfahc7klC8acNxwwbuqB/S7534hSYGHQRy08q0wg1F4R/++EN/vFEEWC7Q7wuCwVEK4Xc4u//NExMMTcTqgANYScCpiCCeXS1EDwgjcTpgmsPv+04ow/lOYAa/6RRsUMm8RXs9THvonbfgIN8Twl1FHcsugy/P0cVBwKBHC4AXA6MRFhVESJYN4kCcRi0KpMec6Ipv7//NExMgQoSKgANYScH/7Oax5Qif+qDT0VYhjEBGdP9PNoaYAvJLzBoMibmKQADhjvx1oP8aRa1JHl51w9/Nwv9vvewmG87UWwy3IdEirSOEOgm8ZMJAgW9BQeh6lEkTV//NExNgReSqgAMnScEi2rq1q/R1PtrbM0Wt/191ss9Sqm/mQKpnacYKAZjASWxorgkyOEKYSGByYKnbYhuvOlfcvlu1rXevxj7YITXgocXhTtgVqn5tWKihuq/PdYX/U//NExOUSiYqkAMoUlPR//2jj/+Gl1ZDTxIy5UcJ4R1UKAaDHcOLNBI0i5IBETnC+CozN8qZGKe6p22bOotnPVVqeUwyegqqpLd1AIJueprkADzbX2smIeq+jlEHyzlx5//NExO0WieKUAN4amAB3Jpp///9VIFZrp+vTvKFGKqKTwKaCSpQwyIR43MJfsgBzFtlQ1YZ6wuqzymUK1Ttmn+wCuDDJsj32voN9fWrXghL7GJp+CMbk2V4vMypy3Ual//NExOURyO6YANPwcBChldfs1hzKpowQ/+UtW7/zIaqnqVz5sSO/kBm1lquTMIpxH4trhuBEm7F94h0wxT79U5aIfcbUqCk11a14FuGHFZIier2knoiUWe58LEC4uHgu//NExPAWyeaEAN5EmTgTeCAYD7jU+CCw+QMKKAg4TqD//2/PqcXL1YhTtiAqEmrz6tdlVhSpg1fmt/k232//p5y31oqsxkorKwr9ZrwSFTpKu35cPUchFDBQmnCSuJMh//NExOcU4P6EAN4wcHJD6bbkJ8kTSXmeFBIpNdI9NgjC5oAgVREKKBSRRMNlCS10n5FuENxGu2jnPwmjggXnMjNwhVEAUMqGDo/BTH4vq/R6yjm9vWECd5zbU8rzVf/8//NExOYWiT6QAMPQcJRf/5SKHnK9epk0cgUf/bHznOYVqSTw4uMWxbMW1Hr2FDk1AtBbIzC+uudQWhSV7RFYXI+2ujSXKMh72RMqg5jNQp+nnM7362zqZ23xTkOtqU5///NExN4gMxaUAMCSubShStJK7Tq7qul0caYZDIV6gbIwhkJRMKjgLBxyn42MhvtxyKEb6IVr6bZf///////////l////66+q+nVf6F7MqM50MQeSoeOIFO45rGchY6ZX//NExLAh+yaQAEBevCnFRoSEQkJHCQeE0F2YGHkKLIBjg4KKqQSLvjMdTlzWyeD8Q8uZPwkZx++OeBY5T9FIkjY3GyXef/8oqz////7KyP/K02Xv0WVyrKVl5nq0K7aU//NExHsQex6wAAhKvDGLcxlqxSlLMZQoEKNlIZZjGM8oJn8mplkZRuYs5ZAeNMracECgYOPVUlDfMjUXKiZepiP3y7XpTPqCebMxuSBgNHBlBNyWRM0lWVy+9MzrQJjm//NExIwTgx6kAHhEvAZEweCkVn2ppp1f6G79OZmBcacW1rdjO8KHEPOWf/+xKQOxSKfDgyRKL9G8YyKB4NM1NMLPjHu4cuojxZkxQN6JxdY+KqM2yc2Vsy1FBjMngqhv//NExJEYgbKQANJalDhPGw/WRl0S9oq1JqZAvIMsuF9NBn0uv2/RUpaRimZDf/oPiFpL///23qWzVqDscm1L0WmIDhwQZkhrhGJcAdUsDAZLFMZI3KI1B6JJ6Oo+9yWX//NExIIWYbKYANNalJ6jNWRpyHgKiwRLiUnx/dmr8//PJL+MZ//2VP//nv//+hV/LEQEeGHOURigVFj4w4tyuJQ4JVS+9BMqpdxwoHWsbl7/rvd3OYq/NXws4SilviJF//NExHsSUT6QANUQcNjJeTYJHizPvPF1K30Qpxln/7P/////1EJDuuGDZCDhc+XUmDdYMEANhtVoLmzjHVudpmcERVv7VnHkd1+5VWthv1ENDhDz3es9umLSPveo6iup//NExIQSOTp8AN6QcN4KFgmK////1////gzVks5AxoIYsMlr6GBGGXCQGywss7163DMmtKBIP0n1VDVbtdbabdN29P/6Iinv9G///o32/znd6ET/ncivRkJ/6iZ1dRdz//NExI4SCTp0AOZQcMgcD4fdCEDioLkEx8Ph8PiYAChAEABgEAjQFRNElITi6sXHSGy6vvHO7mAGryUdY7vlfVrLokeu5nECa95fOEU7Ib2CT59796a+vT+/1el/nM+s//NExJgX0xqIANHKvW/iknxDt8Y+aTVx8RJ7Q54mIFf5Ht6P4L95TXhRZ7Onj+LSLuC8wqFIjHRb1cSxOMj+7FBYJmZGGUq9oxClG/XIdZOz9P4sEYwx6C+FG/u70gf///NExIsiKyaMAGDevJ/n+///8vy/Jf/M//+//6r3Wr9bMimP1u+ZeXZphcxVL1MY1jnucziY4eBeODRRwTlDRKIjQsh4uEQgQEgg44KRsEhFh84mI4oGCjUf/r/////y//NExFUTayKsAAhOvPyLL//+f//Zf//XemtP9K6X7pVZ1mY+eYZUwqePHOiHj5jjxyziowUIADKLweCkOEsMEjiaEx0aEBuTD1///////5/////v/////9/9WVE3ac7u//NExFoQwxqsAAhOvWGnmI2i1QxFy6GVQ880lmFDx0aECzjZlPFQoFIljQZEgfLoFQ8DBOMCODwHw1Eqru2A6SFxiZDNb/X///+Zsc/r/54x////7f9f3M7f60pXO7PR//NExGoRWx60AAhOvdDjySs60fdTnpOU800iccNZroVNNjw2EUclwsMjw8q1qzlrTpCzFLnhbVdpCg/OAHGJlgNOpeJW5M9Y/3P767Yaf1CwkKwlD9hQ8UBwAiw6T/ii//NExHcQ6xq4ADBOvX2nbkA9if7/SXYVq1fonv/+VXIlvRFUiyrfP+gJlrF/DFpQLkBg+skCHfGUkJXwh/onGfKz/1Sy/ktP3EgWAPHYaMx3Fk7nNPv4JxP4spOUTUH4//NExIYSyS6wAMMQcLO4BacToUrn/90QKtvC7119BDaUg7UyBBMHYZeis/txtN/7yoVUrn6jC5QhmwUIQRHRkDAPic+QRSm37xsvFjMRig4yNbdXadGi4FYPtXXvf51p//NExI0QQT60AMrWcCcQFJnjLhEWBpC4LF+ZF0W1+smT/WyH/D6+Wtn/cruhIlB6EDB5pqeBczc1E1JJnbUTU6UGWFX5OsziTW/fp+v9c1VfY88ZdnlKYeAWZANQi6ld//NExJ8R2Tq0AMrScCEzS6igW19SfzH9L5p8dhDUieYdgF4RzRnRE3Uki6CxbEZd1RHbgsHKH7tmh1D9//+nvqOLoZzmq7pmHSZvSv5j25ozgZ9wFyi+gieI0iyPYixt//NExKoRATqwAM0WcNaSX/TX/E/7t/TigLhGQkYH4EhWluCSTZASCT1hrf1wSEohBqsVO7dH////9Cp24znGVDTUk1HaxCnRfkvKAITsR2t6q9BUFQ0eFNZtY3UkmsAr//NExLkSMTqgAM0acAVSEzqwVMEVPeRl16DDMDXtX3/1X//9dv5OqiR9chgCS6sn//67XzdUZjK3/8pd8Xk78I3369Y2yRSwUMve9I/WLnw4M2UINe1hmmY3dv9A1VMW//NExMMSiSaYAM0QcA6EShO86UTVFA++KXta6Rv7f9+rPT7H0QSqM4IcRxKp3E5DNeFpXBi1qI+frqrNLIp58l2+fZrpPT3CK1FxiDmX3WjExndOfv6efevsl/9XWpvK//NExMsP4FKIAMYeJJr27DVRXeKiRW8VCqGOU/K2dyXWsLW9Wu/ll/5T4d2O+x/SbVs6goGS7UBQU1CmFEghQUhvbMYGBKXAnKlWu5VK4CwpUdjI5WMrSvqxlKjJY1H6//NExN4PycKIAEBGlD03+yGX+mrVbXqxnL0M4Vgaw6oOUBSwGrDVApjmlVJ2mJgbJpTlVnTXqsa2g35WJYbfOqbTdGpiQ+gHBMEBSo6TQ8wAkjagKJVdHCpuJRwtKsbA//NExPEVYa6AAFiMlW3LTQtLjkvKZHeupExVLjg6tgGYfm6XjgaCe/xp8jEFWdRAPBV+6CKZuXBpJIyf0EbymPAvkUJ2h0GQWfN0GE+FYfhbjBl1P3Y8mxcWblMDuIoS//NExO4Wmu5gAMDEuPPi0E0Ci6vTQdaRcHgZuoaSQJElgLscINgJGMpOr/opm6lN6aYgo5gQgJuPMZAWwLgPYgmQln///6/50eibpj3L6Q8CmShQE/IapX+lQjHBRwYC//NExOYTSPZEAVQYAKBEqp10k4i13FAQa97H3Nc5UpP/uWHp39TfPxX9/81I+6KFg+Cwk0u4SkrhhowY9LdrXrTX9cNcpSFFKzyrTRTTXSo5KkmwcSHoTAQ/ayIgKd7u//NExOsjqyp0AY9oABrWdgqRtrdvVZfnQFVCPYIy2QEzyWoPCViEgEwg5t7xADYksA46sJx3LLyfXI5r0fyGv20/sc62cPqxrBkAVcJbWxnZtW8B68ufLieJepRzzm9t//NExK8ZKgKYAdlAAB6aa93RN++nTRdSMBt62aQgcNKFCH//RkJtrD5BqWroqhDmMobCYHuaAW569QSTDDtJkAgJqDUlQaEtTaG6G6v31S03y301bK4mpS6E5ygNm8M4//NExJ0Zsa6QANIYlJ5iP6NmKVeh0V5erd34q9R+OuX/a3edsb/9RCiz//+eiUJ3DybGkgsl1ePGAj6LIi3fh0DSxnk2KSTqITziOm+l0urpaaPn+m+m2is0JyobkhJi//NExIkWuaKUANHYlOQyhiTVnnzh64dLFYPAI8SOhIXB0JgkQ/9a7Uf/9H17034m3LCEo8CbGFjx0WQ8aeMdCBAoJG4cHU9QqPS5sW39rf9tDt1b/e+dOFQrAJHBuJJB//NExIETuVaUAMtWlMwsPFw0eKlgp4lDUKPI3/////w7UjWGJAUzTj+AYTNS/7xiyMidVNKB3JpKbHVn948//2v+xenWZ8tTKUoqURYPFURDoAgUhhIMriJjDJXgUBCF//NExIURqS6IANLOcMdBoOg09txIekdqf10AliIfasW4ZKkq9rdurzSpzxt33Khzppm4tgxRBR0GTK5cNCcDAwYtBueB6gzMgowPoMAtBvgfQR+LMUgtB1KZzRNIQmHC//NExJESqSJYAVkoADNlMijIM9+92oFVJSSS/u3W9ObqZSZ42LqTmBFyQ7/6C+v8i5OIIpVJ2T/////9TUEKSKVRotXw8LJ3TN1gVETlBaQ3+aYv6wwjOBSSsJhu4oJ9//NExJkfEypcAZiAAATxQQgMDcKXD6KI+ea5a1Mbs7m/S9oTZwVeaDCm0H+nb2QstAHMjHAmin////+8ytU8NH39mCCQO985T2DXZqarUts7McJDACi04UNPnrUNItx3//NExG8TEPqMAcxgAK799n251+o4qOQIHk3LrpY1x8nBwvecETSpU6Mp93///+UhjGITzIrMOhjovP9eXfOmXQKThImQwLitQXz9tDWtJfggP5yaWfDZgQAcH2JTJqYp//NExHURqPKYADJYcPYdQh9okMlCyFIJxRA1qlkPT+/1baPxVNWzT5zS7BCcHTkkBrsL2F+BzljeJMha3LC0xx6TQ37JfEFSw3KiRqSsb55qCZvNMy6t2kWh8e0eO8o8//NExIERiNqgABmYcE7zvd+6nh16F+PPtTpV7hu5KzJSe6X0zpBbiBh3F6Ponhu84Gwf6IndePXer4M9sjfFwXZNmfHJGVzNPuRLLGvDhz6k8/u9lb5BdPl3yarP8Jhy//NExI0R0OKgAMPecABVh+RSt/BD4SRGKSxVcW3zvw9FOa1xVa/wuvn9cskT06cf7l2bpJnmtyF9g+uYSXeapmJc/D1D5CrEyFGv5Zy6TVMxllLzEW1h5EoGxipjZOY0//NExJgQCPqwAMtecCpg5ioYYYLGwCJh4cXwtA4AaM4Zf1OxyIP280xYaa0pt3LrY/X7DEswUiYXOOYhq9lrx1aDGX2mJ2KS4zssy9qplb71WaqT8O28Kkbv3WyrmtU0//NExKoRIQ64AVh4AKnaqzdmz3neu/I7FvDl7EqREpby4H7f/////8vVdgLLrghbbBQdgA4uck3f8BGDrLwdAnQc1EgZWPBQRb23mgLRBTx7mAba2yqMdSTQKRWzPdFs//NExLggSXqIAZvAAIauHxPDR5dytLdDfBULwqawL94iJpXybXDKUSbxGVcFCmFDob5X1cWNI9gu9y+YrxYE8HG8f0+u7+sbt9+PQmhH///0q+oSB363hlXHtWqtAW9l//NExIkgUcagAZp4AK+kOqpmzstaNS6Xtu4stytbba1rsrf71+H2N8yA/f8B6MaWAQGzOcpOWzRw3bRps/xJyXHLDXQe8ykm32IVvU9Zo5gSy8WkWyACCJJ0kaeJbbIi//NExFoRER6sAdlIAPUfqQCSrchMVu9Vc9PeW1uKAS8wFCYqgUAqZ5zxRYKAdagYlowKu/8qCss9R7O/////5NVq4kGZsYJecp6hybUHBjMLyBeHODIiGnqCwJFrEauS//NExGgSERacANMMcOlN7eO+fYKuuvMuATqGDIDIhpjAkeKhcSsW77rvlgaQhin/QlNIypF4gWyVZ36CVNMVJzuNROiQPukeDpAtfDp2UzEyTRHkaBlCGXgBmAjO7Nkc//NExHIQqLZgAVoYAFk6aG4fISAyhDRcf6Rqkk7EHSNC8Tif9FJdkkjU+aOYMTnqbZaCKSJMlI6YmbzhoQwliJkQ//NDd0VK2UuibpqQtWnf//2qWgySzFJaLP7a3QJg//NExIIhYyZ0AZiYAIoaHnorCStcWK2nkMnaHIQDsfsLchQm2H7omR6KBdDdQbRePQlEIKi4xJaEBxxxzmmmaUOmmo/fnf/13//81E6kR5qHIWCQVGAUr///+w70VZ+g//NExE8TCdakAcxQAINJBhhkMGm3lY8ZYLSHABr53sp9Oj8EIEuoKDfP5QswjgQRJIxD0enpo6VWdV1iLXG9/+/////t7aqjo3//ZfJP3/dKaAqFvZVWxBNnmrDgD5FP//NExFUSIdaYAMvEmKlAWWBeqP0vdxTdgs86CW7TXAn4QhBrQu4LcOVCXFkct7ibWa1df/YJwXA98MoCIgJt/EyTaUZRmseigBE18cLrIQQBKTlFKBJ6HQbSIMw6QDcL//NExF8Q8JqkAMZeTIjYXgCtFwkaH4A34ejxSIK06Xmrf//bv//3NUtAY7l3FAVKBQGVI+as7rtSiM7GhiIPGrLGQvFSZ0wM60cBF5W2EG2pNnBegfOTZ8EIAHuMUigN//NExG4RqVKgAMxElOwFoGQkOM3daT76+3///+nL0dmDKJuVrIPrcM6IrR9PUiqVXrohwp/uZbWM0rWDbBCLGpD2WmgJKoZgfz1RikUUN93//9X7U+rlw/l3t1OE+vHA//NExHoSEY6QANSKlDiwAlz4gLlw+QC58uBwsfXVCylM7Gd3/+f3y///////+3///6f/16FsrKpHdp0dib1qpiNYw10WpxM5lAQTFjh8PkExou0RUCAQikIzPeNFiieR//NExIQQSHagAMYYSBf//9f/v//602t9l9Wdfoo8aaqMzbmKpdmQwR3GAuacXFhcmRHhqe5IbEBoIoiiSXHj1MYHg0KCSRUHQ1US3+3////9f//////////////8/f88//NExJUQcxa0ABBKufNbz3X/3HzNNKo0TM3cTS1LwNpiqMsplpjWGGjyRpgjBKIrqwiiEUKFHMDUQwBQ/OKASD2lD////7////////RX////X/p3rV31Xamy1Q12Rc03//NExKYPIx6wAAgOvOh13OPYkQLHFyI0GwpLMeYxEYYbjUkKhgQjcJBKHB4BAOAdlxGIql////X////+///nf///2/9qL0ut9+cZW5QxLHnmzE1yY+Ig+YUYami9yxw6//NExLwSoyKoABBQvFHPHCI8Pkhs48LhIEcWHDUHo8XUUBcC4TkhgSjQmv/ZSAOchBMqdz//z///wZf///Jf///////7XSiobnVN8+7WSlzmJF6DcrNGx1Bqp5g2uaar//NExMQRKyKsAAhOvDKWJMNopFpFAic4bHg9IwqvYtSkqgDAbgNnbcGkHxcra/EDUPfUkwUMMy6onhsaT37F2+4CMNvuQAFQArsLO9G85GaxzuwRQgR///r/98GBuxav//NExNISYxqwAAhOvfEq5PyMKvKgEBLcx+DQUJlgMHaz//ND1V+Aosxo2eAG5QzVXRY4/8iH33/RUU/s5/+ErlRE+XqOcKLoV4C/OLzIwNGmRn60ENIvukZD2H0pvdTs//NExNsRMxq4ADBOva//+pfRSSQMDiD9JAVsvrUj///7qsv/UdESosnIsZmOm5WHR3+2Qgo1nVMtZ9pVTPcYTv1bLSBCQkwpBsWA5FqHpqzsrJt5qnHDU4aqQTa3///s//NExOkVcbqoAMpElGs8qcboV7v///9djN7VVwgdCCmoPpYy1oA2HWFL9b3BABEsecadplDn6nPzs6MhLC9LeifX7c002yFiIfJ6P/6U9NHRDnMdVfdV6M3p8ii7qU6E//NExOYVQcKsAMvalCMnqLiYvIQ4mL5CEUOBwiCigOBx5+R0RTuZjoHCi4990nAFgK8uKTBq6+UX/Iv/+RM2L///rKTmz6///su6NZGPulLMyJknU8sx6mDRDzyjlHPU//NExOQSKca0AMpOlOHCEiRL3NFSMhISVEQYKEyhAqwinhxhh6ESZYFCqhUSxbAeCwCINAQwDABAeEEF5v//1f///f61//43L//////82/TebVTnWi9lLzB6VU89M657//NExO4ZwxqgAMqKvZo8hx46KSpxpcgNSg2ggLY0YbqeE40Eg8UA/AcA4NjUemUK////+X///////e/////XdrJ1vM92azHvMR2XzlnNMOOMHSBdmc88xTDimw+5MREG//NExNoYcyKkAEhOvMQBQWETiwilxqJQklBksI41NFZNxJMAlRf//////////+U/////////398Tx/Ot88Xt8qsNfe1RNXK0MaHM4s3WBoVEZ6tRablDSg+FTVNEpRof//NExMsRox6wABBOvQqKFiIcIJpyYqLByYxyqhQKbt//////////+bzjt9P/R/7znQ5Vupuaxzmo5pz0OOo6DZ9RqRVjn5rHDpFGnHKNRFMFJ7NjzjUanDokspEVEwWk//NExNcSExq0ABBOvcFotGzoD4ThKKRaIxcFoksNj5oeAg8F0eEyv9WyzwfhrmuYYztuba+YWhs+2/yEN3l3TOOonRH8lrkJLOuK202nFrx3miHb28abHufbyM0mEcfK//NExOESSx6wAAhQvCZFTy1/F2pNvlemEwkDQA2SwSwG0+bvz7pVn3/TauvadLieUHTupG+9+mdfquafg7f2xJ2yXPalLfy0ntkwmy87NGcJ1YfuO9CGuml+LqMnZ+hG//NExOoVsxp8AU04AQLc31rVLL4EtlHVyMSKPSocYTV6chPzZ9CnPHTBhDVPOJ3dPQN1pROd/uTtjFT5uULpZq2yqOuYhjJvZnDVxKTPplhHNnPpNrc7XEIHJfvf4+sH//NExOYhCypMAZlYALGwUSdpWhzubV2yfc3tM3s0rffsr5Qla7JttvUBmGiq661yq7CTBIQcma1KTDKgcSW4WxNlAKJ6chjhxfmu4amjUoLdN73lsQw+p6amBTrdW41C//NExLQgsuKgAZhYAHSlguNveHIMDo0MUbN4O3XPpP7Nfm+ZTEPl7imzu2vOzeenpzO2YZno9szw0MlXNeh/xL////5Nu5NhAKB78QCLDCMiJBhijosFkAElAJTLnbEi//NExIQaMaKQAdpgAEebIkBLrLKMrlM69mUUVrKk/kfkdWhaXD0eWAiM3Sx8CaOJRqroxnTn5G47AwESLFj3n5Tnp8LcE0EKMT4DnyH6P///6srrcDsPdyCwpypu8xCw//NExG4YAZ6UANYGlFEUeGBAZyvSFlQo8GYTsFl7vO/u68bHu1mLz/yPfV9vfyGVP6gJr1Fh2euBbxkyqdkfNeOqiXsXCvKTVV61r8RESjE01y7VPxF/UozZiRGLVHNG//NExGEWKY6QAM4QlAhxQGh4LLhaG/gqQdajU6ywLQa0FILUeUzvGAWTXq8OSfAUjooMQmKxaq2yypz4tmHuzOlb5k4SnlPBV3VLKDwipopFHTPoWYtFDCyjrlUYzBnD//NExFsScO6MANZYcK8QSWQ8IAJfivhqTKhyOmaYq+Lo+x2HId0MqgRDxn1E64/ZlZQwZVRRCOQglHcpiI7L//0vKBQVKpmWuAcioEww8Bg4WeuMI5lQDMJhwxhZ1QA6//NExGQSUW58ANMElbhOe73xVPNas+sJJythm90xD304/Xm59eVzOXXR9CzRklP/z0fg6SPflpc421VdLytCSPN6uwMFqJDjmaaRLTQzM8bzGwGWTA0FP6KTCmhR01yc//NExG0SKQJ0ANvYcF+zV3pidtpMWXl+/nuqD2JsIEMPRqM6U/6suyBQoIRF///61VoP1DxlfcYIKCQAQop3wwkixAwQ2Dqtl7T0uJ+NsjhEzbdex36LmpkDC3lhW5D4//NExHcR0WJwANsElCnkeMK6JWGmS5lCiiK7f0A0DSQn//9CVQowPAhC6o+o2QHZHAReYhgZsMJHygqhqnU0mKSmB5kh4g92Pp2zly6vhJkPriJcoz4hZm1Etij/xMcN//NExIIRkPpwAVtAALiGnT9fc98/3bnuubr+2VV1TX1W+3m5ieOnrLpv///uWufcMZUZ80Hee3Eoklg7Dge///5+v4r+JXubtn46zcdwDwyBHHs2NSg+SgSA0Th0BQUz//NExI4iMyp8AZpYAIiKo0z////////////////t+v/3aidmptZ9z3ucxxuTcoYcSPGg+pYuw8Yg4cKBIIAsEhgfuLDybFFG5QbkyMiiGf/L/////////+X////+/7Ue//NExFgRax6kAcU4ANtpqlL1NPaujMzMZc887qKhxU0kHhc6Szi5jOIxyDggjhBKTAhiEE4KxAKgkCJKCoPRuwiC5Uw/7kF/z///+i38tNf/ogy+23r/+i7/2/dd60vX//NExGUSQyKgAAhUvN36oaSqc9L6KQGw1ZGOMOdjHHWdzDzjzjkcqWHhKseaC4bAFAHCoiKqrR2XsjQBtGaAFSmkYQSQo3gAofcuMdN09l1punb+Qk/MEEIpw4WUlbXe//NExG8REx6cAAhOvQQN//7P/1+VuLegthqyWVidB4AsliRUhZZOV4ZDYH4mmtiUg+orE4CDZ4ir3wlK0Hnz5EZfnjM03d8s3/ll+k+51dqr/F4EHDxeTh0p0RLfzl93//NExH0QaM6QAMQEcDmNpKw7Vbpbl+QIZW/Vk5Q4BAx6Piesej///9M2kt79mXD2+bHURyAzWZUzM5Eale1pM/v7nLf7mYv39TV6drX5tZzZsTOmwWm7EYciO9sl5mOF//NExI4V+TqQAM5YcNSv0gXHm4dHEV26q5F1RXe9MuDIw44I9zvv5L///QpdnOVJYJUMfiCNgIQP4tqUYhs0yHfqWJp6K/dR6f/+JP+zt9G0852/Jx1TCsQB50kmG1ju//NExIkVaT6cANYYcJqd35s1J6BHO2VPMO9G/iqf/////0pVA1t96TITC+5rc4OfCR4Ej1ajHiTpnxIE3IvDEQ4dZGXWQ6gHQYDwZ0EM0YdBBB4iXmZIjuKSzMvmxqmJ//NExIYSKTKgAVlYAOCYBMAvpLIPQm6d6kBfHuSA9DMk0Fo+z93JVI3UXS8Trb+11amYxJAwSKBBHcRiL//Zv+PxidQL7oukyv////+7LUtaBfDD1cb0zDpmByup+lnz//NExJAhQxKEAZpoAZiQFFmXLmeYWGSLU00Kd/6ksyy0Pdfu+Ez3w47G8vO0akUFEWQcXveb1whMb1V+DQfCfwgdUx4Y9kHmidnN1bnMsSLaBK9IF2wmGHaeIgV9UJom//NExF4SST6kAdpYAOAoGrsXyNdY29M9rNeootl1eiAAIllwEa32pK+pLatRreUa3qjWR1KLRNUSsctSnPdpQtc5Lh+gIEirGDK5BSrzOwDLAJNeRDQyYm7KGb4g6x9x//NExGcRqU6oAMtSlGla/MCtcDRZBDA4QTNSDSqsPTPrjyavJOZSgUiKqA0RO3V9TbqIFpbYhtBAbXDDzYzchBDERU8hTWq02C2Ak4aGYjReN5d8mofx5lQY481GjN9J//NExHMRsT6gAMvQcHzySj7oVELK2mr/ORj5Fs/6//t/1kRu2f/q/T4qmpyVvUVASF4mDACvhsoiHJw8NhwKbUrCeQrETcqA2dK9JyDbkYaVpkfX4tXJ9/IPjk4M7xI3//NExH8SYTKIAN4ScDRamQA9p4BhJhCU/9n/74vVU1jT+KLHBTAdlwwnOY4qGIriYeS+wSVOGKTbc0foPncMaXmqSHrP7v2KiA417tDX9+fZT65YM1miwwsGJv1aJpWG//NExIgRSPqEAORQcJyrorAMmdzLvGAHPRyauhtwMtnsKJbtfr3UXPQ2bMWXDBrb6nFr8mcWkkY1INFvJ/r/R1n60KyZCuzE//7fy7VqysWXqCjgMhzI5KTlAWx/oeUA//NExJUQEPZ8AN4McOgfZe2AlZY2DSwVgbYYIABC6W6U3aY4v8YaBAExAkwGAsCZCTIPyhNgu/p9n+vdn48DQhZWWxF9QberqLRppxi0rmbpKRQcCiNBl06OlhAyxJSy//NExKcQWP54AMMGcAgcHKcwtAOGK6AR7oOfVOqch+ToLinAQdIHJf0UnJzr21Mr/mpkVWzXLcHGS0umaid4hEQt5IZWEE0sC6joNVq3yx4XBMrDazGLswCLO44Ltxw7//NExLgQAKKYAMPYTI+3N9/O6s2OrMNB+UKPpl8Xp3nGyF+xxSrm8K4gFX/h2RmSrb5fkJGbCHioyqKDyEmwhsmEERdrNOw8zD6alu6zv57xrUf/qtz/+55fq/T087mh//NExMsSAS6kAM5KcKJojl8OVVH5GWDCn0VZ2uresZoKMWdjuWnaUD5SVAgBp0jMouIkByANjimAMbIRNCiCIZrTaMNXr7vt3892v/8+f+++Tr6eby8TAEQOo8Sj3CfF//NExNYSETasAMaOcKocsHROIbnoOVrpYEbefzIO9OW6QKxA0YpbeAEeDBS9fABHiJmPHWXR0dPGeAwcsCYEyA1AYuh190JdrHmcYpu/9n//f/IrZ78tn9/lKowTAEOi//NExOASUU6sAM6OlAONF3Xsl0Uit3rOOKHR1Gw6dmKqfTAlE0mAINhvmNwA0Y91m6DsdDlYo2nGaK7rtkMoDQga9KWYvBhzOYvc/d7//n/6evT//69QxWcRgKihiXRj//NExOkT8UqoAMaKlE0hFLroFMIqlGt2TXipBbgIQ0R4TfwgUwkaBi8GWgg5gMESaDoQsJAy9gNmFdFDAAxAU2pGBPCkyRRRNRotWc60+g/P/X/f//Ff37YaVkENa4Su//NExOwWYbqkAMaKlB6mIqZQXWLhetx1aV8QtV09bGqSg6AaK5Gk7yIG4OvJSR8q5RYfDjwiEQb5mhZIq4EhKIr0pTRNLsoNf6kAowG9i36d3H/3nz/3j/7y/6f6P/+u//NExOURkVqsAJ6ElOrcKJvcrK1KYd+LGlklkcs2PmdyelTeOSIfOcfMxQdSuZ2iyC+aXUImKbi6hIUpXCxIS5NMsJmCosLrf3kdLHmRXMMhoU9N9qJBogX9iXveiSP1//NExPEZAiaUANUQmDUvL7uFr/HvSuvi1WC+D3FCrdUVUN/psfZ3upAgQIIiGWbaWXYIAKv5s3kb/74/s9Pf3e2d9/aPf7p3GeIu/BO008vWzJv8uofN5gAgtLPpkSDh//NExOAS8VKQANZElHd49vd9/DsQQiMi+13eHpUhfaIMg8mnHMQ/IIMggTTvzsUvIufk9alx8/6////96pzf///PHO/HPMfUevzcT3V8KS9FCUcSEwhn4slCg9Kp8VnG//NExOcTGIKIANPeSPQ+BAOurHFvai6EGjTrF+xQyxQUF3KFWQa41qUX0MWqD/6v//////////x/////enT6v1qqGYkQcgodXKRhIXQ4orkR3HoUSKwqIiQdGGFCCAQQ//NExO0ZMwaQAHhMueHBETQhXqVnYVORRyi5xAaYVNUM2QmpTBVZOfRlJS/l0NKerZS//44v464/////qu0iuUdMZezfWj5MRIyf8oWaxYSBFk0zNZRzOHKHKSzNzTSv//NExNsVCxKoAAhQuLQwdB9MKSIsDQaitR/XHPlHJWGlfu2/aHI5Pj6eFgJYlQAj3iSre7NrgijwGdbKA0VrCFqGQxmUjUvt9ZWeZ2Smb0Ky0//Rd1QUYOHj0BAJ6Q0W//NExNkRWx60AAhKvAKCqxjNn//vpb+RR4et9BwImwXCZSD5cxFowMqDpJAeDOJAAXJQIchSnPC26otHauuAE9oiqQBcDJrG0PhlzVvkznUkXmisHZbG4oOPHB0XIWUS//NExOYU4wKkABBQuccV/b/385TBoMHMas/d/ppVbhFpQnOd0REQk3tYh2DmGgFDrJm8BQGNCl/kGufa3jFWT5XniERFqXYkxJCCWf2C5ZjnMxixr47U5NCHjFQCpQkT//NExOUSgYqIAMjElCwNMQ5ZuF0IXw/z////1njDOjPN72pkBxNP9aq3lK2EGJmCRh933AJA0180pUx400pMq0T5GyNFctovTGII2GAjJWXwYqd31hKW/ErQJhA3NiGl//NExO4WEXp4AOPOlK3mLvfkIIorKGHC7Cqz+ziACHw0mq32paYEeGHErmfvUag8VlTEDTIFTJEwZCRUb9sIJICAWuOBHKBwY6xYBAHliBh3wKOoyPkypMNnEghx9WAS//NExOgXSYaAAN4SlMpMZmOSy39wsm+HZFLhO/2b/3GPkflWBQUjZDIh/MWVCVymVDyG7+X8NqrL/zWBDoTurYqA3jbfUzQDgU+56swIu0XwhNQLiBq4MiDcASoFTMRk//NExN0S4O6cANYMcAZGZK/sVh/KtbsB8UBw4FVIYfZ+bFi4XDJ46lLmADpqRfNQaxE/mumZSPXjeVySpGLrideliY0lK+JNxBDQNoHgZwwVrqRqUCRbb5Uz/SmN28ss//NExOQaIY6YANaMlO3mLhIaWAiT39U+JA4Lpjo53Uj//+jgw39rVyPgTa9qetxmQJiYFnfpFKjDeMlNFuzAohEN0II0dyQw9RrKQkKWXr9WpD9vPdLeHEEzMwhDZv/n//NExM4R0Kq0AMYwTPy3zZxFBgQpbF2KS7FRH7/+6sf7usnaSQiv4zSwJqiPDqZ1FtAA1QCd7YWkBQhcuBbnxQt0NDIQYU1p4nDDCPw7jSxyf/yiIdA78RECep/q6lKQ//NExNkRgL60AJ4wTE2mEphQIBQHDajQ+VZ7R2zTwtZ5ULPDaLWWtDo39AQcGQjIhGkwVOvGk+CwV6U/YgneZx6nqWIyyhqo2wJhUwvGCNC6fvPrXLfdSh4mUwid0qV9//NExOYUUVKsAMZGlZyG0uAJGLKJHEgFFH/GYh0aVY5awp8AqInbni9obgBTNKcICxKZLlxidkqAlhbzwbnqHuSMlu8ZIbG4MqsiJyKyQFUdClMtnfP7CiQDUneECff4//NExOcUeVKsAMZKlHiN/+K3F8caPTlkrm36qv//vt3FDxx2fXIqldJZ+KGZwn4HlxXsWWIBRwrxgbZzkZeZIowg4y1o4r5KKJzRaQmGiQqOy5rbByy7EJ+ZoKBLdr8O//NExOgU0VacANZKlEZWmiuDgQYxJgdxlbvswEZ4bBMNjRaklGIrRbYTaQqICCLYNsqlRWDyMWQIzJCCR2K9oCQ3smLqfh53/7tYKizAgGhxxX////9VBoIVzx3kOAHM//NExOcWmb6QANvQlJoUwA+pfw0NiJJtsHACgAaMDRh7Fw1ZHWjVNKHIgRyp67fnDIyw7KxJLJVMQKBqDgEVpTLR7Mw41nduXrtH6NTv7ZYxLzrRHdVipDO7nr6Pfv/+//NExN8hWbaQANaSlPzI0Yqdr109zDUYkrY/BhlgYc4CW5RVuT6ulA3y5uLLYd1YnrNbERChQ3BpWSqyYVDLK0xoNBpODUvst8ryW/JVtTz7OCK2eGblirsqCtVapq6L//NExKwXGTqoAM4YcZiwJGZUcFgOYgK5kA6kSIQChgxMCBwSCIQfkyygQN3aS66iedHCcMxLxzmBspZMTRWeFMLQUA3BnEHQSKnNT1IaSOF7Lw8EUVLcvOpeomGo5yAS//NExKISiTqkAVlIAAPQu2rqpoNw5gn48x5kgeGx97v1rV83MC08bl83QS7f//5cY0WB8v1//iBl6y5Ba9AksMM9SkyIHDWBEg1Mx04D3QuUN2lLdZtzVSTGThAMD6zP//NExKohclJsAZxoAMMDy4vq1RgtJBgUANrsoytDQWkN94XiAyWxzXwl8gDwVldE8A8stB24M0h0UDtKdLj1aUz5w8TQ68siz6Ujyb2XNR1BYCiIRCYILKHGcQsDriyx//NExHchEa6cAZlgAGs/wG6sFBMJg013NtpVgi/Dw6iNYfTBfxAWeUacFEkECgRlIgKZurNpbt2syt91d2bkrfqBcn+Le3Qou0CzG+EfDVRUmJmAtL5is43y3HOLeP/L//NExEUYeQaQAdp4ABMpyHmqY7bOrYDluEeNB0gVBoOjSpA0t5RxH/ZWbHKpKMRCK24zcBl+EoS4Rf0wtk/8oMHAoDWDlkM20Py70WwZ4TAMVpZYW8hd1uiwMJfVaZXR//NExDYWQOaMANbwcPFpqIAYl2WUx0uOyZ9kdA7sDVcY7ZrU1KwThq7/2NiJTf8XfDLpApFDXMwcVUUiiGNKAik+DzNbuJYGszdCQ3h3lZApRiVWZWTQnsCqhSfxF6Rf//NExDAVAZaMAN4alBnEBgy3M6FpA0ezADAAMQhyo3zjusz637f+v3/X/c0d+mIx697yHMCJqrGRm0adoJ0CcldGHfSnr4cHAbf67A0Jtem+8uXrynv0sAqGVV2BI0Xq//NExC8RMOacAM6wcAHBUE1ZUDWZhUoLtuvR/Od3/+oN/6rV+gIKG23AZA/BMlbsZzQSVVmm9nvoETIV+n1s/yDt/UiN74Vz3DASE4a8X54thMAVp4yF8GSVqudmhnbA//NExD0SGP6kAM5ecLFIDz//U4oJv/UpVdbqCqyQFPBhaRv67onOsc0N8V8aOfCLt2py/82+vY3MzMvWmU18YP4ltAiMH2Ba7AdE1atLxzS6f+uveGLLL7IWUOu9VVap//NExEcReRqoAMvYcGqUt+PJYebqDk11/kiDwBWmzU2VObiGAgSKA/FKomMpZfR0dfX0nR7JNxgcm2DoiFC4rEliw9JBtdOv3+36/K1UN7HNb65U6ZqHYaVlFYVQWnjx//NExFQSYYacANNQlK0L00dEZUSk4apOyk1mbwNgeosNB5xhX77fGvCAYI6YgxuVfZvL/zzLm4hDDnIlM6HotQ6OV/1mskoOzpU8uvRVdaQPmGOpMnt65QO+lfv6IxYf//NExF0SiSaIANvQcCMLJlMNAwsgPqJuUpIvbE3ntsf5BqW8O7xu8gKJ7zH9G5ZjftdnTsK5dPxGFoKkyTRx///9amgSVKQL2Reyq6hvwk2ZbAqbmzjDJ4wh3s9zKi7N//NExGUR2S6EANvScD1Iz/bkiz/Cf7ti/MNZ1YXREbuBPmdFdFj6erIWVRdDCJ5SCTCaohtG3YvQLlNVKyaNYut849BVsiQykmUBTiwsgCnFKZ0qibPdrQNr8qX7lBPY//NExHARqS6AAN4Scdghu4RbC8x7TaEdaCMe6aSabYNQ+sYwX0ZKfFVyX/TnNbMOEQSAYEOGAxZbAykQsOS4sBRKONZ5rMe98TZpSG/fx440QaCsAcAOJzLd3e49K5Pd//NExHwRIS58AN4MceCLuDFGg+bMf/icc7/8mmtT04DIjKFMgSOJzEOJaGVjmEXA5cX+HB5FYEHHjNKgE3hTEjbZFcYlcojG25Cnz5TrGdB1J3LcVlar1sbn3IFllFjn//NExIoRaRaQAMvQcBjlgUeLhQUwoIiLsa97FXt1ViFYBlX/9NP6oUPC8sEQQOO//6QAFkgncqWcqpTehkyZ1NiRKrGdPyNuJLXA1hpLPBmzn3W4lY5N1uTU+ZNkn87L//NExJccIhaQANPKmKNrtytMOc1aatLQlOTg7JKy8s59bdtfrXpxq/Y1ei0mvVWrPAO75aCpEc31fhpj1N///UbNMBxVC0WH+2jiTU3gxDExRFXN+cEoOlrQBVpuwQA0//NExHkX6T6UANYYcFpgjC5ThcdOEY6npMZ0VzRQYx77I1G+3TOarCc5lyc5///7l+nfL////+FETeuaOLZIROZ+X2n14iJdEL65oBiz6LhOhUzIqguIURQM83j1dAwh//NExGwZwxqUAMnGvX1FFVTRWKe9cV16TSGylc1v3uf+bbqSkUKc7/8OeXf4LC13/tycmZyZmZv1e+nw9ePJpPfM5uW1rs6OtPZacT9bmXI0Tz0cTznQMrIWE6R66y69//NExFgf6yKYAHjYvKXpCWkLjkSQsoRwmMy5ss4uTuFiIllwRB0IZuT6Es4BhcaiySCWfuIA3c30OzWrQZ8gMhL2pfNyoNBGWzn30x8jPX///3///v41r4/195xePr7r//NExCsdUyKYAChevIxvVP663LjMeWrzWLxYcXcDcSuW2a+2Ceeat1Cp1MkVcp2OZgjsasYH7qHAV6eVaggo1iottSwSmI2Fsevi2RCGOBrFhUqOmZIGKgb////PyL////NExAgSOx6oABBQvF+D///Iv////////H1fff//PO3E9/a1EezxF3L8XDpGirKmCiuQ8qVrjMdQqShYgg8LB0TAWE54iULh3i4fmh6VBn//////8vf////y////6Pvo//NExBISqyKsABBOvGNpM90bV2zGf2Uw451mnsjOzGqhUmao/cdc1zUG5hw3CESR8aCQg1GgaEoIB8Xg8GgWPFw4KhGIsgf+v/////c3/f//t////7/39Ov12X3qtTjS//NExBoSWyawAAhOvKI5Zybn70NQ9yrKeLzTzGPKGDZ1GBWcw6XB+eLQXERGYRAfkxueJzzwOBeAKXUk9fWcLgDBNouDADgXv2s8/9//gygT////v/////t//9Nfl7sa//NExCMRCxq4AEhKvVMZ1a7VRWcqKV6KzlGDTCxtDOImVhIAhZylMJAxD0DxkKqa3ZlJImmc7zvRA2bR4Rax5YF0Wc5bkA+taHC37P5N/qmcxY3ly8wBw1JxLNShXrP///NExDESgT6oAMvWcLV5nUu/ZDPLEGRn5pf/sioqz/8D8z///xS7v81UR4/kNwwBNw5+muHUjVKHMSmslTfMR6m/ZyG9U470IgfMSTISTM1Zj/0///c9SzfJ7tMhU+r2//NExDoR0TKwAMtScHolhVL4zGO7////+uZqw3uaWFEzag1nI0QB+lDjQcG6ZUA3oE3jbod+I6CAAmsJC26C3Uvt76jA0u7/7bH/7tOhTvW/aQ/nAwuXUtYXpvKSCPFN//NExEUPwTaoAMHKcBYKlDiLVUxqPo35S9HLR0//e6Cn+zIyO7f9LTlZWdr9f/75f/f/n//upynfh8n4T84ZCPhrHyOzz3U1r+sf7W5erp+Gug9KKaFG9JDuEZREZAs3//NExFkb2yKgAHiSvOxgcEYYNhTlXlREjPnkzhIB4dAwQMMVHeiP+n/+P8//3+/l//hP///+P4/+/p1xU+z/564fEPfJ5rqrdEcXVmrzyKm5KG1ru2MZJXDVKJRmobFZ//NExDwV4yKkABBWvOI59RQ3HcsZnRvXaWEADggCeTk4MB0Fo/kIYPUG//b/////o3/U///nv////T7U7/umir7P3U9DDGnoaimIJjDzy57MrsUNKyg/PLFBawqJiWOB//NExDcRwx6wABBOvUHR8SSDqcQNExUeCw0FBZQv/////6f6mXOe60VeerKmajpdNnV3MdnUgcYpU18eJqSInVcbkhqSHRMMFRYrDcA0QicgRFgjjw4NRgWFhOaOjQNl//NExEMQQxq0AAgOvf////////////////7/O5rzWqaab1Nmmmq00x1Zehw8dQdMGxx5rRqcpHqhUHwlOOg9MdBtioXA9Fo8D4ShqRNYRgBgdOLVJ36dRalAbji7s/p+//NExFUSExaUAUI4AeE6/LKG5//iDM4T+rZ76Hwll5Pn533pvSkdiL/r+X735qZlg6Dq3V8++6+rEAS3opDoAYmZ+J5u6ffdZiTykjjoHgdCYc3zx+57bvvbcezoPahe//NExF8hkypQAZlYAEgsAwN54njwOgExbh3KqOao9x9OqvibY2P8rM0TxoxImKD4bjgD55WDtVIQ2CT+ifFPOQG3rah0adj4SBYQiNwjFOlmib+5PasccIvCVfoYL07l//NExCsc4uqkAY9AAEM0LtPEi+eZuLiItRI2WXrXe4FJebqZUa9y4l9hpsSNw4EQR5cxKP5MFBweyJFhaupNJvb24+ne9E3veK+YUbVrItbWg27xUUWQ4RkQaZMrcMWN//NExAoUaTaYAdhgAIFTVJM9vBaWZo5AZ/u2qeV2MYrWwlFu8+bMtp6PvtJDw4eLBIIgG1dUJzrrJnPyb925PdMsbmKK+y/5c3s1rhAg8vU9Zpf/Sp7NbBkHFINN42S3//NExAsUSSqcAMYYcIsRIhTohWdaIjT6gFqhTTitJHG9xmHhtZOxPZWT6Ttl07CsmlUC5hrEfXen4J2/dSs9u5T5u1lz3wbIvW9txOcCyPsPh4hVj9dYIfLkU4C1I/ET//NExAwSiSKUAM5WcCCCYNooz/DMCPAyndINES/Fnby5NghWMehncNus8oCxYPYChHYbAnbSc7Z6q2rXDe3e79eaOMYVpuLxLO/0qlNJUOnh5z7kqBtkqFl7z5BGlhlM//NExBQR2PaIAM4QcNQPbWNONIkymnWplpstwZdIoyzqequzVDkJhAKqhjmVT6nbDVkiZS2PowYOt1/ABkSBclVTOPCAicoo3sWNfcXS1kzRwodNNfwmIdaGUpgZ86X3//NExB8SQXKAANMElCRxjZJI+TAJUXFdfiaKbqPm86V5jyugYDUrPspUQx//3mU6gxBhQ/zP6Z+ViiA9BNijlG05uyscy9IVAT7/pY1Gzv/H3qkFuyHMtEFtoUp14n2u//NExCkQcXZ8ANMElFaktWr+U4jqhsTgCMibbZd/+1aqoCIQGKF5YZEIsbWStXTcMZlkBlCFw0iQZY2A6dZYNwkVTwZ4cqatCO7b5uBNB4ucoyrKdef0itxqlUKpe/IN//NExDoRMO58ANvQcPREQel2WLkl0fQtZ89A6XNrSf9E02P8oiRgYHh1yNIgNOnjuqphh+WiPdVLcJiVN4YGCxxwXoSGqMapTiZaTIhyxEcChusMjvWyFzR8mDKlUpWE//NExEgRIOp4ANPQcA4EOOIZudNIWzIQl+hkNEjmQTscx+bvcmHmtYSrWMpMMCaVUVhhJNpVtI+YnGd8pZQoXReKJKX+JSJ5AkFCGlURvAzOczEzUN1mkwKGhILnDUQP//NExFYQkOp4AVtAAC1GpYYLAQQBaVu7wiQsBQrZFA49BxKEI6HsE5ZSvEoHou1iROI9aF4fNsE8l3AU6OKBbWE3FmhWvVSsbE/hrBzdj3aT4/+P/iIpsavu9ouP//j5//NExGYgea5gAZx4AIeXs1tT1g53NkTABepZ0UXmwMyW/y49FLX3bTRhrwiA4pBOpFYFKgXSqMUo62WtZ/UtYZfr8OKJYYHfRiMMQ+1UkteijlzN7q3Id0HE5kxcemks//NExDcQuO4UAdgQAL7v9Ol2vRWx/nPmlTgNsnoDaeD00VC5Ncj8I3X1qBUcfHhur5ehFd2EgUekRkc6uUGCzxpxQ4XVnHi5YVxKpb5JDBfueBDd1al020dLG2Vdjn/q//NExEcRwOIMAHmGcAGBpZcU0iaIR1CkBH1crn/F2YwpNXExQ8AkkBVxUjCRo7eBXFXB2x3WWe22eU9Zmsja+S5X/Y6/QevWZkUCxAGGLXRo3rzXA4ILRzABFPd/ruYQ//NExFMPMJ30AEjGTJy0rmgAQAI3eE5gblAwD5ccc1vL58EAGHwfAjn/y/YfDAYJlC+XHefccb2/8/1vDCoFkIEX06VarXsA5mXb1dHU3uMLMhEJgFHURUyRRtmMAsPA//NExGkRiOHsAEjGcCkgpLNilREimFTRCSspExCwFnIkSJclzrMrNRj892ylqsGv5Y4keAQlgYiUSWaj97z6rf5390WrtLVpuErI6RliVkYptecOSmMre5GCRZK5yqnP//NExHUh2x3kAHpMvOcq8rZrz/OVtbM5Vd6p5liWm1UBDBZYo4gAAwjsWciHHjCcOxZyKK4tngcECBtZWGFiwjyxRQwwsIiohBoziotpMH//+kAC0WDZpqhMGjWLCuaA//NExEASQOF8ABmGcOERUVDhl0VNmWEC0DggYZRIoYcQ6BwQIKyihhxDugMEDAygYGVRhiwYGVwRiyQjTSsur23/////////////t3aL7VR1VVKqLVVXWWWqrt6yBSj0//NExEoRqH3cABjGSRakiJwIPKjkf5NLOUWWYmqpONFFHxebJxpcCweNUhIWFhGZAQLC4ZMmRZn/4vxZn6xUWNGgZFAcNAUKi39TNQvVTEFNRTMuMTAwVVVVTEFNRTMu//NExFYQyL2gADDMTDEwMFVVVVVVVVVVVVVVVVVVVVVVVVVVVVVVVVVVVVVVVVVVVVVVVVVVVVVVVVVVVVVVVVVVVVVVVVVVVVVVVVVVVVVVVVVVVVVVVVVVTEFNRTMu//NExGUAAANIAAAAADEwMFVVVVVVVVVVVVVVVVVVVVVVVVVVVVVVVVVVVVVVVVVVVVVVVVVVVVVVVVVVVVVVVVVVVVVVVVVVVVVVVVVVVVVVVVVVVVVVVVVVTEFNRTMu//NExKwAAANIAAAAADEwMFVVVVVVVVVVVVVVVVVVVVVVVVVVVVVVVVVVVVVVVVVVVVVVVVVVVVVVVVVVVVVVVVVVVVVVVVVVVVVVVVVVVVVVVVVVVVVVVVVVTEFNRTMu//NExKwAAANIAAAAADEwMFVVVVVVVVVVVVVVVVVVVVVVVVVVVVVVVVVVVVVVVVVVVVVVVVVVVVVVVVVVVVVVVVVVVVVVVVVVVVVVVVVVVVVVVVVVVVVVVVVVTEFNRTMu//NExKwAAANIAAAAADEwMFVVVVVVVVVVVVVVVVVVVVVVVVVVVVVVVVVVVVVVVVVVVVVVVVVVVVVVVVVVVVVVVVVVVVVVVVVVVVVVVVVVVVVVVVVVVVVVVVVVTEFNRTMu//NExKwAAANIAAAAADEwMFVVVVVVVVVVVVVVVVVVVVVVVVVVVVVVVVVVVVVVVVVVVVVVVVVVVVVVVVVVVVVVVVVVVVVVVVVVVVVVVVVVVVVVVVVVVVVVVVVVTEFNRTMu//NExKwAAANIAAAAADEwMFVVVVVVVVVVVVVVVVVVVVVVVVVVVVVVVVVVVVVVVVVVVVVVVVVVVVVVVVVVVVVVVVVVVVVVVVVVVVVVVVVVVVVVVVVVVVVVVVVVTEFNRTMu//NExKwAAANIAAAAADEwMFVVVVVVVVVVVVVVVVVVVVVVVVVVVVVVVVVVVVVVVVVVVVVVVVVVVVVVVVVVVVVVVVVVVVVVVVVVVVVVVVVVVVVVVVVVVVVVVVVVTEFNRTMu//NExKwAAANIAAAAADEwMFVVVVVVVVVVVVVVVVVVVVVVVVVVVVVVVVVVVVVVVVVVVVVVVVVVVVVVVVVVVVVVVVVVVVVVVVVVVVVVVVVVVVVVVVVVVVVVVVVVTEFNRTMu//NExKwAAANIAAAAADEwMFVVVVVVVVVVVVVVVVVVVVVVVVVVVVVVVVVVVVVVVVVVVVVVVVVVVVVVVVVVVVVVVVVVVVVVVVVVVVVVVVVVVVVVVVVVVVVVVVVVCUAswP4u//NExKwAAANIAAAAAIAcGKEPDnXQm5xqQ6JmOPA0gcFxOMAYQgDPhcTqOXWFDIXHAHAsYAwyK24Tm2kKHCMTpAm0QMXNdGkCZ8KBguCbQoMKMQhaNtQkoEQPT2IhjMPT//NExKwAAANIAAAAADCDk5J6ZF7DoFk6BBgsB0A02IQ937vYIYemxPTIPTYhJDLvx/2Mw8nQIEFgBR5NozwxBAWF0AEDyGb3J0QQMCFHk9MIRIoT0WkYQmSLE1PE5jqg//NExKwAAANIAAAAACeZpXs1rV01EUFFgFABInJGwSsAoAEaDBRYBwlvdiWkUTiRRLZzuxKAZISEmAJZtf+cOSLJabLV/62ZpJ0WI5WzlPLyxLTUWJZVeZ/bPVecavWz//NExP8nmxnAAHpMvS1PPnG3/+vMsdpqLmy1f9601FiWmzM/y1aalZswjgYSYWUjBKy4GueKiVqdUylXS+uF2pFOXIEbjSFZNSrkyiIREMjQPAeIBWODxKRFSqSaSaSa//NExLMfwwXcAHmMuUdKnF2D5KRFTiS6k839meFokhIoDEgRZh8XDvFqSIihIEBFmHobn7Oz5uVMs7Xm///s7f//v//3b5uM7s7O3///+yzu1wtE40oosy1JA1dNNMNM//NExIchgukYAHpMuUFNRTMuMTAwqqqqqqqqqqqqqqqqqqqqqqqqqqqqqqqqqqqqqqqqqqqqqqqqqqqqqqqqqqqqqqqqqqqqqqqqqqqqqqqqqqqqqqqqqqqqDOGGYdsG//NExFQAAANIAAAAAAgwEptwGzuQuXF+U8xDlWX3TCbajC8/CyN5ASMWKAwyKxWTpBQSLCgUEhcEyeSAVm1ECBhdG3kyMnpAgJFQQJLXIydQUMeiAwu3aOQr3F0hQ6c0//NExKcAAANIAAAAAASFxW+lBQ4gJMtdHqBj+oZOsmxOdzpBGeKMLk6TE6bUcjSYXliCJG9TFECYYijmjkQGJoEDCaNIQSGP/N/CI+cCTIomFCFymLe23ZhhnMsh6vUj//NExKwAAANIAAAAAFXltxGnRKSNyvzYJJPJpIsAoscDJCQEk5EJwkSpiSWuaRipNw5LWLBdIzKIoKdHnLBVU+EoSeCVkYejQkpLTtBUpmZYls762cp8NynglZGMosiU//NExP8mQsHAAMJSuZGwkcsjCRqjn0ioluUWRNIs+ElkVdnRZJ5Ye7wqGg5VAUCo0DmSDsqFcuFJOkbpel6A//zIzI/L/kX5GZf5/5q1ksf5cv9llss+y/////9ks+yy//NExLkhSsXYAMGMuFhl8qyyyggdhqq5FbdpoqVMQU1FMy4xMDBVVVVVVVVVVVVVVVVVVVVVVVVVVVVVVVVVVVVVVVVVVVVVVVVVVVVVVVVVVVVVVVVVVVVVVVVVVVVV//NExIYQomlQAGBGuVVVVVVVVVVVVVVVVVVVVVVVVVVVVVVVVVVVVVVVVVVVVVVVVVVVVVVVVVVVVVVVVVVVVVVVVVVVVVVVVVVVVVVVVVVVVVVVVVVVVVVVVVVVVVVV//NExJYAAANIAAAAAFVVVVVVVVVVVVVVVVVVVVVVVVVVVVVVVVVVVVVVVVVVVVVVVVVVVVVVVVVVVVVVVVVVVVVVVVVVVVVVVVVVVVVVVVVVVVVVVVVVVVVVVVVVVVVV//NExAAAAANIAUAAAMXGXwfoms3NHLut00+2rn/aOEmJ8jcw4pQ5/+LFBBdF/1OynnKIOww//yN8PEEynUrJ/+jN/0KJscjpVG///f/+PIhKnIJqosDqAxiJGxoY0Fqq//NExFMSWyJgAZMoAXzhovWmYMcQRL7AopAx7XI2TE1CyF88nNKafDBJNdH0ZGRM4iE9RRqU2xM6Rit5BhRlQoSQ0qRpMMEDGKt5vuOTrTFMVtQQHrnmI52jgo7VEkCB//NExFwgwxZkAdFIAEmpOXqeTn7lamRrtQXn53Wb8l/CGTnCcYQhHG4L3DFLq17q6yBB2AAglrbR2NLIjP+fv7fwk2XgGHgfMBkTylPiCTQfZZDg5YyFolSQxVlnneC///NExCwbQw6AADmMuRM7ts1th7p1gjPjGIQZeeMtkdwusMyOZTc5rm06zH/0zOhGbDrTesYtneIiKy9//f992HTbx4fs+x4bfJCGZMiPGZJyYIyyE+T0Rhg8BihhEQ90//NExBIVsQKYAEjMcQ8P6gJDaZNwGhKe717pZHficIMalHPQxaCmrROMRyqMl7F+gMG3SDtCcl10TkKv8///ntcZ9Lv/va//y2UP37f6mm77yvmpTkMhHEEBl08VJJXG//NExA4UqMqcAM4ecIWH88BTiACW44I0EYCyF0m7oyKwTsabCwIFLWPJMmIBcILdm1DfqVV6hRUWq54rOiEIASwRvT3iJX/+8Ynscyp3////Tb1nKlVvK9YQGVQcURBx//NExA4VCNqYANZecHVmuAtSeWYMChOKCqTqyAaSpG9TR8kAWM+vYJL1CXJTxlgCuEuFKYtNgcaUe0NwWBBajfczlAlKf/9NeUuOJF1NB8BEgNUqncLsGFUlCxBL0t5G//NExAwVie6YAN6EmbKOGU5uGouwAhgIkSuf2k4NMp7c2kYZwPWgPNfZKxIgupe+gXPwJSbp6UeLTVnGH1Gcv/6vP/btz/b//t6f9fZ0iziq0XU5xMaAVausZUMAotKv//NExAgT0NacAN5wcMwM1pQsBkyfUOytJQRypYT+cEgUxm2NhnoBCkNa1HFNQ5J/4rZBDAhVPSQ2jeEWe+TVZCnJTcyp57KCLlHf//5A8wIZGikElbHf7ECMbpZLyBeO//NExAsUmOaYANaycA+k7NiGRgcTr7VifR3FkP0+C2xJbIc8GwBBqBql1wDhGZTAr4KLmAU2fVkdDMQFDXlh9E1M5ffp5Fep3dflP4ZjG21npBrhqtY6spzjWNZur+mM//NExAsUqP6kAM5wcAi4UVnmiGBAGTTdSViEtmvNzYjFbX8Li+JF/zbxRahwdAqjL4zseXgkDB2epRIqW1SQ4/DzRmXy+m5X6IQwH3FP/a0gKM/8lbm9QaF6Vq1qstEO//NExAsUqYaoAMvQlM82rciIr5MyCzixSxesiNXi3H2ld7eJ2L7wyXOVZD8JsmJlISg+YcDhGq0N1l0NjIEW6Gi59SL3/1f3V1X17mmAs1ny5xA0qsNclxMwcKHYIC40//NExAsSoTKkANYYcD0I0Ip6cUEhtRXrKoZ/nyhl1HjhGYtv+S63yydRyyQic1d0A0vLrnruUjd7rdPTq13PZzZyHoCfyO+2K0eMPIqKVoNKoQYHrA4ga82cGE58tmNG//NExBMSQTaIAN4QcC4r8tKA2351D4jMoHLd6mubxylkjx/EFMrZIpc0MF5YkmFWGr7B+uM+/hY+B3DFu6f+W8tFq3tsv0laZ5H4kxVa4IMHAY58sCYE25QShBQovVnh//NExB0SWTaAAOYWcMYJCv8+bx19dp1rPmxM78y6QD5E8Eaq4La7RHVUQTGfJ+/av+Pb2r//R8q5NalWVKdmGSax1KCyhgZCaSQmkEwOHEQzAQdxbs/ACozidLuYljgN//NExCYbqcKQAN4SlXKtuJ7lkrpn8fz8LkYkGE3TRRxLFPbl686iI5I5TBtRjnGYT20dMWsjSVEaKJOkgIHagcjnc/DJyxduqufudZ121GKmQwi+v+qxvlotyNNxSFUI//NExAoS4U6oAMvElMZsBZkuqLkhyVmoPcBki4kMISdizcQRCHC+Cfq+fdhY1HiU/xSJM6N0x3gjrhOY6d2ubNDErFMNK1HSosoXTu8wupvv3Enh8+Erir+hr7X1a4Op//NExBES4OasAMYecUW4iMDRQlvZgVUmnLqeHlhgUhkldcmqFewuQjo5lTVOnSqXWO9iz+0KaP0yTErYmj0SnaqHrJDPt6mqqd3UjZTORzuMTFYNAt51Blr7z9PKRAN3//NExBgTEMKwAMYwTDGedIG8Mp1GHbyQnFoVfuw3ItUqyR38ZqLSyx+qbh8AiAeEnW2OQhZICOScWA1khwo3//oqNNQ+wB4KSS4i3EF8hG7SySZCI8B00ZWSaiJ0Ti8g//NExB4SQLqwAJYwTaoPUzyNPt2i5xrgVBqXwutGn+ltvmu2bBAKB/lES////8o2ysVos5qVmRR9ZwBfQEiFqsoB04DBCaOwuY00B22n2ryRwFano5LzumBBgWQcxpjs//NExCgR8MqwAJ4YcAHuAkEdfOhCO8pkHuvykGxOBm/+DIjKFRUJhI+Jxc4iPNmIf4D1SbP55u6KHORGgZ0MmQEiJECRTrMQA0+HKXF87rqryTqS9Yv+Mpfmkl9Jhjyq//NExDMRYLawAJYwTA4sFRGGTYVZ+KTKYVdjxZgBNoq3jqvUbuF4o0PbedhumaCCahmXut2dKpHGCt8Ur3IbAkzrYIXCM5qXGCJihETG4MWI938+1p9SomdCnblgWg0P//NExEAQ4M6gANYecPEsNIptJndAz8ZFDlHA08QTO23FtGRjFFdRa7cmsXuf7Ot8RcJYZp0psxNwx/nTFzuBEjf/Os4t/eG81rObx6PSLCXo/hgPBQQMqqG5PxhOcxBO//NExE8RsPaMAN4ecBdCLXXZtYAwwyN6EIFhG9RByo1a+UOxAcO0txyGcPrNRIT0NDR13lnLVy7LVUYj0iDgsFjh9bR3/UXPvG3vNbXeQQzUwPYIVK3vEYcmZMOcNCNL//NExFsRuPKQAN5QcG4O6mOsdz6d2HcdyeoIYsQAyqilDAGWTpACwgJ2nTNtzhtVk6rPqe7/28q0KWfBD94VSRWzvDEEhPQX8mUyQ9oHM97NC4gZAuM40y7iAdS2iOgc//NExGcR4PqcANYScAQchKUJ2GrFmGcqAwCwliULOxqtxsKgUHw4beYAAZ/2tF0gN/pXcj//YpWm/JLQDiurXeMA1oHPOggNLAxi1+xBrAjGldD0MKANCmHgcRz32Z2y//NExHISUKakAMYeTPQcSuh5+qCXw9PU+GXcua/fl61Vjrb///llEEynuaBSaozO0AiyahJ2wF6QwqHnhC1IRgYMSrR6RSa8tNLIuK4q52HT0fUHUXAxUrWo24dvVZ6m//NExHsSGVqkAM4ElKYQmHJFXBJAqd3f7KCZIUubWMqGcnBCK5MVlwjCiZpt3pLLn0Pww2QwQGR0tEUEmYynO0HOUDN1Yad63zvdsS61q3Z5vv/vWO9fRLLX////dFI7//NExIURIJqYAM6wTHohp1EolNZ0zPkdXbcCoflQeWisKIa0wQFWc7AYrN/yVJM8rq9u42wM6B5Ol6Cxw9DjL2du/PS/u8u/r/7Y5V9FqmnbV9O2hFCCIhHlnHybC6////NExJMRQZ6MANYElPTX//9dVYAl7YDCzFNIuKBw2QkzMGG+mzFqPLTBSB1UwBKRdEqVGlydDJo/B5sL0fKtblcioO0imEItDfqx4rDFKMSftfjdL/jh92EQXEMFw5Ur//NExKEU2VKEAN4ElEh265fl5IkwNv//iRya//9LQ/+rqY1MOiYtylzNqJGBTxiNCBeGtorgjUONwo8SIHx/OxZE+XRa9XklZygEIIxWHgBcPhNEECITFATGnx3xULfr//NExKAYcZKMANPQlOwdlPBICB7D6tbqrl9cc8vj7pMjNBsMIp93FCoZYTpX/9g0LgoHSSb2qj2kpZURQudRDIInc0N4jM4Eoi6NAJCWWKTrTama501rV/Uc9b4b/BFu//NExJEaMZaQANLWlDRCZXXFJ4nAS1R9ZZk1UKtCKx8mYicSHN7QNWQBECM/rV7zP//Qn+PSgfK8cI1NoltD1vkwbfGLq2Ivi7xvCysrY3vr3393zO02SHcPY6g6CeH9//NExHsUOTKcAMtScHNR2EdIvgrPEQmtRZfNT1cT/Vx30q5NH/jnbACz//1fvOtoaBbkhqiN6Vir0oby1nA2IfkmgQAtyaB7KZ7Q0z3//Xz+q8/bNuao9jAjEAhxg8os//NExH0TQZqUAMlWlOHHjrOJkUb3aFAUHzL//1lf///TVeG6hWp4X6b6NmcGPp0w68YqsWPAFsUHOHslGnWqPM53/5+P/4+Z9kwmiwqDg8iOUW9VyJsde5i6zgAov5gX//NExIMRoS6QANQQcCv/8w7//9/1NLUVeS20k1wqHWfAicJFqNi4SeixMAGiWKUeoHWUa1Ua1f8xzfz///6XDiAH5wCyErSmqOOSyig657/94f//T////vWXbvLiwEQ1//NExI8RmTKMAMtWcL7OocIhRI9Y4SB5oogBKNGOs8r0ja6tE9rq/709KQ+IjECI562GGWsTAoecOXr/4UR////+S+iYBRaSKo3JnaOMpFKQAlSNLEYamYZjNneO/V5u//NExJsQgTKMANNQcH/PlcijI4lSVf/Krv//+/9lRkZ/5yTpV/9PV+yPn6I92nchN2h3oLRjghDOQ7qHAzhwNSMHFwQAwfU60rARLSCI6K3bvvn5bIundq/7aKJXdbL///NExKwQWTKEAMwKcP5GO6ujJ//z+32V+6Y3NiZivqa9sMiWbGIb38q3uvQQ4rOorzua98LsWectrkzcdY7x4SNA8HLJZKHY8xGsdAEAOSQPhQNgaEOXDrNBtExAUGAM//NExL0UGxaIAMBEucUlSgFT///////z////Jy//1/+jf6bHZtKt3n3MZb59WboiVQ9z3IjjaqSoWUfHF2YmEKTCqcYYcccc4+MFQfCwThfj8RYSx6KpMNoJjP////////NExL8bmyaIAFiWvOdy////////////6dJ5pjMeq7mmzDnx5iOerHIa5hpc088YH0EkHQUHziBAoeLAuWFI+MkUIgvEgfGoPTwHD4ChJWoCf///////5///5/////////NExKMSIx6cAChUvfX/V9veyUoys1DGRnaxp55qGKaYec5hYjOGRo2cVxCiaMAuAQBYEONjRsKw8FgaDIXnkAih61UH/9f////9/7///g/////9n/pX/OPem+p7q91Q//NExK0SYx6cADhOvfeyqaREJAppU1nR56zj5Ijj8bGiyIsuDgA4K4xJhAAVAphDlxZPEQ5owLzKBi/9f/////y6///3/////r//rX/ffmZk8wmTc088wqx5dCRQgPIU//NExLYRiyKgAChUvBcJzz6qWUSxeYg+NhLHxFEsIhOIpMSRFCdBHLDpAIiQSiggdQw/+6////8/3/7//7//////tpf8619HbPqnec6rQ4uVZ0RGMaY1BUbHQfD6HliJ//NExMIR2xqcAChUvRGqBU44UismNFGpIRR4oLyInNUSRsoCRv+T/+n/+37////V/////9W7nddk0Tbfs7nz1NOc71npaYeh5pVDSLHFxxzjTzxSDwBYmHCwtBcREodO//NExM0SqyKcABBOvAjHDRFU6YJJOONVDxMIDpVsFZ9VrNAiMu/fqs89D7rLdKuUequ76W15519xDXUdab2em+c0p/rzXZrlt1prfn5ei2Ztt69O12uxNYr6NCnu/I5y//NExNURGx6cABBOvN0zMzOz7OWHl56TI4O1eIcTn1YOrFKBXbptDls+i5bUvLwlffbVFABTIGU4rmavpjYqlyMzLhVIi/umV0DK2t3U1LGTNI2yEEQyS4sKhUhAQNHg//NExOMRyx6YAUI4AFR50seyoKuyNt3/WCo8FZY9///EsGvyoKyp0RA0eBoqGhEMBqCobEoaLA0MBp4lDartO2LqkplqpktKjdKpKypKZerTdOm7K9srVpFUs3ZYrKrT//NExO4jcyp4AY9gACoqp2Klm7rUyqU7Yq2SusUmWp2lpVYrVJXWq0lpUbpVJWVqmTVaS00MN301aWK0X/IlSJd//pKVqHfVXDVYqt+gmiI/6qdqkq7fiVqHP//2iJUi//NExLMPSCpAAckQAH6aIizdN/2DVw3fTVpYrRf8iVIl3/+kpWod9U5MQU1FMy4xMDCqqqqqqqqqqqqqqqqqqqqqqqqqqqqqqqqqqqqqqqqqqqqqqqqqqqqqTEFNRTMu//NExMgSaAHcAAAAATEwMKqqqqqqqqqqqqqqqqqqqqqqqqqqqqqqqqqqqqqqqqqqqqqqqqqqqqqqqqqqqqqqqqqqqqqqqqqqqqqqqqqqqqqqqqqqqqqqqqqqTEFNRTMu//NExNERuAVoAAjGATEwMKqqqqqqqqqqqqqqqqqqqqqqqqqqqqqqqqqqqqqqqqqqqqqqqqqqqqqqqqqqqqqqqqqqqqqqqqqqqqqqqqqqqqqqqqqqqqqqqqqqTEFNRTMu//NExKwAAANIAAAAADEwMKqqqqqqqqqqqqqqqqqqqqqqqqqqqqqqqqqqqqqqqqqqqqqqqqqqqqqqqqqqqqqqqqqqqqqqqqqqqqqqqqqqqqqqqqqqqqqqqqqqTEFNRTMu//NExKwAAANIAAAAADEwMKqqqqqqqqqqqqqqqqqqqqqqqqqqqqqqqqqqqqqqqqqqqqqqqqqqqqqqqqqqqqqqqqqqqqqqqqqqqqqqqqqqqqqqqqqqqqqqqqqqTEFNRTMu//NExKwAAANIAAAAADEwMKqqqqqqqqqqqqqqqqqqqqqqqqqqqqqqqqqqqqqqqqqqqqqqqqqqqqqqqqqqqqqqqqqqqqqqqqqqqqqqqqqqqqqqqqqqqqqqqqqqTEFNRTMu//NExKwAAANIAAAAADEwMKqqqqqqqqqqqqqqqqqqqqqqqqqqqqqqqqqqqqqqqqqqqqqqqqqqqqqqqqqqqqqqqqqqqqqqqqqqqqqqqqqqqqqqqqqqqqqqqqqqTEFNRTMu//NExKwAAANIAAAAADEwMKqqqqqqqqqqqqqqqqqqqqqqqqqqqqqqqqqqqqqqqqqqqqqqqqqqqqqqqqqqqqqqqqqqqqqqqqqqqqqqqqqqqqqqqqqqqqqqqqqqqqqqqqqq//NExKwAAANIAAAAAKqqqqqqqqqqqqqqqqqqqqqqqqqqqqqqqqqqqqqqqqqqqqqqqqqqqqqqqqqqqqqqqqqqqqqqqqqqqqqqqqqqqqqqqqqqqqqqqqqqqqqqqqqqqqqq//NExKwAAANIAAAAAKqqqqqqqqqqqqqqqqqqqqqqqqqqqqqqqqqqqqqqqqqqqqqqqqqqqqqqqqqqqqqqqqqqqqqqqqqqqqqqqqqqqqqqqqqqqqqqqqqqqqqqqqqqqqqq//NExAAAAANIAUAAAP8xYNDc45QRjP9p9KwB6v+Ny+gt8EOcUDyeQjWHsnyMfViiKf/uW6N/ndutNP/yfiURMiV34Y+ISQOKWEP+/P80FIWaTZocVDBPlNu5+LsjIad9//NExFMRMcpEAZooAMOO7VjGUqO8njacF1/h7H9dMRARi42/83Pkynm0nhvJv/4JjT5pWQZkbFZQ///NDQ440OWPIJxMHov3f//sZfBu/Pss4WD0TSw8H////+GH2U97//NExGEgKyKYAY9YAffdDqAwFA+EZI6aFtHzv/////////N+pR40pQ5MZpaqsY4PsKiA6o6TDoFFCZy3Zft3ojhSc/HKMWOf+FrmnT+A/n1F39gaGSOEcAQEFmhDF2lH//NExDMV4dKoAdpAAHTmK4kQA7F4dC3/r5++PrjhLXTH9R11oKURe9pYS6WYiPf//or8rkGjiQwAOMMRa6pifqAl1yxaLCKc0JizkwBwqnZhNezS4fR9ODpbOTgy3sHw//NExC4Y4dKgANMWlGx0slQgTz7ob2neGjqXu0wJSycoIRnT1L+EHXzDa4OS6Jcw26h7Wb1D6KBMQLh2c////poQisMdTZUVALuzdgysZjLB3nbWJ+xTDUcNaeAwc73y//NExB0ZCd6cANPQmHWsfSZdf89oms1sjdZ0mT6mrg9QsK53ZTHTFiY+OBCH3+FUFkDA2eCR1XUT8Osxx/GStdjXh5XpJgWFA0xj/93R//U1qz6U1cHtzeMCyDRgAUGa//NExAsUqSqQANMOcNIBzPsDcpg4stJdwIk0xfSCUqmdOVtpmq3qCoHpHnEnjpFqmiYHT1bzjl0fnISKgIGqg7Kj052V0CLOhoq4S//h37fzzk9kshJYPAOGSPgJAcuA//NExAsRyFpcAVoIAZxqagIKjKngpUW2ZOqWGM6WbsWrUI+YPhrXy3DsPKk1f2hd/UkdV9+a2Z11tHiYFMrv+wcB6fv89BFv/lUHVjYk+fIrReEWJitDcrpt1d3ovMPW//NExBYXymJgAZg4AME4PD0mulojiMLBZ1uvOEgWlyHd/bCQ8mcVJpXb1V4vNPJoY3VUXShiJ3MIHkBYVdmdevrvt+xMkaeXLQsQimy7Rp4qcMEwkfWqdhZwxLnClVqM//NExAkUQyrEAYUoADuzuc32SW36bTL7Wvm/a3/S7O0eJUS/+6+gw5zqcUIQVM+/23QgeKLiIueqIyDVtHirO///oUikFwgKERmEGyDDHFWQ0SdmETa3zz9AVdyNX0So//NExAsVMoawAcMoAFDqnn//llAQOjyGFnrJIjJ0RmQWAodHIJFn/varLKQ5So4kcgsVBJRziJnzmM8thrVYREhaYSFlERU3mmflDoiKwMeOnTvqUe5KmbX/KAq84jbP//NExAkUoTqoAMPMcCzVCreDfJOyRJFYIWSdZb246D8YYNbQPjOfmGIXD7uJwYmmTM1aJrmRhAw+tswt75WaGtDREOEhk4E0mFopeeYb0KS9TanG3aaK73/yZ6KYitXP//NExAkUoSqwAMYecBdlFUJHN1KTJqojEt2jvXJtrr3yzeq0diFPiWx+ljvXPYiYHBB6UfKefdreOyfWa41Hv61bobhQCjRR6TLGt1spBGkutc4hjCqaV5dCdNT61KzF//NExAkSYS68AI4YcETeb1jEREM6EWpZ/+spZpSc/mLwkKO76FY8p1tFICAoLFarXIr5ll0MDnzXo3O7rMtHEBoBvqtuxUPvME7+aXFq+4GCFoZTaskQNl3PynS+xK1X//NExBISQSa4AG4YcPlvV9uTL6T/+sAWoFpmUxsBw8tDw5DWIB50zAZLSfHNdOjvJ3Fz7jAYEQFfUiKjE1JFLABv5qtuooDMADlImzrrxM3op+Za4+ySwdKxlzL46un///NExBwRiTKsAJ4ecP+JRhKPW8eKkk/Pu+IeUOVO9agQsnFEpjMFhLCza/t7zfDfPZLry38DdNU5IlKtyOEXBSBBrrzMLMNYGyZCFRpNpgI8a0V9uRmI6jrPwEpgyj7a//NExCgSqRqIAU9gAOHT39V1aSQIqHrHRkJROKqJc0lEkmpn3ZBVYC7vs/iLWdyqNIFGUinZ8GLXT4HZzYmoHdOHordoo5XKR07SSHUnFAwNGdlpG4lJsXAuB9B3djU8//NExDAd+l5cAZloAJsOdEPA4RFEgYMmZrNzpqpcYYmiZhcxyG6FlqXXbaMsyKBqkSg8PU3q9WfQLiKZLumr/9S/9pcNE1IGiaA+f+372cHxA4RmkSuiDQElJGB4wu0U//NExAsVKeqQAYs4AAuvyBw7vwhCw1ZWHl8WAFhsOF6FTlN+D4IRUC4dHDWPONKflhkgRHh8Tzrmon8cUxTiTIzsqL//JmRdiy0VELFs/bwJx6BQ0EhyG0YEAAvk89HD//NExAkUYTJYAZkQANALjWqsps839nwTmN7O5VfUzhXgs259SkMZA3RT7su9nGOsasgKnaVRFYgBILy6jKRwCIqOgDpZS6LlqKyqRCPqtH2ruGvdeMoBJMJpAnVp3oCY//NExAoVGyJwAY1QASHJo8/zyMn/wLxACEEQn9ppONBBi3/bwayAsUJD/9/mGk5OTuP9P/+LiQWGMJCND//9//MJzCQeGnqe5P//6/9X8wwwyYqnqcTgFdlZxCWTAgAD//NExAgSkrq4AYsQASoiCYxqZm3dqP/yv0N0I5zoWqts/oRUV7gkdivU5ve2QljNeO6A9N6Jnec/uJOeFKY6tIZld/0Ruc/p6A5l8m67/xWVVcd4ZDBh1JoG23Zd2OLv//NExBAVWVqkAdlIADFBpMauXzbA5i/+/pkfZ/9o1Ut//us/pIgbMotmuFyJfJdAgnktuaNDJCzIQAQZPvjk2zzJPEjoShMMjELcJ/r////+UWqzz/+VkFzQN6yo6RbJ//NExA0Roc6kAMqUlIARKiOQBmDUd6ANO3Uc+hn0m+RAuAXGpPOAJif5gqESbKH5ckVbkL/Md/K/qNvPOHvKP2av//t1frrPDPCnbgFPEzJ+vHLAx4AMwGglU3pkoIQn//NExBkSkUKoAMzOcJtay6XW1GP+//90e5QUgSAaRZTxQPiSRmKXEUajVggEjyqdZ2NCYuJgkFFs//////oqjH8zvLnN1oSIRmc4CV+F9QWtR1pJLVgQasrFPc7uZh7n//NExCERUS6QAN5KcH/m3+Dz+3VRX7l5RMOAMAQsIu4dDpSGdUDwsSFg7//DZIce+qqN7oImqoDV8yWGBwexCccswIMOVSHjV25bZQY1GDnMUv8p3DZt/cdRB1d88F4t//NExC4RcOqIAN6OcOg6JTdDfQVkTp9kualAGRYl3///////prNr7kpMDDCUMpgemEAoz0gD57T0DgFuEgZbXtyiUxru8PlGf5k7at+f1X/aX/f7W/LMIBCzCEnkyekA//NExDsRoTKcANYMcLJpsAJjZ+fcHyaOiv/dxLQ+BXrBFgRhMfEQSIhG+jp2KVXlvRTNtjnmrnV7Vd3ftGf7/+0Ze/SlJmhyRAstHR1LmiWxCIPHAUOqdputKrfXw/Ud//NExEcQ+TKwAMPMcCYSra3pLnrpcWTORECgueF1wWvSLCGIZ/liV1rXfutrWZr3ubsZUQCBIccgEDwmcG67MvIb1O3U0VqUAuaPNcdbXCNrfR+hrcydAXbAuLtlj8BP//NExFYScUawAMYMcNOQSEHAO0G5HGGyrt1/uVtRCZtbzqZd5my+o92RosmSIiSwGMClQnMzs9vX+tstcUdYqxh1Sa6+hCmrhNjGBdl7rxA2H/DTLYBI47lR5V+qrjQ1//NExF8RcUKwAMZMcIRpS1+ea19bVDZx1Kw61pUOUpRISLCIoASlKgkczmX/bmxcwtZ/qev5JbUCR0gniafZNJgq8mojjdWACAQA4G9ldkMtqx4oLSreUH5fXl3d1+Fa//NExGwQoUKcAM5KcBtpNB1FDjugRZUDDIwRbR9WvdkAUQo//s//6WwvrTCDKDJ6AofLFiaeGl708AqVFKEDf2K5ZIJFRY/MWt8vW+dfGyzCYtibZDUCxXGcfQ4UYyvq//NExHwRATaEAN6KcJVGLFRIW//1q+v/////VWowEBBEADDQoAGWNQjESGYEEBoRJm5wIYJEJgQImIyCULxIRzXgZpqOGAwZD2NSXYc8XL1ZoZxBJv2/U/xcQa17e0TU//NExIsR2TqAAN5KcO7viZ9zqYqs57v//5Ul1f//z38dITQ4sdiJno0KhI6DmRmQiF18F7zCwIAAhaFJCSvqtWTjzZY8GQH8FbCzZN3WaH1F0ulEL+630qS5LGRqPQOC//NExJYVuTZsAVxYAKfWgzJ5sblMRgchQ/V+mSgk4XMlCQJQJ3/12Qp8lzcYAuEoUjQlwnH///4wg8CgOMeaCBobmZuh///+66m7S4goobPaFFDgcA5JNlcJybysEJD8//NExJIg+wp8AZtoARnovgqyQAEl7jUkS8mwkjwQ+AyjENxlpdiiM+3B+qKRLeGum+OpDob3ywrEWqrYl1n5tHntel9YzpsgHC+tZ9ZFO93xm2XLf1vXlphz0u2iH/i0//NExGEgmiakAZl4AHhS5znwZ/f40xOlyyMm4VPX2rSDF0SYtPfgiAUEChqqrXWmlzhJfA7OwWq6IEQhIESAzCaRoygOQoOvKXkOk2DhkKcIxJkHA4fiCHgjjC5pgLWO//NExDEdEdKcAdp4ATZ5C6C4MsZdAPYdcicESFLW4KdOjP1Kr93esmd6lzH9YntRrjy3eqZw1XOr7xvWtY1n/fxXVM6tPSusY+PrzdNC0klV1nquENo8LhCVH2WXrpIa//NExA8VWRasAMZwcKRp6ZPs0Z2yxiAhxUeKZPJ4uKGuPl1jcSi81mQlWHceJMxSafuX0tWR2/1Lv/6uWfflVyxjnr+7rAgCodnnAZilxSupbf1Kw/c0OqfjG43Es00D//NExAwUUR60AMYecHtuJfiGLLXWUj643abiCAotyuUypCdGbV12TFIWxpEekIEEgUBfTpQ4li3qR/HvWu75rJDvvMSBNFq+ePNBMLt9vTXUymptYa4QKgcUJ5BGG/iO//NExA0RQR64AI4ecNH53GhC0W6Y4TZeVUlFqoyJl9vJ9lRTwZj+M1Hw3F2JsWBkzBbIms2np9+NE+MQd59oJpArQ7/on+IIS4G/Gj2bgAa5c98AV58u0yyTQt37X1U9//NExBsSqS6wAH4ecFmlbLLKRc306l/8PkVS3izjM0/w+VGvmCrIn1l68xt7A3bMt3mlCr7rPY2dcr47RcOfg7Y2qjjHaAEwos8HrIIZfhrb7qi/m7zLd9/cZ7sM7c4S//NExCMRISqwAMZacP1jBoVpB+J5otxiGqVByRSTnCc7u5MCSk56vbhmF9vl8WWv+6hVCoJ9PfUMOB4FtTEMGgDZ731muyLH6jcJ7Xc84t33Y768zjX8CvukBIJltKBg//NExDERQSawAMYScF/UEBV+/vj6YSPniWd8ltYff/WOw/vjo48DygdswJlRSfn+AKwVsK8AkBYp9ddVt8TM28UiXT8tu1mW3vvdN/veEgvurXnzMWXcefvdh60JU21l//NExD8RwSawAMvYcH6UQSCgm2fomtcpwZbLbN0wUT/JaxG2ABRgqGFzSq+9EyqcWorn2/bcneenJtaZ3trlYDKBoCokKzxOIR9Kxlq/I0yoqJHw5EvkrZE7+lV54NUf//NExEsRkSKgAMvYcDBRczGIJhBEgVHTNo0ejwUSwQW6LaNZqReFSeVZTVNnj/67Sv/rX/t/+2pR5pQKgXTBqCwsLCwOkFu/1dM81R6WLoHeU44EHdlAwMmiGxmQiHGg//NExFcRQRZ8AVtAAKmSITQxGLGYApbVf7OohGBanj7oKHAO8lkq1mBIHjcc5eHoPffaS5ublQTgTIL4NdaF6JmfPXDgC7jBj+QyQv/+SQmCyg5ob//pprTTRM3KZMNC//NExGUiKypoAZtoAFDpmj/+mnemnfj3THuZHmXSWbkn/////m6CS3WZm6KR4kDxujCQoy4pGQEBlyhB4SUHBAQOLSUoMoSjNwlg8Yf55gg7XmBRMH4pLFREmlB8A+PB//NExC8bspJwAZtQAIj8iV3HxEPzDj0Q0xlUshKzlBaGIyVycuTtPKmjJc4iEVW3ZU/1JXY451NbRX1/6j1R6yPzbf///bqbIYoHeBIqgJSBZYwrDDZRPBw1hgwiADhM//NExBMUySpoAdxIAJzQgSiQwDTAhkAwcn2AwMTAJw4ZdBtKTlWvuMkDowYfJ8iSFuC5upQUh5pzvFvSs25RySr3bc5sW/////////XVT5fRsxhUVHdS+RBpMxPI3BqD//NExBIWiTJ0AOaScBSQSySpUjgGkn9NjDCT9VZ9d9jD5vL+2mT90pCf5EzXwHDyUQ8JLmqT7cwBrwYA4xdLHqpo+STVVN2pyP/S23/exFX//7K2zaqXWY4hxNFGVBQt//NExAoU8TaUANYYccze5D4lTHgQCFM4VDWUSGJrAsEnJRIX4x7UfyL285mjqdc/cv6YkHjBIBgcRSn/b1sv+px2Y/NN+8zV17Zcu2kAHwCIf4ee7/+evc/ElfdaGofI//NExAkUYX6oAM4QlBQjTo4zSjNRMRnx5RpEt7cX3F/+jZPbxmYKln/Su5YzyUzde03ZReK92MC6VjGrkRLvGzep6ah0fdkmVS1VbO2znrMnuV62qqr/5fFFLfpJtI44//NExAoRqSKwAMPScEnssTLkApHnh8uQHBUawijfVdZE8qKagsCs2sQgIYPAMJwIFZw1FZlDm45mupLY0sl/0NyVEhwtnpJIl0XDneDJQsf2Nt8FYi5c1S1lVh58iywT//NExBYSCR6wAM4ecNlK4XzUqb69hg+zl09/alMAvdUULkp4+4TE9vf23TX+ca9t0x7fHxaMMMi0RIoSuohGqrv51JcNrQO7kiWCO/QWYleGNhm+eM08SJcPeT9NRQa2//NExCAQGKasAM5eTNqaOtR7iizE7Uc9gUj2SpyGg+WTNuCoSWBteKJAzbf9Va9rtRmZyHlB2cMr5MAhAex3KtzbstD5zrSSkac1hIkpKZspUaa14TM4sT+lMQjm+Gnx//NExDIQMLakAM6eTB5lQqAzYGo44fCogPo/rY5n2hWmaeQ0VbsPGQACxYExw3Xs8590Grd8Ds/5ZGebygEkNePeTxmrRYYEH/k0vKROo5LrP5yTECYnB+f/3M77f5cD//NExEQRQKqkAM4MTJodTASA0g7GoNnnff///v/////////6qrJ/uV6VWuijo8c4tJY7kIQm1CCbIuroxxMeHGFxMPuqjxAOE3iAcHOcQFBgHD4ug4w4rpV///////9r//NExFISkxK4ADhKuVFvZkR91djHpNOOORRsOmnnnsSNOQjG5J4jDLC4dJFSQPRIDxcaJAUBYKCpEC6EzQ4SSQ3IiogXYRRgTDcHokGCWiMH///////////8r/////////NExFoSgxq0AAgOvf+P9rv/+f7aP5qflZqXGFLJNyRFmLzM1cCpqrh8JVKuhZBckgQA+Hg0D8wSCcIwPPGlyWOowc0KeExqH/+//////Ip////xu///9vrf2S7WdqVb//NExGMSqx6wAAhQvGsqGutRxz55lztVmoacNRlCKIJzCpkspSYcyHDZzRwHrkBSGgfCWx5JRUNx1jR0oWd6/jjsAwH6m2UQsMBGlzRCgiTYeC00ahHSfsSyvohDKxxb//NExGsSQyK0ABBOvKvd2b//1///3/+3u///fv8zp9epXzKXZcrcxSspVbNDAT0ovxu6mMqEcQEg4CzGQx2gOJcQRlm3nhj2HcWYNtZm4XS2bFi3ZwpKuP4vVrz9a7nu//NExHUR4uKsAHiEucTS1wlFYjlkdhzGKCVBEK93l72Zq9DfVHCfFq90eCLCG6cbpE7SCWw4lHRtHf///jqb5kIJkLrMlENagsrbgEOibmW2FG5DTVGYyfmcby7uns8z//NExIAXcTKcAM6YcLXfB1e8v169X68JNFgSIml1CZ/RJadU36h8lYH2NRI2cTKJBoCqah5B6Hs/Z///07s23QsQyNEy7QKVSYjeFmBmacKUqedH0uwAccUUd4/t4qqr//NExHUUeTKgAM4ScHXbrFmzPo7mWTxyCv8J+04xSQI/JjYspTjEly9BJTF3rf//qDpb+bWKSdvTYnCaw2yTp02Sa1oQEDuEwydl/QnvQSJkxTMBewaNjLbKnca8Poct//NExHYSoTaMANvScCl0dbaOW9A1XYlUGlkiBau3HPKunI8MtErDlNJ1H0IQUq36KqcihJSCJwt0EZcHMpxPANVyyhgt1YoOJQuVLTalifNgi8lYxFnG17jvJrgRvIGs//NExH4RqTaIANPScdM6tXDDxHBaHtKee///////7tWEs7fs6HIetpQDJwGgWWrgJciYU+nWLvOfZdqjj+FlCkuI5TcpG1mIORzWIARDS0iiBAGAUGj0oU0ozX//6vJq//NExIoSeTKAANvQcH5hpuBzZJGepOJnOy/zo1HKe9/aWarydOyu5/RVLDy1wtl19EierqFbKzSL6t2hu/HWFro/pRiLLt2gVACpC0QZwARBlZNwbjiJXsPmdiOLrZK7//NExJMP2Jp8ANYSTCkWTereaFb+XmhOx+X/n3bKVA/1bh3cMwwP8PfI/CoAG6xkm0XE4+vb9gmfWNk5GUWBqUSDhgQIWT4tAByIsyVydBWygFGpKzoeVdHdUhHwMQsH//NExKYcwpZ8AMMGudMFrzxWsiSFFwLQbiFLy1yL1rYU6ZtBWGD1TUlVh0QIB6oBGte7qNa9vP/OcjJpKp+Wft9sOwyahH4ZnL6qyujmMZTldEO77rb3dn1S77qvfdFb//NExIYVEWKIAGDGlJad7q6ey/W21L3o6mMkzkSddGHSTIVn5KoDE/Tp1pN/90KwuU0Sv/mR5e73QxBjZuilX6Ox3t2IiE2TkrWjEZ3p3Rq+itoz5znfZsn/2X67fZX2//NExIQSUtaEACjEuLLMy6IjdSCDBEdkVjgT8Q86y3kvMADGOMSceZOEiJuIWAbg0CfnOPWji4NtiZgDwxHjGvMnleQMzebcuL18EKgFh48IRlQ84ICokVYSnWuk3J3J//NExI0RAwKMACjEuVy7pVnsX1//z3b+imqAJVTPSIXJ1LqaUMoB8l3M6WMbpoOJWFTRMwkJpS6g0wVRMZ5XdEYpm2gY242FBORDWHiMDZqklEP8MzznXue76heesz3d//NExJwVUMKYAHveTE/bb4o3umD4oIHAAI0xV5+kQggtjK7rWG018GxJsswArh2zXESYaV9pTJ8AS7rUoALB07/06IJmoLXlDcWILXtwFEhei+T20Xty9H0fUOqQsXIm//NExJkX2TqgAMZScKup6n3RZwhbq91Ks/u4FSSDtdD0PfPYTYMak3hGUdDOkH1nnrAhkMZy5/QITEwb636aedfvasaw//sf/49/P7czdez6pwE2oYnJlZ+X+YO8o7YZ//NExIwQ6UKsAIZKcJDn6gkV/M1JtchvZjlkp0R71ExkAZqmRA6aNEoMzpJ1arEDBPSYXD3LUUn/y+r//c5//h/T26+/v1eo1CRjWkOvvnHebqpTJIGuY+Rqv9+CANB7//NExJsSQa6sAMaElLG+k4D2yDqlBicLKp18GUcadA8U6JhkmmuAuZCjOW7B0KfUCUEgfrLDmGX//8//7/bqv//+rg7pb/bp5ro4lHN/05zLowRwbkTRnNqGu25YEDYq//NExKUTAbakAMaOlOmFTm0DDnAAjgBFSps5cgVilICjSVeEdkNJetZaw7znO//f/i6///+9pHLBseextHxvZ+tC+20APSaE/H4/gpSJnEnUBCApLGswQg0mMYhAIQxC//NExKwR+baoAMZElPg0mIFF2S7yJDiw1SSbeFZgN0///WWBY6dtuwR1CrJz2Wz6qZbapBrM62IyLeW2IJJrRoKSh9kQpY2TCIoTwC4BCLjh8jUMuqAQuJIYIk9Lhf3v//NExLcRaVKoAMYElLll/9//////////oUS5g1uKrPPdnjbfvKsVmKpYGVDIVGiOpXyW5ILOpKGOG8yVA9O5TIzKlDkWNGYuIAqyBRatcMwZJ8MsrWz3///ywMiBQvrW//NExMQQgI6kAH4wTFkZU8Gytm1zzaRRZ00TFIGh0VFHBIw00shROchxM+SYFLjJtBo0y58WsqqgGoAYsOQAaYAsQYCEBhQwgkNYzRnEmRZXX//3///Xo2zFGK9NvsyF//NExNUSOVagAMYElEM7eht9b/NMhkTpSqDqptVUrcASA22WOFBgg6xJSjaq2ZcJtrXzNIBCASSARjEPJBAPhuJgei5tJQrG3epxUvYrD+NusxeNOrd09nFymhNdx3WL//NExN8SAIqQAM5wTHIeqTT5yK33G3KeF1G1/Gd4W9x9koiggnKJZ26YSNK0wtPMRcu2osUiwJPwfDHp/MJhl2ktaGMYQAw6dItiWZZgP2yCibKqDQXDAepwvGTGSCV9//NExOoU0kJ8ANTEublPCGX/v5/hWQv5Yfy9v1/6pf06v//89mOqqxqXSjfs2XDpN9X2ddmb+kxMzdUKupHSqrShqUanqFNOjHG5VTjINIBKCi3Qz9SmqZU3b146PEBw//NExOkiWxpsAMLMvfLhRkjMg2wIi1xQXcYLvPjlPXU5TDtaBo12tiIohJFAFCQcv2WoBdrE7n2NuQqL3NdUsa1SOaC1YB0lZsRmTjPNfnZdcnZulyltXMqNSHQQVbJO//NExLISiuJsAGhGuVoOTog0MinTROI0UgpzsY+ltkWNNT3SO3Kt1c1uFFm7JAvZqVVCfb3MXWpbjkXpm4FUrNbfVPa5XbZx37167NTv5bGa82obDUGLspI3G3/4WYpV//NExLoSKD5EAVkYAHV852t/39ztJkTo1j5mozxw6Iusw36SgU0j8nUoqmPkuSZdRH6g0wN1kgSKJdoNVQNTiBqiPUnGy6Fs3opprJIljJNA2/001WUdKKDGJi//Zaak//NExMQfcyo0AZswAGmZsktEtcuucKP/6azSt1IpuimgShgQDpfG88fLTY///6a0kUzRBEuHluYHtFIcxoHMGDBPwKOJQMCPQaiTHnUA8WSX0Ss83Z+/TT/X+Pf5/+cZ//NExJkhWyqAAY9oANXrTPzbX1emdfP//1/T3v87zjed7//185r/XUO1Pn7tvXt7YgZv6w/eHiWHA9vqLFh2vjt7juRmhQ53S7+YGIW7UVFpMJxkzdcH4xKU19vGKVze//NExGYh2x6EAcp4AcmjpR6Dby6qcqEyvHIxLolCEQR6DzUaFmkuCak8Vx1q8UoFb+///l//+Pln7//3L/z///9f/19fUTN+yq+eIbVztYen715iXqNlrlC2V3Neetrk//NExDEWWx6YABBWvQ8efTE9jEUzxFNyYaOLTIjgZIEf1CBJRuTzcbzEiB+DwNRQHodxQcFVD////////////v////93r//tXTMZmVWVnRTkS8iw6TRKsOEVLCwgYeOG//NExCoR+yKoAAhOvKSoimDhjReNA4oD8fC4vB2IxAqRCIZChMH4OggIGgX///////P//////////6/6et37HI0yptVs7MtFSPNID5JRq7Kw8Yrkj5wiiQLCpIVgvEzg//NExDUReyKkABBOvEwlAkGwABaNRgSRcNxuJY+fB////1//+////////////+rXmXrY8ruVOOk1mUU1GQw81rjxhxxEbGjxE0TlCA4KXPGpwVBeJJQZEcfF4wLQEiYQ//NExEISoyKgABBOvA9EYJxJICKSRQj/6f/////////7///////WvWZd1TvayHTl9TrHOkcPOEUiIphJCRhVXNKmHnHlgckBegLQkAQQByRCp5g1MKjwRC5ypOcf/3////NExEoRgxqkABBOvf///////1/////tv//zWZ5/R3HUPcwxqJbcdYdMNKIjKrMehisODcqxcgCgyI5hAJSwjBGYaaNxoJzRwo5QfHIGP/0////b//////////6LR69P//NExFcQ6xqgAAhOvV3Wt3RWarsajp/U6dqhyOlRqYNUeVPjxo6po0HRSBUdYIhQeLywksew+JJYUsYceUYQjQKVSW2/mb239G943/qONLul/+zM2mq1n2f/4jyC6j11//NExGYRAx6cAUI4AJrX//wo+tZbsZpBgvf//1Bu76r29t4r92///9mN7ChYnc671jb2uN5////56M0XKcVC9DYVaT2HqV9ldPfBt4ML/////9Bu4KhLC9PATkN48ywL//NExHUhoupsAY94AJVLB/GvtOnS2th1LkuND+R0SlBYEatA8pSiZkpRbZD7lxOxFNA4JRxAQGwzhEGATFQ4hqBYTGQslaFrRpSugkLJpWgCL61Nc5lhoWDiOn2u70V///NExEEQsKX0AcYYALuqIEyMTo0iASIElCQAUOBgbOBhzwEYSWYuYaXfKfIZ4AZHH5j8BHQD9////+QcHvD3yeI6P47AyO+OfIZr///8fwD4AdD+h/BHBFUQgiSrBYEi//NExFESSFnkAEpGJWTCoWJpkIpJcOBiOUSSqKb/9FYgvAp4UNxBfBTYQyEFYgvQX///y8KeCuCXBTYL0VkNjDYpsI0KOium//8F4FZBWILkC5BXQbopEERkaOMJAgoY//NExFoUMGHkAEpMKRgg4QW4NVVVTTTbX02//////9LTTS7//6qqqv//8rTTDUK0001VVXTEqqon//4laaYf//8qqqmVqqqVTEFNRTMuMTAwVVVVVVVVVVVVTEFNRTMu//NExFwQ0EzkAAjEJTEwMFVVVVVVVVVVVVVVVVVVVVVVVVVVVVVVVVVVVVVVVVVVVVVVVVVVVVVVVVVVVVVVVVVVVVVVVVVVVVVVVVVVVVVVVVVVVVVVVVVVTEFNRTMu//NExGsAAANIAAAAADEwMFVVVVVVVVVVVVVVVVVVVVVVVVVVVVVVVVVVVVVVVVVVVVVVVVVVVVVVVVVVVVVVVVVVVVVVVVVVVVVVVVVVVVVVVVVVVVVVVVVVTEFNRTMu//NExKwAAANIAAAAADEwMFVVVVVVVVVVVVVVVVVVVVVVVVVVVVVVVVVVVVVVVVVVVVVVVVVVVVVVVVVVVVVVVVVVVVVVVVVVVVVVVVVVVVVVVVVVVVVVVVVVTEFNRTMu//NExKwAAANIAAAAADEwMFVVVVVVVVVVVVVVVVVVVVVVVVVVVVVVVVVVVVVVVVVVVVVVVVVVVVVVVVVVVVVVVVVVVVVVVVVVVVVVVVVVVVVVVVVVVVVVVVVVVVVVVVVV//NExKwAAANIAAAAAFVVVVVVVVVVVVVVVVVVVVVVVVVVVVVVVVVVVVVVVVVVVVVVVVVVVVVVVVVVVVVVVVVVVVVVVVVVVVVVVVVVVVVVVVVVVVVVVVVVVVVVVVVVVVVV//NExKwAAANIAAAAAFVVVVVVVVVVVVVVVVVVVVVVVVVVVVVVVVVVVVVVVVVVVVVVVVVVVVVVVVVVVVVVVVVVVVVVVVVVVVVVVVVVVVVVVVVVVVVVVVVVVVVVVVVVVVVV//NExAAQwgWYAUEQAMgL/8YAIxjHABnfOc6AYGeQhGUhG0ISQn9s9CMpCN8h/nP//zncgGLdCTnqc+QhFABDfymUcCDi4fEYfrP6gQKBjh//dNQPQOR/snhClwd3/duL//NExBAWqlKYAZiYAaGZM/l8fApQLCQBzgbz+SbJloBTAC7RC4A2Pl96DCtCXIpN/1INzQzNzEpp/0036CJJldjc3X/0G6exfcmTM3ZNP//t1N5mo1Se2pqYfCnITEle//NExAgTGNK0Ac94AJGAiO9fIot8x7nEUAKxVoAfwugFBxOIxTPIdcvy5ZAhiDLqrl2TtalgXifNsx9iSfCofF7QKD4MgwxrZrZEiJp/bu99NWrWOFMHXR+5BQhNWCzq//NExA4VITa0AH4wcICI7v0+lHAulb9ys9R1G67yTr6hyVr5UHR0cXfSM0iTi54vUvQ1OVL31LeffuZ595jb5rC5X7n+M/r9VuPus3QPC43wHG613//Eg40htZRIGoaB//NExAwUWRq8AMYecBjDNfJfRHxt5JNgkivJJKF4tQZK+9PGmVPcrIy+SoeR4n+zHUQovZcG5DGxtgd/H3Ef2pJHiSw4HZH89JA8FCDLH9P2/Wrn/qhTRB2JZurJEBRj//NExA0TeSK4AMYScDrXlVmAFxAJyVkpirSljPu/mE1auQ1VzpERMvU6FlYugKikUgiNHQ2R0dYI4HlYkSbE9iy2YQqg6u2KMst0aFNX9MtAL6RE3WYF4UWBlN59NWZS//NExBIReSq0AJYQcImuRY/94ynHv/3RyetSk3K8S+0kBYPxQ0PQUhULB5UFFSi2cLGsAxKJguOY5yGa6mOu7da9/7+PikocJjhS4BfkDV8EVUjykjEirNTplItv6L84//NExB8SET6oAMzOcO+pZjEYqRByJJjjrCoa/3elRqQNQVM7/4DLAYG0v/9C5DV+71PyEnvkKp8f6uPkhLhTdavYuv+HzE///+a+///7r////Xto63bRf3W3sx7GOa2i//NExCkSsxasAHhOuNFY5Z9VG5OeYacaactTB8uyNTNOHjAcDcqSG4llCBYeIl78R///////////9f////+sxW1v6v+c1XqcfUxZ1rmrJESY8MDQ01hwsScmaPHuNiBA//NExDERWx6wAAhOvERSBYFoqB6AUN4nJEBQ4kGjBUwutf////1wLv///y//////4//+//QbX8V9crd/9zNa6vHcy8osJRAjiCPNLdSx1jS8xrZXxYWGDELDo0FQNgkE//NExD4ScyKoAABQvDDosBAHiDw+EIPy6S///l9NV/+Y+//+9/+AJUt/+n//qey7/6Vrqm5hscNONfoYXLmETr1nTFNFgri8aqSIsOCIeaAwbiKNiA2EkbicbDIjDU4U//NExEcScyKsAAhOvAjEWbe/8BMgT4DmSTTHGxU5y5s7H1AcPu9ZFPQlImLvm91p7///1q6/////2uv///obmeb6bqUqPVqPWpSlKUoCJMFIYxnASFKJVymgtd/XXqKy//NExFASMwawAHlEuCFWEnv1ZIX0GsNOnsvuN3QDyy1v/oVpr3gXLuNCwBoDjvk/1///D/9v7f9uqM5WMDDi2dau36/9VmIIMpLt/b////9a7+t6krOxfaHuU/XDgY0Y//NExFoSqcasAMYElEiD3drdOI6wxV3+Ct4FKyCFb19xu5cZxr/P/Vim5//5Gf+re5St1MgEZAggOzt3/dDPzsKmRYAp+mqTZb7VjRpABr0V90XjZYYaoBmUb53a8AAA//NExGISEcKgAM4ElAUWh+p2MsrGmts/tbd6giL+mjyzu3Urdrd8BEgaA/8qGniQGkf////1VZZvtijZIZPnLKa/TzroGMOBuAetwiRFDpAQI4HYQa5oVgA2DnGTMXBZ//NExGwQiJKUAM6wTIirl929BvIrdJfr+3o01J8wEOICAVysuBDxMPP/////XzJudH9I+5AHGnPY8AWoegsdFDMsY4gUjN2GnRMzg+sgp/ibhhcok2VcdtjRgMmCmO6+//NExHwSuXKEANzElHDElcumnK9yMXv3mgcIl4gHFWp3vU6np1TIrHsdxo8MKo5Abj5cH3nQwThjf8CO//6MWCJJaNOxa3ckpIMB7p1qW8yswyo+sEIwutqJmBLnI6/a//NExIQZ+W6MAN4KlG+hWmhtXpctumvaJM6d6mgpq5clmDnw7PJUQDG5RSqVqx27G5h/Ka7z6kYs5d/Ckq6M9SvPUSHCo8QAQaRxpzld3c7qinOZkU5nHGO7p1ov7dUd//NExG8fctKYANYKuMfS1KL2///+lyuOIcqMran5cpgoPDRNXwupKGLQhb6CaiKALJETa6xcCfMyHPzhq/URE8ZJSbEekQeRqkGwOUoNOjBmbrebtzM3eggaFJJnlSLW//NExEQWOWaoANwalKzZkBUgkPBwNJu3/cHCBxFf//sbNO8/dAVVjPpu5adw4MNXM9ZcfAVoppNUV+sg+km3nvJEof/hYidLUwAkTEbtEgz+KkYNNCIXzM9LzqfLH6ii//NExD4R8VKsANNSlBaF/30P3///zyKx+GcMBVcPGZFRUS7jqJSYlOdY3CvKXUXOuf9aXmHrL5rn9pSz+gHAyOswEYq//LkzVqRSDJn+atf1CbMYhBJQoHRoOBf+3U+h//NExEkUMWqkANNSlN//03+ikDB2v8/awZip2TCknxbuFQ05c0RyiNosOhMQIMpMYTYcO6p6N1Gv+kZj6UPAUanqMJmrzxSa3xOEJL/hHn/moHYhdZUAh8NehXxL//+t//NExEsTwVqgANnSlMz6FB11KspmBS0IjMYVQi0gW6JjHhJZySP25Lu09i7Sxmz+99v95z3me+or1a/mm5DoAYAEESr2KvTUpobGhIGgM8SlTviXT0W0VXbgfG+yg8UJ//NExE8RiRaUAM4QcEXR0bWlNX7PulZQ/sBAGAJCSzQ2sZuqOn1pJxnVZSBvcTXJ06ht4n30R6jBZArIPZNtkHTHHV+PBcm9WrUTcBQQ7UeeBm/pS9fj0rHxS+NUvneK//NExFsbkbaQANJelEA2EwSNERhJ6v4v/6/ky5cVNNqVrd1NrYB0Ocbq/Zhlh4BYcyu8uBx/cD1wgAFaIEVj3Vj3Mp3JaVZvVwouiVDiYrixKCa0XJzoycJmoI8cJ2jo//NExD8SuUqoANDSlI0NYtJggz/////30ud3NAwoHGoNao1Iw/JLRA4fUgOE65NB2V6j69RFv39PbzeYablBsIw2ODQOS0bjYcqJAyc8dKHoNPneRiwFiH/////9NFWW//NExEcRST6oANLOcEslaqhiL4DihrasgCCySfKARs5aE9B0paSMRlgXTR2IEmvHcbZiETdCQd8x/3+9/AotMdJLmjRU0lXDkPnzRlnSf/1hOHf1qoIxlCS5mteGFMQg//NExFQSCTqQANwQcHMiOD41QIGodiCHzm9ml5gxa/crrK3tw7hU7zOVyofAoAcIVQgmqc1r8w53EB1cXDYe0jrxA2EFwMjGiGMqQ4mjQzW5eMAQJtA83RZjaOgDC+Vq//NExF4RgSKIAN4QcT5L19r+ElVbjzdBj3cTw5Nw/v1IKz2Fm03M1M+nTdLBoq9xIt+W3s+Ft27MUUtOWmiZAGGUQbMHPXoa/Im+iBb1lyfwLDnubBAkO2sWxvLl+7WX//NExGsReTKEAN4Yce3Rv4oSIF+X/FRMinyIN1BQR8qI6+Te5YoBgC7///////0KSZZszkw6Szd5uHgczgwMLjRlNFj2m+lIgNOcSG5Wo9CXGlDsNZkP9r2fzl8NX8TC//NExHgR2R6EAN5QcMJqNnO9V375/P+oEqjRKP5ufDQCixVj7W32MBlMGPd9NwyKo4KIwYlGZKQC8Pg6DvLCmmeNNSlGB5ma7nh5m2ymy1lQ9nk6iSYDC4HmT0NMj3bI//NExIMRgSZ8AOZMcTsQgRrPlz92JOsEBpSXfnPoXB93//8/+IJpsnf4RApphkmswdFQziiNVJIfaQICQWDfu1lq1vXpuPdYXDjq0NXzby/18SS1rEe1teeLCjw2BCpm//NExJAVcR6IANPMcALqE+ExFgEULDg9yePIsWS5LiUDnHoo8tNNnRQXevqZ6tBjMwMTBChqr1//2UzmAkFEC3/qKEAAgXPR84F0k3lFk02LXKccDGiBw5dgIy9Onxsl//NExI0fKhKQANvamMJq19gPexQSWxvuOPq/fn83q2glOOikHRwjjoPA8fPIEihQViSxFBOTPOK8zq+jbHqxgoSv///8xSz//+gUVv+lkOUyOiAiHPRBKcQ1HAnH3IQ8//NExGMUMhqgANHOmOcUDy+KHx87V+ZzH1fU7/n/hs5lzOLicGieUyaoJMw7yiJggPE2ZDf5yl7r+FSg2pF1O//I////6d6xhomvWq4gGH0QtTrp/oBovgKwoXVQ3xjQ//NExGUSwaKgANHSlGnP539zus/Ta9kZp9KBAIlxGBSLSiFDSSFVcjDuVpuP7H225f7mdiccIAVX/XyDv//6PrUkNtX/W2RPuxMkVF44oxcLBDsHksJ8ahhmC51ThfRx//NExG0T+ZqgANHSlL8hqW1O0Iz3V4NBseSB2ASPXIIBVi6Q7bhxBd49XNE1zHOutTmX1y+vh06B8a//4vXP/U7Ij+9KpiSV2fJJAKIQ9w6Osppxem6coFfMD+maeixm//NExHATWZakANHWlKvvSY/KEKKB7VXHUB07yVGztJ3CrW5s2YPHhCMRFussJ0rLGoOnH9UdQdIGzxriFgH6lsselPiR/VUjLuaf7e9Q1e39Dm7J3mqa6hEJrkuOkRNs//NExHUQ6TKwAM0WcL7aV5i+eU1PZZuINP7btVZj/qTVhyiggGbLhR2ukcaSMtp1FA3i4xJW6NpTHFrEqGzbw9m1WkwhLdC3BYKSr6j6W/ru33JJHNcD+8MdOrQHP/Ys//NExIQRCSKkAMZScD/////9CgHMhYNFTMyJCmyWfel5MpSX3Lcj75Q40gYBHIKpLRlMEt4oFlWJB7w1ZgpqZY1Y6ejJSIqSph3Ygb2LK5HDVnypgm9ktJmSpb/M8/3t//NExJIRGSKYAMPQcP/77Kdga8W3m+xN4ftWAKH75pGy8nryb6LL9GKqp2MPifRcnta92qowdMldRkrdKau6rjou/813+7/lbxAi1MXqIrk/4W/Ff9PndK2+bfmvyV/r//NExKAWsfqUAEjGmSLqAQHbfXlWTxaMaNEV9Neqp4Y6FSzQ6QAxWWIqAww+YUVZPy9EGp0AtlhZjFgVhdCHurXzfSLLG0uCoUYFAQO3KOEhegaONraSHLPn9HJ15KM5//NExJgRkMaQADhGcRmIeLgwCBQoEQOHGB8IiQu8mJhIAGjX7h4uUe0PjABaqNbxrUvachj0JymhLE8EWJMC6A+YwyPHhPAEgAwPB4fgXgRhJqvGAzAYi4lxRrV79/Hi//NExKQQoNKEAFBEcEB5E1i251kIChAwoySAObnkoR1iRjYw9QqrjLXHmVmRty2bZVjUdquvu7t////9damGsm5AFIaJl1Ng1oQ6qwtdpejKghtWm0KtWSXalTa/TIJ3//NExLQQwMKMADhETJrLOOU2PNQBG6Xd1wDJNl0iE5wkAeZ3EAgckWEbVSjAAlVXD18U//c/oOv8ZSfI0obPS75RDVBmGKCaXaiCckFKzMXwh5glntRRwJmWEkGfuSv+//NExMQTWRqkAHvScJ7f3HrfyWb/LK/VkTKKMueaG1AmQ9pyK/hM2X7zUqpj41lhl3TWFVNuPTEbT74lZMug2tQjcSAC2hmo4KiXXc/+47QMCxvdUgSlVjv1K4WONeBU//NExMkXaaKkAM5QlB1P7EXFfqKX8aWU0mullcSVSyrJyak+4pA6B08H8wPHH2Vi9fDDVp6lWXWqxpa//Xa6hgou7tSKKklNTG6AnQvZrLYWsBSR9H0QR0DKAqqrWrsr//NExL4VqTK0AJZecAnNBxv+N19QhUEUD+q0Fg0CJMhZSkcNQaQkLKJzPqSakyr//p0uyJGYRWsdjPI7bAb4wgEEM4+oxpBaQDkyGeax2j9J8j0Js9kfPW6fW9SshauM//NExLoTCR68AH4YcK/LVURCYDQKiVVwDMPhLxVFJxhoGhwVALv/87W4SgqItVVcqtzs3gToDirGxRtWGSLBNoCA0oKEGZdQSJHI57cmFkBcEzZASZbAgDDuUMRFZASL//NExMARQRqwAJPScJMpDLhNiyaQADA4+9h/Ep2enrp3/7vvdk97EIe/BhALvn3se4IEMaCCGAhiCs/+/9LShznAQBAEFgcHw+oChKmufVat9lajNSigKl9VWAgIUcqi//NExM4SSQZ8AHvScER/LAISRmf2ryxLecS3scSr/mogsFYiAwdJg0DQNBQkS1uHgqCpavBo80krv//rMuWSWfmX6pcKvb2V4CpC8KgNwwkODxZCA6NCplSmiYPEjZcV//NExNcbWfp0AHpMmASsgo0gg+cIlBwnGXo2BewQlHhvPMiOLUukRe+gk9lL9JQf2iR6KnnbXhlLP+aG+VP8R+q3nM0C+arSbnThmdY0dL5xaJIIuthmGB/KJsiXT7D1//NExLwRQRJ8AGDMcCMSSZobfysvFA8fNDwbg5jFEzWZf7ny4YUDAk1FMvkoMQxHIOISUSQRH/5fMDaXDiLpIIJBzhgBnCfCUjlNh6BzCGYkp//7OfWmb6muhzE2WUxP//NExMoSkDZMAVgYAAyNigkeNzJA9Zn8bis4KusJEHdWqa3prNpP63nr959/+/g9V+c6Mep7zmIQcQysxGTto1GOCBhBmX/1/ytKzVBwYdeLFgZtEQ4FQVnSz05Z/I62//NExNIh6yqcAY9oAH0q1hdlQwjALOXcXQdvZ4MhBKjZhjpnGdIBMDKJEgI4NNuezr0rgl3a6GyXmynMRlw0FBls8fgR2tHHTrUsjtzWXfJHGo/37/+5/de7+/9XQASd//NExJ0S2bKsAdgQAN+3KL/MUGzMgKOJw+ZmKGGoisAYIWAhUnWTAmRp5KNnQVnbenXW50vS/TW3nyaSnEkawDSSwnnaYdNr1YiGH2tcZquJSh9re5rn+O/ua555bKtB//NExKQVAaKkAMpSlbajTXkh1rZJuosLGsMALwY23NqAFQN0RdcHR1tI72zVx/uv922Wbf5eWpL/80okksFCQUkt5/eZqf/2PUajKJFZ2y5p7YokeU4SljDwhOEBAlFB//NExKMUqa6kANLWlJ/QLCzDJYABUBwrAwTBwTXK1EWLSAdYJQBA1h4TQvLN8ScLmXHSVrSWJ2FQC4ArikkjZNmZ3E9CdhMwVYXhSuk+7wuQAbAdgFEF0J2/7fiBhxiY//NExKMSATKQAVkwAA3BPBKBhP//xjhzxGzI0JhKJr////L7mp8uF4ejGizc1/////zdA+XGNE6DSjbKVOp1Wt6rVr+ihjrDdPCpuh3Fdy2OTYrOlLbkmRbcpNhKCxSk//NExK4h2w5oAZxoAEgejMEpqUEqw9ECWAdSNiWWkVJMlS1HrQKiDcRSYI7XnXSrH8OduJxEJ50zJp5G0jVBxo1RT/jdeQCtddIOZNPLaf9O6m/i2//PXD3nGU/+J9j3//NExHkfWtKUAY9YAHb0YOVVNdE8ER8JK4FuNFhpKpebX41GGC3ZbVilY8xU83YcknJDuJL4uYebSPR0eSOAxVlpuiiom55siWEk2faR4z921GmpDtpkoXZ5LO7XqcJT//NExE4h2x5IAZlYASbU2CUsCMburezZzLpdtm9hNOwqb9Odws09cRXb+2xD7i7qoZboSiZi3OnXb8z3zXw2O/4S4qezngo3gfsGCB6lpmJ/7OH/uSBNMvSppDUPEyE+//NExBkXow6UAYtoAdBbrOmZdKQwo5gqQXEeSf0nTSrAnxyidlIolP/rtmRIlMqNT5h//d7pMgYLLhgO8kCF///+Tzh9bofQ////R/7VoFyOZHpK8crWmvdMTI5DsJDY//NExA0RmSKgAcwwAP3WaSttBfa9iOV3V9Snz1yxjTEBGwT5NFJ3prkvbneZKu9LxrhMyOsQ7nQMNCbhEtAWhroT//+1/XXe6AhODvtYoZWXvNQHJe9YEnL28Y2dUPNS//NExBkQ6SakAMPMcLHPSV/jX99504tpJggkLhKC3fe767/cn/N9Vj8vjW1/r3u9J7t/////ZJq1ZmmGlez6xIRABIIsyucCnnC+NaQvNpafkVon0WzSY4Om/2NR9Izh//NExCgSmR6gAM5WcCgCAeUiQRRqBySjEbSCH7WRY6tzrYrX7ncTW6UnmhX+s/LVpZiJkio7RFLZzwKSOvFOQEuioCWsB1NJfj760eDAl/TyJ4t1YLKJyh8FlP19tiQ5//NExDARIK6QANZeTI8eE5OW9jBC8FQISJqEhk7T8oOiBYdd5lpgcPHDyuLCZkrQzNTGCwLcqyJKI2SK9Ja1/Wn6x/kzRY9WBbaZ2BoSGogKHYpNyqLjVsRUqKRJsOmN//NExD4SMRqAAOYOcFBaQeR/li07Pf+tWEglBgVmzf7YSS30MONgdXmbkDIUpjDikaJYFa22KDcLMljNF3XaXZBDMPFQAtVVzJUzcjR0VDenu8iZYFOgsBj3/GzX/9BC//NExEgRuPZ0AVtAAIAZR4qtQQhYpeh7S4CezPkkIXJHkp5yUFZg84kJChCC6SFFUAICB0XqzoYyrdVfHT4kBn2cxBAp///Or20T9P9iHdyT//7f8jDlABOX//+0kHmJ//NExFQVOlJ4AZgoADMXQM88FUpYkR++w1qlmaYumJqblw4xG9jjQGo5ZAAGDAMmmh7nfkeG+ffzhQXBoSlHlAwMBBYufA7BZ9S6wPcX6FGf+n/9P+gAyOLspf+zOQju//NExFISANqUAc8wADXNBdQUIwmCOhYkwPo2ipASnBQgoktjtVG7jClE6rS5vRZVKzkI+2+j0NvQaETD3Tp/ZRhYMG7gtpT//6F7S/Xxb0vq8BSYyr1PBjOjALA5wTMf//NExF0RsdKcAGJKlJzQXR+L5Zn43N8d7mLqm/n4///7O+v9UZz//7891Kwz1iZrXn9giZ+/WqS1uZC1ZpHS1954RjCIVj2U1WMylwROJNSTNDBxGOXQpAHgiUtmn2T4//NExGkP6ZKgAHvElL3efD+fOX8+//P//t5PvqdkZVd/97bNgnOBJCvtN+Tqu9wp2sj7rNLGTZDVoRopbmIVUGYfjGTOQB5r3qWkZjDEMRYnngVjlmf85G8//VvPv/y///NExHwSEY6gAM4ElEnLzT/P/OfVP6zuhVCyqGnKYRlJuqLP9vQbZ8iwxqji4SpduZt2Cu1Y5uNS9oIPXJ8I23c1XSDkHHRUBl3P/5VY5+7N//9HJ1ITs/b/lY91MUXQ//NExIYR4YaoAM4GlcclYVCrBiAhZ/7VVaTW6kbBVRr85uhhk/BXwndSpBCGjrUfnUWQ7F64tVayIzH0Bfiiz3GYdi+/x+i+JhkAn5UP/6xOXC7j5YY0RAV7//61v/3l//NExJESSY6oAM4ElDFVENQ8sYixoK3iYkzaoG7mCZOily5DTMlX44bdF+UuYHwMIgnA2Dh8iGRJziIk6sSec3+p5G3ITFnU4u6EnE2z+rMuAlQyYhRdpTDk4TVtleso//NExJoQ4KqoAMZwTKGag13QhMSobl5wmnb1rceh61Z/XQR0yYWn7ciY2sZfMtv/iLbXzCj/5X5mX93PobaKMbdi9PlzBSogxA6MzYBCTH0UTq/tjddpj86xmJ2HrXc6//NExKkQsTqoANYUcEnJ7+VGF0KJu1jwmLKtI1JvnNJWMIW25ahoS2JIBcXf/8o9KqXmMFAyBmeoRJ2xDID4QJ0rQ4cLmewhvknZGbMdglw/Y3KbcePjO6w8QbM8VgUj//NExLkRcPagANYecXpwkLoQOet0S4j57/pIl3Hig0XPpAYb2KcQqVXDm6cDTgSuwgEENw3VUUMUgWWdquG0aPU8NyeM0t67Lqa1nbvd6uBm6zKMcHwHHgMEBTyRyjVH//NExMYQ2PaYAN4ScN1p1NfXWkpJLDjiJGp/yrjKt49a6LRcpCEZYZ3JSO0AA7aQY1l/YZcBpNivT1JVWsYSqapK+K3SzdaEsw4OQMAcDofknsfLsbEbcXFzXXVqhyCc//NExNUSmUqsAMPQlFyw9ej0rEH/6af///xtqbmCrgxafbsDyYfdAyfzoJZIwp3c6FnUTM/VF8tWcXcoNIb62b2titYFXz5TnsogBgsULPbMw0npm4buV+VWGayhZXKX//NExN0R6UawAMYQcPxLBVZ3a/////+tFiFRyZHAGZlk6fK/TBQEN3B8QBkwWJjBLSAwxL4lQwd+LUyZqsLuwKRQoYZgHlWOssvy6bfNKTEWSytvC4MgBLoqWGic40W1//NExOgT6UaoAM4QcEiECsQyJlUm86U9kbk2C4oKkkgmj/klgoSO/p9lX///lSKJp8Qk5DEByG5ZCiGlBaPYMCDE2cWIYg+gYRVpgLgz5WGyQzar3udgD9lJS3+19NAP//NExOsUcUqcAMvQlHIqZjtxyOzeVoVs1ru/nvZrsAj1Ib/9Vn/////7NFUkkMANIpBZa0PGYSYojH4OWtImTWvjGFxbYIFIi9up/Y+m6Q7lOnVdxkUoSfL43dZxlaZA//NExOwZ+T5wAOYScBXJw+2N/E//rF7DU2W++Kpv//1UKJsk8dll/7+v/v/84fURPQfpVCYm7XbLYNz6b///r/vzq7Dc0MjY6WNH8qJpR7KLjJQqIMgSeCS4cg4D6gKc//NExNcTyT5wAVswAKIlIHUq+Ob6e3p/5lK7qurcz9f/Xb7///q7XXzKs09F9FefM2PS6kZOp5AQrMILOYzHl2cuRoPCEww4jJR8PUY8bFyYgFUYDUVQvhkLIX49EWLx//NExNohKyqIAZlYABYrDIcBAHhg8n/0/+v////P+d//5AB9f/p9vPz2WhjN7vWjOp6VViauehpM12ZmfaULHmFRHcooLzheaeWG4rFIRoOMFAhAeAwVAwXB4nJA4DA4//NExKgXcyKYAcVQAFhOcTPG5grAaJT1+cHCykOYkQmz04/y/3/9H////+q2r///5Fq7HrXZn1opwTIQGGGOMoIBmaYMPlajs5lDCpSAToVjaO4UUpQQoysbkMpZYUUl//NExJ0VGyKoAAhOvJRat41SqUHCfqlUPErl6s1DUmhJELp3/mKkvfuUZzcTtY516medOYroAgTD4DgGECE3bJ+IChwcNNIJLBV39C3FXSvdrrAQSRytVcfmxmF752PF//NExJsSav60ADBEuaVp8TWDMn8FZV7Tswk91gCdNmlhuGItXm3dqzb/0lpOKk6lYLYTlFNKjbm2I5sD5ga2aWG+YgaFTpWPd/8i+pWznB4YxKD87AJp0mdAOrzonGHt//NExKQSGPKoAMYKcAAT0erWlyBNzc44NNkOTPx5VmXOSs6ajocbK6zhMOdyX3njNsKnZuCGhWzIBEoSHP////+hiGLGBHBLkzcw1wnfuqVWkFNitFMYVqBKkoDGLp76//NExK4R0N6gAM4ecNpDeT5NdRGjdkvs61xR8IkvK+GMD+VbWahb4i7CtWY8BmyAXXJ///9CT7mnAHMLFmCTC5E2RYAlAMUbWOwul80ndFcAi0Ej0jSKtBQmZBg5lA1c//NExLkR8MqQANYwcKJSBRPIOjgQEjnmTj6L/5P+j/////L/iCp2TAKJapZea2hE7l3yEavd7o8tikeNk0UmMzUSYyiTEYfARV7wJUdB9I+a3C6JhlpND4ZCi2JXnNTf//NExMQRqMqIAN5ecLZmiaqz9qtxOgeGw1rPOu1/x28zb1R5mQ2Ih3GgKUUNcac7CIRmYYUVIYWDGgFVQMqObMDTPVUjhnZmb4KYjpnmsh2H/M1med3P7lGUyv0svz2M//NExNAQkLqUAHvMTKRIRN7dXnApCZQ613Q9wHjKBvpeprW3/Pn+be+vkZ6P+kZDpwmVzzUs514MZ075CnMFAhZEULNd+SrdfZ2Y1RzPmVeOc7nN4pkU+z/vmSW5ffM7//NExOAQoQqYAEhGcHPhn5lrCUkqFoRM1PMFUQBA530Yh6IQjJTVXuqRX6+e4K1kOI4IvyphN0h6Ed83yXPDsVdxRJiDPQs/c5EzSPdH0LhohFYbL8/6+cvuaZH9/7mf//NExPAWosaAAEFGucLff0WvPr88isTc6HsOp0qfUzThARVlRh5TntPAWccDlRKRy5FLDXoQEnEfMGhJfNwMmJDE4n8DVzAEEQCpBfIogfAxYcAouRMxA1DoLSgbECz5//NExOgUOxp8AGjGvJOdUkedkS+OeYGhytTHyshZabpk+dNScN1smo2OTzunaxcW5ugjWmymSfaqq9BFPUtTrX0lepdS3b83cIFHar0Z3+D/9FWgx1NAEusWMziyjHJG//NExOoU2vqMAUUYAWUrayDB4qSSKmIZBIk7whgsMzgoTTHjTgioh0nrrTGl8nNYJSyQ9hiL5Y7jmsOfS5//2MP3hn391v7ruPe43aKjy7akGGRfVRmiDQdSiAOX+/6e//NExOkiCkqUAZqgAP805fW7//NKq81MikEORz7SI2ViQ6BL82QmIciQdh1Iukw2VBeLxhu5iiT+wmBAodNUiUsb2HguWAqcMHy2HlzLHi+WENS29+RERt+ptzqSJiEf//NExLMZ2TqkAdrIAVPZSaYyOEUUKREHzkVixeUITMTQS20a+KyJzwZQkzWi1BWQyvBJ/wWc56ugwxmhhmHOrWEuSpPcUVBXqJ3humWw8+wwcR4Tg7KAuw8vfOISEGsA//NExJ4deZKcANaSlddxJ2amxljOHdl2MQa/P4SqGabH8oLd3RSQetncbdbPU52JHgWGgFMEGDSKBP7KNwiUlLTJ1NhFeisq1ASYKhoBMd///8gQLmmS8sy4LFztHGmp//NExHscMYqcANYMlNUaUMObxavDlpo5ke8t+mbqsCPhv/KhgJRB+Z209IEXQZyxaQMGlxTcyuwRhjurDJLUal0UdFISGdfXod82qDYbllUdImpNUs9Zz/ocrK7SSmsy//NExF0WmYaYANYOlPkjdxELGgUsuFA2LAUONmrDTwdSP4jvTUkBMmSCHk1uYu3fZYlOTR6+irlItG/l4y/42JL7lVaqA7bmv1Z+SXjx0FTMROV0/1bP///9FjFVaA60//NExFUUWUqEANvOlNKkEAOODnoiHRcIt+YCABt1FGKQxKaJrcMOS/FO19nDBu81u/7uU5BtPNRz2YlXbDiWuxqNWzsl1m9ooVOuEv////////U8snRJITLgxCBggBKG//NExFYSqPZ4AVwwAA24ERg5MYACguk6JKUqCIIvqLwgTg1JIaD7h1H8dpIlIliGbGyJfNh7D2RUSBeLhofLR6FxAeBqSBoYkoeMJoZEchF5FcYQkiWIx1tSNVBBu1SD//NExF4hkwpgAZpoASK0Emezf9SDrPrWm6bp6//oKv+jWtH7K7Kqa/+6qa0H/oIKQY0ZZj6qHdisJ2ZkBGrNZ0F3ClA9+gfMEFzjH5zJpivoyaoHBvD2XkEQxSQAPCMi//NExCodCkqkAYlYAHTo6Je84yhoBJy40XJQeEysuIF77YynlsUq41UKxAEcjgRmh/7m2VVpOe1O2eT2HF26poaz///7mMn/n82NRINOW//Amu4uVfQK1b/yf/////////NExAgR4eq4AcEwAP///2bWwtspkn/ntGPWQZZ/Juh8eYf6NuERyDunbHmnKEbizdPvK789tQtqzVmC4fqPqUpu7L+yHoZ3ozVimrX/////QpZXq2eudu7cwbKiKPni//NExBMSEdq4AABQmXWodi4G4yzQbixAsSEOSLnvi8G4pSO+PHuBi6ZARIE9O/R53Vf3Zarv9Px9T3qzZW5w+2l1FT///////8+//9Zr7e+JmGRkkZNy4zO4PYTQKHHH//NExB0Rqca8AAhQlQJmjnKUpXrFpJ1mS7BkAWrlHb86pu2hOrUO/7exfa37LjOepr99md4bMif//////+RIQV/56f+1G2hekoMtfn5SRKKwTVnEg1GKEQcmg6EJsCo4//NExCkR6e64AAhQmKaDzFgfAyH3Ic2WAdbhKBTt6zqH4a/Om3SrxFqArlXcehRgn0RoMwE4exYIjYrIhFcXV9GOiMv9P1OKCAZ3o+3mZS7S0ARJB12elryqUolwYwEc//NExDQSIZqoAHiElFBjIHhosaUVEJEWAoaO+vf//+t2taalkgEcrFVXwXPikwFPHTYZmcUojONSpTdqUuNSzWx1eptYb4bfH5SjuPAlgYdHavNW2vn9931qfSh4VImD//NExD4RgSqgAMYMcIpran0FX1Pqu8uiX5NdkQuK7DIK0iRGmiCRUFAUh50B6rUVLqHr2rNqlI1ksi47xsWojYgdVVfFe+V8VkEAYpzfm77992ztGK52VNN/TSqc7cK5//NExEsRmbKgAMNKlDGu7I9fVZAeSKfJgCeGI7BlbD4MnUU6yUKzzXIfw9ZQqAgizIHUx0kB1Or06tSccQsYPIp/0J+dDX3qf////cl0qkPnpBtYjRkKQljVMBSxvRJM//NExFcRATqYAMxUcExYSBh4dqUvFYi6i/au3din3aN/FuVWYVWhQ3fv/37eQYu0mspSkED3/896f/////66bi+CDJxiEkirMY3bAIIZSCSE38WKwWIAg8znTtrYj0C2//NExGYRIPaEANPMcDctz5qi+vSf4gdUFilFzN7WhNMENZDLIjGni5NRXX/rBXQlFDoS/+Zqfld5VMGNvp8Cg85sMFWVaTF7TKjF/JpmkEKvNHg7coW93cqy7cvZ4Z80//NExHQSUT54AN4QcEVRI7AYhwgyFI25MqB8MJekl7kf6iRL/////////qqKIoBcHOZOFriMLNqSzCwVJAw5rAR3FwKGBPCESKiR0MmHcpbKZJ6VSHozgmIXk7FKeT3Z//NExH0SIUZ4ANYEcHChEPL2+mRRZAwleG/+thj//////5IIHFYSwNnXDhQYKtMvdlrKEgw/LNKEQ0Xdn+iny5KItZ53v194ziuMVxfL2FBrqtMay6qpG7qLPuR/3yLY//NExIcSgTp0ANyGcP66CiGf+ROKMEAIwEEQKJTg43ByhBAHMXBIzaH03UFTBhjSHTmdp2qO/HIKfZ0nipuY7xNxNN3qijJ4cfKjjTnnIw1HDujikfief//P2/u+6AmR//NExJARQUpwANvGlP9Lzl3ZHq////+uvroANpriQQgp4AGQlRphCYWFDo8YEAmED6ZJg4wng1pOG7LdY02fmxKO452wsYcRMENqJ9PY183DzcqSfbGQ72cMqJJ69nEL//NExJ4V4UJgAVwwADdaf3lh3+JNJben/1f/7P43VcQfQpP///9n/f39w1rljlnKsdhV/////+/3v23VPvzEkD8dsTloewPiohS0kFkPpbIMVyiWkOjuLXGhrDbN6aMj//NExJkheypsAZtYAOhspc0uifXoskium62R3V3pLZ6CSCmdBOt1r17omz+xq7UKq60b6S1UVKt2ZzqPdTrd1JtWtB1ys2STdUxNU1pGTLM0Tx83HoaoFA0HOYpmoxyX//NExGYhyyqEAY9oANjY3KlDgHGbF9IvFYwYWemSp0Zi4PMlA5ImAjJTDKUwq6oOCIbfeRrLrR9fXapX2ddtlK0NWp61r36tVkGqV/6+h133WyzjoutndBqa121pIJos//NExDEdSyKIAcJoAF9K6ReqM0TVqDk1kjQuKcwMjhKEoo0WPUpG5oQixSK4/jzLokw8DAW5waBghOBNxwCXj4IyThbBdEQugmRPWFgG0JSYVQc////8L//rJfX+X/////NExA4U6yKYADhWvP//3//8/XHXH9/9cVF82yXxMRvt7XXxHD72OcdOS0+smqez6xKpNiJTKBwthAkQUUOFTMnEhY1GR40HoiEwgSohh1jaTnq//f////7/////Ov////NExA0TAyKgAAhUvP071+j/+6Ki+iTqq6nG56lTzWMJjnHqGnpaySA0hFVh+KpxQsLQhAvg+DMKh4toJZQaFyc8PxAD4fD8iBqFVhf/3//ov////////////X0/36Xd//NExBQSoxqgABBUvTSk1jL6HTT0cx2dnKFx8PlGCHISbMznESEBUqTnDQVQbBmQBLCUShfjwfD4dECIgwRJY8WCMMof/lH/+K///////9CP///+99P/6Mq+1XPY9lYx//NExBwSYxqcAAhOvQ482ZZTry0fHjzh2YWJm2cx0YUOaKgdEQ8JAmc0Rgeg+HwWjjiIKzCJQfQgcSpDf8t////9Ov///+jp////+n/0f/3fsc5jJ2VJxpxYiUJmSqkz//NExCUR4xaYAUE4AUwme0fKjgsUsNi44YwDAwEhAEhKGtxKEoXOaJI1EQ4OE7EqJRIYJbPKzWVlM9RU37b62R8/bo3NUm/hF37bj7bV79381H/o3X3vn/++u926+HzK//NExDAc8yqQAYdYAN/XHf1UNfR1U9BgQB22uTOxNPcyrexk3LkzuPxQcOD+Oghw0HcVE0gRwO/zRA2yCJxgO82aUSWDT9PlUjJmr03EhZJCCIZ8aneeJPomA9v1l0qL//NExA8Vqq5gAYdoAL/juJckiaPH/y6y1kiSv/6MyMTVEx//zU4pZdScxX//+XUEA5QwRWJiIMOEepIBbf///xOTYkhdBXRJRaiXDtExAwhLUB9/VRwwmhcG6ptgtiOo//NExAsSMEYEAcYYAfGde1YZjohVGjM+/YHbX/tbsn6KjH+7YML/1VXWGPsc7f/ULYq1otG/3///p6zpibpLs23eYFFGjHyy/8xNBUEmomMzNhSDAUJhoRCUBAIKhoGi//NExBURYD3sADDGBMBQEFToaLAUBZIiVEu08RJc6eJEFD3Hg6GsJnTx3CoSPKwq7/sb5ElvJES2eOlSwFUyJpGIiCpLRFF4fjofxuJoHl1l53pEMPQvNlIMMTjc3NQi//NExCIRIQGMAGGMcP//u25uftOrMuSZAj5p/mXUmDVBoz/SafQbM5l/9BnSYfmlCIBTnMsti5HIlElUo5MM+QtCgWLnC7FtUTcSeQPiBhcgA4EhZzP/+yTk1FFlFgSN//NExDAQcFn0AHmGJP9CwIoBjgi8LOP2/uhA4fDAfQWQliCjpETBRMKwNCUBPCp0OgqSERX9h0Okg4IhKWKlRg9z///tJERKIhEVLAUaMe78qWKlgEBRgVCZ08dZ+oeM//NExEERiC3cAHpEABh4NB0NqkxBTUUzLjEwMKqqqqqqqqqqqqqqqqqqqqqqqqqqqqqqqqqqqqqqqqqqqqqqqqqqqqqqqqqqqqqqqqqqqqqqqqqqqqqqqqqqTEFNRTMu//NExE0AAANIAAAAADEwMKqqqqqqqqqqqqqqqqqqqqqqqqqqqqqqqqqqqqqqqqqqqqqqqqqqqqqqqqqqqqqqqqqqqqqqqqqqqqqqqqqqqqqqqqqqqqqqqqqqTEFNRTMu//NExKAAAANIAAAAADEwMKqqqqqqqqqqqqqqqqqqqqqqqqqqqqqqqqqqqqqqqqqqqqqqqqqqqqqqqqqqqqqqqqqqqqqqqqqqqqqqqqqqqqqqqqqqqqqqqqqqTEFNRTMu//NExKwAAANIAAAAADEwMKqqqqqqqqqqqqqqqqqqqqqqqqqqqqqqqqqqqqqqqqqqqqqqqqqqqqqqqqqqqqqqqqqqqqqqqqqqqqqqqqqqqqqqqqqqqqqqqqqqTEFNRTMu//NExKwAAANIAAAAADEwMKqqqqqqqqqqqqqqqqqqqqqqqqqqqqqqqqqqqqqqqqqqqqqqqqqqqqqqqqqqqqqqqqqqqqqqqqqqqqqqqqqqqqqqqqqqqqqqqqqqTEFNRTMu//NExKwAAANIAAAAADEwMKqqqqqqqqqqqqqqqqqqqqqqqqqqqqqqqqqqqqqqqqqqqqqqqqqqqqqqqqqqqqqqqqqqqqqqqqqqqqqqqqqqqqqqqqqqqqqqqqqqTEFNRTMu//NExKwAAANIAAAAADEwMKqqqqqqqqqqqqqqqqqqqqqqqqqqqqqqqqqqqqqqqqqqqqqqqqqqqqqqqqqqqqqqqqqqqqqqqqqqqqqqqqqqqqqqqqqqqqqqqqqqTEFNRTMu//NExKwAAANIAAAAADEwMKqqqqqqqqqqqqqqqqqqqqqqqqqqqqqqqqqqqqqqqqqqqqqqqqqqqqqqqqqqqqqqqqqqqqqqqqqqqqqqqqqqqqqqqqqqqqqqqqqqTEFNRTMu//NExKwAAANIAAAAADEwMKqqqqqqqqqqqqqqqqqqqqqqqqqqqqqqqqqqqqqqqqqqqqqqqqqqqqqqqqqqqqqqqqqqqqqqqqqqqqqqqqqqqqqqqqqqqqqqqqqqTEFNRTMu//NExKwAAANIAAAAADEwMKqqqqqqqqqqqqqqqqqqqqqqqqqqqqqqqqqqqqqqqqqqqqqqqqqqqqqqqqqqqqqqqqqqqqqqqqqqqqqqqqqqqqqqqqqqqqqqqqqqqqqqqqqq//NExKwAAANIAAAAAKqqqqqqqqqqqqqqqqqqqqqqqqqqqqqqqqqqqqqqqqqqqqqqqqqqqqqqqqqqqqqqqqqqqqqqqqqqqqqqqqqqqqqqqqqqqqqqqqqqqqqqqqqqqqqq//NExKwAAANIAAAAAKqqqqqqqqqqqqqqqqqqqqqqqqqqqqqqqqqqqqqqqqqqqqqqqqqqqqqqqqqqqqqqqqqqqqqqqqqqqqqqqqqqqqqqqqqqqqqqqqqqqqqqqqqqqqqq//NExAAAAANIAUAAAMc8g4WhAYmZuaB9APCPBswHKfjmDmEE9+cQNDn+tM0NDhcHB+aINUgI/SNx1ldf9NN92NDM+cWfV/9DfqPok4iaT/+QJnJpjPIw5QqqDFrkMxZC//NExFMRsdKIAZOAAEg45x5aKdgCFR4HJIfjCpVqrSgV/rtKuSBILjEW3m4umxni0hWVksXr7O6gQm4lB0sitJiBPiWj1Qku6FdjnjHXBgsivJozSIXIlGfc/atWz3mc//NExF8g0g6UAdp4AETEk267bNRYWIdIsm/e31nfx83xmJnePP9y6BgHx5rd///9gxWY3UpxiIMXfx32LCDAxi1+R6VJkHvq2hyASsTHXY69fLw3afw2bGvKn4u/Y/4m//NExC4b0gKgAMvWmHErs3czoaDPL8XMIED5NNVDo9h6fKZLGgfB6NgQw2O3JvRb5uevmbby+F4l541rmE/f1//wxHlj1jUFr////6zilf/8yBomrwm2phTYarlOWQ4A//NExBEWgaqsAMtelBDG6lAaAh13Gscz1mAnT5mUeSaGocAykkGtHi9xmV+S6NjLO0Y+n8lsbkUNMXjqBmtiRl/+9W36Yt/Suv96x/AgjEnK6iVNRKjn4y8RPgECdm0Q//NExAoUWUKoANPecAAytwEgGaJZ0DeUTlpdgTyOtq8THpDRTNrO3uv4ap1q7Y3xvYuomLRJnvr6xDezY/r/95pjWWHUbd3oYCoaeHRHxDIqhr1CqrNFfcEQsgBQcssx//NExAsTmTaIAOPScKMAggwwIjkQRDAS1NKVFDdWr5JQRNdduR9rZkJfF8aP/bkGpS7QK5UuadKNnTP/aM/9V2+6lKXKjhu//tSJ2+u197k1Twor7gmBXgczAqTQVAQk//NExA8USbJ8AOPOlDYLtY4AN1KILl8Sc82YxoH+7/hpKtLt42NfNXCJ/eLBk1Vej9lBafuEJNsRSGg6zM48eyHhUYa////9R5/0vYRNxyqH5NI4QF2w5McS7aMLCZVe//NExBAViTqIANsScIoAm2Hkeh8Cvoj0Rg/PonhEWHJy8+IqlCJACEukkjDUXuJ0TmmaikdfJVSPewvBKbtzbWyK0aZ4WGisBiBgWdRFY29BpMZVik1uODsgNNUsYVOQ//NExAwTmT6IANPYcGoimOPbYUR5Z1s2TWmzLHNp8xsYQtVbb2UEPFjy/ItZo4pvezPsuXStdv5X+rl+6k9bqXp73nTaTrir56q5+qRqbSp15/C6IXRyQLuL7HhQX4Hq//NExBASoNqIANYecCRdCtEFKmX1N0rYUK8t7okkLt6OIygq79218qwTiYi5N1nf3unhxwvNB3ebIMmGrHkeOsu89vW6v1kKYo+eErFCwi7nqTDEiIwaaOxWUkYmvsKq//NExBgW8OKIAN5ycI+fFMYJC5YdVO24ARADmZdLoIY2NQONPRNlAzOqjTJkGEUNcNvtgbQyyj99jiPCSF7lPSWB599O7/1tKBEOeR1AgZYuo7+NYLFgcVR95GHmJShk//NExA8UCO6cAN4ecKDOvSQUajJ5Y9oC9EjvcghsdnvvQmDCa2nEJEh2dh+A5zgXTYW0FUnZ5wzFtreQiEKjO8sAHU+Q/KeGKB8h7K6k1ZzK7HwLkknF5gu2E3E3Drsg//NExBER8PqcAMvecLIeW30I+E+yQ3p6Emmn0pnK1dt082ohKi9KJcWFuY5at09o9Wogyti9+hPgbA263/5F3ZS5T6Et4/0rMa09OxEQpSsCcVYgtNgQHVIBXAWGg+Qs//NExBwSKPpwAVlIAKpZL4r8ZqZ2at1KSK401VtDIGSACiEsWbcia2NRtY1i04Ih6XXf/Kgq6V5Uyj2LMJMXHEZBjoTLMmyJsv7IYPf3dqvhy1VYoylcZLniQUEChzEV//NExCYbieJQAZlAATcSHA4UVw+BcUPte7lRz56GUXJbt1EVtF3Vxe26mptfzGhA7UXJPt6tLnGqfyqTxfYF1tOtMryuk+9F8//n/7HUadr+9W/yeFVK1i7HRA/3HQxi//NExAoTMkqMAY+IAP/zkZPyMJAi/+PBAyfHL+kktlkkLIA+Qvuk7/+ONInD6H//NFppqQV//6mQoLL6JfNzv///5PuH0ur//9A4YZCJoH0O1xWZOZcLNS7KGngHp8xj//NExBAWGQqwAYxgAHqxnTJ68nwty22PKxp7OvAcDoDASTM+P3ji0ZUrXT9jatOWtX2WAKFwcCIiAbanOWpUCHmqnGVlAEkVd4Ifb7cZr9LBYVf0MWq9ebOiZCr5iF4+//NExAoTsRakAcxIAA6JTi/JYpzimNZdlpB5uQJoFu5QkJBQFlhSxn8Yyy8Zv747uzm+xUWNbXUhyysHygSPvGPBY04+beNShTht9X//rLL3JpLrspYwYwmg1L+crUwE//NExA4WISKoAMPecIy1VGYxKAT5Kwg50FzHwaosbMdb56f8dXuemsnhCBuE0UblAxNv03T//3xve8euKZrnxXlQGUubawnLyIUIiCf9q1jnh04FB6zWiqn//V8gy2T8//NExAgUkZasAM6KlNYw0w8a7nZuniiNoMhj2+zKbzKlAkKmXS3COuCy1qnLUBNOfYgBsmxx+rnD/O4QLWViOm5BU1yhEwJtjfxf532w+yh4xu58V1R6qkX2TAdRPHlL//NExAgQ4Sq4AJZWcLRQYEzS7Lc6NH07QVY613C6Fi20inN60AKDszPtcGI1HL+WPf+k+b+HS+/g8yY8lFJrH/1xwICrvldQ2i8+7AVg/crJm5tVgIizfnLVyRoJTSwM//NExBcSiTa0AIYecETuVyA0elK4hj24zHcC/EzUfyrTlcGf//2z/m1t6vff1Wmb7hQoby2Kxap+qrWpgz6fzdWi73/qtPOU5WOX0XbrcDZiIm1PWsZUwkwCTOVHgIXe//NExB8Q+RKkAM5acM7T6gwVNiLXy4Wg6QV4EKKZrpJkibI+sxU3onPqNmw1/+kSnTBbcvjwxbRhFyiNrLUESyJkJQDHhLXEAwVBxGRYTNymRg8u+9MjkHBk4tLjdQ2L//NExC4ROPaQAHmGcAufLlGCmQt2k85rengTJ7/7ZdnptxYZgVznbepgVBWE4euwgJQMeOaEBmTghZvsRUGaCJJ7mQtnV4RQ1gdDzkKKirIsUYZto7V2Vvbx93h3fq+z//NExDwQsPacAHjGcNOtS9Clii2vM852wlucNCCgL3P7LKrsmjCTDxq3Kr8YBJbJrc5Wl0xQFuFuw1VqYmALj+urlegpZthtplQaIiJZ3q+11iv0VjmMfvCvAAz89UZX//NExEwQcNKYANZYcA29kCtyMEKOAwJhU5+VLIxhLas345ZlKlRmAcJwwuI7maudQb/SapcjqmbOq+OtbldN9QY6v//2ygr0a7nf7UWWZOYsTOWKZ4TFhP1MOlwqY0q7//NExF0RgNKYAMaycMQBBwUn5nG1zqKpWzna7tocF6lFTBP8etHGiuW5DDTIOnkbeBEEAZKBj///1/+tCuc/UdAuUQI3lNQIocH6kQz87aWieiCpbCexOeisqzuUksm5//NExGoRmNKoAM5ecM3Bh2ZkNmvMWwwRvG6UBoGI2pwyztb7LasvHwwVNDv////x1d/+m4DZYjELKi5xWcggwH5DBMdFU0OC67Xbr360xitZ6+QrVtoE5ZLogl8TgVWP//NExHYRmPasAMZecI5vnzq2h62pa9+mzdeDIOHLv9dn/oWU85JBEmJmsDPCmIaHKRQZTPU622B7ZqFcQp98RWLfopFLFxh5P6529i6ziRmliz1Yma7acY6XrxtPNCVS//NExIIRIRa0AMMYcP9wYUbDxhkevK2vrV4H9NbrrWa23vGaRrCy2pzA0gBhVKq1f6njS1SskiSwd6XAQKnKBSstlT/LZZOznKVJaEb2vZSxNCfv3KeN0Wq8TfOx2k1O//NExJAX4Y6gANPelGPd273OYWMu8uSl/YtdxL8IUSaGqU8rXsSMuVDWEwp5rgwYtn1vmusf//5rXFs1+f7W+dWi1/z65tXEYseijzav///6NpFS2OPyIwka+i5jABq6//NExIMdgeKIAOYemAcATRd1NNjYwyAEvyoQbDb9S52AYgdMgc1Sp3l0orKLjKIAn830VVkjSmRvl1NHWGOLXMjNrL9svFeTLLFCiPU9HcG+trUjxXNzc21hS1mfT/nf//NExGAboTp4AOZecMsOW7gRfkf//1v8DjfgRYMp2mGAw+cbMQsJy6BgUMmgrSJLRSqIkkQ29D1lsgJHdeioyBGGeZRCf52bYlPZycx+22WvpAJ7uwkvu2yr9bR1usBB//NExEQXYTJ8AOZYcBvXYe2WCy2ysNRG8Rod7N9f9ZZ/td//6kDlZK7rIgYLTVQuUFfZdBgSMEQooW4GBcNJVaSumtjtuagU/zVy/+cBzu/4an+g30Ua/XWn7RT9MNZE//NExDkScSqEAOZScKJ54otqjceoGtX///////+lWo4EEio8egYmAADVRlKPSqzCwBfqqgYx34UphOQuvmumM417mWcDB3bCVZRFGzjZ1mru2vcTEWRUZZu2qlpkEjeK//NExEIQWR58AVswAQsEMUPSDEv72m8NA0CoQTDy8ZmKxkUazmhpBuwelCtcuVHyYHMJoww56qIkhBc2DYHAQRlN543HIUC+SYgIIyPAspeSZkaHSXQQKiSM0iW/m5m7//NExFMfylqUAZpoALUBiHEEzVH/2ugtN9JzUlEnSUv//TdBBqeYbKNEwVs/3A+HiAP9agqbCAVK1Y18NBckUSW92Kog6W3FnwErijow4Bk1SaiubsJrxfc690utPla9//NExCYWSTKgAdp4AMsUGHmA4OEje0LK4JmYiPgrqGxw4E9/ust7ZzmuvjOs2h2hOOF1/6GM//ZYz///riynCqrH4DHCwxoDnHdXWbaDKErGCgGdknsdzmO9x7sthTbs//NExB8YeiaUANvKmF1z7nwlr/Cq3hdLdr4PueO2BWzwYyy7tprnryi1BpOLGxmgfFGYJlyvr7/r4eRjIfX2/f/bINFAjGL//ne9ow6Fy9OczxJLE0r9AgynDMt1RmV8//NExBAU4xakAMFKuP1S6peUFjaZTGd/QWfWgqAwMpL////xgo3///33R2n/O/RLyZGtO6nch3o3z5GRqnnRqTvPUTOfOQjEKc6h8CKfUTF1F7UHgimrW5ppr//l//84//NExA8Vyx6wAEBQvSv///5uH///5/+Z/m175mI5qo/j/fupjV5u3i+oeolrpXtru0G32yDh2OLFoFhADkXrmTTIEQ8GgNB0DhU0sGweg2ACBwHhCiov////X//9//////NExAoRqx6wAAhOvP//////+f6TdER6OqOzOtGeuUPUxGecrEBxB0cYTDxw4Og9Go4w2LFRHQfGorCAiMmiWD0akWICILECAaUL////////////nf////0/b023ZWab//NExBYRMxqwABBOvddkPdXVV1MPu5557y6FJhxc642Ilj3GpZ0HRePgXAYePi0Vi8TCEbCKNh4qKyAlDf////////+X///////V7ffWn/tXdkRZ6NZTDjTM5HPdhw0m//NExCQQ+yKwABBOvKL3ZUUxWOzxqVLkhuOC8MDA8C1RuOicbxGCcRAkFg4Ya///////5f/////////6f6fTen1nss9SppEskJ0nO00gcgdYxOLHmGDBCUmIzCUfEhQV//NExDMRwyK0AAhUvIfD0lNGwzFcRBcfMLZOJpw9DcR3np0rk9CMHCuWw4Dw7jmdB////00Z///87P//9v/rupmT7dP2ejv7HRi6Todu1WoiowmQSOyGOSWYyiSgUpD4//NExD8R8xq4AGBKvXQ6RxIoeDwmOuY44zIiACyOcppTBRDGAmQUVkUiCjQbdE/3Q24MTK481XqW2DgdbNkNp/qLf+z498PhtIHPZ9Gc39nsttWr/1FXUXoKuRehRErV//NExEoSSTqsANUWcO/+6jtBr4Hw1VEYgKdBEc0dAyFmkTT0jY0+r/JE8MUWMF7DoBYJQsKIxKOiM3EJH731Tiikmez+oGXGTn/////+1KrP9brUhoLQPq1SvsIyBdKT//NExFMQiTa4AMTQcBzLEkNePC9+g98kJTamsCRBDwWg5Aac6WkX926mkyyHFDkJt6f//u/OOjp2jV3+z//1frQiiazSUTYGyyR95TgBcLU9xrggJ9kM9/1qUvlFBxi0//NExGMRMcqwAMnOlE+//v+iGMtf//9155Hap1+3k9G1dnyNqp7qLsovIRQHF53cjOAjEedhMwcFDkUBwOUAxgCDjuQOBwUECBwlEplQdEkBxKlF+5/M7/16zREWspcX//NExHEW6x6sAHiKvL/HZg74///1/8Y1///j219S2xn4zu3xTWLw5Na9sVg1gzXtqbGvHtrdJX8G6z7wsR5qZYYVoahjNrB0k0MbIfiGKOVzVzEhyhJ4kGdvXpV1lCXI//NExGgccyakADhevMtwF8XQmqLc4WkP//////+tf///5Uvr////////+P/ri+9fn755jjTi3SkqboYXRDO7KlrNrKQcKlA1clBYOGEUk4wOzTBQEQhsO0kO6QWAWKo1//NExEkSMyK0AAhQvK///////+f///4xjP/9v/1v0Szu191Mc1KWd7FlOY0cNczOVFPUwxJy3j5MUi4fHyUVDxAYPmClBYC0OHRwVDYkD4kJkFAkBGVJoaKHQhL///////NExFMTaxqsAAhOvP//Uvzc1pkLVvzGxEVZCspUNlWVnKKoZrGUVKyuoiHQ6KiIFEiCxg8HnMokHRwk5WEg8HilKIiptT0E/CcFxrVUW//////////////5vp1ZF5dW//NExFgPqw6kAAgKudDaP1LlZBIxS6sksSMYrCQGoutSoHnM5SlIJB4xmmOIiqB4xisjpEWVPRYDQBpw1Rs5NgqGgwAxmXZOSY4AvfoLTNx1HqJ4Mb6DIaZKBzxwGP7P//NExGwQUxZgAU0oAK3GBF8eBeHqXv6aBoaLNzcCTFkOUURLxmCdf/W6CmTi8MOMUTYTglg7jyGC//Wum66DbhPBkBbBOCXHuRCiJuFrI4VT//9P7oMaLfj0IdY7yOXC//NExH0g6yqIAZJoAKTKxkCWCYKZijsIJ84FobgA8HsPuRnNC7VqfbBTHf7+Q75GqdqgYsyBCGc66bM368jXcgVmW/MVAU2FQ2GhVxUFQ02VOnQ7yoTtDfV/BUFRFZTu//NExEwSaS6sAc8QAIAoQmd9cuHB0eHBjArPAWKsgku5WwyjyqSnmcrtd1LO4+45xQbI8kPg5D0HRWIq9JrTpP52+1lyDIIOQu71dZoC/vUqtdqhDVFdRnDIsZ0R3JxW//NExFURSTaoAM4QcOUCRq19sr89ru9+4/Es/klXOVyq1QzVggwLEM2AHxtNnas99Nbbv3Xxfw7RROnrFVRcTsh2hnUTNYrV9QiJiRk3dWWZ5+RBmt2D/PFi7hDQ1Gzb//NExGIQ8SagAM4WcFy44el9dXJiySMw3lcxKuaz6FD1eb499bjb09tWz7QhPFnfXREarP/ilYVJpacelLY4M4w6dG4iBcES43UiD1whWNsZNL5bK4ar5qwVmXaUtVDK//NExHER2PqMANPecNLskLLj+UOYaUaxBMEhgVQsRa2Nj////4+yBAIUMp/+XS7t5mZqkykm3QRQIYPXY6Fn9as8wkidb7GanI6gSsbm733JF3VN3HQh+T6lMbv6Z77f//NExHwScWKEANPQlGyFyjROt3u1hegGYvuPQYLBI7Ff/4iVWCZWWAgFKsYyATnmDCia6GREAHiCnASltpBpZCZprrifNNbCBxoetDO6lIodICIBCAcS0XyqDMlZcLm1//NExIUSEQJ8AN4YcL1FXf///////mC6TwT0MEBjOYMSzKGJAAZHiAvuY+eAoOZY/jl2JPDfzNebs5WNfswIQYIpSlDtRQjQ06ZR69oNzDlM/8y+g3evv/+n/////yIi//NExI8RqJZ0AOaQTB9jDhNdqDnbFOfqPOFAKJCbnXhXQ3vswNT+4wJhyHqExueNFCZPxCjKg5JuUj2Q8t4jP3B9M+XlJkS0h5m5qIlqZuWQyCfaRsIMUCbM/99MYux6//NExJsSOTp8AVsYAG6qUgsOD4BOTjU59///v7m/6mcmZPD3DYTOFh5D/////jr/3//5Lg4zQTXJkTmikfroz9+X9f/yasWLvdGfV7XM48UewoKD2K2yojojlnkOQ7AC//NExKUgKyaQAY9YACjqhiCxSvMhCzjCoHlGgrFjLA8FYiSs8hf1XOqrAKhd4rY5yCK6QeYUQk9fHRhfTafu++ltaIyscP1GAwEAMCnAY5VOZlhsbycfVBQmNGKs3//s//NExHcSYfKwAcEoALWbaszNqA/nf2/wx0IEIa9X6st60BJ9OnZpnbMyMpDUITGgH/GApv5I1pW+uwwAoDDJu1PXurxDI8VNe8vgTEd/Ts3TKnjlldMrpqmVIaCcxWmU//NExIARwd6gAElGmKJKehGe3Tzf18GGqIaysO9FW470VRKKTMiBmYpbHaBBkgOk0zgG0H202ELVDfnI+vCfqzC2V6U78l9HmiNEAPA5JEI6VeuZr4v5nixl8wKm2T/9//NExIwSaXKIANMElOtvXUpS+0/AVUzQwpm8dS2PBAC+LhFQMAE0WIRmssDAuqYhAtrQxwECkmnwpgIWBxhdFhaboWTEvB6f2L/PNgSPepyiQjYp39axazmKot8HXahd//NExJURWQ6EAN4QcElgqnOOAaS0Ax8UJY17zjMHezut3KwO17dNX6Z/Eaobf1/GKkOVJ/ktJ2q1Oq3P3d6y/n+8z/w7Yv5/qHG3mSZx+Q5Cihif5eqGtYlhakHVloiH//NExKISIMaEAN6McIs/dOqIs4T6etMisa2sIt7/eLX+1Sex3Ta3pIn8omYkaBZsE8mvpwv8yf+L85hW+Kbzdnzik3tutuUdbV/01YDsS8qUixU7ABbAW2ethA04R+eW//NExKwTkRaUANbecNyml7peUK/d2i1qVY5cq87k6+DV2kKQ5Olw7l9rY+P29u59E77joMHnV/0oT/t/+lUpNUUD+FgNNzEQGm2fvo/7//9oDi/5f/6qQ///3/ap0dW///NExLASCSacANYecNj9Usxz3EGdnSx+ck4xSEIzIp7tOecOKMAgmHxQTD4mLiAoQ6kFHDg4Ph85cOVLB6rQn///////////4r////////81xK//8/8XFTXxVfDXPU6p//NExLoRESacAM4WcMxelzEXupKbjHhZWFSxZDRFFR45DxYUcVHlCQsMCcYGRCoxKl////////////tf////2/0tXVN76NmszmqdVCjHMebZSI8PD48xiIaQYwdd0UiK//NExMgUivasAEhKuYdHh0XqFTgyKTRIFQliOD4uSJCSeD4xDS////////////n////+r3X7/oY3XtrV2Maa1UZCbHHMcNVLD6TJxo46DiHjBQSDQflDi5yBxIkMiSgw//NExMgRUx60AAhQvBAaTMFA8KSwljcf+90//7y//+zr///Mu4i//7////q46+bh5eKq6mYi/7uK3jZrZGl7Hi6RG8b3aJ34+BpCocIQkVDw/BoEFA8aaAHDgHBFD0AU//NExNURqxqwAAhOvTIqBQYBEMmjccFiVSSc0nBcseJ7zYTrN9/wbV35fLOdfzd/nMSr/HH3///H/HXPE3HP/F3NTXv/fLR09DUQWsQdUbnpUpU3arJFok4YYHNGWOKZ//NExOERQx6wAAhOvAVqBUIRGGyEA4WKEMPAXMEpkD2hqdjzlmgDFl8uA1Y3/DFEpUjEOBwvmKdc/+lfb27BN81iOa4nV5WyYmfMGhwFCjoCY59MWdk6vjybnZMtGx////NExO8VEx6oABBQvMo5Q1r//zf/lpaRVv4NFQ0qfXnM2AE1mHXceQdLnvMEQOEdU6Bu8vJVB9GZSx5N01ySLT46ifrkNK67j6L6VQ1hGY5pOrKgL4cVcgAemxjQ0imq//NExO0WcyKsAEhQvIAg6Ys0FZ++zD/h9+9lfJyr4J770iBUjlzPpWwN7s8Dj7P//8B4yq3frouJW1JA4qCU9kpDTXsgXi+YF8W4jPzRzod5J0FbnC4vQ8B0NRSuP44J//NExOYUCS6sAMPYcKIOMtF1GQ2n9MuvUoyX1P6PUvrMLKpt/mP8jcv+6ODFEcnig0VJAMbAuFyzUOAqR2GeODpv5jV/xv/5zX/Ma39H7DFqbJXJ17CSCNtu8B/p9aRx//NExOgaIdqgANQWmA6OyF+y90h/d/////TUoe5xwchLWuqLLyNrdB51p1WmWzMwXi3gcS1FyccfUbHct1mWzj2NkUxBxJmY4HYSUuzYYQSohGRUOccrJTiXdupJuroL//NExNIRqd6wAMqamGsbWgrT4JP5bd//+ivPkJDJ6ZlpoI4gOeVtzCCQ26NNaC2dYRJRIJ7d+oa4xKy/7e11/efPFXL3M/yPuPQ7fIj4pMEREZEQvAVSaFOZaFmuOyoa//NExN4ReTKwANHecJIBNDQdTOw7WImee///1+SqRDG3HOEhITAgtTE9kV090fu15/PZNleYISrHdeFHcJSR8JTcMSz2iP80LW4jf3Ogz+0D+K0BhuHsYROEO/f8Ha4J//NExOsVAaKcANHalJFvd7Np3Uh3/UbZ5emzmn1WgQA+8kMkvCpJXGMgLBBGN8v2TrkXAgxwnUxjYPDBuTaBNwOuHH8ddIPXEwLhEnzuMurrgAYqsy9ow/PNbDjvtv/k//NExOoVQS6IANvScHc9p3Pzm+QeW70PnAP9KgWG+jeMU4aRCLbq7tVFVTEGfWna7CAeCyBZxlDqqMjsqM7e8ndkJAS9WWV9+epfZ0llblykwYPuaTMChVG9lpdl59Va//NExOgU+X6EAHiGlVTK7QgIgEAwJROIAjyhQoCAGMhg2CYk6NuCmKEkobk9lBRuBdukBIwxKy4rH4Z0c49LPUPVKkacgSoX/2v/+cs///lTDcv+9amJ////////W//P//NExOcT6SqQAEBGcS3+OSl/m5NmWdW4yTkyZwouZqjRrqEyImcTKxcrNe/i8aYJCNYUEAkIkwIbS7JRYnXwnRcimKpoZqvILbI1SMN9GiBQwrsl/////3///87////p//NExOofYwaYAEFSufMRH9eur3ehx6szT1aY7KepUycUsfRFYfPHCCHGMphFQflhSOlwsXAFIBg0UjYXjYUER0kD8B4tEQ4ZJ1q/+//////////53r////Wtrf/61VZG//NExL8X6x6oABBSvT67FUajKquOYzGS8eOYQHDzCJBNThwVIQPh8wuOGlHKFmAAOiEFIFDQQRAxUtUv//////+////+3/+n/6f9jvm/mmv5phqOQdzq0dnqyo544XnC//NExLISKxqwAABOvUhMPDI1mnCY9mknICMBYgc5wkAWNG4ZFISiARTlGxEZOYUFRLd///////////+rf////Or/05tFZM03NnGmmoSUi3+jo46xylgfD5JTTHGphJTn//NExLwQyxq4AAhKvVGpQShSRQRQlHiSjUgIwARAHxJTR4fEkzIObINSg/QBRjxIgX4hv39FiFg7smDbAc0jPdTMJ2EABc4e3+1bif0w1QPkvfvtYOeP4pcmxXCR/109//NExMsRoxawAAhOuYY0MTkYLmHCLjDI//oK32FxiyxJBC5LjqFADgIb/1q1W/xC4pcDikLexzA1WPZBAbxkGIgSNVtTo9H//+OeVyQHPPh64+hkD4yhUMDRNZ1a2UMm//NExNcSgxqIAUc4AXyWiR9V0apH8pkUQBARjkwiJzF/34u26X8O09UZV4uXWQfzafEF3kGBQOQuDYI2lgUQPSqmiBSqkOxMDURgXiVmiHviPXpUlZW2rVy5NEC6aIY6//NExOAh4ypoAY+YAMaSVIqtRAdA2rGA2ZvuBpowWZuWhmZpVbWLWv+VXuPWsoWbE0KG/+R1YoYqrXvugQtFcpcKTgMLfRYZI4xslzCiZAQolGoLBsQA7nSE9ZS6BHSq//NExKsgysacAdhAASKk8yG1FZFAlAWkcB4VxiZIrUcK3bajZYc67VjyaQ0H0lpK7349c+XWPaL/9T58sCFG3Hiwvauv9eDWUGjR/rF11bu/2Knz+rozITTT9a2Z9zmM//NExHoaCeKgANNemJEUUGqJ5pk4nNWydZiX3ycypkef5YGtSq5WUUwmxix6H8fjyj1WudsqVXv4cKeJrFrfedbpquaUtat/akMuDAJsCzt9Lyqly+aMBCFfHySQBKSa//NExGQVqZasAMtelWGQiG1SKmJ4LPjvKLKjtatZtrPPWcP7kw2+jDF+4Chi0ZBBjihPD8NaHfB6uMVrgF5t6Kxy/hwrdg/HdnRgDDGRRa/P/H+VuZb6Ch1N0Ag8JVsU//NExGAU2VKoAMtelQICABsJ9BZNjuqWVV1maVaaX1f/xrf8z1CW+amQmWEJ4gEADiKSA8CTS6NhW30qMLEmmFH7ZBKAosOX9Kqr/Ed0FrVlYM/opZQIxnGCJM1NxNxe//NExF8SCTawAMTScN23Lcc6+Xd9vd3nL7WS2dXfzb9Xd3SsYKioeAsCgKbRjUTDlUDK/YWosTFOi6QaIji/whXD6cqLm+LwJoROSAhh+WIaYpyQdRGdlmeQcbvSud6x//NExGkSWTqsAMZScP/c9/L+7t34w+3isTqoeeIGCBGYSJtHmyWLwbCBJp6as1ABTV///////0q1hdEDpPUIZETHzKojfV2IYnSV+H+dPtWzN6wc1pv8/1XH/9+/4bTS//NExHISaSqsAMPScGXC5MLTQSmyRETWohmtRsKPVRZesYgRnl/i39H//9ncpSaU3XoCwtJHTFVEgZczIFvQeaBMyyo2qNc606lpadte2+nNmKyjcRSIiBooeM1HiqD4//NExHsScTagAMPWcBgseGqmXCyUkBVinfr/////8ZWUclx0jSdeB8Rw63UyDAG00FraV0vICc70ingLy/q1DZf10acXeKhERAHE5kfTRZZCzqVJbP++/ZfUlJZ0sj6P//NExIQQ2SqgAMtOcN3//2lXbdQeCpGDgsHBFPjBQ4K4iJoBTPtAxNhTxWqIILatYZmml0a/7/52/6n5iiJWiQmK0dBodKQAhYRGD2la/+v2UqFKweDrP//////FKhjd//NExJMRuaKMAMiUlCVja+RCMaLhghj0KqSDr2QbFY9GreQ8OqEdYKrA0BCp188p0GmHlhUFnhVI9xKkemtRWwXdJOoTRXxdj//X9dnbxFUmN19H0L1tC58Ua4h+Cl/8//NExJ8SUZ5sANIKlFOKHsP48B6Gg5R7iC+JgaOSgckQ5YLH60y4ibjHUaCWjCfmhfN0zeHcijBDHJxf/ni+bl8vpkuEzJccxIlo4k/+mxfTl9JBMeSRwqJxDIQ9yn/+//NExKgRGEZIAVkYAKZ0EGQQZBkBzkubFM6bpE9Z8nmv///tbQ9I8nBiaxPS/8YoSEKgiitChQoUKFDLfGKFChIQICAgICZm///6qqoCAgICBMx+qr6qqqqtqoUBAQEB//NExLYgqvp4AZhoAWBp/4qCoKgqCodyp2VBUFQ7gqC1PAQyz0sNhUEgCDAdYdKeopYaZbx1N6GUjph+m58oIpiScbPopcudYZXBiHiiswOQDIDCx9Bp6BwswtB0DgE4//NExIYRqUp4AckYAAip4mH3ElCyCzEp/9S3eLNniKoR4ri2qnDEzSxYMSMDoQlXDLAdD6ZpXi1onNksiz5W8rCVqBjwlrJOi1y2tPnK7bNNWmwlIInrgkGlPEqhKHSz//NExJIUSUIAADGGcNizsKHkRFLFiU7HuW6ImlnyOJZ3DvoIZWohGCNAvUWmTzbE4ahBCVPaTWwiSasIjIhgeWEZk5GooBFClP9lZl/2oIFQy5YIA4a//xMCrKwZO6hd//NExJMWEUH0AHoMcJiv/9/MmhjkgJoX9ycNvIbhfbghAcXHNCd4lL3hZOrwoosEMn00ppLk8J4dNKLOKAYcakcTCL5A+79pw+cIEzlKP/+ru2fyGuoT0OkwjiUrjWRm//NExI0QAU14AEhGlJH2QokMKBgLgJBjVY3G1+GzqUaiQxNDVGv/KTGvVgoSiIsBU22npIid/nTx0OB0NESqP/+ssqdf/+pdNSjQYyALsNMq09yGHfh/KURiWblcvYm3//NExKAQkRX0AHjGcKoKBQghNcVgmGyfVEDdQhaMVo22IIECBjJzh/4QhCE0aNHOIhIAACbvEAwN3cOBgYGIT0CAAAj//7onXd/0RETiAYGBvEQqidcDA3dEQv0//iIj//NExLARKRHcAHjGcL6Im7lQ4GBi38AAAAAAw9WcOAQCSciRaqux0KGAmZmZm2Zv2DAICJO5UFQVBUFgaBp/qDigaPSoa6wVBUJqBoGgaBnBUFfO4iBoNfWCoK/qBoO///NExL4eksnYAMJGucqCuIgaBlVgNgCMkAI4jmEURQIAxASCwRAgnJhgLAmBxATDAWCwDEBMMhECAMgGAsEQIACYYCwRGlCbHji6CZ92n////VtODRySELDQITUGPCQZ//NExJYSUJ3oADDGTDAJgUJSBSAUBjQZMAlhIMsAmBQkMCoBRY0GTAJgSKDgpgUJGg0BRY0GWCmBQpYLAUWiDJkixpyyMEjUiMEi0TlkaJDDgKAQMYKgFRIYwFBIIcKg//NExJ8R4FHAAAhGJKqhiaqxrGhqTUobUodz///////udJq1JjWMprGpM61QxiYKCkAoKBjBnAQSJQEMDlgMEHqX/zZZZYDBBgYKyggYIEDlllQj/7FCgrLAYIGDBWWU//NExKog4xnAADGGvRC4rpCrFiooLCwsLCorFfi2oXZ//1C7KxX1C0WFhUVFRUMKTEFNRTMuMTAwqqqqqqqqqqqqqqqqqqqqqqqqqqqqqqqqqqqqqqqqqqqqTEFNRTMu//NExHkSGR04ABjGcDEwMKqqqqqqqqqqqqqqqqqqqqqqqqqqqqqqqqqqqqqqqqqqqqqqqqqqqqqqqqqqqqqqqqqqqqqqqqqqqqqqqqqqqqqqqqqqqqqqqqqqTEFNRTMu//NExIMAAANIAAAAADEwMKqqqqqqqqqqqqqqqqqqqqqqqqqqqqqqqqqqqqqqqqqqqqqqqqqqqqqqqqqqqqqqqqqqqqqqqqqqqqqqqqqqqqqqqqqqqqqqqqqqTEFNRTMu//NExKwAAANIAAAAADEwMKqqqqqqqqqqqqqqqqqqqqqqqqqqqqqqqqqqqqqqqqqqqqqqqqqqqqqqqqqqqqqqqqqqqqqqqqqqqqqqqqqqqqqqqqqqqqqqqqqqTEFNRTMu//NExKwAAANIAAAAADEwMKqqqqqqqqqqqqqqqqqqqqqqqqqqqqqqqqqqqqqqqqqqqqqqqqqqqqqqqqqqqqqqqqqqqqqqqqqqqqqqqqqqqqqqqqqqqqqqqqqqqqqqqqqq//NExKwAAANIAAAAAKqqqqqqqqqqqqqqqqqqqqqqqqqqqqqqqqqqqqqqqqqqqqqqqqqqqqqqqqqqqqqqqqqqqqqqqqqqqqqqqqqqqqqqqqqqqqqqqqqqqqqqqqqqqqqq//NExKwAAANIAAAAAKqqqqqqqqqqqqqqqqqqqqqqqqqqqqqqqqqqqqqqqqqqqqqqqqqqqqqqqqqqqqqqqqqqqqqqqqqqqqqqqqqqqqqqqqqqqqqqqqqqqqqqqqqqqqqq//NExAAAAANIAUAAAP9EdSg9J41WL/Xors5Agud/xe2uyl7HcQZvo0h2BfRjnlZgaf79yo9v9X9aZn///DLMlVfs+VJA4pYQ//80KRZpNQEGDAIEMBAowKczvq5OBIcw//NExFMQYcJEAZoQAMjIyYRDGxKIA4YtD5bRbaCNL5VNzq+D+W+SirUn6RM+Yk96dwaHTwjhuB9A3cco3ueb25ubpuhhort0SevUM+nvm6i2fL9jGMqXs6/l3E//1v+f//NExGQhCu5MAdxYAevmHRxxVx7Pv5jqO+b/ZL/4Z/7JZTPi97Gd6FdR+AdLqkys5xTc2NTVCTMZoHFFvjkyCBUJSnaa4IMoEwTW6AgJEcyAMGZ2RtpYmK0akTgoJJzK//NExDIeEZaAAMpelBiHGeQB8G0QhrYnB/vL+08CJHYGtD1e/lV+67/z//873jXzilKavujwyGEH2ygIH1OLg4GAfD4RBBn9nrpIA/EAYc7lCgYqpf5Qig5GOkwYcY7Q//NExAwVmTqsANMYcD1ljioSQFIvxKOB5MtId/z0U5uP3nYG7zK22zrr9/OhSFpbgTqAbgfVtIWfjzp+fvnKYkHizRp8LOVMaCghBg4j3////ymXW9OxFcP3UUOAW7T4//NExAgTOT60AMoWcNL+AtgpKRFijhyFIqcQY/GC6cNP9Ts91TMXT5b3V0SjFQkKCkN5uXFShNSYqeMkjBBNG0nXlik0xi1CpdnxZX/f//3f0t87hJzEJn6kDrDIQyaQ//NExA4TwaasANHYlBZ+H8sTgiGHqaONR0Xmmp6v6vma/M6y6/ex0IQLwKXbl8CBMy2F1I0upArc/Pabv87aszO9e/ZtIMUH//+//9EWnearwABfhbjvbjpmoMNHzmbH//NExBIVkbKkAMnYlATp4pL+jc0zzT/HlmZrV+ZnUJykoYhD2RjZ46VlkXw3KoimRYrc5Mlr87mN/tmvYpM5V+cXR8/4lc7rcy+i5Kf/o+/6qrWsaZ8gEGFsrvzD9AgQ//NExA4UYbKgANKWlGCtKFyewegTTdojF96t579W+Tf8xTKygzYWRAhmp88oPBGB0S13FI3gitg6fJB75s5cx0v/EGvvk+tv/+pn//0fLVFasb51DoclrFH0so8CLo7g//NExA8T0aakAMlWlN9qfjBQs2cVbQxv53LYhHZESY7fbpmXqHllXj+OAdCcHY6xsI8DsWJ7TNM+kvLX9P/iY/up2NPSS//2////STqqx/dAFFg56BqOLhaQ+HVCR4HA//NExBIQoTqsAMnOcAwn26ntSv/T//rQ0xCIpYmIokAIEsShuLBUcEw+QJHwOI0jVvcSS5gaDSf//////pqY+63MMlMuoREONIcOkjW48SCRxYqKozBBgJzoFehdUu+3//NExCISoZ6kANCQlP//rWIWBrCC4aKA9gah4HAkDsSUHqO3e0LUz13rrxUlw1n//p///9aKy1aVKTCnGNmfBxc5i6zOEIKjU+xRvAg19661Stfq3/5/j6//+ZnmkHpO//NExCoSAUKkAMPWcDAlAWD0RkzU1NnnS02s8vSx+uuqONiv/7/V///665JnHCooX9fd0NCu7FiwJGkVmYVyJnogA9Fa4n9Hr00///MLsOD5AqEQqDQcESMMOGC5DSw7//NExDUQmUqYANCQlFnU3fF/93///f/0PFFVgm1oxaaj9kqAa68TpjOhMkQANA8jZi7UTOlpo7fp//6lYxShxQ8AwoNAih8CxMSHjwQ8G3Yvep9xX//q//s1/tXDQ8cq//NExEURCTaMAMtKcGI3m5gCI063MCS2fVtChFnRcCQy5Q4iayudzv////d3aUUqJLg+HjhJIsIpUYCjFwAUcpWxhOsUGiR/69r57d/8N7uxS/TVp4bVwInoGO+hOfpv//NExFMRiTqAANHOcNgS9nKos7SBDogosxWfb9u3///6KuIHshYoIaDh7QUwc1AggtaipXaDjwx4sWQBjKgKaCvPUJJaKf/6VTNAWROBRFhjlxGEW8ym8nKQOJhAowDE//NExF8R0WJ0AMCQlA8tWM5XKxnlQ00vpf/muuzqGdWChBwEMOAglDCgqghQCEIbMNJOONK8iymt6sa//+7ftqoBh4hdLf6xYVCgolFLKUKAl/N9Xjf1YXVLVf7z/q7U//NExGoSqUpEAHlGlQQkOBpYKg0RDQiPE2iUBCWezx46CpEOkiwVOnf4b53qCgVGPrd+vLUPBzQXLsGrQjSAOVkf5TCU3CBymACYsd7jUEwIsOOEzgsCEHG8IrYUTvFX//NExHIRqRYAAEiGcOxLocexsucSypJRu3lGm8bFv6EE0T9A3gMxZEiChqJHjaSDIVKkSazIDMytZhVQLIBlAV5GVYtiiTCpFTW5o0FAKEzPOyR5ILQk99U8dizSpEqR//NExH4PcG4AAGGGKEtInSB6KuU9SgCh4jJG3bl3V/+y2fxWBg5ZZZahkf2SoZGrA7OWWWo5f//////y2ORkyyWWWUECBw0aXwZFG1Cwq6oXZxZBoKin+viwrUxBTUUz//NExJMSGEH8AHmMJC4xMDBVVVVVVVVVVVVVVVVVVVVVVVVVVVVVVVVVVVVVVVVVVVVVVVVVVVVVVVVVVVVVVVVVVVVVVVVVVVVVVVVVVVVVVVVVVVVVVVVVTEFNRTMu//NExJ0RKbWsAEjGlDEwMFVVVVVVVVVVVVVVVVVVVVVVVVVVVVVVVVVVVVVVVVVVVVVVVVVVVVVVVVVVVVVVVVVVVVVVVVVVVVVVVVVVVVVVVVVVVVVVVVVVTEFNRTMu//NExKsAAANIAAAAADEwMFVVVVVVVVVVVVVVVVVVVVVVVVVVVVVVVVVVVVVVVVVVVVVVVVVVVVVVVVVVVVVVVVVVVVVVVVVVVVVVVVVVVVVVVVVVVVVVVVVVTEFNRTMu//NExKwAAANIAAAAADEwMFVVVVVVVVVVVVVVVVVVVVVVVVVVVVVVVVVVVVVVVVVVVVVVVVVVVVVVVVVVVVVVVVVVVVVVVVVVVVVVVVVVVVVVVVVVVVVVVVVVVVVVVVVV//NExKwAAANIAAAAAFVVVVVVVVVVVVVVVVVVVVVVVVVVVVVVVVVVVVVVVVVVVVVVVVVVVVVVVVVVVVVVVVVVVVVVVVVVVVVVVVVVVVVVVVVVVVVVVVVVVVVVVVVVVVVV//NExKwAAANIAAAAAFVVVVVVVVVVVVVVVVVVVVVVVVVVVVVVVVVVVVVVVVVVVVVVVVVVVVVVVVVVVVVVVVVVVVVVVVVVVVVVVVVVVVVVVVVVVVVVVVVVVVVVVVVVVVVV\" type=\"audio/mpeg\" />\n",
       "                    Your browser does not support the audio element.\n",
       "                </audio>\n",
       "              "
      ],
      "text/plain": [
       "<IPython.lib.display.Audio object>"
      ]
     },
     "execution_count": 27,
     "metadata": {},
     "output_type": "execute_result"
    }
   ],
   "source": [
    "\n",
    "# Decodifica la salida del modelo\n",
    "full_text = tokenizer.decode(outputs[0], skip_special_tokens=True)\n",
    "\n",
    "# Elimina el prompt del texto completo y los espacios en blanco al principio y al final\n",
    "answer = full_text.replace(prompt, '').strip()\n",
    "\n",
    "# Crear un objeto StringIO para almacenar la salida de print()\n",
    "output = io.StringIO()\n",
    "\n",
    "# Guardar la salida estándar actual\n",
    "stdout = sys.stdout\n",
    "\n",
    "# Redirigir la salida estándar a nuestro objeto StringIO\n",
    "sys.stdout = output\n",
    "\n",
    "# Ahora, cuando llamamos a print(), la salida se almacena en 'output' en lugar de imprimirse\n",
    "print(answer)\n",
    "\n",
    "# Restaurar la salida estándar a su valor original\n",
    "sys.stdout = stdout\n",
    "\n",
    "# Ahora puedes usar 'output.getvalue()' para obtener el texto que se imprimió\n",
    "text = output.getvalue()\n",
    "\n",
    "# Y luego puedes usar 'text' con gTTS como antes\n",
    "tts = gTTS(text, lang='en')\n",
    "tts.save('output.mp3')\n",
    "ipd.Audio('output.mp3')\n"
   ]
  },
  {
   "cell_type": "code",
   "execution_count": null,
   "id": "2b1f2163",
   "metadata": {
    "papermill": {
     "duration": 0.010034,
     "end_time": "2023-10-08T04:15:39.901160",
     "exception": false,
     "start_time": "2023-10-08T04:15:39.891126",
     "status": "completed"
    },
    "tags": []
   },
   "outputs": [],
   "source": []
  }
 ],
 "metadata": {
  "kernelspec": {
   "display_name": "Python 3",
   "language": "python",
   "name": "python3"
  },
  "language_info": {
   "codemirror_mode": {
    "name": "ipython",
    "version": 3
   },
   "file_extension": ".py",
   "mimetype": "text/x-python",
   "name": "python",
   "nbconvert_exporter": "python",
   "pygments_lexer": "ipython3",
   "version": "3.10.12"
  },
  "papermill": {
   "default_parameters": {},
   "duration": 3913.964792,
   "end_time": "2023-10-08T04:15:43.175353",
   "environment_variables": {},
   "exception": null,
   "input_path": "__notebook__.ipynb",
   "output_path": "__notebook__.ipynb",
   "parameters": {},
   "start_time": "2023-10-08T03:10:29.210561",
   "version": "2.4.0"
  },
  "widgets": {
   "application/vnd.jupyter.widget-state+json": {
    "state": {
     "01e8a07c425b49e99a6b649aca40a463": {
      "model_module": "@jupyter-widgets/base",
      "model_module_version": "1.2.0",
      "model_name": "LayoutModel",
      "state": {
       "_model_module": "@jupyter-widgets/base",
       "_model_module_version": "1.2.0",
       "_model_name": "LayoutModel",
       "_view_count": null,
       "_view_module": "@jupyter-widgets/base",
       "_view_module_version": "1.2.0",
       "_view_name": "LayoutView",
       "align_content": null,
       "align_items": null,
       "align_self": null,
       "border": null,
       "bottom": null,
       "display": null,
       "flex": null,
       "flex_flow": null,
       "grid_area": null,
       "grid_auto_columns": null,
       "grid_auto_flow": null,
       "grid_auto_rows": null,
       "grid_column": null,
       "grid_gap": null,
       "grid_row": null,
       "grid_template_areas": null,
       "grid_template_columns": null,
       "grid_template_rows": null,
       "height": null,
       "justify_content": null,
       "justify_items": null,
       "left": null,
       "margin": null,
       "max_height": null,
       "max_width": null,
       "min_height": null,
       "min_width": null,
       "object_fit": null,
       "object_position": null,
       "order": null,
       "overflow": null,
       "overflow_x": null,
       "overflow_y": null,
       "padding": null,
       "right": null,
       "top": null,
       "visibility": null,
       "width": null
      }
     },
     "0594df3b22854cb49e0eeb6f29d32017": {
      "model_module": "@jupyter-widgets/base",
      "model_module_version": "1.2.0",
      "model_name": "LayoutModel",
      "state": {
       "_model_module": "@jupyter-widgets/base",
       "_model_module_version": "1.2.0",
       "_model_name": "LayoutModel",
       "_view_count": null,
       "_view_module": "@jupyter-widgets/base",
       "_view_module_version": "1.2.0",
       "_view_name": "LayoutView",
       "align_content": null,
       "align_items": null,
       "align_self": null,
       "border": null,
       "bottom": null,
       "display": null,
       "flex": null,
       "flex_flow": null,
       "grid_area": null,
       "grid_auto_columns": null,
       "grid_auto_flow": null,
       "grid_auto_rows": null,
       "grid_column": null,
       "grid_gap": null,
       "grid_row": null,
       "grid_template_areas": null,
       "grid_template_columns": null,
       "grid_template_rows": null,
       "height": null,
       "justify_content": null,
       "justify_items": null,
       "left": null,
       "margin": null,
       "max_height": null,
       "max_width": null,
       "min_height": null,
       "min_width": null,
       "object_fit": null,
       "object_position": null,
       "order": null,
       "overflow": null,
       "overflow_x": null,
       "overflow_y": null,
       "padding": null,
       "right": null,
       "top": null,
       "visibility": "hidden",
       "width": null
      }
     },
     "09f41708115042eaa4d31a0788715fb6": {
      "model_module": "@jupyter-widgets/controls",
      "model_module_version": "1.5.0",
      "model_name": "ProgressStyleModel",
      "state": {
       "_model_module": "@jupyter-widgets/controls",
       "_model_module_version": "1.5.0",
       "_model_name": "ProgressStyleModel",
       "_view_count": null,
       "_view_module": "@jupyter-widgets/base",
       "_view_module_version": "1.2.0",
       "_view_name": "StyleView",
       "bar_color": null,
       "description_width": ""
      }
     },
     "0ab076b185794599b25f8f0a7c4e1fdd": {
      "model_module": "@jupyter-widgets/base",
      "model_module_version": "1.2.0",
      "model_name": "LayoutModel",
      "state": {
       "_model_module": "@jupyter-widgets/base",
       "_model_module_version": "1.2.0",
       "_model_name": "LayoutModel",
       "_view_count": null,
       "_view_module": "@jupyter-widgets/base",
       "_view_module_version": "1.2.0",
       "_view_name": "LayoutView",
       "align_content": null,
       "align_items": null,
       "align_self": null,
       "border": null,
       "bottom": null,
       "display": null,
       "flex": null,
       "flex_flow": null,
       "grid_area": null,
       "grid_auto_columns": null,
       "grid_auto_flow": null,
       "grid_auto_rows": null,
       "grid_column": null,
       "grid_gap": null,
       "grid_row": null,
       "grid_template_areas": null,
       "grid_template_columns": null,
       "grid_template_rows": null,
       "height": null,
       "justify_content": null,
       "justify_items": null,
       "left": null,
       "margin": null,
       "max_height": null,
       "max_width": null,
       "min_height": null,
       "min_width": null,
       "object_fit": null,
       "object_position": null,
       "order": null,
       "overflow": null,
       "overflow_x": null,
       "overflow_y": null,
       "padding": null,
       "right": null,
       "top": null,
       "visibility": null,
       "width": null
      }
     },
     "10219feec51f43a58d91732415adbac4": {
      "model_module": "@jupyter-widgets/controls",
      "model_module_version": "1.5.0",
      "model_name": "HBoxModel",
      "state": {
       "_dom_classes": [],
       "_model_module": "@jupyter-widgets/controls",
       "_model_module_version": "1.5.0",
       "_model_name": "HBoxModel",
       "_view_count": null,
       "_view_module": "@jupyter-widgets/controls",
       "_view_module_version": "1.5.0",
       "_view_name": "HBoxView",
       "box_style": "",
       "children": [
        "IPY_MODEL_65769fcdb7a7466b897a05adbb960b67",
        "IPY_MODEL_6390666a566745d3bbf82b42af8e8034",
        "IPY_MODEL_f27357a2929a4d3bb7f292f1c46b56fb"
       ],
       "layout": "IPY_MODEL_33081cb4f8794fe7a8d2349f7af8cd31"
      }
     },
     "12ab12440ffb41f3bf0e369fb3841793": {
      "model_module": "@jupyter-widgets/base",
      "model_module_version": "1.2.0",
      "model_name": "LayoutModel",
      "state": {
       "_model_module": "@jupyter-widgets/base",
       "_model_module_version": "1.2.0",
       "_model_name": "LayoutModel",
       "_view_count": null,
       "_view_module": "@jupyter-widgets/base",
       "_view_module_version": "1.2.0",
       "_view_name": "LayoutView",
       "align_content": null,
       "align_items": null,
       "align_self": null,
       "border": null,
       "bottom": null,
       "display": null,
       "flex": null,
       "flex_flow": null,
       "grid_area": null,
       "grid_auto_columns": null,
       "grid_auto_flow": null,
       "grid_auto_rows": null,
       "grid_column": null,
       "grid_gap": null,
       "grid_row": null,
       "grid_template_areas": null,
       "grid_template_columns": null,
       "grid_template_rows": null,
       "height": null,
       "justify_content": null,
       "justify_items": null,
       "left": null,
       "margin": null,
       "max_height": null,
       "max_width": null,
       "min_height": null,
       "min_width": null,
       "object_fit": null,
       "object_position": null,
       "order": null,
       "overflow": null,
       "overflow_x": null,
       "overflow_y": null,
       "padding": null,
       "right": null,
       "top": null,
       "visibility": null,
       "width": null
      }
     },
     "20f4908ee75f481db5615fef0fe4d010": {
      "model_module": "@jupyter-widgets/controls",
      "model_module_version": "1.5.0",
      "model_name": "HTMLModel",
      "state": {
       "_dom_classes": [],
       "_model_module": "@jupyter-widgets/controls",
       "_model_module_version": "1.5.0",
       "_model_name": "HTMLModel",
       "_view_count": null,
       "_view_module": "@jupyter-widgets/controls",
       "_view_module_version": "1.5.0",
       "_view_name": "HTMLView",
       "description": "",
       "description_tooltip": null,
       "layout": "IPY_MODEL_a2bb5ce4094d4cc2821cfa9d0127cf72",
       "placeholder": "​",
       "style": "IPY_MODEL_81e6c6fc04c04e6882644263258533d9",
       "value": "Loading checkpoint shards: 100%"
      }
     },
     "2102f72a67374334b4e8b54edb5c7272": {
      "model_module": "@jupyter-widgets/base",
      "model_module_version": "1.2.0",
      "model_name": "LayoutModel",
      "state": {
       "_model_module": "@jupyter-widgets/base",
       "_model_module_version": "1.2.0",
       "_model_name": "LayoutModel",
       "_view_count": null,
       "_view_module": "@jupyter-widgets/base",
       "_view_module_version": "1.2.0",
       "_view_name": "LayoutView",
       "align_content": null,
       "align_items": null,
       "align_self": null,
       "border": null,
       "bottom": null,
       "display": null,
       "flex": null,
       "flex_flow": null,
       "grid_area": null,
       "grid_auto_columns": null,
       "grid_auto_flow": null,
       "grid_auto_rows": null,
       "grid_column": null,
       "grid_gap": null,
       "grid_row": null,
       "grid_template_areas": null,
       "grid_template_columns": null,
       "grid_template_rows": null,
       "height": null,
       "justify_content": null,
       "justify_items": null,
       "left": null,
       "margin": null,
       "max_height": null,
       "max_width": null,
       "min_height": null,
       "min_width": null,
       "object_fit": null,
       "object_position": null,
       "order": null,
       "overflow": null,
       "overflow_x": null,
       "overflow_y": null,
       "padding": null,
       "right": null,
       "top": null,
       "visibility": null,
       "width": null
      }
     },
     "22ca82887f6d42cf913964c6683ee73d": {
      "model_module": "@jupyter-widgets/controls",
      "model_module_version": "1.5.0",
      "model_name": "HBoxModel",
      "state": {
       "_dom_classes": [],
       "_model_module": "@jupyter-widgets/controls",
       "_model_module_version": "1.5.0",
       "_model_name": "HBoxModel",
       "_view_count": null,
       "_view_module": "@jupyter-widgets/controls",
       "_view_module_version": "1.5.0",
       "_view_name": "HBoxView",
       "box_style": "",
       "children": [
        "IPY_MODEL_d20b87daa28940af8f377546c91bf1da",
        "IPY_MODEL_417636a0a88e42bcbc468cdf9e544616",
        "IPY_MODEL_4708bbbefc4c40aeb5b6fe1549a158ca"
       ],
       "layout": "IPY_MODEL_6384a83ed2fd46cc92be55a62ea4d8d2"
      }
     },
     "2e1fbbad04824f4696c9084da8921102": {
      "model_module": "@jupyter-widgets/controls",
      "model_module_version": "1.5.0",
      "model_name": "HTMLModel",
      "state": {
       "_dom_classes": [],
       "_model_module": "@jupyter-widgets/controls",
       "_model_module_version": "1.5.0",
       "_model_name": "HTMLModel",
       "_view_count": null,
       "_view_module": "@jupyter-widgets/controls",
       "_view_module_version": "1.5.0",
       "_view_name": "HTMLView",
       "description": "",
       "description_tooltip": null,
       "layout": "IPY_MODEL_311b4c65d0824ff0a8f1b11c1720ceb1",
       "placeholder": "​",
       "style": "IPY_MODEL_a65538b4f3ae4d4a8919d198030286a4",
       "value": " 3/3 [05:00&lt;00:00, 95.10s/it]"
      }
     },
     "311b4c65d0824ff0a8f1b11c1720ceb1": {
      "model_module": "@jupyter-widgets/base",
      "model_module_version": "1.2.0",
      "model_name": "LayoutModel",
      "state": {
       "_model_module": "@jupyter-widgets/base",
       "_model_module_version": "1.2.0",
       "_model_name": "LayoutModel",
       "_view_count": null,
       "_view_module": "@jupyter-widgets/base",
       "_view_module_version": "1.2.0",
       "_view_name": "LayoutView",
       "align_content": null,
       "align_items": null,
       "align_self": null,
       "border": null,
       "bottom": null,
       "display": null,
       "flex": null,
       "flex_flow": null,
       "grid_area": null,
       "grid_auto_columns": null,
       "grid_auto_flow": null,
       "grid_auto_rows": null,
       "grid_column": null,
       "grid_gap": null,
       "grid_row": null,
       "grid_template_areas": null,
       "grid_template_columns": null,
       "grid_template_rows": null,
       "height": null,
       "justify_content": null,
       "justify_items": null,
       "left": null,
       "margin": null,
       "max_height": null,
       "max_width": null,
       "min_height": null,
       "min_width": null,
       "object_fit": null,
       "object_position": null,
       "order": null,
       "overflow": null,
       "overflow_x": null,
       "overflow_y": null,
       "padding": null,
       "right": null,
       "top": null,
       "visibility": null,
       "width": null
      }
     },
     "33081cb4f8794fe7a8d2349f7af8cd31": {
      "model_module": "@jupyter-widgets/base",
      "model_module_version": "1.2.0",
      "model_name": "LayoutModel",
      "state": {
       "_model_module": "@jupyter-widgets/base",
       "_model_module_version": "1.2.0",
       "_model_name": "LayoutModel",
       "_view_count": null,
       "_view_module": "@jupyter-widgets/base",
       "_view_module_version": "1.2.0",
       "_view_name": "LayoutView",
       "align_content": null,
       "align_items": null,
       "align_self": null,
       "border": null,
       "bottom": null,
       "display": null,
       "flex": null,
       "flex_flow": null,
       "grid_area": null,
       "grid_auto_columns": null,
       "grid_auto_flow": null,
       "grid_auto_rows": null,
       "grid_column": null,
       "grid_gap": null,
       "grid_row": null,
       "grid_template_areas": null,
       "grid_template_columns": null,
       "grid_template_rows": null,
       "height": null,
       "justify_content": null,
       "justify_items": null,
       "left": null,
       "margin": null,
       "max_height": null,
       "max_width": null,
       "min_height": null,
       "min_width": null,
       "object_fit": null,
       "object_position": null,
       "order": null,
       "overflow": null,
       "overflow_x": null,
       "overflow_y": null,
       "padding": null,
       "right": null,
       "top": null,
       "visibility": null,
       "width": null
      }
     },
     "341272a4492f4d9f938c9924b69c10a1": {
      "model_module": "@jupyter-widgets/controls",
      "model_module_version": "1.5.0",
      "model_name": "DescriptionStyleModel",
      "state": {
       "_model_module": "@jupyter-widgets/controls",
       "_model_module_version": "1.5.0",
       "_model_name": "DescriptionStyleModel",
       "_view_count": null,
       "_view_module": "@jupyter-widgets/base",
       "_view_module_version": "1.2.0",
       "_view_name": "StyleView",
       "description_width": ""
      }
     },
     "3c9ee53979b9478fa6603e57cb478605": {
      "model_module": "@jupyter-widgets/base",
      "model_module_version": "1.2.0",
      "model_name": "LayoutModel",
      "state": {
       "_model_module": "@jupyter-widgets/base",
       "_model_module_version": "1.2.0",
       "_model_name": "LayoutModel",
       "_view_count": null,
       "_view_module": "@jupyter-widgets/base",
       "_view_module_version": "1.2.0",
       "_view_name": "LayoutView",
       "align_content": null,
       "align_items": null,
       "align_self": null,
       "border": null,
       "bottom": null,
       "display": null,
       "flex": null,
       "flex_flow": null,
       "grid_area": null,
       "grid_auto_columns": null,
       "grid_auto_flow": null,
       "grid_auto_rows": null,
       "grid_column": null,
       "grid_gap": null,
       "grid_row": null,
       "grid_template_areas": null,
       "grid_template_columns": null,
       "grid_template_rows": null,
       "height": null,
       "justify_content": null,
       "justify_items": null,
       "left": null,
       "margin": null,
       "max_height": null,
       "max_width": null,
       "min_height": null,
       "min_width": null,
       "object_fit": null,
       "object_position": null,
       "order": null,
       "overflow": null,
       "overflow_x": null,
       "overflow_y": null,
       "padding": null,
       "right": null,
       "top": null,
       "visibility": null,
       "width": null
      }
     },
     "417636a0a88e42bcbc468cdf9e544616": {
      "model_module": "@jupyter-widgets/controls",
      "model_module_version": "1.5.0",
      "model_name": "FloatProgressModel",
      "state": {
       "_dom_classes": [],
       "_model_module": "@jupyter-widgets/controls",
       "_model_module_version": "1.5.0",
       "_model_name": "FloatProgressModel",
       "_view_count": null,
       "_view_module": "@jupyter-widgets/controls",
       "_view_module_version": "1.5.0",
       "_view_name": "ProgressView",
       "bar_style": "success",
       "description": "",
       "description_tooltip": null,
       "layout": "IPY_MODEL_12ab12440ffb41f3bf0e369fb3841793",
       "max": 3.0,
       "min": 0.0,
       "orientation": "horizontal",
       "style": "IPY_MODEL_09f41708115042eaa4d31a0788715fb6",
       "value": 3.0
      }
     },
     "4708bbbefc4c40aeb5b6fe1549a158ca": {
      "model_module": "@jupyter-widgets/controls",
      "model_module_version": "1.5.0",
      "model_name": "HTMLModel",
      "state": {
       "_dom_classes": [],
       "_model_module": "@jupyter-widgets/controls",
       "_model_module_version": "1.5.0",
       "_model_name": "HTMLModel",
       "_view_count": null,
       "_view_module": "@jupyter-widgets/controls",
       "_view_module_version": "1.5.0",
       "_view_name": "HTMLView",
       "description": "",
       "description_tooltip": null,
       "layout": "IPY_MODEL_7ab6a5048745422d8c00e62061407ade",
       "placeholder": "​",
       "style": "IPY_MODEL_ac7556692e004b23a9696f5d807f89dc",
       "value": " 3/3 [05:00&lt;00:00, 94.76s/it]"
      }
     },
     "6384a83ed2fd46cc92be55a62ea4d8d2": {
      "model_module": "@jupyter-widgets/base",
      "model_module_version": "1.2.0",
      "model_name": "LayoutModel",
      "state": {
       "_model_module": "@jupyter-widgets/base",
       "_model_module_version": "1.2.0",
       "_model_name": "LayoutModel",
       "_view_count": null,
       "_view_module": "@jupyter-widgets/base",
       "_view_module_version": "1.2.0",
       "_view_name": "LayoutView",
       "align_content": null,
       "align_items": null,
       "align_self": null,
       "border": null,
       "bottom": null,
       "display": null,
       "flex": null,
       "flex_flow": null,
       "grid_area": null,
       "grid_auto_columns": null,
       "grid_auto_flow": null,
       "grid_auto_rows": null,
       "grid_column": null,
       "grid_gap": null,
       "grid_row": null,
       "grid_template_areas": null,
       "grid_template_columns": null,
       "grid_template_rows": null,
       "height": null,
       "justify_content": null,
       "justify_items": null,
       "left": null,
       "margin": null,
       "max_height": null,
       "max_width": null,
       "min_height": null,
       "min_width": null,
       "object_fit": null,
       "object_position": null,
       "order": null,
       "overflow": null,
       "overflow_x": null,
       "overflow_y": null,
       "padding": null,
       "right": null,
       "top": null,
       "visibility": null,
       "width": null
      }
     },
     "6390666a566745d3bbf82b42af8e8034": {
      "model_module": "@jupyter-widgets/controls",
      "model_module_version": "1.5.0",
      "model_name": "FloatProgressModel",
      "state": {
       "_dom_classes": [],
       "_model_module": "@jupyter-widgets/controls",
       "_model_module_version": "1.5.0",
       "_model_name": "FloatProgressModel",
       "_view_count": null,
       "_view_module": "@jupyter-widgets/controls",
       "_view_module_version": "1.5.0",
       "_view_name": "ProgressView",
       "bar_style": "success",
       "description": "",
       "description_tooltip": null,
       "layout": "IPY_MODEL_2102f72a67374334b4e8b54edb5c7272",
       "max": 3.0,
       "min": 0.0,
       "orientation": "horizontal",
       "style": "IPY_MODEL_8400a2ac88324246ab6f80414635dc66",
       "value": 3.0
      }
     },
     "6507a313dccf4e53b73462d2dceb1eb6": {
      "model_module": "@jupyter-widgets/base",
      "model_module_version": "1.2.0",
      "model_name": "LayoutModel",
      "state": {
       "_model_module": "@jupyter-widgets/base",
       "_model_module_version": "1.2.0",
       "_model_name": "LayoutModel",
       "_view_count": null,
       "_view_module": "@jupyter-widgets/base",
       "_view_module_version": "1.2.0",
       "_view_name": "LayoutView",
       "align_content": null,
       "align_items": null,
       "align_self": null,
       "border": null,
       "bottom": null,
       "display": null,
       "flex": null,
       "flex_flow": null,
       "grid_area": null,
       "grid_auto_columns": null,
       "grid_auto_flow": null,
       "grid_auto_rows": null,
       "grid_column": null,
       "grid_gap": null,
       "grid_row": null,
       "grid_template_areas": null,
       "grid_template_columns": null,
       "grid_template_rows": null,
       "height": null,
       "justify_content": null,
       "justify_items": null,
       "left": null,
       "margin": null,
       "max_height": null,
       "max_width": null,
       "min_height": null,
       "min_width": null,
       "object_fit": null,
       "object_position": null,
       "order": null,
       "overflow": null,
       "overflow_x": null,
       "overflow_y": null,
       "padding": null,
       "right": null,
       "top": null,
       "visibility": null,
       "width": null
      }
     },
     "65769fcdb7a7466b897a05adbb960b67": {
      "model_module": "@jupyter-widgets/controls",
      "model_module_version": "1.5.0",
      "model_name": "HTMLModel",
      "state": {
       "_dom_classes": [],
       "_model_module": "@jupyter-widgets/controls",
       "_model_module_version": "1.5.0",
       "_model_name": "HTMLModel",
       "_view_count": null,
       "_view_module": "@jupyter-widgets/controls",
       "_view_module_version": "1.5.0",
       "_view_name": "HTMLView",
       "description": "",
       "description_tooltip": null,
       "layout": "IPY_MODEL_d56fd2f861824e3694bbd80fe8992379",
       "placeholder": "​",
       "style": "IPY_MODEL_be81a57527ef40a0b8bf364826d8aad4",
       "value": "Loading checkpoint shards: 100%"
      }
     },
     "6733e8adafbf45769add1e3f81ac2a2f": {
      "model_module": "@jupyter-widgets/controls",
      "model_module_version": "1.5.0",
      "model_name": "ProgressStyleModel",
      "state": {
       "_model_module": "@jupyter-widgets/controls",
       "_model_module_version": "1.5.0",
       "_model_name": "ProgressStyleModel",
       "_view_count": null,
       "_view_module": "@jupyter-widgets/base",
       "_view_module_version": "1.2.0",
       "_view_name": "StyleView",
       "bar_color": null,
       "description_width": ""
      }
     },
     "7575e963c21f44898a9c779deba5caac": {
      "model_module": "@jupyter-widgets/base",
      "model_module_version": "1.2.0",
      "model_name": "LayoutModel",
      "state": {
       "_model_module": "@jupyter-widgets/base",
       "_model_module_version": "1.2.0",
       "_model_name": "LayoutModel",
       "_view_count": null,
       "_view_module": "@jupyter-widgets/base",
       "_view_module_version": "1.2.0",
       "_view_name": "LayoutView",
       "align_content": null,
       "align_items": null,
       "align_self": null,
       "border": null,
       "bottom": null,
       "display": null,
       "flex": null,
       "flex_flow": null,
       "grid_area": null,
       "grid_auto_columns": null,
       "grid_auto_flow": null,
       "grid_auto_rows": null,
       "grid_column": null,
       "grid_gap": null,
       "grid_row": null,
       "grid_template_areas": null,
       "grid_template_columns": null,
       "grid_template_rows": null,
       "height": null,
       "justify_content": null,
       "justify_items": null,
       "left": null,
       "margin": null,
       "max_height": null,
       "max_width": null,
       "min_height": null,
       "min_width": null,
       "object_fit": null,
       "object_position": null,
       "order": null,
       "overflow": null,
       "overflow_x": null,
       "overflow_y": null,
       "padding": null,
       "right": null,
       "top": null,
       "visibility": null,
       "width": null
      }
     },
     "7ab6a5048745422d8c00e62061407ade": {
      "model_module": "@jupyter-widgets/base",
      "model_module_version": "1.2.0",
      "model_name": "LayoutModel",
      "state": {
       "_model_module": "@jupyter-widgets/base",
       "_model_module_version": "1.2.0",
       "_model_name": "LayoutModel",
       "_view_count": null,
       "_view_module": "@jupyter-widgets/base",
       "_view_module_version": "1.2.0",
       "_view_name": "LayoutView",
       "align_content": null,
       "align_items": null,
       "align_self": null,
       "border": null,
       "bottom": null,
       "display": null,
       "flex": null,
       "flex_flow": null,
       "grid_area": null,
       "grid_auto_columns": null,
       "grid_auto_flow": null,
       "grid_auto_rows": null,
       "grid_column": null,
       "grid_gap": null,
       "grid_row": null,
       "grid_template_areas": null,
       "grid_template_columns": null,
       "grid_template_rows": null,
       "height": null,
       "justify_content": null,
       "justify_items": null,
       "left": null,
       "margin": null,
       "max_height": null,
       "max_width": null,
       "min_height": null,
       "min_width": null,
       "object_fit": null,
       "object_position": null,
       "order": null,
       "overflow": null,
       "overflow_x": null,
       "overflow_y": null,
       "padding": null,
       "right": null,
       "top": null,
       "visibility": null,
       "width": null
      }
     },
     "7caac4cac3a54e7b92eb62e1b365d2c3": {
      "model_module": "@jupyter-widgets/base",
      "model_module_version": "1.2.0",
      "model_name": "LayoutModel",
      "state": {
       "_model_module": "@jupyter-widgets/base",
       "_model_module_version": "1.2.0",
       "_model_name": "LayoutModel",
       "_view_count": null,
       "_view_module": "@jupyter-widgets/base",
       "_view_module_version": "1.2.0",
       "_view_name": "LayoutView",
       "align_content": null,
       "align_items": null,
       "align_self": null,
       "border": null,
       "bottom": null,
       "display": null,
       "flex": null,
       "flex_flow": null,
       "grid_area": null,
       "grid_auto_columns": null,
       "grid_auto_flow": null,
       "grid_auto_rows": null,
       "grid_column": null,
       "grid_gap": null,
       "grid_row": null,
       "grid_template_areas": null,
       "grid_template_columns": null,
       "grid_template_rows": null,
       "height": null,
       "justify_content": null,
       "justify_items": null,
       "left": null,
       "margin": null,
       "max_height": null,
       "max_width": null,
       "min_height": null,
       "min_width": null,
       "object_fit": null,
       "object_position": null,
       "order": null,
       "overflow": null,
       "overflow_x": null,
       "overflow_y": null,
       "padding": null,
       "right": null,
       "top": null,
       "visibility": null,
       "width": null
      }
     },
     "81e6c6fc04c04e6882644263258533d9": {
      "model_module": "@jupyter-widgets/controls",
      "model_module_version": "1.5.0",
      "model_name": "DescriptionStyleModel",
      "state": {
       "_model_module": "@jupyter-widgets/controls",
       "_model_module_version": "1.5.0",
       "_model_name": "DescriptionStyleModel",
       "_view_count": null,
       "_view_module": "@jupyter-widgets/base",
       "_view_module_version": "1.2.0",
       "_view_name": "StyleView",
       "description_width": ""
      }
     },
     "8400a2ac88324246ab6f80414635dc66": {
      "model_module": "@jupyter-widgets/controls",
      "model_module_version": "1.5.0",
      "model_name": "ProgressStyleModel",
      "state": {
       "_model_module": "@jupyter-widgets/controls",
       "_model_module_version": "1.5.0",
       "_model_name": "ProgressStyleModel",
       "_view_count": null,
       "_view_module": "@jupyter-widgets/base",
       "_view_module_version": "1.2.0",
       "_view_name": "StyleView",
       "bar_color": null,
       "description_width": ""
      }
     },
     "902d9d162d6c402882f9c2165e8bf0f8": {
      "model_module": "@jupyter-widgets/controls",
      "model_module_version": "1.5.0",
      "model_name": "HTMLModel",
      "state": {
       "_dom_classes": [],
       "_model_module": "@jupyter-widgets/controls",
       "_model_module_version": "1.5.0",
       "_model_name": "HTMLModel",
       "_view_count": null,
       "_view_module": "@jupyter-widgets/controls",
       "_view_module_version": "1.5.0",
       "_view_name": "HTMLView",
       "description": "",
       "description_tooltip": null,
       "layout": "IPY_MODEL_3c9ee53979b9478fa6603e57cb478605",
       "placeholder": "​",
       "style": "IPY_MODEL_c826456da7394177ae890b7dd6fde283",
       "value": " 180/180 [00:00&lt;00:00, 958.76 examples/s]"
      }
     },
     "93246cd343484b0ba64802a34e2436bb": {
      "model_module": "@jupyter-widgets/base",
      "model_module_version": "1.2.0",
      "model_name": "LayoutModel",
      "state": {
       "_model_module": "@jupyter-widgets/base",
       "_model_module_version": "1.2.0",
       "_model_name": "LayoutModel",
       "_view_count": null,
       "_view_module": "@jupyter-widgets/base",
       "_view_module_version": "1.2.0",
       "_view_name": "LayoutView",
       "align_content": null,
       "align_items": null,
       "align_self": null,
       "border": null,
       "bottom": null,
       "display": null,
       "flex": null,
       "flex_flow": null,
       "grid_area": null,
       "grid_auto_columns": null,
       "grid_auto_flow": null,
       "grid_auto_rows": null,
       "grid_column": null,
       "grid_gap": null,
       "grid_row": null,
       "grid_template_areas": null,
       "grid_template_columns": null,
       "grid_template_rows": null,
       "height": null,
       "justify_content": null,
       "justify_items": null,
       "left": null,
       "margin": null,
       "max_height": null,
       "max_width": null,
       "min_height": null,
       "min_width": null,
       "object_fit": null,
       "object_position": null,
       "order": null,
       "overflow": null,
       "overflow_x": null,
       "overflow_y": null,
       "padding": null,
       "right": null,
       "top": null,
       "visibility": null,
       "width": null
      }
     },
     "9508712918e14ff5b35fa7f103a710b9": {
      "model_module": "@jupyter-widgets/controls",
      "model_module_version": "1.5.0",
      "model_name": "FloatProgressModel",
      "state": {
       "_dom_classes": [],
       "_model_module": "@jupyter-widgets/controls",
       "_model_module_version": "1.5.0",
       "_model_name": "FloatProgressModel",
       "_view_count": null,
       "_view_module": "@jupyter-widgets/controls",
       "_view_module_version": "1.5.0",
       "_view_name": "ProgressView",
       "bar_style": "",
       "description": "",
       "description_tooltip": null,
       "layout": "IPY_MODEL_93246cd343484b0ba64802a34e2436bb",
       "max": 180.0,
       "min": 0.0,
       "orientation": "horizontal",
       "style": "IPY_MODEL_6733e8adafbf45769add1e3f81ac2a2f",
       "value": 180.0
      }
     },
     "a2bb5ce4094d4cc2821cfa9d0127cf72": {
      "model_module": "@jupyter-widgets/base",
      "model_module_version": "1.2.0",
      "model_name": "LayoutModel",
      "state": {
       "_model_module": "@jupyter-widgets/base",
       "_model_module_version": "1.2.0",
       "_model_name": "LayoutModel",
       "_view_count": null,
       "_view_module": "@jupyter-widgets/base",
       "_view_module_version": "1.2.0",
       "_view_name": "LayoutView",
       "align_content": null,
       "align_items": null,
       "align_self": null,
       "border": null,
       "bottom": null,
       "display": null,
       "flex": null,
       "flex_flow": null,
       "grid_area": null,
       "grid_auto_columns": null,
       "grid_auto_flow": null,
       "grid_auto_rows": null,
       "grid_column": null,
       "grid_gap": null,
       "grid_row": null,
       "grid_template_areas": null,
       "grid_template_columns": null,
       "grid_template_rows": null,
       "height": null,
       "justify_content": null,
       "justify_items": null,
       "left": null,
       "margin": null,
       "max_height": null,
       "max_width": null,
       "min_height": null,
       "min_width": null,
       "object_fit": null,
       "object_position": null,
       "order": null,
       "overflow": null,
       "overflow_x": null,
       "overflow_y": null,
       "padding": null,
       "right": null,
       "top": null,
       "visibility": null,
       "width": null
      }
     },
     "a65538b4f3ae4d4a8919d198030286a4": {
      "model_module": "@jupyter-widgets/controls",
      "model_module_version": "1.5.0",
      "model_name": "DescriptionStyleModel",
      "state": {
       "_model_module": "@jupyter-widgets/controls",
       "_model_module_version": "1.5.0",
       "_model_name": "DescriptionStyleModel",
       "_view_count": null,
       "_view_module": "@jupyter-widgets/base",
       "_view_module_version": "1.2.0",
       "_view_name": "StyleView",
       "description_width": ""
      }
     },
     "ac7556692e004b23a9696f5d807f89dc": {
      "model_module": "@jupyter-widgets/controls",
      "model_module_version": "1.5.0",
      "model_name": "DescriptionStyleModel",
      "state": {
       "_model_module": "@jupyter-widgets/controls",
       "_model_module_version": "1.5.0",
       "_model_name": "DescriptionStyleModel",
       "_view_count": null,
       "_view_module": "@jupyter-widgets/base",
       "_view_module_version": "1.2.0",
       "_view_name": "StyleView",
       "description_width": ""
      }
     },
     "af3242753bf2459585a11762049392e6": {
      "model_module": "@jupyter-widgets/controls",
      "model_module_version": "1.5.0",
      "model_name": "DescriptionStyleModel",
      "state": {
       "_model_module": "@jupyter-widgets/controls",
       "_model_module_version": "1.5.0",
       "_model_name": "DescriptionStyleModel",
       "_view_count": null,
       "_view_module": "@jupyter-widgets/base",
       "_view_module_version": "1.2.0",
       "_view_name": "StyleView",
       "description_width": ""
      }
     },
     "be81a57527ef40a0b8bf364826d8aad4": {
      "model_module": "@jupyter-widgets/controls",
      "model_module_version": "1.5.0",
      "model_name": "DescriptionStyleModel",
      "state": {
       "_model_module": "@jupyter-widgets/controls",
       "_model_module_version": "1.5.0",
       "_model_name": "DescriptionStyleModel",
       "_view_count": null,
       "_view_module": "@jupyter-widgets/base",
       "_view_module_version": "1.2.0",
       "_view_name": "StyleView",
       "description_width": ""
      }
     },
     "c0659332eb484c978a0dba99a372a0b2": {
      "model_module": "@jupyter-widgets/controls",
      "model_module_version": "1.5.0",
      "model_name": "HBoxModel",
      "state": {
       "_dom_classes": [],
       "_model_module": "@jupyter-widgets/controls",
       "_model_module_version": "1.5.0",
       "_model_name": "HBoxModel",
       "_view_count": null,
       "_view_module": "@jupyter-widgets/controls",
       "_view_module_version": "1.5.0",
       "_view_name": "HBoxView",
       "box_style": "",
       "children": [
        "IPY_MODEL_20f4908ee75f481db5615fef0fe4d010",
        "IPY_MODEL_d236b8d5d2ec41379ff1cbfcc4044259",
        "IPY_MODEL_2e1fbbad04824f4696c9084da8921102"
       ],
       "layout": "IPY_MODEL_7caac4cac3a54e7b92eb62e1b365d2c3"
      }
     },
     "c4776bea4be84f09944410b7233cd7e4": {
      "model_module": "@jupyter-widgets/controls",
      "model_module_version": "1.5.0",
      "model_name": "HBoxModel",
      "state": {
       "_dom_classes": [],
       "_model_module": "@jupyter-widgets/controls",
       "_model_module_version": "1.5.0",
       "_model_name": "HBoxModel",
       "_view_count": null,
       "_view_module": "@jupyter-widgets/controls",
       "_view_module_version": "1.5.0",
       "_view_name": "HBoxView",
       "box_style": "",
       "children": [
        "IPY_MODEL_e07623ea2c2e4a4294d671a0adf02074",
        "IPY_MODEL_9508712918e14ff5b35fa7f103a710b9",
        "IPY_MODEL_902d9d162d6c402882f9c2165e8bf0f8"
       ],
       "layout": "IPY_MODEL_0594df3b22854cb49e0eeb6f29d32017"
      }
     },
     "c826456da7394177ae890b7dd6fde283": {
      "model_module": "@jupyter-widgets/controls",
      "model_module_version": "1.5.0",
      "model_name": "DescriptionStyleModel",
      "state": {
       "_model_module": "@jupyter-widgets/controls",
       "_model_module_version": "1.5.0",
       "_model_name": "DescriptionStyleModel",
       "_view_count": null,
       "_view_module": "@jupyter-widgets/base",
       "_view_module_version": "1.2.0",
       "_view_name": "StyleView",
       "description_width": ""
      }
     },
     "d1bcdb838b264ba0ad53a6145856d07d": {
      "model_module": "@jupyter-widgets/controls",
      "model_module_version": "1.5.0",
      "model_name": "DescriptionStyleModel",
      "state": {
       "_model_module": "@jupyter-widgets/controls",
       "_model_module_version": "1.5.0",
       "_model_name": "DescriptionStyleModel",
       "_view_count": null,
       "_view_module": "@jupyter-widgets/base",
       "_view_module_version": "1.2.0",
       "_view_name": "StyleView",
       "description_width": ""
      }
     },
     "d20b87daa28940af8f377546c91bf1da": {
      "model_module": "@jupyter-widgets/controls",
      "model_module_version": "1.5.0",
      "model_name": "HTMLModel",
      "state": {
       "_dom_classes": [],
       "_model_module": "@jupyter-widgets/controls",
       "_model_module_version": "1.5.0",
       "_model_name": "HTMLModel",
       "_view_count": null,
       "_view_module": "@jupyter-widgets/controls",
       "_view_module_version": "1.5.0",
       "_view_name": "HTMLView",
       "description": "",
       "description_tooltip": null,
       "layout": "IPY_MODEL_6507a313dccf4e53b73462d2dceb1eb6",
       "placeholder": "​",
       "style": "IPY_MODEL_d1bcdb838b264ba0ad53a6145856d07d",
       "value": "Loading checkpoint shards: 100%"
      }
     },
     "d236b8d5d2ec41379ff1cbfcc4044259": {
      "model_module": "@jupyter-widgets/controls",
      "model_module_version": "1.5.0",
      "model_name": "FloatProgressModel",
      "state": {
       "_dom_classes": [],
       "_model_module": "@jupyter-widgets/controls",
       "_model_module_version": "1.5.0",
       "_model_name": "FloatProgressModel",
       "_view_count": null,
       "_view_module": "@jupyter-widgets/controls",
       "_view_module_version": "1.5.0",
       "_view_name": "ProgressView",
       "bar_style": "success",
       "description": "",
       "description_tooltip": null,
       "layout": "IPY_MODEL_0ab076b185794599b25f8f0a7c4e1fdd",
       "max": 3.0,
       "min": 0.0,
       "orientation": "horizontal",
       "style": "IPY_MODEL_f5cbe14a37f84b41b4251a3ab854d2b8",
       "value": 3.0
      }
     },
     "d56fd2f861824e3694bbd80fe8992379": {
      "model_module": "@jupyter-widgets/base",
      "model_module_version": "1.2.0",
      "model_name": "LayoutModel",
      "state": {
       "_model_module": "@jupyter-widgets/base",
       "_model_module_version": "1.2.0",
       "_model_name": "LayoutModel",
       "_view_count": null,
       "_view_module": "@jupyter-widgets/base",
       "_view_module_version": "1.2.0",
       "_view_name": "LayoutView",
       "align_content": null,
       "align_items": null,
       "align_self": null,
       "border": null,
       "bottom": null,
       "display": null,
       "flex": null,
       "flex_flow": null,
       "grid_area": null,
       "grid_auto_columns": null,
       "grid_auto_flow": null,
       "grid_auto_rows": null,
       "grid_column": null,
       "grid_gap": null,
       "grid_row": null,
       "grid_template_areas": null,
       "grid_template_columns": null,
       "grid_template_rows": null,
       "height": null,
       "justify_content": null,
       "justify_items": null,
       "left": null,
       "margin": null,
       "max_height": null,
       "max_width": null,
       "min_height": null,
       "min_width": null,
       "object_fit": null,
       "object_position": null,
       "order": null,
       "overflow": null,
       "overflow_x": null,
       "overflow_y": null,
       "padding": null,
       "right": null,
       "top": null,
       "visibility": null,
       "width": null
      }
     },
     "e07623ea2c2e4a4294d671a0adf02074": {
      "model_module": "@jupyter-widgets/controls",
      "model_module_version": "1.5.0",
      "model_name": "HTMLModel",
      "state": {
       "_dom_classes": [],
       "_model_module": "@jupyter-widgets/controls",
       "_model_module_version": "1.5.0",
       "_model_name": "HTMLModel",
       "_view_count": null,
       "_view_module": "@jupyter-widgets/controls",
       "_view_module_version": "1.5.0",
       "_view_name": "HTMLView",
       "description": "",
       "description_tooltip": null,
       "layout": "IPY_MODEL_7575e963c21f44898a9c779deba5caac",
       "placeholder": "​",
       "style": "IPY_MODEL_af3242753bf2459585a11762049392e6",
       "value": "Map: 100%"
      }
     },
     "f27357a2929a4d3bb7f292f1c46b56fb": {
      "model_module": "@jupyter-widgets/controls",
      "model_module_version": "1.5.0",
      "model_name": "HTMLModel",
      "state": {
       "_dom_classes": [],
       "_model_module": "@jupyter-widgets/controls",
       "_model_module_version": "1.5.0",
       "_model_name": "HTMLModel",
       "_view_count": null,
       "_view_module": "@jupyter-widgets/controls",
       "_view_module_version": "1.5.0",
       "_view_name": "HTMLView",
       "description": "",
       "description_tooltip": null,
       "layout": "IPY_MODEL_01e8a07c425b49e99a6b649aca40a463",
       "placeholder": "​",
       "style": "IPY_MODEL_341272a4492f4d9f938c9924b69c10a1",
       "value": " 3/3 [04:58&lt;00:00, 94.64s/it]"
      }
     },
     "f5cbe14a37f84b41b4251a3ab854d2b8": {
      "model_module": "@jupyter-widgets/controls",
      "model_module_version": "1.5.0",
      "model_name": "ProgressStyleModel",
      "state": {
       "_model_module": "@jupyter-widgets/controls",
       "_model_module_version": "1.5.0",
       "_model_name": "ProgressStyleModel",
       "_view_count": null,
       "_view_module": "@jupyter-widgets/base",
       "_view_module_version": "1.2.0",
       "_view_name": "StyleView",
       "bar_color": null,
       "description_width": ""
      }
     }
    },
    "version_major": 2,
    "version_minor": 0
   }
  }
 },
 "nbformat": 4,
 "nbformat_minor": 5
}
